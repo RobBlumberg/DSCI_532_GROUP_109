{
 "cells": [
  {
   "cell_type": "code",
   "execution_count": 23,
   "metadata": {},
   "outputs": [
    {
     "data": {
      "application/vnd.vegalite.v3+json": {
       "$schema": "https://vega.github.io/schema/vega-lite/v3.4.0.json",
       "config": {
        "axis": {
         "grid": false
        },
        "mark": {
         "tooltip": null
        },
        "view": {
         "height": 300,
         "width": 400
        }
       },
       "datasets": {
        "data-22e405b9ddc1a10741378686efa0e538": [
         {
          "x": 0,
          "y": 400
         },
         {
          "x": 10,
          "y": 400
         }
        ],
        "data-49179778b9e7bab8f3e1e60cfa58218c": [
         {
          "label": "A",
          "x": 5,
          "y": 50
         },
         {
          "label": "B",
          "x": 5,
          "y": 150
         },
         {
          "label": "C",
          "x": 5,
          "y": 250
         },
         {
          "label": "D",
          "x": 5,
          "y": 350
         },
         {
          "label": "E",
          "x": 5,
          "y": 450
         },
         {
          "label": "F",
          "x": 5,
          "y": 550
         },
         {
          "label": "G",
          "x": 5,
          "y": 650
         }
        ],
        "data-49684b1590286a69d6a38ffac79f9844": [
         {
          "x": 0,
          "y": 200
         },
         {
          "x": 10,
          "y": 200
         }
        ],
        "data-5db58c9de08bf12d64a58b46616dd728": [
         {
          "x": 0,
          "y": 700
         },
         {
          "x": 0,
          "y": 0
         },
         {
          "x": 10,
          "y": 0
         },
         {
          "x": 10,
          "y": 700
         },
         {
          "x": 0,
          "y": 700
         }
        ],
        "data-749e47bccae11bb1b848c289ab72eddb": [
         {
          "x": 0,
          "y": 0
         },
         {
          "x": 10,
          "y": 0
         }
        ],
        "data-916da849c5d7783a18279c31d9b1ead4": [
         {
          "x": 0,
          "y": 600
         },
         {
          "x": 10,
          "y": 600
         }
        ],
        "data-c31a44100e2a5cfd538e7aac4bc67431": [
         {
          "x": 0,
          "y": 100
         },
         {
          "x": 10,
          "y": 100
         }
        ],
        "data-e0c21345b6a350d36ca5f32b4822ce4b": [
         {
          "x": 0,
          "y": 300
         },
         {
          "x": 10,
          "y": 300
         }
        ],
        "data-e8edef1de15d3f2d39558f2074802014": [
         {
          "x": 0,
          "y": 500
         },
         {
          "x": 10,
          "y": 500
         }
        ]
       },
       "layer": [
        {
         "data": {
          "name": "data-5db58c9de08bf12d64a58b46616dd728"
         },
         "encoding": {
          "x": {
           "field": "x",
           "type": "quantitative"
          },
          "y": {
           "field": "y",
           "type": "quantitative"
          }
         },
         "mark": "line",
         "title": "Deck Levels"
        },
        {
         "data": {
          "name": "data-749e47bccae11bb1b848c289ab72eddb"
         },
         "encoding": {
          "x": {
           "field": "x",
           "type": "quantitative"
          },
          "y": {
           "field": "y",
           "type": "quantitative"
          }
         },
         "mark": "line"
        },
        {
         "data": {
          "name": "data-c31a44100e2a5cfd538e7aac4bc67431"
         },
         "encoding": {
          "x": {
           "field": "x",
           "type": "quantitative"
          },
          "y": {
           "field": "y",
           "type": "quantitative"
          }
         },
         "mark": "line"
        },
        {
         "data": {
          "name": "data-49684b1590286a69d6a38ffac79f9844"
         },
         "encoding": {
          "x": {
           "field": "x",
           "type": "quantitative"
          },
          "y": {
           "field": "y",
           "type": "quantitative"
          }
         },
         "mark": "line"
        },
        {
         "data": {
          "name": "data-e0c21345b6a350d36ca5f32b4822ce4b"
         },
         "encoding": {
          "x": {
           "field": "x",
           "type": "quantitative"
          },
          "y": {
           "field": "y",
           "type": "quantitative"
          }
         },
         "mark": "line"
        },
        {
         "data": {
          "name": "data-22e405b9ddc1a10741378686efa0e538"
         },
         "encoding": {
          "x": {
           "field": "x",
           "type": "quantitative"
          },
          "y": {
           "field": "y",
           "type": "quantitative"
          }
         },
         "mark": "line"
        },
        {
         "data": {
          "name": "data-e8edef1de15d3f2d39558f2074802014"
         },
         "encoding": {
          "x": {
           "field": "x",
           "type": "quantitative"
          },
          "y": {
           "field": "y",
           "type": "quantitative"
          }
         },
         "mark": "line"
        },
        {
         "data": {
          "name": "data-916da849c5d7783a18279c31d9b1ead4"
         },
         "encoding": {
          "x": {
           "field": "x",
           "type": "quantitative"
          },
          "y": {
           "field": "y",
           "type": "quantitative"
          }
         },
         "mark": "line"
        },
        {
         "data": {
          "name": "data-49179778b9e7bab8f3e1e60cfa58218c"
         },
         "encoding": {
          "x": {
           "field": "x",
           "scale": {
            "domain": [
             0,
             10
            ]
           },
           "type": "quantitative"
          },
          "y": {
           "field": "y",
           "scale": {
            "domain": [
             0,
             700
            ]
           },
           "type": "quantitative"
          }
         },
         "mark": {
          "size": 0,
          "type": "point"
         }
        },
        {
         "data": {
          "name": "data-49179778b9e7bab8f3e1e60cfa58218c"
         },
         "encoding": {
          "text": {
           "field": "label",
           "type": "nominal"
          },
          "x": {
           "field": "x",
           "scale": {
            "domain": [
             0,
             10
            ]
           },
           "type": "quantitative"
          },
          "y": {
           "field": "y",
           "scale": {
            "domain": [
             0,
             700
            ]
           },
           "type": "quantitative"
          }
         },
         "mark": {
          "align": "center",
          "baseline": "middle",
          "type": "text"
         }
        }
       ]
      },
      "image/png": "[encoded data removed]",
      "text/plain": [
       "<VegaLite 3 object>\n",
       "\n",
       "If you see this message, it means the renderer has not been properly enabled\n",
       "for the frontend that you are using. For more information, see\n",
       "https://altair-viz.github.io/user_guide/troubleshooting.html\n"
      ]
     },
     "execution_count": 23,
     "metadata": {},
     "output_type": "execute_result"
    }
   ],
   "source": [
    "import pandas as pd\n",
    "import altair as alt\n",
    "\n",
    "deck_legend_frame = pd.DataFrame({\"x\" : [0, 0, 10, 10, 0],\n",
    "                                \"y\" : [700, 0, 0, 700, 700]})\n",
    "\n",
    "deck_legend_outline = alt.Chart(deck_legend_frame).mark_line().encode(\n",
    "    alt.X('x:Q'),\n",
    "    alt.Y('y:Q')).properties(\n",
    "    title = \"Deck Levels\")\n",
    "   \n",
    "legend_labels = pd.DataFrame({\"x\" : [5, 5, 5, 5, 5, 5, 5],\n",
    "                            \"y\" : [50, 150, 250, 350, 450, 550, 650],\n",
    "                            \"label\" : [\"A\", \"B\", \"C\", \"D\", \"E\", \"F\", \"G\"]})\n",
    "\n",
    "points = alt.Chart(legend_labels).mark_point(size=0).encode(\n",
    "    alt.X('x:Q', scale=alt.Scale(domain = [0,10])),\n",
    "    alt.Y('y:Q', scale=alt.Scale(domain = [0,700]))\n",
    ")\n",
    "        \n",
    "text = points.mark_text(\n",
    "    align='center',\n",
    "    baseline='middle',\n",
    ").encode(\n",
    "    text='label'\n",
    ")    \n",
    "    \n",
    "deck_levels = []\n",
    "\n",
    "for i in range(0, 7):\n",
    "    level = pd.DataFrame({\"x\" : [0, 10],\n",
    "                          \"y\" : [(100*i), (100*i)]})\n",
    "    deck_levels.append(level)\n",
    "    \n",
    "deck_level_A = alt.Chart(deck_levels[0]).mark_line().encode(\n",
    "    alt.X('x:Q'),\n",
    "    alt.Y('y:Q')\n",
    ")\n",
    "\n",
    "deck_level_B = alt.Chart(deck_levels[1]).mark_line().encode(\n",
    "    alt.X('x:Q'),\n",
    "    alt.Y('y:Q')\n",
    ")\n",
    "\n",
    "deck_level_C = alt.Chart(deck_levels[2]).mark_line().encode(\n",
    "    alt.X('x:Q'),\n",
    "    alt.Y('y:Q')\n",
    ")\n",
    "\n",
    "deck_level_D = alt.Chart(deck_levels[3]).mark_line().encode(\n",
    "    alt.X('x:Q'),\n",
    "    alt.Y('y:Q')\n",
    ")\n",
    "\n",
    "deck_level_E = alt.Chart(deck_levels[4]).mark_line().encode(\n",
    "    alt.X('x:Q'),\n",
    "    alt.Y('y:Q')\n",
    ")\n",
    "\n",
    "deck_level_F = alt.Chart(deck_levels[5]).mark_line().encode(\n",
    "    alt.X('x:Q'),\n",
    "    alt.Y('y:Q')\n",
    ")\n",
    "\n",
    "deck_level_G = alt.Chart(deck_levels[6]).mark_line().encode(\n",
    "    alt.X('x:Q'),\n",
    "    alt.Y('y:Q')\n",
    ")\n",
    "\n",
    "deck_legend = (deck_legend_outline + deck_level_A + deck_level_B + deck_level_C + deck_level_D + \\\n",
    "                deck_level_E + deck_level_F + deck_level_G + points + text).configure_axis(grid=False)\n",
    "deck_legend \n",
    " "
   ]
  },
  {
   "cell_type": "code",
   "execution_count": 22,
   "metadata": {},
   "outputs": [],
   "source": [
    "def make_deck_legend():\n",
    "\n",
    "    deck_legend_frame = pd.DataFrame({\"x\" : [0, 0, 10, 10, 0],\n",
    "                                \"y\" : [700, 0, 0, 700, 700]})\n",
    "\n",
    "    deck_legend_outline = alt.Chart(deck_legend_frame).mark_line().encode(\n",
    "        alt.X('x:Q'),\n",
    "        alt.Y('y:Q')).properties(\n",
    "        title = \"Deck Levels\")\n",
    "   \n",
    "    legend_labels = pd.DataFrame({\"x\" : [5, 5, 5, 5, 5, 5, 5],\n",
    "                                \"y\" : [50, 150, 250, 350, 450, 550, 650],\n",
    "                                \"label\" : [\"A\", \"B\", \"C\", \"D\", \"E\", \"F\", \"G\"]})\n",
    "\n",
    "    points = alt.Chart(legend_labels).mark_point(size=0).encode(\n",
    "        alt.X('x:Q', scale=alt.Scale(domain = [0,10])),\n",
    "        alt.Y('y:Q', scale=alt.Scale(domain = [0,700]))\n",
    "    )\n",
    "\n",
    "    text = points.mark_text(\n",
    "        align='center',\n",
    "        baseline='middle',\n",
    "    ).encode(\n",
    "        text='label'\n",
    "    )    \n",
    "\n",
    "    deck_levels = []\n",
    "\n",
    "    for i in range(0, 7):\n",
    "        level = pd.DataFrame({\"x\" : [0, 10],\n",
    "                              \"y\" : [(100*i), (100*i)]})\n",
    "        deck_levels.append(level)\n",
    "\n",
    "    deck_level_A = alt.Chart(deck_levels[0]).mark_line().encode(\n",
    "        alt.X('x:Q'),\n",
    "        alt.Y('y:Q')\n",
    "    )\n",
    "\n",
    "    deck_level_B = alt.Chart(deck_levels[1]).mark_line().encode(\n",
    "        alt.X('x:Q'),\n",
    "        alt.Y('y:Q')\n",
    "    )\n",
    "\n",
    "    deck_level_C = alt.Chart(deck_levels[2]).mark_line().encode(\n",
    "        alt.X('x:Q'),\n",
    "        alt.Y('y:Q')\n",
    "    )\n",
    "\n",
    "    deck_level_D = alt.Chart(deck_levels[3]).mark_line().encode(\n",
    "        alt.X('x:Q'),\n",
    "        alt.Y('y:Q')\n",
    "    )\n",
    "\n",
    "    deck_level_E = alt.Chart(deck_levels[4]).mark_line().encode(\n",
    "        alt.X('x:Q'),\n",
    "        alt.Y('y:Q')\n",
    "    )\n",
    "\n",
    "    deck_level_F = alt.Chart(deck_levels[5]).mark_line().encode(\n",
    "        alt.X('x:Q'),\n",
    "        alt.Y('y:Q')\n",
    "    )\n",
    "\n",
    "    deck_level_G = alt.Chart(deck_levels[6]).mark_line().encode(\n",
    "        alt.X('x:Q'),\n",
    "        alt.Y('y:Q')\n",
    "    )\n",
    "\n",
    "    chart = (deck_legend_outline + deck_level_A + deck_level_B + deck_level_C + deck_level_D + \\\n",
    "                    deck_level_E + deck_level_F + deck_level_G + points + text).configure_axis(grid=False)\n",
    "    \n",
    "    return chart"
   ]
  },
  {
   "cell_type": "code",
   "execution_count": 21,
   "metadata": {},
   "outputs": [
    {
     "data": {
      "application/vnd.vegalite.v3+json": {
       "$schema": "https://vega.github.io/schema/vega-lite/v3.4.0.json",
       "config": {
        "axis": {
         "grid": false
        },
        "mark": {
         "tooltip": null
        },
        "view": {
         "height": 300,
         "width": 400
        }
       },
       "datasets": {
        "data-22e405b9ddc1a10741378686efa0e538": [
         {
          "x": 0,
          "y": 400
         },
         {
          "x": 10,
          "y": 400
         }
        ],
        "data-49179778b9e7bab8f3e1e60cfa58218c": [
         {
          "label": "A",
          "x": 5,
          "y": 50
         },
         {
          "label": "B",
          "x": 5,
          "y": 150
         },
         {
          "label": "C",
          "x": 5,
          "y": 250
         },
         {
          "label": "D",
          "x": 5,
          "y": 350
         },
         {
          "label": "E",
          "x": 5,
          "y": 450
         },
         {
          "label": "F",
          "x": 5,
          "y": 550
         },
         {
          "label": "G",
          "x": 5,
          "y": 650
         }
        ],
        "data-49684b1590286a69d6a38ffac79f9844": [
         {
          "x": 0,
          "y": 200
         },
         {
          "x": 10,
          "y": 200
         }
        ],
        "data-5db58c9de08bf12d64a58b46616dd728": [
         {
          "x": 0,
          "y": 700
         },
         {
          "x": 0,
          "y": 0
         },
         {
          "x": 10,
          "y": 0
         },
         {
          "x": 10,
          "y": 700
         },
         {
          "x": 0,
          "y": 700
         }
        ],
        "data-749e47bccae11bb1b848c289ab72eddb": [
         {
          "x": 0,
          "y": 0
         },
         {
          "x": 10,
          "y": 0
         }
        ],
        "data-916da849c5d7783a18279c31d9b1ead4": [
         {
          "x": 0,
          "y": 600
         },
         {
          "x": 10,
          "y": 600
         }
        ],
        "data-c31a44100e2a5cfd538e7aac4bc67431": [
         {
          "x": 0,
          "y": 100
         },
         {
          "x": 10,
          "y": 100
         }
        ],
        "data-e0c21345b6a350d36ca5f32b4822ce4b": [
         {
          "x": 0,
          "y": 300
         },
         {
          "x": 10,
          "y": 300
         }
        ],
        "data-e8edef1de15d3f2d39558f2074802014": [
         {
          "x": 0,
          "y": 500
         },
         {
          "x": 10,
          "y": 500
         }
        ]
       },
       "layer": [
        {
         "data": {
          "name": "data-5db58c9de08bf12d64a58b46616dd728"
         },
         "encoding": {
          "x": {
           "field": "x",
           "type": "quantitative"
          },
          "y": {
           "field": "y",
           "type": "quantitative"
          }
         },
         "mark": "line",
         "title": "Deck Levels"
        },
        {
         "data": {
          "name": "data-749e47bccae11bb1b848c289ab72eddb"
         },
         "encoding": {
          "x": {
           "field": "x",
           "type": "quantitative"
          },
          "y": {
           "field": "y",
           "type": "quantitative"
          }
         },
         "mark": "line"
        },
        {
         "data": {
          "name": "data-c31a44100e2a5cfd538e7aac4bc67431"
         },
         "encoding": {
          "x": {
           "field": "x",
           "type": "quantitative"
          },
          "y": {
           "field": "y",
           "type": "quantitative"
          }
         },
         "mark": "line"
        },
        {
         "data": {
          "name": "data-49684b1590286a69d6a38ffac79f9844"
         },
         "encoding": {
          "x": {
           "field": "x",
           "type": "quantitative"
          },
          "y": {
           "field": "y",
           "type": "quantitative"
          }
         },
         "mark": "line"
        },
        {
         "data": {
          "name": "data-e0c21345b6a350d36ca5f32b4822ce4b"
         },
         "encoding": {
          "x": {
           "field": "x",
           "type": "quantitative"
          },
          "y": {
           "field": "y",
           "type": "quantitative"
          }
         },
         "mark": "line"
        },
        {
         "data": {
          "name": "data-22e405b9ddc1a10741378686efa0e538"
         },
         "encoding": {
          "x": {
           "field": "x",
           "type": "quantitative"
          },
          "y": {
           "field": "y",
           "type": "quantitative"
          }
         },
         "mark": "line"
        },
        {
         "data": {
          "name": "data-e8edef1de15d3f2d39558f2074802014"
         },
         "encoding": {
          "x": {
           "field": "x",
           "type": "quantitative"
          },
          "y": {
           "field": "y",
           "type": "quantitative"
          }
         },
         "mark": "line"
        },
        {
         "data": {
          "name": "data-916da849c5d7783a18279c31d9b1ead4"
         },
         "encoding": {
          "x": {
           "field": "x",
           "type": "quantitative"
          },
          "y": {
           "field": "y",
           "type": "quantitative"
          }
         },
         "mark": "line"
        },
        {
         "data": {
          "name": "data-49179778b9e7bab8f3e1e60cfa58218c"
         },
         "encoding": {
          "x": {
           "field": "x",
           "scale": {
            "domain": [
             0,
             10
            ]
           },
           "type": "quantitative"
          },
          "y": {
           "field": "y",
           "scale": {
            "domain": [
             0,
             700
            ]
           },
           "type": "quantitative"
          }
         },
         "mark": {
          "size": 0,
          "type": "point"
         }
        },
        {
         "data": {
          "name": "data-49179778b9e7bab8f3e1e60cfa58218c"
         },
         "encoding": {
          "text": {
           "field": "label",
           "type": "nominal"
          },
          "x": {
           "field": "x",
           "scale": {
            "domain": [
             0,
             10
            ]
           },
           "type": "quantitative"
          },
          "y": {
           "field": "y",
           "scale": {
            "domain": [
             0,
             700
            ]
           },
           "type": "quantitative"
          }
         },
         "mark": {
          "align": "left",
          "baseline": "middle",
          "type": "text"
         }
        }
       ]
      },
      "image/png": "[encoded data removed]",
      "text/plain": [
       "<VegaLite 3 object>\n",
       "\n",
       "If you see this message, it means the renderer has not been properly enabled\n",
       "for the frontend that you are using. For more information, see\n",
       "https://altair-viz.github.io/user_guide/troubleshooting.html\n"
      ]
     },
     "execution_count": 21,
     "metadata": {},
     "output_type": "execute_result"
    }
   ],
   "source": [
    "make_deck_legend()"
   ]
  },
  {
   "cell_type": "code",
   "execution_count": null,
   "metadata": {},
   "outputs": [],
   "source": []
  }
 ],
 "metadata": {
  "kernelspec": {
   "display_name": "Python 3",
   "language": "python",
   "name": "python3"
  },
  "language_info": {
   "codemirror_mode": {
    "name": "ipython",
    "version": 3
   },
   "file_extension": ".py",
   "mimetype": "text/x-python",
   "name": "python",
   "nbconvert_exporter": "python",
   "pygments_lexer": "ipython3",
   "version": "3.6.4"
  }
 },
 "nbformat": 4,
 "nbformat_minor": 4
}
