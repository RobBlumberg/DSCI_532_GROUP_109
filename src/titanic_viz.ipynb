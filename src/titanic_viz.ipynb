{
 "cells": [
  {
   "cell_type": "code",
   "execution_count": 1,
   "metadata": {},
   "outputs": [],
   "source": [
    "import pandas as pd\n",
    "import altair as alt\n",
    "import os"
   ]
  },
  {
   "cell_type": "markdown",
   "metadata": {},
   "source": [
    "### 1. Load Titanic dataset"
   ]
  },
  {
   "cell_type": "code",
   "execution_count": 2,
   "metadata": {},
   "outputs": [],
   "source": [
    "titanic_df = pd.read_csv(\"../data/titanic.csv\")"
   ]
  },
  {
   "cell_type": "code",
   "execution_count": 3,
   "metadata": {},
   "outputs": [
    {
     "data": {
      "text/html": [
       "<div>\n",
       "<style scoped>\n",
       "    .dataframe tbody tr th:only-of-type {\n",
       "        vertical-align: middle;\n",
       "    }\n",
       "\n",
       "    .dataframe tbody tr th {\n",
       "        vertical-align: top;\n",
       "    }\n",
       "\n",
       "    .dataframe thead th {\n",
       "        text-align: right;\n",
       "    }\n",
       "</style>\n",
       "<table border=\"1\" class=\"dataframe\">\n",
       "  <thead>\n",
       "    <tr style=\"text-align: right;\">\n",
       "      <th></th>\n",
       "      <th>pclass</th>\n",
       "      <th>survived</th>\n",
       "      <th>name</th>\n",
       "      <th>sex</th>\n",
       "      <th>age</th>\n",
       "      <th>sibsp</th>\n",
       "      <th>parch</th>\n",
       "      <th>ticket</th>\n",
       "      <th>fare</th>\n",
       "      <th>cabin</th>\n",
       "      <th>embarked</th>\n",
       "      <th>boat</th>\n",
       "      <th>body</th>\n",
       "      <th>home.dest</th>\n",
       "    </tr>\n",
       "  </thead>\n",
       "  <tbody>\n",
       "    <tr>\n",
       "      <th>0</th>\n",
       "      <td>1</td>\n",
       "      <td>1</td>\n",
       "      <td>Allen, Miss. Elisabeth Walton</td>\n",
       "      <td>female</td>\n",
       "      <td>29</td>\n",
       "      <td>0</td>\n",
       "      <td>0</td>\n",
       "      <td>24160</td>\n",
       "      <td>211.338</td>\n",
       "      <td>B5</td>\n",
       "      <td>S</td>\n",
       "      <td>2</td>\n",
       "      <td>None</td>\n",
       "      <td>St Louis, MO</td>\n",
       "    </tr>\n",
       "    <tr>\n",
       "      <th>1</th>\n",
       "      <td>1</td>\n",
       "      <td>1</td>\n",
       "      <td>Allison, Master. Hudson Trevor</td>\n",
       "      <td>male</td>\n",
       "      <td>0.9167</td>\n",
       "      <td>1</td>\n",
       "      <td>2</td>\n",
       "      <td>113781</td>\n",
       "      <td>151.55</td>\n",
       "      <td>C22 C26</td>\n",
       "      <td>S</td>\n",
       "      <td>11</td>\n",
       "      <td>None</td>\n",
       "      <td>Montreal, PQ / Chesterville, ON</td>\n",
       "    </tr>\n",
       "    <tr>\n",
       "      <th>2</th>\n",
       "      <td>1</td>\n",
       "      <td>0</td>\n",
       "      <td>Allison, Miss. Helen Loraine</td>\n",
       "      <td>female</td>\n",
       "      <td>2</td>\n",
       "      <td>1</td>\n",
       "      <td>2</td>\n",
       "      <td>113781</td>\n",
       "      <td>151.55</td>\n",
       "      <td>C22 C26</td>\n",
       "      <td>S</td>\n",
       "      <td>None</td>\n",
       "      <td>None</td>\n",
       "      <td>Montreal, PQ / Chesterville, ON</td>\n",
       "    </tr>\n",
       "    <tr>\n",
       "      <th>3</th>\n",
       "      <td>1</td>\n",
       "      <td>0</td>\n",
       "      <td>Allison, Mr. Hudson Joshua Creighton</td>\n",
       "      <td>male</td>\n",
       "      <td>30</td>\n",
       "      <td>1</td>\n",
       "      <td>2</td>\n",
       "      <td>113781</td>\n",
       "      <td>151.55</td>\n",
       "      <td>C22 C26</td>\n",
       "      <td>S</td>\n",
       "      <td>None</td>\n",
       "      <td>135</td>\n",
       "      <td>Montreal, PQ / Chesterville, ON</td>\n",
       "    </tr>\n",
       "    <tr>\n",
       "      <th>4</th>\n",
       "      <td>1</td>\n",
       "      <td>0</td>\n",
       "      <td>Allison, Mrs. Hudson J C (Bessie Waldo Daniels)</td>\n",
       "      <td>female</td>\n",
       "      <td>25</td>\n",
       "      <td>1</td>\n",
       "      <td>2</td>\n",
       "      <td>113781</td>\n",
       "      <td>151.55</td>\n",
       "      <td>C22 C26</td>\n",
       "      <td>S</td>\n",
       "      <td>None</td>\n",
       "      <td>None</td>\n",
       "      <td>Montreal, PQ / Chesterville, ON</td>\n",
       "    </tr>\n",
       "    <tr>\n",
       "      <th>...</th>\n",
       "      <td>...</td>\n",
       "      <td>...</td>\n",
       "      <td>...</td>\n",
       "      <td>...</td>\n",
       "      <td>...</td>\n",
       "      <td>...</td>\n",
       "      <td>...</td>\n",
       "      <td>...</td>\n",
       "      <td>...</td>\n",
       "      <td>...</td>\n",
       "      <td>...</td>\n",
       "      <td>...</td>\n",
       "      <td>...</td>\n",
       "      <td>...</td>\n",
       "    </tr>\n",
       "    <tr>\n",
       "      <th>1304</th>\n",
       "      <td>3</td>\n",
       "      <td>0</td>\n",
       "      <td>Zabour, Miss. Hileni</td>\n",
       "      <td>female</td>\n",
       "      <td>14.5</td>\n",
       "      <td>1</td>\n",
       "      <td>0</td>\n",
       "      <td>2665</td>\n",
       "      <td>14.4542</td>\n",
       "      <td>None</td>\n",
       "      <td>C</td>\n",
       "      <td>None</td>\n",
       "      <td>328</td>\n",
       "      <td>None</td>\n",
       "    </tr>\n",
       "    <tr>\n",
       "      <th>1305</th>\n",
       "      <td>3</td>\n",
       "      <td>0</td>\n",
       "      <td>Zabour, Miss. Thamine</td>\n",
       "      <td>female</td>\n",
       "      <td>None</td>\n",
       "      <td>1</td>\n",
       "      <td>0</td>\n",
       "      <td>2665</td>\n",
       "      <td>14.4542</td>\n",
       "      <td>None</td>\n",
       "      <td>C</td>\n",
       "      <td>None</td>\n",
       "      <td>None</td>\n",
       "      <td>None</td>\n",
       "    </tr>\n",
       "    <tr>\n",
       "      <th>1306</th>\n",
       "      <td>3</td>\n",
       "      <td>0</td>\n",
       "      <td>Zakarian, Mr. Mapriededer</td>\n",
       "      <td>male</td>\n",
       "      <td>26.5</td>\n",
       "      <td>0</td>\n",
       "      <td>0</td>\n",
       "      <td>2656</td>\n",
       "      <td>7.225</td>\n",
       "      <td>None</td>\n",
       "      <td>C</td>\n",
       "      <td>None</td>\n",
       "      <td>304</td>\n",
       "      <td>None</td>\n",
       "    </tr>\n",
       "    <tr>\n",
       "      <th>1307</th>\n",
       "      <td>3</td>\n",
       "      <td>0</td>\n",
       "      <td>Zakarian, Mr. Ortin</td>\n",
       "      <td>male</td>\n",
       "      <td>27</td>\n",
       "      <td>0</td>\n",
       "      <td>0</td>\n",
       "      <td>2670</td>\n",
       "      <td>7.225</td>\n",
       "      <td>None</td>\n",
       "      <td>C</td>\n",
       "      <td>None</td>\n",
       "      <td>None</td>\n",
       "      <td>None</td>\n",
       "    </tr>\n",
       "    <tr>\n",
       "      <th>1308</th>\n",
       "      <td>3</td>\n",
       "      <td>0</td>\n",
       "      <td>Zimmerman, Mr. Leo</td>\n",
       "      <td>male</td>\n",
       "      <td>29</td>\n",
       "      <td>0</td>\n",
       "      <td>0</td>\n",
       "      <td>315082</td>\n",
       "      <td>7.875</td>\n",
       "      <td>None</td>\n",
       "      <td>S</td>\n",
       "      <td>None</td>\n",
       "      <td>None</td>\n",
       "      <td>None</td>\n",
       "    </tr>\n",
       "  </tbody>\n",
       "</table>\n",
       "<p>1309 rows × 14 columns</p>\n",
       "</div>"
      ],
      "text/plain": [
       "      pclass  survived                                             name  \\\n",
       "0          1         1                    Allen, Miss. Elisabeth Walton   \n",
       "1          1         1                   Allison, Master. Hudson Trevor   \n",
       "2          1         0                     Allison, Miss. Helen Loraine   \n",
       "3          1         0             Allison, Mr. Hudson Joshua Creighton   \n",
       "4          1         0  Allison, Mrs. Hudson J C (Bessie Waldo Daniels)   \n",
       "...      ...       ...                                              ...   \n",
       "1304       3         0                             Zabour, Miss. Hileni   \n",
       "1305       3         0                            Zabour, Miss. Thamine   \n",
       "1306       3         0                        Zakarian, Mr. Mapriededer   \n",
       "1307       3         0                              Zakarian, Mr. Ortin   \n",
       "1308       3         0                               Zimmerman, Mr. Leo   \n",
       "\n",
       "         sex     age  sibsp  parch  ticket     fare    cabin embarked  boat  \\\n",
       "0     female      29      0      0   24160  211.338       B5        S     2   \n",
       "1       male  0.9167      1      2  113781   151.55  C22 C26        S    11   \n",
       "2     female       2      1      2  113781   151.55  C22 C26        S  None   \n",
       "3       male      30      1      2  113781   151.55  C22 C26        S  None   \n",
       "4     female      25      1      2  113781   151.55  C22 C26        S  None   \n",
       "...      ...     ...    ...    ...     ...      ...      ...      ...   ...   \n",
       "1304  female    14.5      1      0    2665  14.4542     None        C  None   \n",
       "1305  female    None      1      0    2665  14.4542     None        C  None   \n",
       "1306    male    26.5      0      0    2656    7.225     None        C  None   \n",
       "1307    male      27      0      0    2670    7.225     None        C  None   \n",
       "1308    male      29      0      0  315082    7.875     None        S  None   \n",
       "\n",
       "      body                        home.dest  \n",
       "0     None                     St Louis, MO  \n",
       "1     None  Montreal, PQ / Chesterville, ON  \n",
       "2     None  Montreal, PQ / Chesterville, ON  \n",
       "3      135  Montreal, PQ / Chesterville, ON  \n",
       "4     None  Montreal, PQ / Chesterville, ON  \n",
       "...    ...                              ...  \n",
       "1304   328                             None  \n",
       "1305  None                             None  \n",
       "1306   304                             None  \n",
       "1307  None                             None  \n",
       "1308  None                             None  \n",
       "\n",
       "[1309 rows x 14 columns]"
      ]
     },
     "execution_count": 3,
     "metadata": {},
     "output_type": "execute_result"
    }
   ],
   "source": [
    "titanic_df = titanic_df.fillna(\"None\")\n",
    "titanic_df"
   ]
  },
  {
   "cell_type": "markdown",
   "metadata": {},
   "source": [
    "### 2. Cabin coordinates"
   ]
  },
  {
   "cell_type": "code",
   "execution_count": 4,
   "metadata": {},
   "outputs": [
    {
     "data": {
      "text/html": [
       "<div>\n",
       "<style scoped>\n",
       "    .dataframe tbody tr th:only-of-type {\n",
       "        vertical-align: middle;\n",
       "    }\n",
       "\n",
       "    .dataframe tbody tr th {\n",
       "        vertical-align: top;\n",
       "    }\n",
       "\n",
       "    .dataframe thead th {\n",
       "        text-align: right;\n",
       "    }\n",
       "</style>\n",
       "<table border=\"1\" class=\"dataframe\">\n",
       "  <thead>\n",
       "    <tr style=\"text-align: right;\">\n",
       "      <th></th>\n",
       "      <th>cabin_x</th>\n",
       "      <th>cabin_y</th>\n",
       "    </tr>\n",
       "    <tr>\n",
       "      <th>cabin</th>\n",
       "      <th></th>\n",
       "      <th></th>\n",
       "    </tr>\n",
       "  </thead>\n",
       "  <tbody>\n",
       "    <tr>\n",
       "      <th>A36</th>\n",
       "      <td>350.0</td>\n",
       "      <td>1.0</td>\n",
       "    </tr>\n",
       "    <tr>\n",
       "      <th>A37</th>\n",
       "      <td>350.0</td>\n",
       "      <td>6.0</td>\n",
       "    </tr>\n",
       "    <tr>\n",
       "      <th>A32</th>\n",
       "      <td>400.0</td>\n",
       "      <td>6.0</td>\n",
       "    </tr>\n",
       "    <tr>\n",
       "      <th>A30</th>\n",
       "      <td>400.0</td>\n",
       "      <td>5.0</td>\n",
       "    </tr>\n",
       "    <tr>\n",
       "      <th>A31</th>\n",
       "      <td>400.0</td>\n",
       "      <td>2.0</td>\n",
       "    </tr>\n",
       "    <tr>\n",
       "      <th>...</th>\n",
       "      <td>...</td>\n",
       "      <td>...</td>\n",
       "    </tr>\n",
       "    <tr>\n",
       "      <th>G43</th>\n",
       "      <td>335.0</td>\n",
       "      <td>3.0</td>\n",
       "    </tr>\n",
       "    <tr>\n",
       "      <th>G45</th>\n",
       "      <td>335.0</td>\n",
       "      <td>2.0</td>\n",
       "    </tr>\n",
       "    <tr>\n",
       "      <th>G47</th>\n",
       "      <td>335.0</td>\n",
       "      <td>1.0</td>\n",
       "    </tr>\n",
       "    <tr>\n",
       "      <th>G48</th>\n",
       "      <td>330.0</td>\n",
       "      <td>3.0</td>\n",
       "    </tr>\n",
       "    <tr>\n",
       "      <th>G49</th>\n",
       "      <td>330.0</td>\n",
       "      <td>4.0</td>\n",
       "    </tr>\n",
       "  </tbody>\n",
       "</table>\n",
       "<p>411 rows × 2 columns</p>\n",
       "</div>"
      ],
      "text/plain": [
       "       cabin_x  cabin_y\n",
       "cabin                  \n",
       "A36      350.0      1.0\n",
       "A37      350.0      6.0\n",
       "A32      400.0      6.0\n",
       "A30      400.0      5.0\n",
       "A31      400.0      2.0\n",
       "...        ...      ...\n",
       "G43      335.0      3.0\n",
       "G45      335.0      2.0\n",
       "G47      335.0      1.0\n",
       "G48      330.0      3.0\n",
       "G49      330.0      4.0\n",
       "\n",
       "[411 rows x 2 columns]"
      ]
     },
     "execution_count": 4,
     "metadata": {},
     "output_type": "execute_result"
    }
   ],
   "source": [
    "cabin_locations = {\"A36\": (350, 1.0), \"A37\": (350, 6.0), \"A32\": (400, 6.0), \"A30\": (400, 5.0), \"A31\": (400, 2.0), \"A33\": (400, 1.0), \"A28\": (405, 6.0), \"A26\": (405, 5.0), \"A27\": (405, 2.0),\n",
    "                    \"A29\": (405, 1.0), \"A34\": (395, 6.0), \"A35\": (395, 1.0), \"A24\": (410, 6.0), \"A22\": (410, 5.0), \"A23\": (410, 2.0), \"A25\": (410, 1.0), \"A20\": (415, 6.0), \"A18\": (415, 5.0),\n",
    "                    \"A19\": (415, 2.0), \"A21\": (415, 1.0), \"A16\": (420, 6.0), \"A14\": (420, 5.0), \"A15\": (420, 2.0), \"A17\": (420, 1.0), \"A12\": (425, 6.0), \"A10\": (425, 5.0), \"A9\":  (425, 2.0),\n",
    "                    \"A11\": (425, 1.0), \"A8\": ( 430, 6.0),  \"A6\": (430, 5.0), \"A5\":  (430, 2.0), \"A7\":  (430, 1.0), \"A4\":  (435, 6.0), \"A2\":  (435, 4.0), \"A1\":  (435, 3.0), \"A3\":  (435, 1.0),\n",
    "                       \n",
    "                    \"B90\": (345, 6.0), \"B94\": (340, 6.0), \"B96\": (335, 6.0), \"B98\": (330, 6.0), \"B92\": (345, 5.0), \"B91\": (345, 1.0), \"B101\": (395, 3.0), \"B102\": (395, 4.0), \"B100\": (385, 4.0),\n",
    "                    \"B99\": (385, 3.0), \"B58\": (400, 6.0), \"B88\": (350, 6.0), \"B84\": (355, 6.0), \"B86\": (355, 5.0), \"B85\": (355, 1.0), \"B82\": (360, 6.0), \"B78\": (365, 6.0), \"B76\": (370, 6.0),\n",
    "                    \"B72\": (375, 6.0), \"B70\": (380, 6.0), \"B66\": (385, 6.0), \"B64\": (390, 6.0), \"B60\": (395, 6.0), \"B80\": (365, 5.0), \"B74\": (375, 5.0), \"B68\": (385, 5.0), \"B62\":  (395, 5.0),\n",
    "                    \"B79\": (365, 1.0), \"B73\": (375, 1.0), \"B67\": (385, 1.0), \"B52\": (405, 5.0), \"B51\": (405, 1.0), \"B61\":  (395, 1.0),\n",
    "                   \n",
    "                    \"C8\": (465, 6.0), \"C6\": (465, 5.0), \"C2\": (465, 4.0), \"C1\": (465, 3.0), \"C3\": (465, 2.0), \"C5\": (465, 1.0), \"C12\": (460, 6.0), \"C48\": (460, 5.0), \"C41\": (460, 4.0),\n",
    "                    \"C43\": (460, 3.0), \"C9\": (460, 2.0), \"C11\": (460, 1.0), \"C14\": (455, 6.0), \"C50\": (455, 4.0), \"C15\": (455, 1.0), \"C18\": (450, 6.0), \"C16\": (450, 5.0), \"C52\": (450, 4.0),\n",
    "                    \"C45\": (450, 3.0), \"C17\": (450, 2.0), \"C19\": (450, 1.0), \"C20\": (445, 6.0), \"C54\": (445, 4.0), \"C47\": (445, 3.0), \"C21\": (445, 1.0), \"C42\": (440, 6.0), \"C22\": (440, 5.0),\n",
    "                    \"C56\": (440, 4.0), \"C49\": (440, 3.0), \"C23\": (440, 2.0), \"C25\": (440, 1.0), \"C26\": (435, 6.0), \"C58\": (435, 4.0), \"C51\": (435, 3.0), \"C27\": (435, 1.0), \"C30\": (430, 6.0),\n",
    "                    \"C28\": (430, 5.0), \"C60\": (430, 4.0), \"C53\": (430, 3.0), \"C29\": (430, 2.0), \"C31\": (430, 1.0), \"C32\": (425, 6.0), \"C35\": (425, 1.0), \"C36\": (420, 6.0), \"C34\": (420, 5.0),\n",
    "                    \"C35\": (420, 2.0), \"C37\": (420, 1.0), \"C39\": (415, 6.0), \"C38\": (415, 1.0), \"C42\": (410, 6.0), \"C40\": (410, 5.0), \"C46\": (405, 6.0), \"C44\": (405, 5.0), \"C62\": (400, 6.0),\n",
    "                    \"C104\": (400, 5.0), \"C95\": (400, 2.0), \"C55\": (400, 1.0), \"C64\": (395, 6.0), \"C106\": (395, 5.0), \"C97\": (395, 2.0), \"C57\": (395, 1.0), \"C108\": (390, 5.0), \"C99\": (390, 2.0),\n",
    "                    \"C66\": (385, 6.0), \"C110\": (380, 5.0), \"C101\": (385, 2.0), \"C59\": (385, 1.0), \"C68\": (380, 6.0), \"C112\": (380, 5.0), \"C103\": (380, 2.0), \"C61\": (380, 1.0), \"C105\": (375, 2.0),\n",
    "                    \"C70\": (370, 6.0), \"C114\": (370, 5.0), \"107\": (370, 2.0), \"C63\": (370, 1.0), \"C72\": (365, 6.0), \"C116\": (365, 5.0), \"C118\": (365, 4.0), \"C111\": (365, 3.0), \"C109\": (365, 2.0),\n",
    "                    \"C65\": (365, 1.0), \"C74\": (360, 6.0), \"C124\": (360, 5.0), \"C120\": (360, 4.0), \"C113\": (360, 3.0), \"C115\": (360, 2.0), \"C67\": (360, 1.0), \"C76\": (355, 6.0), \"C126\": (355, 5.0),\n",
    "                    \"C69\": (355, 1.0), \"C78\": (350, 6.0), \"C128\": (350, 5.0), \"C117\": (350, 2.0), \"C71\": (350, 1.0), \"C80\": (345, 6.0), \"C130\": (345, 5.0), \"C119\": (345, 2.0), \"C73\": (345, 1.0),\n",
    "                    \"C132\": (340, 4.0), \"C121\": (340, 3.0), \"C82\": (335, 6.0), \"C134\": (335, 5.0), \"C75\": (335, 1.0), \"C86\": (330, 6.0), \"C92\": (330, 4.0), \"C83\": (330, 3.0),\n",
    "                   \n",
    "                    \"D6\": (465, 6.0), \"D4\": (465, 5.0), \"D2\": (465, 4.0), \"D3\": (465, 3.0), \"D5\": (465, 2.0), \"D7\": (465, 1.0), \"D10\": (460, 6.0), \"D40\": (460, 5.0), \"D38\": (460, 4.0),\n",
    "                    \"D39\": (460, 3.0), \"D9\": (460, 2.0), \"D11\": (460, 1.0), \"D16\": (455, 6.0), \"D14\": (455, 5.0), \"D15\": (455, 2.0), \"D17\": (455, 1.0), \"D20\": (450, 6.0), \"D18\": (450, 5.0),\n",
    "                    \"D42\": (450, 4.0), \"D43\": (450, 3.0), \"D19\": (450, 2.0), \"D21\": (450, 1.0), \"D24\": (445, 6.0), \"D22\": (445, 5.0), \"D46\": (445, 4.0), \"D45\": (445, 3.0), \"D22\": (445, 2.0),\n",
    "                    \"D25\": (445, 1.0), \"D28\": (440, 6.0), \"D26\": (440, 5.0), \"D48\": (440, 4.0), \"D47\": (440, 3.0), \"D27\": (440, 2.0), \"D29\": (440, 1.0), \"D32\": (435, 6.0), \"D30\": (435, 5.0),\n",
    "                    \"D50\": (435, 4.0), \"D49\": (435, 3.0), \"D33\": (435, 2.0), \"D31\": (435, 1.0), \"D36\": (430, 6.0), \"D34\": (430, 4.0), \"D35\": (430, 3.0), \"D37\": (430, 1.0), \"D56\": (360, 6.0),\n",
    "                    \"D135\": (330, 4.0),\n",
    "                       \n",
    "                    \"E200\": (465, 4.0), \"E201\": (465, 3.0), \"E1\": (465, 2.0), \"E2\": (465, 1.0), \"E202\": (460, 4.0), \"E203\": (460, 3.0), \"E3\": (460, 2.0), \"E4\": (460, 1.0), \"E11\": (455, 3.0),\n",
    "                    \"E7\": (455, 2.0), \"E8\": (455, 1.0), \"E12\": (450, 3.0), \"E9\": (450, 2.0), \"E10\": (450, 1.0), \"E14\": (445, 3.0), \"E16\": (445, 2.0), \"E17\": (445, 1.0), \"E15\": (440, 3.0),\n",
    "                    \"E18\": (440, 2.0), \"E19\": (440, 1.0), \"E20\": (435, 2.0), \"E21\": (435, 1.0), \"E22\": (430, 2.0), \"E23\": (430, 1.0), \"E26\": (425, 3.0), \"E24\": (425, 2.0), \"E25\": (425, 1.0),\n",
    "                    \"E27\": (420, 3.0), \"E28\": (420, 2.0), \"E29\": (420, 1.0), \"E38\": (415, 3.0), \"E30\": (415, 2.0), \"E31\": (415, 1.0), \"E39\": (410, 3.0), \"E32\": (410, 2.0), \"E33\": (410, 1.0),\n",
    "                    \"E40\": (405, 3.0), \"E34\": (405, 2.0), \"E35\": (405, 1.0), \"E41\": (400, 3.0), \"E36\": (400, 2.0), \"E37\": (400, 1.0), \"E42\": (395, 3.0), \"E43\": (395, 2.0), \"E44\": (395, 1.0),\n",
    "                    \"E45\": (390, 2.0), \"E46\": (390, 1.0), \"E47\": (385, 3.0), \"E49\": (385, 2.0), \"E50\": (385, 1.0), \"E48\": (380, 3.0), \"E51\": (380, 2.0), \"E52\": (380, 1.0), \"E57\": (375, 3.0),\n",
    "                    \"E53\": (375, 2.0), \"E54\": (375, 1.0), \"E58\": (370, 3.0), \"E55\": (370, 2.0), \"E56\": (370, 1.0), \"E60\": (365, 3.0), \"E64\": (365, 2.0), \"E65\": (365, 1.0), \"E62\": (360, 3.0),\n",
    "                    \"E66\": (360, 2.0), \"E67\": (360, 1.0), \"E63\": (355, 3.0), \"E68\": (355, 1.0), \"E77\": (345, 2.0), \"E78\": (345, 1.0), \"E99\": (330, 3.0), \"E100\": (330, 2.0), \"E101\": (330, 1.0),\n",
    "                   \n",
    "                    \"F58\": (465, 6.0), \"F38\": (465, 4.0), \"F46\": (465, 3.0), \"F45\": (465, 1.0), \"F60\": (460, 6.0), \"F56\": (460, 4.0), \"F47\": (460, 3.0), \"F49\": (460, 1.0), \"F51\": (455, 3.0),\n",
    "                    \"F53\": (455, 1.0), \"F62\": (450, 6.0), \"F55\": (450, 3.0), \"F57\": (450, 2.0), \"F59\": (450, 1.0), \"F68\": (445, 6.0), \"F66\": (445, 5.0), \"F64\": (445, 4.0), \"F69\": (445, 3.0),\n",
    "                    \"F63\": (445, 2.0), \"F65\": (445, 1.0), \"F74\": (440, 6.0), \"F72\": (440, 5.0), \"F70\": (440, 4.0), \"F73\": (440, 3.0), \"F75\": (440, 2.0), \"F71\": (440, 1.0), \"F84\": (435, 6.0),\n",
    "                    \"F82\": (435, 5.0), \"E80\": (435, 4.0), \"F77\": (435, 3.0), \"F79\": (435, 2.0), \"F81\": (435, 1.0), \"F90\": (430, 6.0), \"F88\": (430, 5.0), \"F86\": (430, 4.0), \"F83\": (430, 3.0),\n",
    "                    \"F85\": (430, 2.0), \"F87\": (430, 1.0), \"F96\": (425, 6.0), \"F94\": (425, 5.0), \"F92\": (425, 4.0), \"F89\": (425, 3.0), \"F91\": (425, 2.0), \"F93\": (425, 1.0), \"F100\": (420, 5.0),\n",
    "                    \"F98\": (420, 4.0), \"F95\": (420, 3.0), \"F97\": (420, 2.0), \"F99\": (420, 1.0), \"F4\": (360, 6.0), \"F2\": (360, 5.0), \"F5\": (360, 2.0), \"F7\": (360, 1.0), \"F8\": (355, 6.0),\n",
    "                    \"F6\": (355, 5.0), \"F9\": (355, 2.0), \"F11\": (355, 1.0), \"F12\": (350, 6.0), \"F10\": (350, 5.0), \"F18\": (345, 6.0), \"F16\": (345, 5.0), \"F15\": (345, 4.0), \"F17\": (345, 3.0),\n",
    "                    \"F19\": (345, 2.0), \"F21\": (345, 1.0), \"F28\": (340, 6.0), \"F26\": (340, 5.0), \"F24\": (340, 4.0), \"F29\": (340, 3.0), \"F25\": (340, 2.0), \"F27\": (340, 1.0), \"F34\": (335, 6.0),\n",
    "                    \"F32\": (335, 5.0), \"F30\": (335, 4.0), \"F31\": (335, 3.0), \"F33\": (335, 2.0), \"F35\": (335, 1.0), \"F40\": (330, 6.0), \"F38\": (330, 5.0), \"F190\": (330, 4.0), \"F39\": (330, 3.0),\n",
    "                    \"F41\": (330, 2.0), \"F43\": (330, 1.0),\n",
    "                   \n",
    "                    \"G8\": (360, 6.0), \"G6\": (360, 5.0), \"G2\": (360, 4.0), \"G5\": (360, 3.0), \"G3\": (360, 2.0), \"G1\": (360, 1.0), \"G16\": (355, 6.0), \"G14\": (355, 5.0), \"G12\": (355, 4.0),\n",
    "                    \"G11\": (355, 3.0), \"G17\": (355, 2.0), \"G15\": (355, 1.0), \"G24\": (350, 6.0), \"G22\": (350, 5.0), \"G20\": (350, 4.0), \"G21\": (350, 3.0), \"G23\": (350, 2.0), \"G25\": (350, 1.0),\n",
    "                    \"G30\": (345, 6.0), \"G28\": (345, 5.0), \"G26\": (345, 4.0), \"G29\": (345, 3.0), \"G31\": (345, 2.0), \"G33\": (345, 1.0), \"G36\": (340, 6.0), \"G34\": (340, 5.0), \"G32\": (340, 4.0),\n",
    "                    \"G37\": (340, 3.0), \"G39\": (340, 2.0), \"G41\": (340, 1.0), \"G46\": (335, 6.0), \"G44\": (335, 5.0), \"G42\": (335, 4.0), \"G43\": (335, 3.0), \"G45\": (335, 2.0), \"G47\": (335, 1.0),\n",
    "                    \"G48\": (330, 3.0), \"G49\": (330, 4.0)\n",
    "                  }\n",
    "\n",
    "cabin_locations_df = pd.DataFrame(cabin_locations).T\n",
    "cabin_locations_df.index.names = [\"cabin\"]\n",
    "cabin_locations_df.columns = [\"cabin_x\", \"cabin_y\"]\n",
    "cabin_locations_df"
   ]
  },
  {
   "cell_type": "code",
   "execution_count": 5,
   "metadata": {},
   "outputs": [
    {
     "data": {
      "text/plain": [
       "'/Users/robertblumberg/Documents/MDS/DSCI_532/DSCI_532_GROUP_109/src'"
      ]
     },
     "execution_count": 5,
     "metadata": {},
     "output_type": "execute_result"
    }
   ],
   "source": [
    "os.getcwd()"
   ]
  },
  {
   "cell_type": "markdown",
   "metadata": {},
   "source": [
    "#### 2.1 Mapping cabin coordinates to titanic data frame"
   ]
  },
  {
   "cell_type": "code",
   "execution_count": 6,
   "metadata": {},
   "outputs": [
    {
     "data": {
      "text/html": [
       "<div>\n",
       "<style scoped>\n",
       "    .dataframe tbody tr th:only-of-type {\n",
       "        vertical-align: middle;\n",
       "    }\n",
       "\n",
       "    .dataframe tbody tr th {\n",
       "        vertical-align: top;\n",
       "    }\n",
       "\n",
       "    .dataframe thead th {\n",
       "        text-align: right;\n",
       "    }\n",
       "</style>\n",
       "<table border=\"1\" class=\"dataframe\">\n",
       "  <thead>\n",
       "    <tr style=\"text-align: right;\">\n",
       "      <th></th>\n",
       "      <th></th>\n",
       "      <th>pclass</th>\n",
       "      <th>survived</th>\n",
       "      <th>sex</th>\n",
       "      <th>age</th>\n",
       "      <th>sibsp</th>\n",
       "      <th>parch</th>\n",
       "      <th>ticket</th>\n",
       "      <th>fare</th>\n",
       "      <th>embarked</th>\n",
       "      <th>boat</th>\n",
       "      <th>body</th>\n",
       "      <th>home.dest</th>\n",
       "      <th>cabin_x</th>\n",
       "      <th>cabin_y</th>\n",
       "      <th>deck</th>\n",
       "    </tr>\n",
       "    <tr>\n",
       "      <th>cabin</th>\n",
       "      <th>name</th>\n",
       "      <th></th>\n",
       "      <th></th>\n",
       "      <th></th>\n",
       "      <th></th>\n",
       "      <th></th>\n",
       "      <th></th>\n",
       "      <th></th>\n",
       "      <th></th>\n",
       "      <th></th>\n",
       "      <th></th>\n",
       "      <th></th>\n",
       "      <th></th>\n",
       "      <th></th>\n",
       "      <th></th>\n",
       "      <th></th>\n",
       "    </tr>\n",
       "  </thead>\n",
       "  <tbody>\n",
       "    <tr>\n",
       "      <th>A10</th>\n",
       "      <th>Ross, Mr. John Hugo</th>\n",
       "      <td>1</td>\n",
       "      <td>Passenger Died</td>\n",
       "      <td>male</td>\n",
       "      <td>36</td>\n",
       "      <td>0</td>\n",
       "      <td>0</td>\n",
       "      <td>13049</td>\n",
       "      <td>40.125</td>\n",
       "      <td>C</td>\n",
       "      <td>None</td>\n",
       "      <td>None</td>\n",
       "      <td>Winnipeg, MB</td>\n",
       "      <td>425.0</td>\n",
       "      <td>5.0</td>\n",
       "      <td>A</td>\n",
       "    </tr>\n",
       "    <tr>\n",
       "      <th>A11</th>\n",
       "      <th>Rosenbaum, Miss. Edith Louise</th>\n",
       "      <td>1</td>\n",
       "      <td>Passenger Survived</td>\n",
       "      <td>female</td>\n",
       "      <td>33</td>\n",
       "      <td>0</td>\n",
       "      <td>0</td>\n",
       "      <td>PC 17613</td>\n",
       "      <td>27.7208</td>\n",
       "      <td>C</td>\n",
       "      <td>11</td>\n",
       "      <td>None</td>\n",
       "      <td>Paris, France</td>\n",
       "      <td>425.0</td>\n",
       "      <td>1.0</td>\n",
       "      <td>A</td>\n",
       "    </tr>\n",
       "    <tr>\n",
       "      <th>A14</th>\n",
       "      <th>Clifford, Mr. George Quincy</th>\n",
       "      <td>1</td>\n",
       "      <td>Passenger Died</td>\n",
       "      <td>male</td>\n",
       "      <td>None</td>\n",
       "      <td>0</td>\n",
       "      <td>0</td>\n",
       "      <td>110465</td>\n",
       "      <td>52</td>\n",
       "      <td>S</td>\n",
       "      <td>None</td>\n",
       "      <td>None</td>\n",
       "      <td>Stoughton, MA</td>\n",
       "      <td>420.0</td>\n",
       "      <td>5.0</td>\n",
       "      <td>A</td>\n",
       "    </tr>\n",
       "    <tr>\n",
       "      <th>A16</th>\n",
       "      <th>Duff Gordon, Lady. (Lucille Christiana Sutherland) (\"Mrs Morgan\")</th>\n",
       "      <td>1</td>\n",
       "      <td>Passenger Survived</td>\n",
       "      <td>female</td>\n",
       "      <td>48</td>\n",
       "      <td>1</td>\n",
       "      <td>0</td>\n",
       "      <td>11755</td>\n",
       "      <td>39.6</td>\n",
       "      <td>C</td>\n",
       "      <td>1</td>\n",
       "      <td>None</td>\n",
       "      <td>London / Paris</td>\n",
       "      <td>420.0</td>\n",
       "      <td>6.0</td>\n",
       "      <td>A</td>\n",
       "    </tr>\n",
       "    <tr>\n",
       "      <th>A18</th>\n",
       "      <th>Dulles, Mr. William Crothers</th>\n",
       "      <td>1</td>\n",
       "      <td>Passenger Died</td>\n",
       "      <td>male</td>\n",
       "      <td>39</td>\n",
       "      <td>0</td>\n",
       "      <td>0</td>\n",
       "      <td>PC 17580</td>\n",
       "      <td>29.7</td>\n",
       "      <td>C</td>\n",
       "      <td>None</td>\n",
       "      <td>133</td>\n",
       "      <td>Philadelphia, PA</td>\n",
       "      <td>415.0</td>\n",
       "      <td>5.0</td>\n",
       "      <td>A</td>\n",
       "    </tr>\n",
       "    <tr>\n",
       "      <th>...</th>\n",
       "      <th>...</th>\n",
       "      <td>...</td>\n",
       "      <td>...</td>\n",
       "      <td>...</td>\n",
       "      <td>...</td>\n",
       "      <td>...</td>\n",
       "      <td>...</td>\n",
       "      <td>...</td>\n",
       "      <td>...</td>\n",
       "      <td>...</td>\n",
       "      <td>...</td>\n",
       "      <td>...</td>\n",
       "      <td>...</td>\n",
       "      <td>...</td>\n",
       "      <td>...</td>\n",
       "      <td>...</td>\n",
       "    </tr>\n",
       "    <tr>\n",
       "      <th rowspan=\"5\" valign=\"top\">G6</th>\n",
       "      <th>Sandstrom, Miss. Beatrice Irene</th>\n",
       "      <td>3</td>\n",
       "      <td>Passenger Survived</td>\n",
       "      <td>female</td>\n",
       "      <td>1</td>\n",
       "      <td>1</td>\n",
       "      <td>1</td>\n",
       "      <td>PP 9549</td>\n",
       "      <td>16.7</td>\n",
       "      <td>S</td>\n",
       "      <td>13</td>\n",
       "      <td>None</td>\n",
       "      <td>None</td>\n",
       "      <td>360.0</td>\n",
       "      <td>5.0</td>\n",
       "      <td>G</td>\n",
       "    </tr>\n",
       "    <tr>\n",
       "      <th>Sandstrom, Miss. Marguerite Rut</th>\n",
       "      <td>3</td>\n",
       "      <td>Passenger Survived</td>\n",
       "      <td>female</td>\n",
       "      <td>4</td>\n",
       "      <td>1</td>\n",
       "      <td>1</td>\n",
       "      <td>PP 9549</td>\n",
       "      <td>16.7</td>\n",
       "      <td>S</td>\n",
       "      <td>13</td>\n",
       "      <td>None</td>\n",
       "      <td>None</td>\n",
       "      <td>360.0</td>\n",
       "      <td>5.0</td>\n",
       "      <td>G</td>\n",
       "    </tr>\n",
       "    <tr>\n",
       "      <th>Sandstrom, Mrs. Hjalmar (Agnes Charlotta Bengtsson)</th>\n",
       "      <td>3</td>\n",
       "      <td>Passenger Survived</td>\n",
       "      <td>female</td>\n",
       "      <td>24</td>\n",
       "      <td>0</td>\n",
       "      <td>2</td>\n",
       "      <td>PP 9549</td>\n",
       "      <td>16.7</td>\n",
       "      <td>S</td>\n",
       "      <td>13</td>\n",
       "      <td>None</td>\n",
       "      <td>None</td>\n",
       "      <td>360.0</td>\n",
       "      <td>5.0</td>\n",
       "      <td>G</td>\n",
       "    </tr>\n",
       "    <tr>\n",
       "      <th>Strom, Miss. Telma Matilda</th>\n",
       "      <td>3</td>\n",
       "      <td>Passenger Died</td>\n",
       "      <td>female</td>\n",
       "      <td>2</td>\n",
       "      <td>0</td>\n",
       "      <td>1</td>\n",
       "      <td>347054</td>\n",
       "      <td>10.4625</td>\n",
       "      <td>S</td>\n",
       "      <td>None</td>\n",
       "      <td>None</td>\n",
       "      <td>None</td>\n",
       "      <td>360.0</td>\n",
       "      <td>5.0</td>\n",
       "      <td>G</td>\n",
       "    </tr>\n",
       "    <tr>\n",
       "      <th>Strom, Mrs. Wilhelm (Elna Matilda Persson)</th>\n",
       "      <td>3</td>\n",
       "      <td>Passenger Died</td>\n",
       "      <td>female</td>\n",
       "      <td>29</td>\n",
       "      <td>1</td>\n",
       "      <td>1</td>\n",
       "      <td>347054</td>\n",
       "      <td>10.4625</td>\n",
       "      <td>S</td>\n",
       "      <td>None</td>\n",
       "      <td>None</td>\n",
       "      <td>None</td>\n",
       "      <td>360.0</td>\n",
       "      <td>5.0</td>\n",
       "      <td>G</td>\n",
       "    </tr>\n",
       "  </tbody>\n",
       "</table>\n",
       "<p>192 rows × 15 columns</p>\n",
       "</div>"
      ],
      "text/plain": [
       "                                                          pclass  \\\n",
       "cabin name                                                         \n",
       "A10   Ross, Mr. John Hugo                                      1   \n",
       "A11   Rosenbaum, Miss. Edith Louise                            1   \n",
       "A14   Clifford, Mr. George Quincy                              1   \n",
       "A16   Duff Gordon, Lady. (Lucille Christiana Sutherla...       1   \n",
       "A18   Dulles, Mr. William Crothers                             1   \n",
       "...                                                          ...   \n",
       "G6    Sandstrom, Miss. Beatrice Irene                          3   \n",
       "      Sandstrom, Miss. Marguerite Rut                          3   \n",
       "      Sandstrom, Mrs. Hjalmar (Agnes Charlotta Bengts...       3   \n",
       "      Strom, Miss. Telma Matilda                               3   \n",
       "      Strom, Mrs. Wilhelm (Elna Matilda Persson)               3   \n",
       "\n",
       "                                                                    survived  \\\n",
       "cabin name                                                                     \n",
       "A10   Ross, Mr. John Hugo                                     Passenger Died   \n",
       "A11   Rosenbaum, Miss. Edith Louise                       Passenger Survived   \n",
       "A14   Clifford, Mr. George Quincy                             Passenger Died   \n",
       "A16   Duff Gordon, Lady. (Lucille Christiana Sutherla...  Passenger Survived   \n",
       "A18   Dulles, Mr. William Crothers                            Passenger Died   \n",
       "...                                                                      ...   \n",
       "G6    Sandstrom, Miss. Beatrice Irene                     Passenger Survived   \n",
       "      Sandstrom, Miss. Marguerite Rut                     Passenger Survived   \n",
       "      Sandstrom, Mrs. Hjalmar (Agnes Charlotta Bengts...  Passenger Survived   \n",
       "      Strom, Miss. Telma Matilda                              Passenger Died   \n",
       "      Strom, Mrs. Wilhelm (Elna Matilda Persson)              Passenger Died   \n",
       "\n",
       "                                                             sex   age  sibsp  \\\n",
       "cabin name                                                                      \n",
       "A10   Ross, Mr. John Hugo                                   male    36      0   \n",
       "A11   Rosenbaum, Miss. Edith Louise                       female    33      0   \n",
       "A14   Clifford, Mr. George Quincy                           male  None      0   \n",
       "A16   Duff Gordon, Lady. (Lucille Christiana Sutherla...  female    48      1   \n",
       "A18   Dulles, Mr. William Crothers                          male    39      0   \n",
       "...                                                          ...   ...    ...   \n",
       "G6    Sandstrom, Miss. Beatrice Irene                     female     1      1   \n",
       "      Sandstrom, Miss. Marguerite Rut                     female     4      1   \n",
       "      Sandstrom, Mrs. Hjalmar (Agnes Charlotta Bengts...  female    24      0   \n",
       "      Strom, Miss. Telma Matilda                          female     2      0   \n",
       "      Strom, Mrs. Wilhelm (Elna Matilda Persson)          female    29      1   \n",
       "\n",
       "                                                          parch    ticket  \\\n",
       "cabin name                                                                  \n",
       "A10   Ross, Mr. John Hugo                                     0     13049   \n",
       "A11   Rosenbaum, Miss. Edith Louise                           0  PC 17613   \n",
       "A14   Clifford, Mr. George Quincy                             0    110465   \n",
       "A16   Duff Gordon, Lady. (Lucille Christiana Sutherla...      0     11755   \n",
       "A18   Dulles, Mr. William Crothers                            0  PC 17580   \n",
       "...                                                         ...       ...   \n",
       "G6    Sandstrom, Miss. Beatrice Irene                         1   PP 9549   \n",
       "      Sandstrom, Miss. Marguerite Rut                         1   PP 9549   \n",
       "      Sandstrom, Mrs. Hjalmar (Agnes Charlotta Bengts...      2   PP 9549   \n",
       "      Strom, Miss. Telma Matilda                              1    347054   \n",
       "      Strom, Mrs. Wilhelm (Elna Matilda Persson)              1    347054   \n",
       "\n",
       "                                                             fare embarked  \\\n",
       "cabin name                                                                   \n",
       "A10   Ross, Mr. John Hugo                                  40.125        C   \n",
       "A11   Rosenbaum, Miss. Edith Louise                       27.7208        C   \n",
       "A14   Clifford, Mr. George Quincy                              52        S   \n",
       "A16   Duff Gordon, Lady. (Lucille Christiana Sutherla...     39.6        C   \n",
       "A18   Dulles, Mr. William Crothers                           29.7        C   \n",
       "...                                                           ...      ...   \n",
       "G6    Sandstrom, Miss. Beatrice Irene                        16.7        S   \n",
       "      Sandstrom, Miss. Marguerite Rut                        16.7        S   \n",
       "      Sandstrom, Mrs. Hjalmar (Agnes Charlotta Bengts...     16.7        S   \n",
       "      Strom, Miss. Telma Matilda                          10.4625        S   \n",
       "      Strom, Mrs. Wilhelm (Elna Matilda Persson)          10.4625        S   \n",
       "\n",
       "                                                          boat  body  \\\n",
       "cabin name                                                             \n",
       "A10   Ross, Mr. John Hugo                                 None  None   \n",
       "A11   Rosenbaum, Miss. Edith Louise                         11  None   \n",
       "A14   Clifford, Mr. George Quincy                         None  None   \n",
       "A16   Duff Gordon, Lady. (Lucille Christiana Sutherla...     1  None   \n",
       "A18   Dulles, Mr. William Crothers                        None   133   \n",
       "...                                                        ...   ...   \n",
       "G6    Sandstrom, Miss. Beatrice Irene                       13  None   \n",
       "      Sandstrom, Miss. Marguerite Rut                       13  None   \n",
       "      Sandstrom, Mrs. Hjalmar (Agnes Charlotta Bengts...    13  None   \n",
       "      Strom, Miss. Telma Matilda                          None  None   \n",
       "      Strom, Mrs. Wilhelm (Elna Matilda Persson)          None  None   \n",
       "\n",
       "                                                                 home.dest  \\\n",
       "cabin name                                                                   \n",
       "A10   Ross, Mr. John Hugo                                     Winnipeg, MB   \n",
       "A11   Rosenbaum, Miss. Edith Louise                          Paris, France   \n",
       "A14   Clifford, Mr. George Quincy                            Stoughton, MA   \n",
       "A16   Duff Gordon, Lady. (Lucille Christiana Sutherla...    London / Paris   \n",
       "A18   Dulles, Mr. William Crothers                        Philadelphia, PA   \n",
       "...                                                                    ...   \n",
       "G6    Sandstrom, Miss. Beatrice Irene                                 None   \n",
       "      Sandstrom, Miss. Marguerite Rut                                 None   \n",
       "      Sandstrom, Mrs. Hjalmar (Agnes Charlotta Bengts...              None   \n",
       "      Strom, Miss. Telma Matilda                                      None   \n",
       "      Strom, Mrs. Wilhelm (Elna Matilda Persson)                      None   \n",
       "\n",
       "                                                          cabin_x  cabin_y  \\\n",
       "cabin name                                                                   \n",
       "A10   Ross, Mr. John Hugo                                   425.0      5.0   \n",
       "A11   Rosenbaum, Miss. Edith Louise                         425.0      1.0   \n",
       "A14   Clifford, Mr. George Quincy                           420.0      5.0   \n",
       "A16   Duff Gordon, Lady. (Lucille Christiana Sutherla...    420.0      6.0   \n",
       "A18   Dulles, Mr. William Crothers                          415.0      5.0   \n",
       "...                                                           ...      ...   \n",
       "G6    Sandstrom, Miss. Beatrice Irene                       360.0      5.0   \n",
       "      Sandstrom, Miss. Marguerite Rut                       360.0      5.0   \n",
       "      Sandstrom, Mrs. Hjalmar (Agnes Charlotta Bengts...    360.0      5.0   \n",
       "      Strom, Miss. Telma Matilda                            360.0      5.0   \n",
       "      Strom, Mrs. Wilhelm (Elna Matilda Persson)            360.0      5.0   \n",
       "\n",
       "                                                         deck  \n",
       "cabin name                                                     \n",
       "A10   Ross, Mr. John Hugo                                   A  \n",
       "A11   Rosenbaum, Miss. Edith Louise                         A  \n",
       "A14   Clifford, Mr. George Quincy                           A  \n",
       "A16   Duff Gordon, Lady. (Lucille Christiana Sutherla...    A  \n",
       "A18   Dulles, Mr. William Crothers                          A  \n",
       "...                                                       ...  \n",
       "G6    Sandstrom, Miss. Beatrice Irene                       G  \n",
       "      Sandstrom, Miss. Marguerite Rut                       G  \n",
       "      Sandstrom, Mrs. Hjalmar (Agnes Charlotta Bengts...    G  \n",
       "      Strom, Miss. Telma Matilda                            G  \n",
       "      Strom, Mrs. Wilhelm (Elna Matilda Persson)            G  \n",
       "\n",
       "[192 rows x 15 columns]"
      ]
     },
     "execution_count": 6,
     "metadata": {},
     "output_type": "execute_result"
    }
   ],
   "source": [
    "titanic_df_with_cabin_coords = pd.merge(titanic_df, cabin_locations_df, left_on = \"cabin\", right_on = \"cabin\")\n",
    "titanic_df_with_cabin_coords[\"deck\"] = titanic_df_with_cabin_coords[\"cabin\"].apply(lambda x: x[0])\n",
    "titanic_passengers_by_cabin = titanic_df_with_cabin_coords.set_index([\"cabin\",\"name\"]).sort_index()\n",
    "titanic_passengers_by_cabin[\"survived\"] = titanic_passengers_by_cabin[\"survived\"].map({0:\"Passenger Died\", 1:\"Passenger Survived\"})\n",
    "titanic_passengers_by_cabin\n",
    "#titanic_passengers_by_cabin.to_csv(\"../data/wrangled_titanic_df.csv\")"
   ]
  },
  {
   "cell_type": "markdown",
   "metadata": {},
   "source": [
    "#### 2.2 Separating coordinates for passengers in same cabin"
   ]
  },
  {
   "cell_type": "code",
   "execution_count": 7,
   "metadata": {},
   "outputs": [
    {
     "data": {
      "text/html": [
       "<div>\n",
       "<style scoped>\n",
       "    .dataframe tbody tr th:only-of-type {\n",
       "        vertical-align: middle;\n",
       "    }\n",
       "\n",
       "    .dataframe tbody tr th {\n",
       "        vertical-align: top;\n",
       "    }\n",
       "\n",
       "    .dataframe thead th {\n",
       "        text-align: right;\n",
       "    }\n",
       "</style>\n",
       "<table border=\"1\" class=\"dataframe\">\n",
       "  <thead>\n",
       "    <tr style=\"text-align: right;\">\n",
       "      <th></th>\n",
       "      <th>name</th>\n",
       "      <th>pclass</th>\n",
       "      <th>survived</th>\n",
       "      <th>sex</th>\n",
       "      <th>age</th>\n",
       "      <th>sibsp</th>\n",
       "      <th>parch</th>\n",
       "      <th>ticket</th>\n",
       "      <th>fare</th>\n",
       "      <th>embarked</th>\n",
       "      <th>boat</th>\n",
       "      <th>body</th>\n",
       "      <th>home.dest</th>\n",
       "      <th>cabin_x</th>\n",
       "      <th>cabin_y</th>\n",
       "      <th>deck</th>\n",
       "    </tr>\n",
       "    <tr>\n",
       "      <th>cabin</th>\n",
       "      <th></th>\n",
       "      <th></th>\n",
       "      <th></th>\n",
       "      <th></th>\n",
       "      <th></th>\n",
       "      <th></th>\n",
       "      <th></th>\n",
       "      <th></th>\n",
       "      <th></th>\n",
       "      <th></th>\n",
       "      <th></th>\n",
       "      <th></th>\n",
       "      <th></th>\n",
       "      <th></th>\n",
       "      <th></th>\n",
       "      <th></th>\n",
       "    </tr>\n",
       "  </thead>\n",
       "  <tbody>\n",
       "    <tr>\n",
       "      <th>A10</th>\n",
       "      <td>Ross, Mr. John Hugo</td>\n",
       "      <td>1</td>\n",
       "      <td>Passenger Died</td>\n",
       "      <td>male</td>\n",
       "      <td>36</td>\n",
       "      <td>0</td>\n",
       "      <td>0</td>\n",
       "      <td>13049</td>\n",
       "      <td>40.125</td>\n",
       "      <td>C</td>\n",
       "      <td>None</td>\n",
       "      <td>None</td>\n",
       "      <td>Winnipeg, MB</td>\n",
       "      <td>425.0</td>\n",
       "      <td>5.00</td>\n",
       "      <td>A</td>\n",
       "    </tr>\n",
       "    <tr>\n",
       "      <th>A11</th>\n",
       "      <td>Rosenbaum, Miss. Edith Louise</td>\n",
       "      <td>1</td>\n",
       "      <td>Passenger Survived</td>\n",
       "      <td>female</td>\n",
       "      <td>33</td>\n",
       "      <td>0</td>\n",
       "      <td>0</td>\n",
       "      <td>PC 17613</td>\n",
       "      <td>27.7208</td>\n",
       "      <td>C</td>\n",
       "      <td>11</td>\n",
       "      <td>None</td>\n",
       "      <td>Paris, France</td>\n",
       "      <td>425.0</td>\n",
       "      <td>1.00</td>\n",
       "      <td>A</td>\n",
       "    </tr>\n",
       "    <tr>\n",
       "      <th>A14</th>\n",
       "      <td>Clifford, Mr. George Quincy</td>\n",
       "      <td>1</td>\n",
       "      <td>Passenger Died</td>\n",
       "      <td>male</td>\n",
       "      <td>None</td>\n",
       "      <td>0</td>\n",
       "      <td>0</td>\n",
       "      <td>110465</td>\n",
       "      <td>52</td>\n",
       "      <td>S</td>\n",
       "      <td>None</td>\n",
       "      <td>None</td>\n",
       "      <td>Stoughton, MA</td>\n",
       "      <td>420.0</td>\n",
       "      <td>5.00</td>\n",
       "      <td>A</td>\n",
       "    </tr>\n",
       "    <tr>\n",
       "      <th>A16</th>\n",
       "      <td>Duff Gordon, Lady. (Lucille Christiana Sutherl...</td>\n",
       "      <td>1</td>\n",
       "      <td>Passenger Survived</td>\n",
       "      <td>female</td>\n",
       "      <td>48</td>\n",
       "      <td>1</td>\n",
       "      <td>0</td>\n",
       "      <td>11755</td>\n",
       "      <td>39.6</td>\n",
       "      <td>C</td>\n",
       "      <td>1</td>\n",
       "      <td>None</td>\n",
       "      <td>London / Paris</td>\n",
       "      <td>420.0</td>\n",
       "      <td>6.00</td>\n",
       "      <td>A</td>\n",
       "    </tr>\n",
       "    <tr>\n",
       "      <th>A18</th>\n",
       "      <td>Dulles, Mr. William Crothers</td>\n",
       "      <td>1</td>\n",
       "      <td>Passenger Died</td>\n",
       "      <td>male</td>\n",
       "      <td>39</td>\n",
       "      <td>0</td>\n",
       "      <td>0</td>\n",
       "      <td>PC 17580</td>\n",
       "      <td>29.7</td>\n",
       "      <td>C</td>\n",
       "      <td>None</td>\n",
       "      <td>133</td>\n",
       "      <td>Philadelphia, PA</td>\n",
       "      <td>415.0</td>\n",
       "      <td>5.00</td>\n",
       "      <td>A</td>\n",
       "    </tr>\n",
       "    <tr>\n",
       "      <th>...</th>\n",
       "      <td>...</td>\n",
       "      <td>...</td>\n",
       "      <td>...</td>\n",
       "      <td>...</td>\n",
       "      <td>...</td>\n",
       "      <td>...</td>\n",
       "      <td>...</td>\n",
       "      <td>...</td>\n",
       "      <td>...</td>\n",
       "      <td>...</td>\n",
       "      <td>...</td>\n",
       "      <td>...</td>\n",
       "      <td>...</td>\n",
       "      <td>...</td>\n",
       "      <td>...</td>\n",
       "      <td>...</td>\n",
       "    </tr>\n",
       "    <tr>\n",
       "      <th>G6</th>\n",
       "      <td>Sandstrom, Miss. Beatrice Irene</td>\n",
       "      <td>3</td>\n",
       "      <td>Passenger Survived</td>\n",
       "      <td>female</td>\n",
       "      <td>1</td>\n",
       "      <td>1</td>\n",
       "      <td>1</td>\n",
       "      <td>PP 9549</td>\n",
       "      <td>16.7</td>\n",
       "      <td>S</td>\n",
       "      <td>13</td>\n",
       "      <td>None</td>\n",
       "      <td>None</td>\n",
       "      <td>361.0</td>\n",
       "      <td>5.25</td>\n",
       "      <td>G</td>\n",
       "    </tr>\n",
       "    <tr>\n",
       "      <th>G6</th>\n",
       "      <td>Sandstrom, Miss. Marguerite Rut</td>\n",
       "      <td>3</td>\n",
       "      <td>Passenger Survived</td>\n",
       "      <td>female</td>\n",
       "      <td>4</td>\n",
       "      <td>1</td>\n",
       "      <td>1</td>\n",
       "      <td>PP 9549</td>\n",
       "      <td>16.7</td>\n",
       "      <td>S</td>\n",
       "      <td>13</td>\n",
       "      <td>None</td>\n",
       "      <td>None</td>\n",
       "      <td>359.0</td>\n",
       "      <td>5.25</td>\n",
       "      <td>G</td>\n",
       "    </tr>\n",
       "    <tr>\n",
       "      <th>G6</th>\n",
       "      <td>Sandstrom, Mrs. Hjalmar (Agnes Charlotta Bengt...</td>\n",
       "      <td>3</td>\n",
       "      <td>Passenger Survived</td>\n",
       "      <td>female</td>\n",
       "      <td>24</td>\n",
       "      <td>0</td>\n",
       "      <td>2</td>\n",
       "      <td>PP 9549</td>\n",
       "      <td>16.7</td>\n",
       "      <td>S</td>\n",
       "      <td>13</td>\n",
       "      <td>None</td>\n",
       "      <td>None</td>\n",
       "      <td>359.0</td>\n",
       "      <td>4.75</td>\n",
       "      <td>G</td>\n",
       "    </tr>\n",
       "    <tr>\n",
       "      <th>G6</th>\n",
       "      <td>Strom, Miss. Telma Matilda</td>\n",
       "      <td>3</td>\n",
       "      <td>Passenger Died</td>\n",
       "      <td>female</td>\n",
       "      <td>2</td>\n",
       "      <td>0</td>\n",
       "      <td>1</td>\n",
       "      <td>347054</td>\n",
       "      <td>10.4625</td>\n",
       "      <td>S</td>\n",
       "      <td>None</td>\n",
       "      <td>None</td>\n",
       "      <td>None</td>\n",
       "      <td>361.0</td>\n",
       "      <td>4.75</td>\n",
       "      <td>G</td>\n",
       "    </tr>\n",
       "    <tr>\n",
       "      <th>G6</th>\n",
       "      <td>Strom, Mrs. Wilhelm (Elna Matilda Persson)</td>\n",
       "      <td>3</td>\n",
       "      <td>Passenger Died</td>\n",
       "      <td>female</td>\n",
       "      <td>29</td>\n",
       "      <td>1</td>\n",
       "      <td>1</td>\n",
       "      <td>347054</td>\n",
       "      <td>10.4625</td>\n",
       "      <td>S</td>\n",
       "      <td>None</td>\n",
       "      <td>None</td>\n",
       "      <td>None</td>\n",
       "      <td>361.0</td>\n",
       "      <td>4.75</td>\n",
       "      <td>G</td>\n",
       "    </tr>\n",
       "  </tbody>\n",
       "</table>\n",
       "<p>192 rows × 16 columns</p>\n",
       "</div>"
      ],
      "text/plain": [
       "                                                    name  pclass  \\\n",
       "cabin                                                              \n",
       "A10                                  Ross, Mr. John Hugo       1   \n",
       "A11                        Rosenbaum, Miss. Edith Louise       1   \n",
       "A14                          Clifford, Mr. George Quincy       1   \n",
       "A16    Duff Gordon, Lady. (Lucille Christiana Sutherl...       1   \n",
       "A18                         Dulles, Mr. William Crothers       1   \n",
       "...                                                  ...     ...   \n",
       "G6                       Sandstrom, Miss. Beatrice Irene       3   \n",
       "G6                       Sandstrom, Miss. Marguerite Rut       3   \n",
       "G6     Sandstrom, Mrs. Hjalmar (Agnes Charlotta Bengt...       3   \n",
       "G6                            Strom, Miss. Telma Matilda       3   \n",
       "G6            Strom, Mrs. Wilhelm (Elna Matilda Persson)       3   \n",
       "\n",
       "                 survived     sex   age  sibsp  parch    ticket     fare  \\\n",
       "cabin                                                                      \n",
       "A10        Passenger Died    male    36      0      0     13049   40.125   \n",
       "A11    Passenger Survived  female    33      0      0  PC 17613  27.7208   \n",
       "A14        Passenger Died    male  None      0      0    110465       52   \n",
       "A16    Passenger Survived  female    48      1      0     11755     39.6   \n",
       "A18        Passenger Died    male    39      0      0  PC 17580     29.7   \n",
       "...                   ...     ...   ...    ...    ...       ...      ...   \n",
       "G6     Passenger Survived  female     1      1      1   PP 9549     16.7   \n",
       "G6     Passenger Survived  female     4      1      1   PP 9549     16.7   \n",
       "G6     Passenger Survived  female    24      0      2   PP 9549     16.7   \n",
       "G6         Passenger Died  female     2      0      1    347054  10.4625   \n",
       "G6         Passenger Died  female    29      1      1    347054  10.4625   \n",
       "\n",
       "      embarked  boat  body         home.dest  cabin_x  cabin_y deck  \n",
       "cabin                                                                \n",
       "A10          C  None  None      Winnipeg, MB    425.0     5.00    A  \n",
       "A11          C    11  None     Paris, France    425.0     1.00    A  \n",
       "A14          S  None  None     Stoughton, MA    420.0     5.00    A  \n",
       "A16          C     1  None    London / Paris    420.0     6.00    A  \n",
       "A18          C  None   133  Philadelphia, PA    415.0     5.00    A  \n",
       "...        ...   ...   ...               ...      ...      ...  ...  \n",
       "G6           S    13  None              None    361.0     5.25    G  \n",
       "G6           S    13  None              None    359.0     5.25    G  \n",
       "G6           S    13  None              None    359.0     4.75    G  \n",
       "G6           S  None  None              None    361.0     4.75    G  \n",
       "G6           S  None  None              None    361.0     4.75    G  \n",
       "\n",
       "[192 rows x 16 columns]"
      ]
     },
     "execution_count": 7,
     "metadata": {},
     "output_type": "execute_result"
    }
   ],
   "source": [
    "for cabins in titanic_passengers_by_cabin.index.levels[0]:\n",
    "    if titanic_passengers_by_cabin.loc[cabins].shape[0] > 1:\n",
    "        i=0\n",
    "        passengers = list(titanic_passengers_by_cabin.loc[cabins].index)\n",
    "        for passenger in passengers:\n",
    "            if i==0:\n",
    "                shift_x = 1\n",
    "                shift_y = 0.25\n",
    "            if i==1:\n",
    "                shift_x = -1\n",
    "                shift_y = 0.25\n",
    "            if i==2:\n",
    "                shift_x = -1\n",
    "                shift_y = -0.25\n",
    "            if i==3:\n",
    "                shift_x = 1\n",
    "                shift_y = -0.25\n",
    "\n",
    "            titanic_passengers_by_cabin.loc[cabins].at[passenger, \"cabin_x\"] = float(titanic_passengers_by_cabin.loc[cabins].at[passenger, \"cabin_x\"]) + shift_x\n",
    "            titanic_passengers_by_cabin.loc[cabins].at[passenger, \"cabin_y\"] = float(titanic_passengers_by_cabin.loc[cabins].at[passenger, \"cabin_y\"]) + shift_y\n",
    "            i+=1\n",
    "            \n",
    "titanic_passengers_by_cabin.reset_index(\"name\")"
   ]
  },
  {
   "cell_type": "markdown",
   "metadata": {},
   "source": [
    "### 3. Ship plot"
   ]
  },
  {
   "cell_type": "markdown",
   "metadata": {},
   "source": [
    "#### 3.1 Ship outline"
   ]
  },
  {
   "cell_type": "code",
   "execution_count": 8,
   "metadata": {},
   "outputs": [
    {
     "data": {
      "application/vnd.vegalite.v3+json": {
       "$schema": "https://vega.github.io/schema/vega-lite/v3.4.0.json",
       "config": {
        "mark": {
         "tooltip": null
        },
        "view": {
         "height": 300,
         "width": 400
        }
       },
       "datasets": {
        "data-246c2b9bcb306b5ff7ae5408df7bc874": [
         {
          "x": 325,
          "y": 3.5
         },
         {
          "x": 340,
          "y": 0
         },
         {
          "x": 440,
          "y": 0
         },
         {
          "x": 445,
          "y": 1
         },
         {
          "x": 447,
          "y": 2
         }
        ],
        "data-d77c64ff8010497b3a6ac0862ca66693": [
         {
          "x": 447,
          "y": 2
         },
         {
          "x": 447,
          "y": 5
         }
        ],
        "data-eafd86216bcd26664c2f502352fd1040": [
         {
          "x": 325,
          "y": 3.5
         },
         {
          "x": 340,
          "y": 7
         },
         {
          "x": 440,
          "y": 7
         },
         {
          "x": 445,
          "y": 6
         },
         {
          "x": 447,
          "y": 5
         }
        ]
       },
       "layer": [
        {
         "data": {
          "name": "data-eafd86216bcd26664c2f502352fd1040"
         },
         "encoding": {
          "x": {
           "field": "x",
           "type": "quantitative"
          },
          "y": {
           "field": "y",
           "type": "quantitative"
          }
         },
         "mark": "line"
        },
        {
         "data": {
          "name": "data-246c2b9bcb306b5ff7ae5408df7bc874"
         },
         "encoding": {
          "x": {
           "field": "x",
           "type": "quantitative"
          },
          "y": {
           "field": "y",
           "type": "quantitative"
          }
         },
         "mark": "line"
        },
        {
         "data": {
          "name": "data-d77c64ff8010497b3a6ac0862ca66693"
         },
         "encoding": {
          "x": {
           "field": "x",
           "type": "quantitative"
          },
          "y": {
           "field": "y",
           "type": "quantitative"
          }
         },
         "mark": "line"
        }
       ]
      },
      "image/png": "[encoded data removed]",
      "text/plain": [
       "<VegaLite 3 object>\n",
       "\n",
       "If you see this message, it means the renderer has not been properly enabled\n",
       "for the frontend that you are using. For more information, see\n",
       "https://altair-viz.github.io/user_guide/troubleshooting.html\n"
      ]
     },
     "execution_count": 8,
     "metadata": {},
     "output_type": "execute_result"
    }
   ],
   "source": [
    "ship_outline_1 = pd.DataFrame({\"x\" : [325,340, 440, 445, 447], \"y\" : [3.5, 7, 7, 6, 5]})\n",
    "ship_outline_2 = pd.DataFrame({\"x\" : [325,340, 440, 445, 447], \"y\" :  [3.5, 0, 0, 1, 2]})\n",
    "ship_outline_3 = pd.DataFrame({\"x\" : [447,447], \"y\" :  [2, 5]})\n",
    "\n",
    "chart_ship_outline_1 = alt.Chart(ship_outline_1).mark_line().encode(\n",
    "    alt.X('x:Q'),\n",
    "    alt.Y('y:Q')\n",
    ")\n",
    "chart_ship_outline_2 = alt.Chart(ship_outline_2).mark_line().encode(\n",
    "    alt.X('x:Q'),\n",
    "    alt.Y('y:Q')\n",
    ")\n",
    "chart_ship_outline_3 = alt.Chart(ship_outline_3).mark_line().encode(\n",
    "    alt.X('x:Q'),\n",
    "    alt.Y('y:Q')\n",
    ")\n",
    "chart_ship_outline = chart_ship_outline_1 + chart_ship_outline_2 + chart_ship_outline_3\n",
    "chart_ship_outline"
   ]
  },
  {
   "cell_type": "markdown",
   "metadata": {},
   "source": [
    "#### 3.2 Plotting cabins"
   ]
  },
  {
   "cell_type": "code",
   "execution_count": 9,
   "metadata": {},
   "outputs": [
    {
     "data": {
      "application/vnd.vegalite.v3+json": {
       "$schema": "https://vega.github.io/schema/vega-lite/v3.4.0.json",
       "config": {
        "mark": {
         "tooltip": null
        },
        "view": {
         "height": 300,
         "width": 400
        }
       },
       "data": {
        "name": "data-7b137a2242bf3b1d54d0bbdc35a70a0b"
       },
       "datasets": {
        "data-7b137a2242bf3b1d54d0bbdc35a70a0b": [
         {
          "cabin_x": 350,
          "cabin_y": 1
         },
         {
          "cabin_x": 350,
          "cabin_y": 6
         },
         {
          "cabin_x": 400,
          "cabin_y": 6
         },
         {
          "cabin_x": 400,
          "cabin_y": 5
         },
         {
          "cabin_x": 400,
          "cabin_y": 2
         },
         {
          "cabin_x": 400,
          "cabin_y": 1
         },
         {
          "cabin_x": 405,
          "cabin_y": 6
         },
         {
          "cabin_x": 405,
          "cabin_y": 5
         },
         {
          "cabin_x": 405,
          "cabin_y": 2
         },
         {
          "cabin_x": 405,
          "cabin_y": 1
         },
         {
          "cabin_x": 395,
          "cabin_y": 6
         },
         {
          "cabin_x": 395,
          "cabin_y": 1
         },
         {
          "cabin_x": 410,
          "cabin_y": 6
         },
         {
          "cabin_x": 410,
          "cabin_y": 5
         },
         {
          "cabin_x": 410,
          "cabin_y": 2
         },
         {
          "cabin_x": 410,
          "cabin_y": 1
         },
         {
          "cabin_x": 415,
          "cabin_y": 6
         },
         {
          "cabin_x": 415,
          "cabin_y": 5
         },
         {
          "cabin_x": 415,
          "cabin_y": 2
         },
         {
          "cabin_x": 415,
          "cabin_y": 1
         },
         {
          "cabin_x": 420,
          "cabin_y": 6
         },
         {
          "cabin_x": 420,
          "cabin_y": 5
         },
         {
          "cabin_x": 420,
          "cabin_y": 2
         },
         {
          "cabin_x": 420,
          "cabin_y": 1
         },
         {
          "cabin_x": 425,
          "cabin_y": 6
         },
         {
          "cabin_x": 425,
          "cabin_y": 5
         },
         {
          "cabin_x": 425,
          "cabin_y": 2
         },
         {
          "cabin_x": 425,
          "cabin_y": 1
         },
         {
          "cabin_x": 430,
          "cabin_y": 6
         },
         {
          "cabin_x": 430,
          "cabin_y": 5
         },
         {
          "cabin_x": 430,
          "cabin_y": 2
         },
         {
          "cabin_x": 430,
          "cabin_y": 1
         },
         {
          "cabin_x": 435,
          "cabin_y": 6
         },
         {
          "cabin_x": 435,
          "cabin_y": 4
         },
         {
          "cabin_x": 435,
          "cabin_y": 3
         },
         {
          "cabin_x": 435,
          "cabin_y": 1
         },
         {
          "cabin_x": 345,
          "cabin_y": 6
         },
         {
          "cabin_x": 340,
          "cabin_y": 6
         },
         {
          "cabin_x": 335,
          "cabin_y": 6
         },
         {
          "cabin_x": 330,
          "cabin_y": 6
         },
         {
          "cabin_x": 345,
          "cabin_y": 5
         },
         {
          "cabin_x": 345,
          "cabin_y": 1
         },
         {
          "cabin_x": 395,
          "cabin_y": 3
         },
         {
          "cabin_x": 395,
          "cabin_y": 4
         },
         {
          "cabin_x": 385,
          "cabin_y": 4
         },
         {
          "cabin_x": 385,
          "cabin_y": 3
         },
         {
          "cabin_x": 400,
          "cabin_y": 6
         },
         {
          "cabin_x": 350,
          "cabin_y": 6
         },
         {
          "cabin_x": 355,
          "cabin_y": 6
         },
         {
          "cabin_x": 355,
          "cabin_y": 5
         },
         {
          "cabin_x": 355,
          "cabin_y": 1
         },
         {
          "cabin_x": 360,
          "cabin_y": 6
         },
         {
          "cabin_x": 365,
          "cabin_y": 6
         },
         {
          "cabin_x": 370,
          "cabin_y": 6
         },
         {
          "cabin_x": 375,
          "cabin_y": 6
         },
         {
          "cabin_x": 380,
          "cabin_y": 6
         },
         {
          "cabin_x": 385,
          "cabin_y": 6
         },
         {
          "cabin_x": 390,
          "cabin_y": 6
         },
         {
          "cabin_x": 395,
          "cabin_y": 6
         },
         {
          "cabin_x": 365,
          "cabin_y": 5
         },
         {
          "cabin_x": 375,
          "cabin_y": 5
         },
         {
          "cabin_x": 385,
          "cabin_y": 5
         },
         {
          "cabin_x": 395,
          "cabin_y": 5
         },
         {
          "cabin_x": 365,
          "cabin_y": 1
         },
         {
          "cabin_x": 375,
          "cabin_y": 1
         },
         {
          "cabin_x": 385,
          "cabin_y": 1
         },
         {
          "cabin_x": 405,
          "cabin_y": 5
         },
         {
          "cabin_x": 405,
          "cabin_y": 1
         },
         {
          "cabin_x": 395,
          "cabin_y": 1
         },
         {
          "cabin_x": 465,
          "cabin_y": 6
         },
         {
          "cabin_x": 465,
          "cabin_y": 5
         },
         {
          "cabin_x": 465,
          "cabin_y": 4
         },
         {
          "cabin_x": 465,
          "cabin_y": 3
         },
         {
          "cabin_x": 465,
          "cabin_y": 2
         },
         {
          "cabin_x": 465,
          "cabin_y": 1
         },
         {
          "cabin_x": 460,
          "cabin_y": 6
         },
         {
          "cabin_x": 460,
          "cabin_y": 5
         },
         {
          "cabin_x": 460,
          "cabin_y": 4
         },
         {
          "cabin_x": 460,
          "cabin_y": 3
         },
         {
          "cabin_x": 460,
          "cabin_y": 2
         },
         {
          "cabin_x": 460,
          "cabin_y": 1
         },
         {
          "cabin_x": 455,
          "cabin_y": 6
         },
         {
          "cabin_x": 455,
          "cabin_y": 4
         },
         {
          "cabin_x": 455,
          "cabin_y": 1
         },
         {
          "cabin_x": 450,
          "cabin_y": 6
         },
         {
          "cabin_x": 450,
          "cabin_y": 5
         },
         {
          "cabin_x": 450,
          "cabin_y": 4
         },
         {
          "cabin_x": 450,
          "cabin_y": 3
         },
         {
          "cabin_x": 450,
          "cabin_y": 2
         },
         {
          "cabin_x": 450,
          "cabin_y": 1
         },
         {
          "cabin_x": 445,
          "cabin_y": 6
         },
         {
          "cabin_x": 445,
          "cabin_y": 4
         },
         {
          "cabin_x": 445,
          "cabin_y": 3
         },
         {
          "cabin_x": 445,
          "cabin_y": 1
         },
         {
          "cabin_x": 410,
          "cabin_y": 6
         },
         {
          "cabin_x": 440,
          "cabin_y": 5
         },
         {
          "cabin_x": 440,
          "cabin_y": 4
         },
         {
          "cabin_x": 440,
          "cabin_y": 3
         },
         {
          "cabin_x": 440,
          "cabin_y": 2
         },
         {
          "cabin_x": 440,
          "cabin_y": 1
         },
         {
          "cabin_x": 435,
          "cabin_y": 6
         },
         {
          "cabin_x": 435,
          "cabin_y": 4
         },
         {
          "cabin_x": 435,
          "cabin_y": 3
         },
         {
          "cabin_x": 435,
          "cabin_y": 1
         },
         {
          "cabin_x": 430,
          "cabin_y": 6
         },
         {
          "cabin_x": 430,
          "cabin_y": 5
         },
         {
          "cabin_x": 430,
          "cabin_y": 4
         },
         {
          "cabin_x": 430,
          "cabin_y": 3
         },
         {
          "cabin_x": 430,
          "cabin_y": 2
         },
         {
          "cabin_x": 430,
          "cabin_y": 1
         },
         {
          "cabin_x": 425,
          "cabin_y": 6
         },
         {
          "cabin_x": 420,
          "cabin_y": 2
         },
         {
          "cabin_x": 420,
          "cabin_y": 6
         },
         {
          "cabin_x": 420,
          "cabin_y": 5
         },
         {
          "cabin_x": 420,
          "cabin_y": 1
         },
         {
          "cabin_x": 415,
          "cabin_y": 6
         },
         {
          "cabin_x": 415,
          "cabin_y": 1
         },
         {
          "cabin_x": 410,
          "cabin_y": 5
         },
         {
          "cabin_x": 405,
          "cabin_y": 6
         },
         {
          "cabin_x": 405,
          "cabin_y": 5
         },
         {
          "cabin_x": 400,
          "cabin_y": 6
         },
         {
          "cabin_x": 400,
          "cabin_y": 5
         },
         {
          "cabin_x": 400,
          "cabin_y": 2
         },
         {
          "cabin_x": 400,
          "cabin_y": 1
         },
         {
          "cabin_x": 395,
          "cabin_y": 6
         },
         {
          "cabin_x": 395,
          "cabin_y": 5
         },
         {
          "cabin_x": 395,
          "cabin_y": 2
         },
         {
          "cabin_x": 395,
          "cabin_y": 1
         },
         {
          "cabin_x": 390,
          "cabin_y": 5
         },
         {
          "cabin_x": 390,
          "cabin_y": 2
         },
         {
          "cabin_x": 385,
          "cabin_y": 6
         },
         {
          "cabin_x": 380,
          "cabin_y": 5
         },
         {
          "cabin_x": 385,
          "cabin_y": 2
         },
         {
          "cabin_x": 385,
          "cabin_y": 1
         },
         {
          "cabin_x": 380,
          "cabin_y": 6
         },
         {
          "cabin_x": 380,
          "cabin_y": 5
         },
         {
          "cabin_x": 380,
          "cabin_y": 2
         },
         {
          "cabin_x": 380,
          "cabin_y": 1
         },
         {
          "cabin_x": 375,
          "cabin_y": 2
         },
         {
          "cabin_x": 370,
          "cabin_y": 6
         },
         {
          "cabin_x": 370,
          "cabin_y": 5
         },
         {
          "cabin_x": 370,
          "cabin_y": 2
         },
         {
          "cabin_x": 370,
          "cabin_y": 1
         },
         {
          "cabin_x": 365,
          "cabin_y": 6
         },
         {
          "cabin_x": 365,
          "cabin_y": 5
         },
         {
          "cabin_x": 365,
          "cabin_y": 4
         },
         {
          "cabin_x": 365,
          "cabin_y": 3
         },
         {
          "cabin_x": 365,
          "cabin_y": 2
         },
         {
          "cabin_x": 365,
          "cabin_y": 1
         },
         {
          "cabin_x": 360,
          "cabin_y": 6
         },
         {
          "cabin_x": 360,
          "cabin_y": 5
         },
         {
          "cabin_x": 360,
          "cabin_y": 4
         },
         {
          "cabin_x": 360,
          "cabin_y": 3
         },
         {
          "cabin_x": 360,
          "cabin_y": 2
         },
         {
          "cabin_x": 360,
          "cabin_y": 1
         },
         {
          "cabin_x": 355,
          "cabin_y": 6
         },
         {
          "cabin_x": 355,
          "cabin_y": 5
         },
         {
          "cabin_x": 355,
          "cabin_y": 1
         },
         {
          "cabin_x": 350,
          "cabin_y": 6
         },
         {
          "cabin_x": 350,
          "cabin_y": 5
         },
         {
          "cabin_x": 350,
          "cabin_y": 2
         },
         {
          "cabin_x": 350,
          "cabin_y": 1
         },
         {
          "cabin_x": 345,
          "cabin_y": 6
         },
         {
          "cabin_x": 345,
          "cabin_y": 5
         },
         {
          "cabin_x": 345,
          "cabin_y": 2
         },
         {
          "cabin_x": 345,
          "cabin_y": 1
         },
         {
          "cabin_x": 340,
          "cabin_y": 4
         },
         {
          "cabin_x": 340,
          "cabin_y": 3
         },
         {
          "cabin_x": 335,
          "cabin_y": 6
         },
         {
          "cabin_x": 335,
          "cabin_y": 5
         },
         {
          "cabin_x": 335,
          "cabin_y": 1
         },
         {
          "cabin_x": 330,
          "cabin_y": 6
         },
         {
          "cabin_x": 330,
          "cabin_y": 4
         },
         {
          "cabin_x": 330,
          "cabin_y": 3
         }
        ]
       },
       "encoding": {
        "x": {
         "field": "cabin_x",
         "scale": {
          "domain": [
           320,
           450
          ]
         },
         "type": "quantitative"
        },
        "y": {
         "field": "cabin_y",
         "scale": {
          "domain": [
           -1,
           7.5
          ]
         },
         "type": "quantitative"
        }
       },
       "height": 400,
       "mark": {
        "fill": "None",
        "opacity": 0.3,
        "size": 1600,
        "stroke": "black",
        "type": "square"
       },
       "width": 1500
      },
      "image/png": "[encoded data removed]",
      "text/plain": [
       "<VegaLite 3 object>\n",
       "\n",
       "If you see this message, it means the renderer has not been properly enabled\n",
       "for the frontend that you are using. For more information, see\n",
       "https://altair-viz.github.io/user_guide/troubleshooting.html\n"
      ]
     },
     "execution_count": 9,
     "metadata": {},
     "output_type": "execute_result"
    }
   ],
   "source": [
    "cabin_plot = alt.Chart(cabin_locations_df).mark_square(size = 1600, fill = \"None\", stroke = \"black\", opacity = 0.3).encode(\n",
    "    alt.X('cabin_x:Q', scale=alt.Scale(domain = [320,450])),\n",
    "    alt.Y('cabin_y:Q', scale=alt.Scale(domain = [-1,7.5]))\n",
    ").properties(width = 1500, height = 400)\n",
    "cabin_plot"
   ]
  },
  {
   "cell_type": "markdown",
   "metadata": {},
   "source": [
    "#### 3.3 Plotting passengers"
   ]
  },
  {
   "cell_type": "code",
   "execution_count": 10,
   "metadata": {},
   "outputs": [
    {
     "data": {
      "application/vnd.vegalite.v3+json": {
       "$schema": "https://vega.github.io/schema/vega-lite/v3.4.0.json",
       "config": {
        "mark": {
         "tooltip": null
        },
        "view": {
         "height": 300,
         "width": 400
        }
       },
       "data": {
        "name": "data-e8da7724ff90174dedc5416b0787be32"
       },
       "datasets": {
        "data-e8da7724ff90174dedc5416b0787be32": [
         {
          "age": 36,
          "boat": "None",
          "body": "None",
          "cabin_x": 425,
          "cabin_y": 5,
          "deck": "A",
          "embarked": "C",
          "fare": 40.125,
          "home.dest": "Winnipeg, MB",
          "name": "Ross, Mr. John Hugo",
          "parch": 0,
          "pclass": 1,
          "sex": "male",
          "sibsp": 0,
          "survived": "Passenger Died",
          "ticket": "13049"
         },
         {
          "age": 33,
          "boat": "11",
          "body": "None",
          "cabin_x": 425,
          "cabin_y": 1,
          "deck": "A",
          "embarked": "C",
          "fare": 27.7208,
          "home.dest": "Paris, France",
          "name": "Rosenbaum, Miss. Edith Louise",
          "parch": 0,
          "pclass": 1,
          "sex": "female",
          "sibsp": 0,
          "survived": "Passenger Survived",
          "ticket": "PC 17613"
         },
         {
          "age": "None",
          "boat": "None",
          "body": "None",
          "cabin_x": 420,
          "cabin_y": 5,
          "deck": "A",
          "embarked": "S",
          "fare": 52,
          "home.dest": "Stoughton, MA",
          "name": "Clifford, Mr. George Quincy",
          "parch": 0,
          "pclass": 1,
          "sex": "male",
          "sibsp": 0,
          "survived": "Passenger Died",
          "ticket": "110465"
         },
         {
          "age": 48,
          "boat": "1",
          "body": "None",
          "cabin_x": 420,
          "cabin_y": 6,
          "deck": "A",
          "embarked": "C",
          "fare": 39.6,
          "home.dest": "London / Paris",
          "name": "Duff Gordon, Lady. (Lucille Christiana Sutherland) (\"Mrs Morgan\")",
          "parch": 0,
          "pclass": 1,
          "sex": "female",
          "sibsp": 1,
          "survived": "Passenger Survived",
          "ticket": "11755"
         },
         {
          "age": 39,
          "boat": "None",
          "body": 133,
          "cabin_x": 415,
          "cabin_y": 5,
          "deck": "A",
          "embarked": "C",
          "fare": 29.7,
          "home.dest": "Philadelphia, PA",
          "name": "Dulles, Mr. William Crothers",
          "parch": 0,
          "pclass": 1,
          "sex": "male",
          "sibsp": 0,
          "survived": "Passenger Died",
          "ticket": "PC 17580"
         },
         {
          "age": "None",
          "boat": "None",
          "body": "None",
          "cabin_x": 415,
          "cabin_y": 2,
          "deck": "A",
          "embarked": "S",
          "fare": 26,
          "home.dest": "Streatham, Surrey",
          "name": "Smith, Mr. Richard William",
          "parch": 0,
          "pclass": 1,
          "sex": "male",
          "sibsp": 0,
          "survived": "Passenger Died",
          "ticket": "113056"
         },
         {
          "age": 49,
          "boat": "1",
          "body": "None",
          "cabin_x": 415,
          "cabin_y": 6,
          "deck": "A",
          "embarked": "C",
          "fare": 56.9292,
          "home.dest": "London / Paris",
          "name": "Duff Gordon, Sir. Cosmo Edmund (\"Mr Morgan\")",
          "parch": 0,
          "pclass": 1,
          "sex": "male",
          "sibsp": 1,
          "survived": "Passenger Survived",
          "ticket": "PC 17485"
         },
         {
          "age": 41,
          "boat": "None",
          "body": "None",
          "cabin_x": 415,
          "cabin_y": 1,
          "deck": "A",
          "embarked": "S",
          "fare": 30.5,
          "home.dest": "Pomeroy, WA",
          "name": "Brady, Mr. John Bertram",
          "parch": 0,
          "pclass": 1,
          "sex": "male",
          "sibsp": 0,
          "survived": "Passenger Died",
          "ticket": "113054"
         },
         {
          "age": 80,
          "boat": "B",
          "body": "None",
          "cabin_x": 410,
          "cabin_y": 2,
          "deck": "A",
          "embarked": "S",
          "fare": 30,
          "home.dest": "Hessle, Yorks",
          "name": "Barkworth, Mr. Algernon Henry Wilson",
          "parch": 0,
          "pclass": 1,
          "sex": "male",
          "sibsp": 0,
          "survived": "Passenger Survived",
          "ticket": "27042"
         },
         {
          "age": 31,
          "boat": "None",
          "body": "None",
          "cabin_x": 410,
          "cabin_y": 6,
          "deck": "A",
          "embarked": "S",
          "fare": 50.4958,
          "home.dest": "Trenton, NJ",
          "name": "Roebling, Mr. Washington Augustus II",
          "parch": 0,
          "pclass": 1,
          "sex": "male",
          "sibsp": 0,
          "survived": "Passenger Died",
          "ticket": "PC 17590"
         },
         {
          "age": 56,
          "boat": "3",
          "body": "None",
          "cabin_x": 405,
          "cabin_y": 5,
          "deck": "A",
          "embarked": "C",
          "fare": 35.5,
          "home.dest": "Basel, Switzerland",
          "name": "Simonius-Blumer, Col. Oberst Alfons",
          "parch": 0,
          "pclass": 1,
          "sex": "male",
          "sibsp": 0,
          "survived": "Passenger Survived",
          "ticket": "13213"
         },
         {
          "age": 36,
          "boat": "None",
          "body": "None",
          "cabin_x": 405,
          "cabin_y": 1,
          "deck": "A",
          "embarked": "C",
          "fare": 31.6792,
          "home.dest": "New York, NY",
          "name": "Evans, Miss. Edith Corse",
          "parch": 0,
          "pclass": 1,
          "sex": "female",
          "sibsp": 0,
          "survived": "Passenger Died",
          "ticket": "PC 17531"
         },
         {
          "age": 40,
          "boat": "7",
          "body": "None",
          "cabin_x": 400,
          "cabin_y": 2,
          "deck": "A",
          "embarked": "C",
          "fare": 31,
          "home.dest": "Glen Ridge, NJ",
          "name": "Blank, Mr. Henry",
          "parch": 0,
          "pclass": 1,
          "sex": "male",
          "sibsp": 0,
          "survived": "Passenger Survived",
          "ticket": "112277"
         },
         {
          "age": "None",
          "boat": "None",
          "body": "None",
          "cabin_x": 400,
          "cabin_y": 6,
          "deck": "A",
          "embarked": "S",
          "fare": 50,
          "home.dest": "Seattle, WA",
          "name": "Rood, Mr. Hugh Roscoe",
          "parch": 0,
          "pclass": 1,
          "sex": "male",
          "sibsp": 0,
          "survived": "Passenger Died",
          "ticket": "113767"
         },
         {
          "age": 53,
          "boat": "13",
          "body": "None",
          "cabin_x": 396,
          "cabin_y": 6.25,
          "deck": "A",
          "embarked": "S",
          "fare": 81.8583,
          "home.dest": "San Francisco, CA",
          "name": "Dodge, Dr. Washington",
          "parch": 1,
          "pclass": 1,
          "sex": "male",
          "sibsp": 1,
          "survived": "Passenger Survived",
          "ticket": "33638"
         },
         {
          "age": 4,
          "boat": "5",
          "body": "None",
          "cabin_x": 394,
          "cabin_y": 6.25,
          "deck": "A",
          "embarked": "S",
          "fare": 81.8583,
          "home.dest": "San Francisco, CA",
          "name": "Dodge, Master. Washington",
          "parch": 2,
          "pclass": 1,
          "sex": "male",
          "sibsp": 0,
          "survived": "Passenger Survived",
          "ticket": "33638"
         },
         {
          "age": 54,
          "boat": "5",
          "body": "None",
          "cabin_x": 394,
          "cabin_y": 5.75,
          "deck": "A",
          "embarked": "S",
          "fare": 81.8583,
          "home.dest": "San Francisco, CA",
          "name": "Dodge, Mrs. Washington (Ruth Vidaver)",
          "parch": 1,
          "pclass": 1,
          "sex": "female",
          "sibsp": 1,
          "survived": "Passenger Survived",
          "ticket": "33638"
         },
         {
          "age": 39,
          "boat": "None",
          "body": "None",
          "cabin_x": 350,
          "cabin_y": 1,
          "deck": "A",
          "embarked": "S",
          "fare": 0,
          "home.dest": "Belfast, NI",
          "name": "Andrews, Mr. Thomas Jr",
          "parch": 0,
          "pclass": 1,
          "sex": "male",
          "sibsp": 0,
          "survived": "Passenger Died",
          "ticket": "112050"
         },
         {
          "age": 71,
          "boat": "None",
          "body": "None",
          "cabin_x": 430,
          "cabin_y": 2,
          "deck": "A",
          "embarked": "C",
          "fare": 34.6542,
          "home.dest": "New York, NY",
          "name": "Goldschmidt, Mr. George B",
          "parch": 0,
          "pclass": 1,
          "sex": "male",
          "sibsp": 0,
          "survived": "Passenger Died",
          "ticket": "PC 17754"
         },
         {
          "age": 28,
          "boat": "7",
          "body": "None",
          "cabin_x": 430,
          "cabin_y": 5,
          "deck": "A",
          "embarked": "S",
          "fare": 35.5,
          "home.dest": "New Britain, CT",
          "name": "Sloper, Mr. William Thompson",
          "parch": 0,
          "pclass": 1,
          "sex": "male",
          "sibsp": 0,
          "survived": "Passenger Survived",
          "ticket": "113788"
         },
         {
          "age": 56,
          "boat": "None",
          "body": "None",
          "cabin_x": 430,
          "cabin_y": 1,
          "deck": "A",
          "embarked": "C",
          "fare": 30.6958,
          "home.dest": "St James, Long Island, NY",
          "name": "Smith, Mr. James Clinch",
          "parch": 0,
          "pclass": 1,
          "sex": "male",
          "sibsp": 0,
          "survived": "Passenger Died",
          "ticket": "17764"
         },
         {
          "age": 45,
          "boat": "7",
          "body": "None",
          "cabin_x": 425,
          "cabin_y": 2,
          "deck": "A",
          "embarked": "C",
          "fare": 29.7,
          "home.dest": "Paris, France",
          "name": "Chevre, Mr. Paul Romaine",
          "parch": 0,
          "pclass": 1,
          "sex": "male",
          "sibsp": 0,
          "survived": "Passenger Survived",
          "ticket": "PC 17594"
         },
         {
          "age": 35,
          "boat": "3",
          "body": "None",
          "cabin_x": 395,
          "cabin_y": 3,
          "deck": "B",
          "embarked": "C",
          "fare": 512.3292,
          "home.dest": "None",
          "name": "Lesurer, Mr. Gustave J",
          "parch": 0,
          "pclass": 1,
          "sex": "male",
          "sibsp": 0,
          "survived": "Passenger Survived",
          "ticket": "PC 17755"
         },
         {
          "age": "None",
          "boat": "None",
          "body": "None",
          "cabin_x": 395,
          "cabin_y": 4,
          "deck": "B",
          "embarked": "S",
          "fare": 0,
          "home.dest": "None",
          "name": "Fry, Mr. Richard",
          "parch": 0,
          "pclass": 1,
          "sex": "male",
          "sibsp": 0,
          "survived": "Passenger Died",
          "ticket": "112058"
         },
         {
          "age": 36,
          "boat": "4",
          "body": "None",
          "cabin_x": 395,
          "cabin_y": 1,
          "deck": "B",
          "embarked": "C",
          "fare": 262.375,
          "home.dest": "None",
          "name": "Chaudanson, Miss. Victorine",
          "parch": 0,
          "pclass": 1,
          "sex": "female",
          "sibsp": 0,
          "survived": "Passenger Survived",
          "ticket": "PC 17608"
         },
         {
          "age": 30,
          "boat": "3",
          "body": "None",
          "cabin_x": 375,
          "cabin_y": 1,
          "deck": "B",
          "embarked": "S",
          "fare": 93.5,
          "home.dest": "None",
          "name": "Perreault, Miss. Anne",
          "parch": 0,
          "pclass": 1,
          "sex": "female",
          "sibsp": 0,
          "survived": "Passenger Survived",
          "ticket": "12749"
         },
         {
          "age": 57,
          "boat": "None",
          "body": "None",
          "cabin_x": 366,
          "cabin_y": 6.25,
          "deck": "B",
          "embarked": "C",
          "fare": 146.5208,
          "home.dest": "Paris, France",
          "name": "Spencer, Mr. William Augustus",
          "parch": 0,
          "pclass": 1,
          "sex": "male",
          "sibsp": 1,
          "survived": "Passenger Died",
          "ticket": "PC 17569"
         },
         {
          "age": "None",
          "boat": "6",
          "body": "None",
          "cabin_x": 364,
          "cabin_y": 6.25,
          "deck": "B",
          "embarked": "C",
          "fare": 146.5208,
          "home.dest": "Paris, France",
          "name": "Spencer, Mrs. William Augustus (Marie Eugenie)",
          "parch": 0,
          "pclass": 1,
          "sex": "female",
          "sibsp": 1,
          "survived": "Passenger Survived",
          "ticket": "PC 17569"
         },
         {
          "age": 16,
          "boat": "8",
          "body": "None",
          "cabin_x": 365,
          "cabin_y": 1,
          "deck": "B",
          "embarked": "S",
          "fare": 86.5,
          "home.dest": "None",
          "name": "Maioni, Miss. Roberta",
          "parch": 0,
          "pclass": 1,
          "sex": "female",
          "sibsp": 0,
          "survived": "Passenger Survived",
          "ticket": "110152"
         },
         {
          "age": 58,
          "boat": "None",
          "body": "None",
          "cabin_x": 365,
          "cabin_y": 5,
          "deck": "B",
          "embarked": "C",
          "fare": 146.5208,
          "home.dest": "None",
          "name": "Lurette, Miss. Elise",
          "parch": 0,
          "pclass": 1,
          "sex": "female",
          "sibsp": 0,
          "survived": "Passenger Survived",
          "ticket": "PC 17569"
         },
         {
          "age": 24,
          "boat": "None",
          "body": "None",
          "cabin_x": 355,
          "cabin_y": 5,
          "deck": "B",
          "embarked": "C",
          "fare": 79.2,
          "home.dest": "None",
          "name": "Giglio, Mr. Victor",
          "parch": 0,
          "pclass": 1,
          "sex": "male",
          "sibsp": 0,
          "survived": "Passenger Died",
          "ticket": "PC 17593"
         },
         {
          "age": 40,
          "boat": "None",
          "body": 110,
          "cabin_x": 340,
          "cabin_y": 6,
          "deck": "B",
          "embarked": "S",
          "fare": 0,
          "home.dest": "None",
          "name": "Harrison, Mr. William",
          "parch": 0,
          "pclass": 1,
          "sex": "male",
          "sibsp": 0,
          "survived": "Passenger Died",
          "ticket": "112059"
         },
         {
          "age": 53,
          "boat": "D",
          "body": "None",
          "cabin_x": 386,
          "cabin_y": 2.25,
          "deck": "C",
          "embarked": "S",
          "fare": 51.4792,
          "home.dest": "Bayside, Queens, NY",
          "name": "Appleton, Mrs. Edward Dale (Charlotte Lamson)",
          "parch": 0,
          "pclass": 1,
          "sex": "female",
          "sibsp": 2,
          "survived": "Passenger Survived",
          "ticket": "11769"
         },
         {
          "age": 59,
          "boat": "D",
          "body": "None",
          "cabin_x": 384,
          "cabin_y": 2.25,
          "deck": "C",
          "embarked": "S",
          "fare": 51.4792,
          "home.dest": "Belmont, MA",
          "name": "Brown, Mrs. John Murray (Caroline Lane Lamson)",
          "parch": 0,
          "pclass": 1,
          "sex": "female",
          "sibsp": 2,
          "survived": "Passenger Survived",
          "ticket": "11769"
         },
         {
          "age": 55,
          "boat": "2",
          "body": "None",
          "cabin_x": 384,
          "cabin_y": 1.75,
          "deck": "C",
          "embarked": "S",
          "fare": 25.7,
          "home.dest": "New York, NY",
          "name": "Cornell, Mrs. Robert Clifford (Malvina Helen Lamson)",
          "parch": 0,
          "pclass": 1,
          "sex": "female",
          "sibsp": 2,
          "survived": "Passenger Survived",
          "ticket": "11770"
         },
         {
          "age": 58,
          "boat": "8",
          "body": "None",
          "cabin_x": 380,
          "cabin_y": 2,
          "deck": "C",
          "embarked": "S",
          "fare": 26.55,
          "home.dest": "Birkdale, England Cleveland, Ohio",
          "name": "Bonnell, Miss. Elizabeth",
          "parch": 0,
          "pclass": 1,
          "sex": "female",
          "sibsp": 0,
          "survived": "Passenger Survived",
          "ticket": "113783"
         },
         {
          "age": 52,
          "boat": "6",
          "body": "None",
          "cabin_x": 400,
          "cabin_y": 5,
          "deck": "C",
          "embarked": "S",
          "fare": 30.5,
          "home.dest": "Toronto, ON",
          "name": "Peuchen, Major. Arthur Godfrey",
          "parch": 0,
          "pclass": 1,
          "sex": "male",
          "sibsp": 0,
          "survived": "Passenger Survived",
          "ticket": "113786"
         },
         {
          "age": 39,
          "boat": "8",
          "body": "None",
          "cabin_x": 375,
          "cabin_y": 2,
          "deck": "C",
          "embarked": "C",
          "fare": 108.9,
          "home.dest": "None",
          "name": "Oliva y Ocana, Dona. Fermina",
          "parch": 0,
          "pclass": 1,
          "sex": "female",
          "sibsp": 0,
          "survived": "Passenger Survived",
          "ticket": "PC 17758"
         },
         {
          "age": 30,
          "boat": "None",
          "body": "None",
          "cabin_x": 396,
          "cabin_y": 5.25,
          "deck": "C",
          "embarked": "S",
          "fare": 26,
          "home.dest": "Brockton, MA",
          "name": "Maguire, Mr. John Edward",
          "parch": 0,
          "pclass": 1,
          "sex": "male",
          "sibsp": 0,
          "survived": "Passenger Died",
          "ticket": "110469"
         },
         {
          "age": "None",
          "boat": "3",
          "body": "None",
          "cabin_x": 394,
          "cabin_y": 5.25,
          "deck": "C",
          "embarked": "S",
          "fare": 30.5,
          "home.dest": "Manchester, England",
          "name": "Saalfeld, Mr. Adolphe",
          "parch": 0,
          "pclass": 1,
          "sex": "male",
          "sibsp": 0,
          "survived": "Passenger Survived",
          "ticket": "19988"
         },
         {
          "age": 47,
          "boat": "None",
          "body": 207,
          "cabin_x": 380,
          "cabin_y": 5,
          "deck": "C",
          "embarked": "S",
          "fare": 52,
          "home.dest": "Worcester, MA",
          "name": "Porter, Mr. Walter Chamberlain",
          "parch": 0,
          "pclass": 1,
          "sex": "male",
          "sibsp": 0,
          "survived": "Passenger Died",
          "ticket": "110465"
         },
         {
          "age": 30,
          "boat": "None",
          "body": "None",
          "cabin_x": 365,
          "cabin_y": 3,
          "deck": "C",
          "embarked": "C",
          "fare": 27.75,
          "home.dest": "New York, NY",
          "name": "Foreman, Mr. Benjamin Laventall",
          "parch": 0,
          "pclass": 1,
          "sex": "male",
          "sibsp": 0,
          "survived": "Passenger Died",
          "ticket": "113051"
         },
         {
          "age": 54,
          "boat": "1",
          "body": "None",
          "cabin_x": 366,
          "cabin_y": 5.25,
          "deck": "C",
          "embarked": "C",
          "fare": 55.4417,
          "home.dest": "Newark, NJ",
          "name": "Stengel, Mr. Charles Emil Henry",
          "parch": 0,
          "pclass": 1,
          "sex": "male",
          "sibsp": 1,
          "survived": "Passenger Survived",
          "ticket": "11778"
         },
         {
          "age": 43,
          "boat": "5",
          "body": "None",
          "cabin_x": 364,
          "cabin_y": 5.25,
          "deck": "C",
          "embarked": "C",
          "fare": 55.4417,
          "home.dest": "Newark, NJ",
          "name": "Stengel, Mrs. Charles Emil Henry (Annie May Morris)",
          "parch": 0,
          "pclass": 1,
          "sex": "female",
          "sibsp": 1,
          "survived": "Passenger Survived",
          "ticket": "11778"
         },
         {
          "age": 37,
          "boat": "None",
          "body": "None",
          "cabin_x": 365,
          "cabin_y": 4,
          "deck": "C",
          "embarked": "C",
          "fare": 29.7,
          "home.dest": "Brooklyn, NY",
          "name": "Natsch, Mr. Charles H",
          "parch": 1,
          "pclass": 1,
          "sex": "male",
          "sibsp": 0,
          "survived": "Passenger Died",
          "ticket": "PC 17596"
         },
         {
          "age": "None",
          "boat": "None",
          "body": "None",
          "cabin_x": 361,
          "cabin_y": 5.25,
          "deck": "C",
          "embarked": "S",
          "fare": 26.55,
          "home.dest": "Portland, OR",
          "name": "Klaber, Mr. Herman",
          "parch": 0,
          "pclass": 1,
          "sex": "male",
          "sibsp": 0,
          "survived": "Passenger Died",
          "ticket": "113028"
         },
         {
          "age": 45.5,
          "boat": "None",
          "body": 166,
          "cabin_x": 359,
          "cabin_y": 5.25,
          "deck": "C",
          "embarked": "S",
          "fare": 28.5,
          "home.dest": "Surbiton Hill, Surrey",
          "name": "Partner, Mr. Austen",
          "parch": 0,
          "pclass": 1,
          "sex": "male",
          "sibsp": 0,
          "survived": "Passenger Died",
          "ticket": "113043"
         },
         {
          "age": 48,
          "boat": "5 7",
          "body": "None",
          "cabin_x": 356,
          "cabin_y": 5.25,
          "deck": "C",
          "embarked": "S",
          "fare": 52,
          "home.dest": "London /  East Orange, NJ",
          "name": "Taylor, Mr. Elmer Zebley",
          "parch": 0,
          "pclass": 1,
          "sex": "male",
          "sibsp": 1,
          "survived": "Passenger Survived",
          "ticket": "19996"
         },
         {
          "age": "None",
          "boat": "5 7",
          "body": "None",
          "cabin_x": 354,
          "cabin_y": 5.25,
          "deck": "C",
          "embarked": "S",
          "fare": 52,
          "home.dest": "London /  East Orange, NJ",
          "name": "Taylor, Mrs. Elmer Zebley (Juliet Cummins Wright)",
          "parch": 0,
          "pclass": 1,
          "sex": "female",
          "sibsp": 1,
          "survived": "Passenger Survived",
          "ticket": "19996"
         },
         {
          "age": "None",
          "boat": "None",
          "body": "None",
          "cabin_x": 350,
          "cabin_y": 5,
          "deck": "C",
          "embarked": "S",
          "fare": 35,
          "home.dest": "London, England",
          "name": "Williams-Lambert, Mr. Fletcher Fellows",
          "parch": 0,
          "pclass": 1,
          "sex": "male",
          "sibsp": 0,
          "survived": "Passenger Died",
          "ticket": "113510"
         },
         {
          "age": 35,
          "boat": "4",
          "body": "None",
          "cabin_x": 345,
          "cabin_y": 5,
          "deck": "C",
          "embarked": "C",
          "fare": 211.5,
          "home.dest": "None",
          "name": "Geiger, Miss. Amalie",
          "parch": 0,
          "pclass": 1,
          "sex": "female",
          "sibsp": 0,
          "survived": "Passenger Survived",
          "ticket": "113503"
         },
         {
          "age": 32.5,
          "boat": "None",
          "body": 45,
          "cabin_x": 340,
          "cabin_y": 4,
          "deck": "C",
          "embarked": "C",
          "fare": 211.5,
          "home.dest": "None",
          "name": "Keeping, Mr. Edwin",
          "parch": 0,
          "pclass": 1,
          "sex": "male",
          "sibsp": 0,
          "survived": "Passenger Died",
          "ticket": "113503"
         },
         {
          "age": 29,
          "boat": "None",
          "body": "None",
          "cabin_x": 466,
          "cabin_y": 4.25,
          "deck": "C",
          "embarked": "S",
          "fare": 66.6,
          "home.dest": "Isleworth, England",
          "name": "Pears, Mr. Thomas Clinton",
          "parch": 0,
          "pclass": 1,
          "sex": "male",
          "sibsp": 1,
          "survived": "Passenger Died",
          "ticket": "113776"
         },
         {
          "age": 22,
          "boat": "8",
          "body": "None",
          "cabin_x": 464,
          "cabin_y": 4.25,
          "deck": "C",
          "embarked": "S",
          "fare": 66.6,
          "home.dest": "Isleworth, England",
          "name": "Pears, Mrs. Thomas (Edith Wearne)",
          "parch": 0,
          "pclass": 1,
          "sex": "female",
          "sibsp": 1,
          "survived": "Passenger Survived",
          "ticket": "113776"
         },
         {
          "age": 35,
          "boat": "11",
          "body": "None",
          "cabin_x": 430,
          "cabin_y": 5,
          "deck": "C",
          "embarked": "C",
          "fare": 57.75,
          "home.dest": "New York, NY",
          "name": "Schabert, Mrs. Paul (Emma Mock)",
          "parch": 0,
          "pclass": 1,
          "sex": "female",
          "sibsp": 1,
          "survived": "Passenger Survived",
          "ticket": "13236"
         },
         {
          "age": 55,
          "boat": "None",
          "body": "None",
          "cabin_x": 430,
          "cabin_y": 6,
          "deck": "C",
          "embarked": "S",
          "fare": 30.5,
          "home.dest": "Montreal, PQ",
          "name": "Molson, Mr. Harry Markland",
          "parch": 0,
          "pclass": 1,
          "sex": "male",
          "sibsp": 0,
          "survived": "Passenger Died",
          "ticket": "113787"
         },
         {
          "age": 24,
          "boat": "None",
          "body": "None",
          "cabin_x": 431,
          "cabin_y": 1.25,
          "deck": "C",
          "embarked": "S",
          "fare": 60,
          "home.dest": "Huntington, WV",
          "name": "Smith, Mr. Lucien Philip",
          "parch": 0,
          "pclass": 1,
          "sex": "male",
          "sibsp": 1,
          "survived": "Passenger Died",
          "ticket": "13695"
         },
         {
          "age": 18,
          "boat": "6",
          "body": "None",
          "cabin_x": 429,
          "cabin_y": 1.25,
          "deck": "C",
          "embarked": "S",
          "fare": 60,
          "home.dest": "Huntington, WV",
          "name": "Smith, Mrs. Lucien Philip (Mary Eloise Hughes)",
          "parch": 0,
          "pclass": 1,
          "sex": "female",
          "sibsp": 1,
          "survived": "Passenger Survived",
          "ticket": "13695"
         },
         {
          "age": 55,
          "boat": "8",
          "body": "None",
          "cabin_x": 426,
          "cabin_y": 6.25,
          "deck": "C",
          "embarked": "C",
          "fare": 135.6333,
          "home.dest": "New York, NY / Briarcliff Manor NY",
          "name": "White, Mrs. John Stuart (Ella Holmes)",
          "parch": 0,
          "pclass": 1,
          "sex": "female",
          "sibsp": 0,
          "survived": "Passenger Survived",
          "ticket": "PC 17760"
         },
         {
          "age": 36,
          "boat": "8",
          "body": "None",
          "cabin_x": 424,
          "cabin_y": 6.25,
          "deck": "C",
          "embarked": "C",
          "fare": 135.6333,
          "home.dest": "New York, NY / Washington, DC",
          "name": "Young, Miss. Marie Grice",
          "parch": 0,
          "pclass": 1,
          "sex": "female",
          "sibsp": 0,
          "survived": "Passenger Survived",
          "ticket": "PC 17760"
         },
         {
          "age": 55,
          "boat": "None",
          "body": "None",
          "cabin_x": 415,
          "cabin_y": 6,
          "deck": "C",
          "embarked": "S",
          "fare": 50,
          "home.dest": "London / Birmingham",
          "name": "Hipkins, Mr. William Edward",
          "parch": 0,
          "pclass": 1,
          "sex": "male",
          "sibsp": 0,
          "survived": "Passenger Died",
          "ticket": "680"
         },
         {
          "age": 38,
          "boat": "4",
          "body": "None",
          "cabin_x": 450,
          "cabin_y": 3,
          "deck": "C",
          "embarked": "C",
          "fare": 227.525,
          "home.dest": "New York, NY",
          "name": "Endres, Miss. Caroline Louise",
          "parch": 0,
          "pclass": 1,
          "sex": "female",
          "sibsp": 0,
          "survived": "Passenger Survived",
          "ticket": "PC 17757"
         },
         {
          "age": 36,
          "boat": "None",
          "body": 172,
          "cabin_x": 406,
          "cabin_y": 6.25,
          "deck": "C",
          "embarked": "S",
          "fare": 78.85,
          "home.dest": "Little Onn Hall, Staffs",
          "name": "Cavendish, Mr. Tyrell William",
          "parch": 0,
          "pclass": 1,
          "sex": "male",
          "sibsp": 1,
          "survived": "Passenger Died",
          "ticket": "19877"
         },
         {
          "age": 76,
          "boat": "6",
          "body": "None",
          "cabin_x": 404,
          "cabin_y": 6.25,
          "deck": "C",
          "embarked": "S",
          "fare": 78.85,
          "home.dest": "Little Onn Hall, Staffs",
          "name": "Cavendish, Mrs. Tyrell William (Julia Florence Siegel)",
          "parch": 0,
          "pclass": 1,
          "sex": "female",
          "sibsp": 1,
          "survived": "Passenger Survived",
          "ticket": "19877"
         },
         {
          "age": "None",
          "boat": "7",
          "body": "None",
          "cabin_x": 445,
          "cabin_y": 3,
          "deck": "C",
          "embarked": "C",
          "fare": 29.7,
          "home.dest": "Paris, France",
          "name": "Marechal, Mr. Pierre",
          "parch": 0,
          "pclass": 1,
          "sex": "male",
          "sibsp": 0,
          "survived": "Passenger Survived",
          "ticket": "11774"
         },
         {
          "age": 50,
          "boat": "None",
          "body": "None",
          "cabin_x": 440,
          "cabin_y": 3,
          "deck": "C",
          "embarked": "C",
          "fare": 28.7125,
          "home.dest": "Paris, France New York, NY",
          "name": "Isham, Miss. Ann Elizabeth",
          "parch": 0,
          "pclass": 1,
          "sex": "female",
          "sibsp": 0,
          "survived": "Passenger Died",
          "ticket": "PC 17595"
         },
         {
          "age": 56,
          "boat": "7",
          "body": "None",
          "cabin_x": 455,
          "cabin_y": 4,
          "deck": "C",
          "embarked": "C",
          "fare": 83.1583,
          "home.dest": "Mt Airy, Philadelphia, PA",
          "name": "Potter, Mrs. Thomas Jr (Lily Alexenia Wilson)",
          "parch": 1,
          "pclass": 1,
          "sex": "female",
          "sibsp": 0,
          "survived": "Passenger Survived",
          "ticket": "11767"
         },
         {
          "age": 53,
          "boat": "B",
          "body": "None",
          "cabin_x": 435,
          "cabin_y": 3,
          "deck": "C",
          "embarked": "C",
          "fare": 28.5,
          "home.dest": "Washington, DC",
          "name": "Gracie, Col. Archibald IV",
          "parch": 0,
          "pclass": 1,
          "sex": "male",
          "sibsp": 0,
          "survived": "Passenger Survived",
          "ticket": "113780"
         },
         {
          "age": 28,
          "boat": "D",
          "body": "None",
          "cabin_x": 451,
          "cabin_y": 4.25,
          "deck": "C",
          "embarked": "S",
          "fare": 26.55,
          "home.dest": "Stockholm, Sweden / Washington, DC",
          "name": "Bjornstrom-Steffansson, Mr. Mauritz Hakan",
          "parch": 0,
          "pclass": 1,
          "sex": "male",
          "sibsp": 0,
          "survived": "Passenger Survived",
          "ticket": "110564"
         },
         {
          "age": "None",
          "boat": "D",
          "body": "None",
          "cabin_x": 449,
          "cabin_y": 4.25,
          "deck": "C",
          "embarked": "S",
          "fare": 35.5,
          "home.dest": "London, England",
          "name": "Woolner, Mr. Hugh",
          "parch": 0,
          "pclass": 1,
          "sex": "male",
          "sibsp": 0,
          "survived": "Passenger Survived",
          "ticket": "19947"
         },
         {
          "age": 31,
          "boat": "7",
          "body": "None",
          "cabin_x": 430,
          "cabin_y": 3,
          "deck": "C",
          "embarked": "C",
          "fare": 28.5375,
          "home.dest": "Albany, NY",
          "name": "Tucker, Mr. Gilbert Milligan Jr",
          "parch": 0,
          "pclass": 1,
          "sex": "male",
          "sibsp": 0,
          "survived": "Passenger Survived",
          "ticket": "2543"
         },
         {
          "age": 23,
          "boat": "7",
          "body": "None",
          "cabin_x": 446,
          "cabin_y": 4.25,
          "deck": "C",
          "embarked": "C",
          "fare": 83.1583,
          "home.dest": "Mt Airy, Philadelphia, PA",
          "name": "Earnshaw, Mrs. Boulton (Olive Potter)",
          "parch": 1,
          "pclass": 1,
          "sex": "female",
          "sibsp": 0,
          "survived": "Passenger Survived",
          "ticket": "11767"
         },
         {
          "age": 24,
          "boat": "7",
          "body": "None",
          "cabin_x": 444,
          "cabin_y": 4.25,
          "deck": "C",
          "embarked": "C",
          "fare": 83.1583,
          "home.dest": "New York, NY",
          "name": "Hays, Miss. Margaret Bechstein",
          "parch": 0,
          "pclass": 1,
          "sex": "female",
          "sibsp": 0,
          "survived": "Passenger Survived",
          "ticket": "11767"
         },
         {
          "age": 36,
          "boat": "A",
          "body": "None",
          "cabin_x": 466,
          "cabin_y": 5.25,
          "deck": "C",
          "embarked": "C",
          "fare": 75.2417,
          "home.dest": "Winnipeg, MN",
          "name": "Beattie, Mr. Thomson",
          "parch": 0,
          "pclass": 1,
          "sex": "male",
          "sibsp": 0,
          "survived": "Passenger Died",
          "ticket": "13050"
         },
         {
          "age": 46,
          "boat": "None",
          "body": 292,
          "cabin_x": 464,
          "cabin_y": 5.25,
          "deck": "C",
          "embarked": "C",
          "fare": 75.2417,
          "home.dest": "Vancouver, BC",
          "name": "McCaffry, Mr. Thomas Francis",
          "parch": 0,
          "pclass": 1,
          "sex": "male",
          "sibsp": 0,
          "survived": "Passenger Died",
          "ticket": "13050"
         },
         {
          "age": 18,
          "boat": "None",
          "body": "None",
          "cabin_x": 366,
          "cabin_y": 1.25,
          "deck": "C",
          "embarked": "C",
          "fare": 108.9,
          "home.dest": "Madrid, Spain",
          "name": "Penasco y Castellana, Mr. Victor de Satode",
          "parch": 0,
          "pclass": 1,
          "sex": "male",
          "sibsp": 1,
          "survived": "Passenger Died",
          "ticket": "PC 17758"
         },
         {
          "age": 17,
          "boat": "8",
          "body": "None",
          "cabin_x": 364,
          "cabin_y": 1.25,
          "deck": "C",
          "embarked": "C",
          "fare": 108.9,
          "home.dest": "Madrid, Spain",
          "name": "Penasco y Castellana, Mrs. Victor de Satode (Maria Josefa Perez de Soto y Vallejo)",
          "parch": 0,
          "pclass": 1,
          "sex": "female",
          "sibsp": 1,
          "survived": "Passenger Survived",
          "ticket": "PC 17758"
         },
         {
          "age": 49,
          "boat": "None",
          "body": "None",
          "cabin_x": 381,
          "cabin_y": 6.25,
          "deck": "C",
          "embarked": "C",
          "fare": 110.8833,
          "home.dest": "Haverford, PA",
          "name": "Thayer, Mr. John Borland",
          "parch": 1,
          "pclass": 1,
          "sex": "male",
          "sibsp": 1,
          "survived": "Passenger Died",
          "ticket": "17421"
         },
         {
          "age": 39,
          "boat": "4",
          "body": "None",
          "cabin_x": 379,
          "cabin_y": 6.25,
          "deck": "C",
          "embarked": "C",
          "fare": 110.8833,
          "home.dest": "Haverford, PA",
          "name": "Thayer, Mrs. John Borland (Marian Longstreth Morris)",
          "parch": 1,
          "pclass": 1,
          "sex": "female",
          "sibsp": 1,
          "survived": "Passenger Survived",
          "ticket": "17421"
         },
         {
          "age": 17,
          "boat": "B",
          "body": "None",
          "cabin_x": 370,
          "cabin_y": 6,
          "deck": "C",
          "embarked": "C",
          "fare": 110.8833,
          "home.dest": "Haverford, PA",
          "name": "Thayer, Mr. John Borland Jr",
          "parch": 2,
          "pclass": 1,
          "sex": "male",
          "sibsp": 0,
          "survived": "Passenger Survived",
          "ticket": "17421"
         },
         {
          "age": 44,
          "boat": "None",
          "body": 230,
          "cabin_x": 351,
          "cabin_y": 6.25,
          "deck": "C",
          "embarked": "Q",
          "fare": 90,
          "home.dest": "Fond du Lac, WI",
          "name": "Minahan, Dr. William Edward",
          "parch": 0,
          "pclass": 1,
          "sex": "male",
          "sibsp": 2,
          "survived": "Passenger Died",
          "ticket": "19928"
         },
         {
          "age": 33,
          "boat": "14",
          "body": "None",
          "cabin_x": 349,
          "cabin_y": 6.25,
          "deck": "C",
          "embarked": "Q",
          "fare": 90,
          "home.dest": "Green Bay, WI",
          "name": "Minahan, Miss. Daisy E",
          "parch": 0,
          "pclass": 1,
          "sex": "female",
          "sibsp": 1,
          "survived": "Passenger Survived",
          "ticket": "19928"
         },
         {
          "age": 37,
          "boat": "14",
          "body": "None",
          "cabin_x": 349,
          "cabin_y": 5.75,
          "deck": "C",
          "embarked": "Q",
          "fare": 90,
          "home.dest": "Fond du Lac, WI",
          "name": "Minahan, Mrs. William Edward (Lillian E Thorpe)",
          "parch": 0,
          "pclass": 1,
          "sex": "female",
          "sibsp": 1,
          "survived": "Passenger Survived",
          "ticket": "19928"
         },
         {
          "age": 30,
          "boat": "11",
          "body": "None",
          "cabin_x": 351,
          "cabin_y": 5.75,
          "deck": "C",
          "embarked": "C",
          "fare": 57.75,
          "home.dest": "New York, NY",
          "name": "Mock, Mr. Philipp Edmund",
          "parch": 0,
          "pclass": 1,
          "sex": "male",
          "sibsp": 1,
          "survived": "Passenger Survived",
          "ticket": "13236"
         },
         {
          "age": 50,
          "boat": "None",
          "body": "None",
          "cabin_x": 346,
          "cabin_y": 6.25,
          "deck": "C",
          "embarked": "C",
          "fare": 211.5,
          "home.dest": "Elkins Park, PA",
          "name": "Widener, Mr. George Dunton",
          "parch": 1,
          "pclass": 1,
          "sex": "male",
          "sibsp": 1,
          "survived": "Passenger Died",
          "ticket": "113503"
         },
         {
          "age": 50,
          "boat": "4",
          "body": "None",
          "cabin_x": 344,
          "cabin_y": 6.25,
          "deck": "C",
          "embarked": "C",
          "fare": 211.5,
          "home.dest": "Elkins Park, PA",
          "name": "Widener, Mrs. George Dunton (Eleanor Elkins)",
          "parch": 1,
          "pclass": 1,
          "sex": "female",
          "sibsp": 1,
          "survived": "Passenger Survived",
          "ticket": "113503"
         },
         {
          "age": 27,
          "boat": "None",
          "body": "None",
          "cabin_x": 335,
          "cabin_y": 6,
          "deck": "C",
          "embarked": "C",
          "fare": 211.5,
          "home.dest": "Elkins Park, PA",
          "name": "Widener, Mr. Harry Elkins",
          "parch": 2,
          "pclass": 1,
          "sex": "male",
          "sibsp": 0,
          "survived": "Passenger Died",
          "ticket": "113503"
         },
         {
          "age": 45,
          "boat": "None",
          "body": "None",
          "cabin_x": 331,
          "cabin_y": 3.25,
          "deck": "C",
          "embarked": "S",
          "fare": 83.475,
          "home.dest": "New York, NY",
          "name": "Harris, Mr. Henry Birkhardt",
          "parch": 0,
          "pclass": 1,
          "sex": "male",
          "sibsp": 1,
          "survived": "Passenger Died",
          "ticket": "36973"
         },
         {
          "age": 35,
          "boat": "D",
          "body": "None",
          "cabin_x": 329,
          "cabin_y": 3.25,
          "deck": "C",
          "embarked": "S",
          "fare": 83.475,
          "home.dest": "New York, NY",
          "name": "Harris, Mrs. Henry Birkhardt (Irene Wallach)",
          "parch": 0,
          "pclass": 1,
          "sex": "female",
          "sibsp": 1,
          "survived": "Passenger Survived",
          "ticket": "36973"
         },
         {
          "age": 50,
          "boat": "None",
          "body": 62,
          "cabin_x": 331,
          "cabin_y": 6.25,
          "deck": "C",
          "embarked": "C",
          "fare": 106.425,
          "home.dest": "Deephaven, MN / Cedar Rapids, IA",
          "name": "Douglas, Mr. Walter Donald",
          "parch": 0,
          "pclass": 1,
          "sex": "male",
          "sibsp": 1,
          "survived": "Passenger Died",
          "ticket": "PC 17761"
         },
         {
          "age": 48,
          "boat": "2",
          "body": "None",
          "cabin_x": 329,
          "cabin_y": 6.25,
          "deck": "C",
          "embarked": "C",
          "fare": 106.425,
          "home.dest": "Deephaven, MN / Cedar Rapids, IA",
          "name": "Douglas, Mrs. Walter Donald (Mahala Dutton)",
          "parch": 0,
          "pclass": 1,
          "sex": "female",
          "sibsp": 1,
          "survived": "Passenger Survived",
          "ticket": "PC 17761"
         },
         {
          "age": 49,
          "boat": "5",
          "body": "None",
          "cabin_x": 331,
          "cabin_y": 4.25,
          "deck": "C",
          "embarked": "C",
          "fare": 89.1042,
          "home.dest": "Paris, France / New York, NY",
          "name": "Goldenberg, Mr. Samuel L",
          "parch": 0,
          "pclass": 1,
          "sex": "male",
          "sibsp": 1,
          "survived": "Passenger Survived",
          "ticket": "17453"
         },
         {
          "age": "None",
          "boat": "5",
          "body": "None",
          "cabin_x": 329,
          "cabin_y": 4.25,
          "deck": "C",
          "embarked": "C",
          "fare": 89.1042,
          "home.dest": "Paris, France / New York, NY",
          "name": "Goldenberg, Mrs. Samuel L (Edwiga Grabowska)",
          "parch": 0,
          "pclass": 1,
          "sex": "female",
          "sibsp": 1,
          "survived": "Passenger Survived",
          "ticket": "17453"
         },
         {
          "age": "None",
          "boat": "None",
          "body": "None",
          "cabin_x": 400,
          "cabin_y": 2,
          "deck": "C",
          "embarked": "S",
          "fare": 221.7792,
          "home.dest": "None",
          "name": "Farthing, Mr. John",
          "parch": 0,
          "pclass": 1,
          "sex": "male",
          "sibsp": 0,
          "survived": "Passenger Died",
          "ticket": "PC 17483"
         },
         {
          "age": 29,
          "boat": "8",
          "body": "None",
          "cabin_x": 395,
          "cabin_y": 2,
          "deck": "C",
          "embarked": "S",
          "fare": 221.7792,
          "home.dest": "None",
          "name": "Bird, Miss. Ellen",
          "parch": 0,
          "pclass": 1,
          "sex": "female",
          "sibsp": 0,
          "survived": "Passenger Survived",
          "ticket": "PC 17483"
         },
         {
          "age": 35,
          "boat": "8",
          "body": "None",
          "cabin_x": 390,
          "cabin_y": 2,
          "deck": "C",
          "embarked": "S",
          "fare": 135.6333,
          "home.dest": "None",
          "name": "Bissette, Miss. Amelia",
          "parch": 0,
          "pclass": 1,
          "sex": "female",
          "sibsp": 0,
          "survived": "Passenger Survived",
          "ticket": "PC 17760"
         }
        ]
       },
       "encoding": {
        "color": {
         "field": "survived",
         "scale": {
          "range": [
           "red",
           "white"
          ]
         },
         "type": "nominal"
        },
        "x": {
         "field": "cabin_x",
         "scale": {
          "domain": [
           320,
           450
          ]
         },
         "type": "quantitative"
        },
        "y": {
         "field": "cabin_y",
         "scale": {
          "domain": [
           -1,
           7.5
          ]
         },
         "type": "quantitative"
        }
       },
       "height": 400,
       "mark": {
        "filled": true,
        "opacity": 1,
        "size": 300,
        "stroke": "black",
        "type": "point"
       },
       "width": 1500
      },
      "image/png": "[encoded data removed]",
      "text/plain": [
       "<VegaLite 3 object>\n",
       "\n",
       "If you see this message, it means the renderer has not been properly enabled\n",
       "for the frontend that you are using. For more information, see\n",
       "https://altair-viz.github.io/user_guide/troubleshooting.html\n"
      ]
     },
     "execution_count": 10,
     "metadata": {},
     "output_type": "execute_result"
    }
   ],
   "source": [
    "passenger_plot = alt.Chart(titanic_passengers_by_cabin.reset_index(\"name\")).mark_point(size = 300, stroke = \"black\", filled = True, opacity = 1).encode(\n",
    "    alt.X('cabin_x:Q', scale=alt.Scale(domain = [320,450])),\n",
    "    alt.Y('cabin_y:Q', scale=alt.Scale(domain = [-1,7.5])),\n",
    "    alt.Color('survived:N', scale=alt.Scale(range = ['red','white']))\n",
    ").properties(width = 1500, height = 400)\n",
    "\n",
    "passenger_plot"
   ]
  },
  {
   "cell_type": "markdown",
   "metadata": {},
   "source": [
    "#### 3.4 Adding all plots together"
   ]
  },
  {
   "cell_type": "code",
   "execution_count": 11,
   "metadata": {},
   "outputs": [
    {
     "data": {
      "application/vnd.vegalite.v3+json": {
       "$schema": "https://vega.github.io/schema/vega-lite/v3.4.0.json",
       "config": {
        "mark": {
         "tooltip": null
        },
        "view": {
         "height": 300,
         "width": 400
        }
       },
       "datasets": {
        "data-246c2b9bcb306b5ff7ae5408df7bc874": [
         {
          "x": 325,
          "y": 3.5
         },
         {
          "x": 340,
          "y": 0
         },
         {
          "x": 440,
          "y": 0
         },
         {
          "x": 445,
          "y": 1
         },
         {
          "x": 447,
          "y": 2
         }
        ],
        "data-7b137a2242bf3b1d54d0bbdc35a70a0b": [
         {
          "cabin_x": 350,
          "cabin_y": 1
         },
         {
          "cabin_x": 350,
          "cabin_y": 6
         },
         {
          "cabin_x": 400,
          "cabin_y": 6
         },
         {
          "cabin_x": 400,
          "cabin_y": 5
         },
         {
          "cabin_x": 400,
          "cabin_y": 2
         },
         {
          "cabin_x": 400,
          "cabin_y": 1
         },
         {
          "cabin_x": 405,
          "cabin_y": 6
         },
         {
          "cabin_x": 405,
          "cabin_y": 5
         },
         {
          "cabin_x": 405,
          "cabin_y": 2
         },
         {
          "cabin_x": 405,
          "cabin_y": 1
         },
         {
          "cabin_x": 395,
          "cabin_y": 6
         },
         {
          "cabin_x": 395,
          "cabin_y": 1
         },
         {
          "cabin_x": 410,
          "cabin_y": 6
         },
         {
          "cabin_x": 410,
          "cabin_y": 5
         },
         {
          "cabin_x": 410,
          "cabin_y": 2
         },
         {
          "cabin_x": 410,
          "cabin_y": 1
         },
         {
          "cabin_x": 415,
          "cabin_y": 6
         },
         {
          "cabin_x": 415,
          "cabin_y": 5
         },
         {
          "cabin_x": 415,
          "cabin_y": 2
         },
         {
          "cabin_x": 415,
          "cabin_y": 1
         },
         {
          "cabin_x": 420,
          "cabin_y": 6
         },
         {
          "cabin_x": 420,
          "cabin_y": 5
         },
         {
          "cabin_x": 420,
          "cabin_y": 2
         },
         {
          "cabin_x": 420,
          "cabin_y": 1
         },
         {
          "cabin_x": 425,
          "cabin_y": 6
         },
         {
          "cabin_x": 425,
          "cabin_y": 5
         },
         {
          "cabin_x": 425,
          "cabin_y": 2
         },
         {
          "cabin_x": 425,
          "cabin_y": 1
         },
         {
          "cabin_x": 430,
          "cabin_y": 6
         },
         {
          "cabin_x": 430,
          "cabin_y": 5
         },
         {
          "cabin_x": 430,
          "cabin_y": 2
         },
         {
          "cabin_x": 430,
          "cabin_y": 1
         },
         {
          "cabin_x": 435,
          "cabin_y": 6
         },
         {
          "cabin_x": 435,
          "cabin_y": 4
         },
         {
          "cabin_x": 435,
          "cabin_y": 3
         },
         {
          "cabin_x": 435,
          "cabin_y": 1
         },
         {
          "cabin_x": 345,
          "cabin_y": 6
         },
         {
          "cabin_x": 340,
          "cabin_y": 6
         },
         {
          "cabin_x": 335,
          "cabin_y": 6
         },
         {
          "cabin_x": 330,
          "cabin_y": 6
         },
         {
          "cabin_x": 345,
          "cabin_y": 5
         },
         {
          "cabin_x": 345,
          "cabin_y": 1
         },
         {
          "cabin_x": 395,
          "cabin_y": 3
         },
         {
          "cabin_x": 395,
          "cabin_y": 4
         },
         {
          "cabin_x": 385,
          "cabin_y": 4
         },
         {
          "cabin_x": 385,
          "cabin_y": 3
         },
         {
          "cabin_x": 400,
          "cabin_y": 6
         },
         {
          "cabin_x": 350,
          "cabin_y": 6
         },
         {
          "cabin_x": 355,
          "cabin_y": 6
         },
         {
          "cabin_x": 355,
          "cabin_y": 5
         },
         {
          "cabin_x": 355,
          "cabin_y": 1
         },
         {
          "cabin_x": 360,
          "cabin_y": 6
         },
         {
          "cabin_x": 365,
          "cabin_y": 6
         },
         {
          "cabin_x": 370,
          "cabin_y": 6
         },
         {
          "cabin_x": 375,
          "cabin_y": 6
         },
         {
          "cabin_x": 380,
          "cabin_y": 6
         },
         {
          "cabin_x": 385,
          "cabin_y": 6
         },
         {
          "cabin_x": 390,
          "cabin_y": 6
         },
         {
          "cabin_x": 395,
          "cabin_y": 6
         },
         {
          "cabin_x": 365,
          "cabin_y": 5
         },
         {
          "cabin_x": 375,
          "cabin_y": 5
         },
         {
          "cabin_x": 385,
          "cabin_y": 5
         },
         {
          "cabin_x": 395,
          "cabin_y": 5
         },
         {
          "cabin_x": 365,
          "cabin_y": 1
         },
         {
          "cabin_x": 375,
          "cabin_y": 1
         },
         {
          "cabin_x": 385,
          "cabin_y": 1
         },
         {
          "cabin_x": 405,
          "cabin_y": 5
         },
         {
          "cabin_x": 405,
          "cabin_y": 1
         },
         {
          "cabin_x": 395,
          "cabin_y": 1
         },
         {
          "cabin_x": 465,
          "cabin_y": 6
         },
         {
          "cabin_x": 465,
          "cabin_y": 5
         },
         {
          "cabin_x": 465,
          "cabin_y": 4
         },
         {
          "cabin_x": 465,
          "cabin_y": 3
         },
         {
          "cabin_x": 465,
          "cabin_y": 2
         },
         {
          "cabin_x": 465,
          "cabin_y": 1
         },
         {
          "cabin_x": 460,
          "cabin_y": 6
         },
         {
          "cabin_x": 460,
          "cabin_y": 5
         },
         {
          "cabin_x": 460,
          "cabin_y": 4
         },
         {
          "cabin_x": 460,
          "cabin_y": 3
         },
         {
          "cabin_x": 460,
          "cabin_y": 2
         },
         {
          "cabin_x": 460,
          "cabin_y": 1
         },
         {
          "cabin_x": 455,
          "cabin_y": 6
         },
         {
          "cabin_x": 455,
          "cabin_y": 4
         },
         {
          "cabin_x": 455,
          "cabin_y": 1
         },
         {
          "cabin_x": 450,
          "cabin_y": 6
         },
         {
          "cabin_x": 450,
          "cabin_y": 5
         },
         {
          "cabin_x": 450,
          "cabin_y": 4
         },
         {
          "cabin_x": 450,
          "cabin_y": 3
         },
         {
          "cabin_x": 450,
          "cabin_y": 2
         },
         {
          "cabin_x": 450,
          "cabin_y": 1
         },
         {
          "cabin_x": 445,
          "cabin_y": 6
         },
         {
          "cabin_x": 445,
          "cabin_y": 4
         },
         {
          "cabin_x": 445,
          "cabin_y": 3
         },
         {
          "cabin_x": 445,
          "cabin_y": 1
         },
         {
          "cabin_x": 410,
          "cabin_y": 6
         },
         {
          "cabin_x": 440,
          "cabin_y": 5
         },
         {
          "cabin_x": 440,
          "cabin_y": 4
         },
         {
          "cabin_x": 440,
          "cabin_y": 3
         },
         {
          "cabin_x": 440,
          "cabin_y": 2
         },
         {
          "cabin_x": 440,
          "cabin_y": 1
         },
         {
          "cabin_x": 435,
          "cabin_y": 6
         },
         {
          "cabin_x": 435,
          "cabin_y": 4
         },
         {
          "cabin_x": 435,
          "cabin_y": 3
         },
         {
          "cabin_x": 435,
          "cabin_y": 1
         },
         {
          "cabin_x": 430,
          "cabin_y": 6
         },
         {
          "cabin_x": 430,
          "cabin_y": 5
         },
         {
          "cabin_x": 430,
          "cabin_y": 4
         },
         {
          "cabin_x": 430,
          "cabin_y": 3
         },
         {
          "cabin_x": 430,
          "cabin_y": 2
         },
         {
          "cabin_x": 430,
          "cabin_y": 1
         },
         {
          "cabin_x": 425,
          "cabin_y": 6
         },
         {
          "cabin_x": 420,
          "cabin_y": 2
         },
         {
          "cabin_x": 420,
          "cabin_y": 6
         },
         {
          "cabin_x": 420,
          "cabin_y": 5
         },
         {
          "cabin_x": 420,
          "cabin_y": 1
         },
         {
          "cabin_x": 415,
          "cabin_y": 6
         },
         {
          "cabin_x": 415,
          "cabin_y": 1
         },
         {
          "cabin_x": 410,
          "cabin_y": 5
         },
         {
          "cabin_x": 405,
          "cabin_y": 6
         },
         {
          "cabin_x": 405,
          "cabin_y": 5
         },
         {
          "cabin_x": 400,
          "cabin_y": 6
         },
         {
          "cabin_x": 400,
          "cabin_y": 5
         },
         {
          "cabin_x": 400,
          "cabin_y": 2
         },
         {
          "cabin_x": 400,
          "cabin_y": 1
         },
         {
          "cabin_x": 395,
          "cabin_y": 6
         },
         {
          "cabin_x": 395,
          "cabin_y": 5
         },
         {
          "cabin_x": 395,
          "cabin_y": 2
         },
         {
          "cabin_x": 395,
          "cabin_y": 1
         },
         {
          "cabin_x": 390,
          "cabin_y": 5
         },
         {
          "cabin_x": 390,
          "cabin_y": 2
         },
         {
          "cabin_x": 385,
          "cabin_y": 6
         },
         {
          "cabin_x": 380,
          "cabin_y": 5
         },
         {
          "cabin_x": 385,
          "cabin_y": 2
         },
         {
          "cabin_x": 385,
          "cabin_y": 1
         },
         {
          "cabin_x": 380,
          "cabin_y": 6
         },
         {
          "cabin_x": 380,
          "cabin_y": 5
         },
         {
          "cabin_x": 380,
          "cabin_y": 2
         },
         {
          "cabin_x": 380,
          "cabin_y": 1
         },
         {
          "cabin_x": 375,
          "cabin_y": 2
         },
         {
          "cabin_x": 370,
          "cabin_y": 6
         },
         {
          "cabin_x": 370,
          "cabin_y": 5
         },
         {
          "cabin_x": 370,
          "cabin_y": 2
         },
         {
          "cabin_x": 370,
          "cabin_y": 1
         },
         {
          "cabin_x": 365,
          "cabin_y": 6
         },
         {
          "cabin_x": 365,
          "cabin_y": 5
         },
         {
          "cabin_x": 365,
          "cabin_y": 4
         },
         {
          "cabin_x": 365,
          "cabin_y": 3
         },
         {
          "cabin_x": 365,
          "cabin_y": 2
         },
         {
          "cabin_x": 365,
          "cabin_y": 1
         },
         {
          "cabin_x": 360,
          "cabin_y": 6
         },
         {
          "cabin_x": 360,
          "cabin_y": 5
         },
         {
          "cabin_x": 360,
          "cabin_y": 4
         },
         {
          "cabin_x": 360,
          "cabin_y": 3
         },
         {
          "cabin_x": 360,
          "cabin_y": 2
         },
         {
          "cabin_x": 360,
          "cabin_y": 1
         },
         {
          "cabin_x": 355,
          "cabin_y": 6
         },
         {
          "cabin_x": 355,
          "cabin_y": 5
         },
         {
          "cabin_x": 355,
          "cabin_y": 1
         },
         {
          "cabin_x": 350,
          "cabin_y": 6
         },
         {
          "cabin_x": 350,
          "cabin_y": 5
         },
         {
          "cabin_x": 350,
          "cabin_y": 2
         },
         {
          "cabin_x": 350,
          "cabin_y": 1
         },
         {
          "cabin_x": 345,
          "cabin_y": 6
         },
         {
          "cabin_x": 345,
          "cabin_y": 5
         },
         {
          "cabin_x": 345,
          "cabin_y": 2
         },
         {
          "cabin_x": 345,
          "cabin_y": 1
         },
         {
          "cabin_x": 340,
          "cabin_y": 4
         },
         {
          "cabin_x": 340,
          "cabin_y": 3
         },
         {
          "cabin_x": 335,
          "cabin_y": 6
         },
         {
          "cabin_x": 335,
          "cabin_y": 5
         },
         {
          "cabin_x": 335,
          "cabin_y": 1
         },
         {
          "cabin_x": 330,
          "cabin_y": 6
         },
         {
          "cabin_x": 330,
          "cabin_y": 4
         },
         {
          "cabin_x": 330,
          "cabin_y": 3
         }
        ],
        "data-d77c64ff8010497b3a6ac0862ca66693": [
         {
          "x": 447,
          "y": 2
         },
         {
          "x": 447,
          "y": 5
         }
        ],
        "data-e8da7724ff90174dedc5416b0787be32": [
         {
          "age": 36,
          "boat": "None",
          "body": "None",
          "cabin_x": 425,
          "cabin_y": 5,
          "deck": "A",
          "embarked": "C",
          "fare": 40.125,
          "home.dest": "Winnipeg, MB",
          "name": "Ross, Mr. John Hugo",
          "parch": 0,
          "pclass": 1,
          "sex": "male",
          "sibsp": 0,
          "survived": "Passenger Died",
          "ticket": "13049"
         },
         {
          "age": 33,
          "boat": "11",
          "body": "None",
          "cabin_x": 425,
          "cabin_y": 1,
          "deck": "A",
          "embarked": "C",
          "fare": 27.7208,
          "home.dest": "Paris, France",
          "name": "Rosenbaum, Miss. Edith Louise",
          "parch": 0,
          "pclass": 1,
          "sex": "female",
          "sibsp": 0,
          "survived": "Passenger Survived",
          "ticket": "PC 17613"
         },
         {
          "age": "None",
          "boat": "None",
          "body": "None",
          "cabin_x": 420,
          "cabin_y": 5,
          "deck": "A",
          "embarked": "S",
          "fare": 52,
          "home.dest": "Stoughton, MA",
          "name": "Clifford, Mr. George Quincy",
          "parch": 0,
          "pclass": 1,
          "sex": "male",
          "sibsp": 0,
          "survived": "Passenger Died",
          "ticket": "110465"
         },
         {
          "age": 48,
          "boat": "1",
          "body": "None",
          "cabin_x": 420,
          "cabin_y": 6,
          "deck": "A",
          "embarked": "C",
          "fare": 39.6,
          "home.dest": "London / Paris",
          "name": "Duff Gordon, Lady. (Lucille Christiana Sutherland) (\"Mrs Morgan\")",
          "parch": 0,
          "pclass": 1,
          "sex": "female",
          "sibsp": 1,
          "survived": "Passenger Survived",
          "ticket": "11755"
         },
         {
          "age": 39,
          "boat": "None",
          "body": 133,
          "cabin_x": 415,
          "cabin_y": 5,
          "deck": "A",
          "embarked": "C",
          "fare": 29.7,
          "home.dest": "Philadelphia, PA",
          "name": "Dulles, Mr. William Crothers",
          "parch": 0,
          "pclass": 1,
          "sex": "male",
          "sibsp": 0,
          "survived": "Passenger Died",
          "ticket": "PC 17580"
         },
         {
          "age": "None",
          "boat": "None",
          "body": "None",
          "cabin_x": 415,
          "cabin_y": 2,
          "deck": "A",
          "embarked": "S",
          "fare": 26,
          "home.dest": "Streatham, Surrey",
          "name": "Smith, Mr. Richard William",
          "parch": 0,
          "pclass": 1,
          "sex": "male",
          "sibsp": 0,
          "survived": "Passenger Died",
          "ticket": "113056"
         },
         {
          "age": 49,
          "boat": "1",
          "body": "None",
          "cabin_x": 415,
          "cabin_y": 6,
          "deck": "A",
          "embarked": "C",
          "fare": 56.9292,
          "home.dest": "London / Paris",
          "name": "Duff Gordon, Sir. Cosmo Edmund (\"Mr Morgan\")",
          "parch": 0,
          "pclass": 1,
          "sex": "male",
          "sibsp": 1,
          "survived": "Passenger Survived",
          "ticket": "PC 17485"
         },
         {
          "age": 41,
          "boat": "None",
          "body": "None",
          "cabin_x": 415,
          "cabin_y": 1,
          "deck": "A",
          "embarked": "S",
          "fare": 30.5,
          "home.dest": "Pomeroy, WA",
          "name": "Brady, Mr. John Bertram",
          "parch": 0,
          "pclass": 1,
          "sex": "male",
          "sibsp": 0,
          "survived": "Passenger Died",
          "ticket": "113054"
         },
         {
          "age": 80,
          "boat": "B",
          "body": "None",
          "cabin_x": 410,
          "cabin_y": 2,
          "deck": "A",
          "embarked": "S",
          "fare": 30,
          "home.dest": "Hessle, Yorks",
          "name": "Barkworth, Mr. Algernon Henry Wilson",
          "parch": 0,
          "pclass": 1,
          "sex": "male",
          "sibsp": 0,
          "survived": "Passenger Survived",
          "ticket": "27042"
         },
         {
          "age": 31,
          "boat": "None",
          "body": "None",
          "cabin_x": 410,
          "cabin_y": 6,
          "deck": "A",
          "embarked": "S",
          "fare": 50.4958,
          "home.dest": "Trenton, NJ",
          "name": "Roebling, Mr. Washington Augustus II",
          "parch": 0,
          "pclass": 1,
          "sex": "male",
          "sibsp": 0,
          "survived": "Passenger Died",
          "ticket": "PC 17590"
         },
         {
          "age": 56,
          "boat": "3",
          "body": "None",
          "cabin_x": 405,
          "cabin_y": 5,
          "deck": "A",
          "embarked": "C",
          "fare": 35.5,
          "home.dest": "Basel, Switzerland",
          "name": "Simonius-Blumer, Col. Oberst Alfons",
          "parch": 0,
          "pclass": 1,
          "sex": "male",
          "sibsp": 0,
          "survived": "Passenger Survived",
          "ticket": "13213"
         },
         {
          "age": 36,
          "boat": "None",
          "body": "None",
          "cabin_x": 405,
          "cabin_y": 1,
          "deck": "A",
          "embarked": "C",
          "fare": 31.6792,
          "home.dest": "New York, NY",
          "name": "Evans, Miss. Edith Corse",
          "parch": 0,
          "pclass": 1,
          "sex": "female",
          "sibsp": 0,
          "survived": "Passenger Died",
          "ticket": "PC 17531"
         },
         {
          "age": 40,
          "boat": "7",
          "body": "None",
          "cabin_x": 400,
          "cabin_y": 2,
          "deck": "A",
          "embarked": "C",
          "fare": 31,
          "home.dest": "Glen Ridge, NJ",
          "name": "Blank, Mr. Henry",
          "parch": 0,
          "pclass": 1,
          "sex": "male",
          "sibsp": 0,
          "survived": "Passenger Survived",
          "ticket": "112277"
         },
         {
          "age": "None",
          "boat": "None",
          "body": "None",
          "cabin_x": 400,
          "cabin_y": 6,
          "deck": "A",
          "embarked": "S",
          "fare": 50,
          "home.dest": "Seattle, WA",
          "name": "Rood, Mr. Hugh Roscoe",
          "parch": 0,
          "pclass": 1,
          "sex": "male",
          "sibsp": 0,
          "survived": "Passenger Died",
          "ticket": "113767"
         },
         {
          "age": 53,
          "boat": "13",
          "body": "None",
          "cabin_x": 396,
          "cabin_y": 6.25,
          "deck": "A",
          "embarked": "S",
          "fare": 81.8583,
          "home.dest": "San Francisco, CA",
          "name": "Dodge, Dr. Washington",
          "parch": 1,
          "pclass": 1,
          "sex": "male",
          "sibsp": 1,
          "survived": "Passenger Survived",
          "ticket": "33638"
         },
         {
          "age": 4,
          "boat": "5",
          "body": "None",
          "cabin_x": 394,
          "cabin_y": 6.25,
          "deck": "A",
          "embarked": "S",
          "fare": 81.8583,
          "home.dest": "San Francisco, CA",
          "name": "Dodge, Master. Washington",
          "parch": 2,
          "pclass": 1,
          "sex": "male",
          "sibsp": 0,
          "survived": "Passenger Survived",
          "ticket": "33638"
         },
         {
          "age": 54,
          "boat": "5",
          "body": "None",
          "cabin_x": 394,
          "cabin_y": 5.75,
          "deck": "A",
          "embarked": "S",
          "fare": 81.8583,
          "home.dest": "San Francisco, CA",
          "name": "Dodge, Mrs. Washington (Ruth Vidaver)",
          "parch": 1,
          "pclass": 1,
          "sex": "female",
          "sibsp": 1,
          "survived": "Passenger Survived",
          "ticket": "33638"
         },
         {
          "age": 39,
          "boat": "None",
          "body": "None",
          "cabin_x": 350,
          "cabin_y": 1,
          "deck": "A",
          "embarked": "S",
          "fare": 0,
          "home.dest": "Belfast, NI",
          "name": "Andrews, Mr. Thomas Jr",
          "parch": 0,
          "pclass": 1,
          "sex": "male",
          "sibsp": 0,
          "survived": "Passenger Died",
          "ticket": "112050"
         },
         {
          "age": 71,
          "boat": "None",
          "body": "None",
          "cabin_x": 430,
          "cabin_y": 2,
          "deck": "A",
          "embarked": "C",
          "fare": 34.6542,
          "home.dest": "New York, NY",
          "name": "Goldschmidt, Mr. George B",
          "parch": 0,
          "pclass": 1,
          "sex": "male",
          "sibsp": 0,
          "survived": "Passenger Died",
          "ticket": "PC 17754"
         },
         {
          "age": 28,
          "boat": "7",
          "body": "None",
          "cabin_x": 430,
          "cabin_y": 5,
          "deck": "A",
          "embarked": "S",
          "fare": 35.5,
          "home.dest": "New Britain, CT",
          "name": "Sloper, Mr. William Thompson",
          "parch": 0,
          "pclass": 1,
          "sex": "male",
          "sibsp": 0,
          "survived": "Passenger Survived",
          "ticket": "113788"
         },
         {
          "age": 56,
          "boat": "None",
          "body": "None",
          "cabin_x": 430,
          "cabin_y": 1,
          "deck": "A",
          "embarked": "C",
          "fare": 30.6958,
          "home.dest": "St James, Long Island, NY",
          "name": "Smith, Mr. James Clinch",
          "parch": 0,
          "pclass": 1,
          "sex": "male",
          "sibsp": 0,
          "survived": "Passenger Died",
          "ticket": "17764"
         },
         {
          "age": 45,
          "boat": "7",
          "body": "None",
          "cabin_x": 425,
          "cabin_y": 2,
          "deck": "A",
          "embarked": "C",
          "fare": 29.7,
          "home.dest": "Paris, France",
          "name": "Chevre, Mr. Paul Romaine",
          "parch": 0,
          "pclass": 1,
          "sex": "male",
          "sibsp": 0,
          "survived": "Passenger Survived",
          "ticket": "PC 17594"
         },
         {
          "age": 35,
          "boat": "3",
          "body": "None",
          "cabin_x": 395,
          "cabin_y": 3,
          "deck": "B",
          "embarked": "C",
          "fare": 512.3292,
          "home.dest": "None",
          "name": "Lesurer, Mr. Gustave J",
          "parch": 0,
          "pclass": 1,
          "sex": "male",
          "sibsp": 0,
          "survived": "Passenger Survived",
          "ticket": "PC 17755"
         },
         {
          "age": "None",
          "boat": "None",
          "body": "None",
          "cabin_x": 395,
          "cabin_y": 4,
          "deck": "B",
          "embarked": "S",
          "fare": 0,
          "home.dest": "None",
          "name": "Fry, Mr. Richard",
          "parch": 0,
          "pclass": 1,
          "sex": "male",
          "sibsp": 0,
          "survived": "Passenger Died",
          "ticket": "112058"
         },
         {
          "age": 36,
          "boat": "4",
          "body": "None",
          "cabin_x": 395,
          "cabin_y": 1,
          "deck": "B",
          "embarked": "C",
          "fare": 262.375,
          "home.dest": "None",
          "name": "Chaudanson, Miss. Victorine",
          "parch": 0,
          "pclass": 1,
          "sex": "female",
          "sibsp": 0,
          "survived": "Passenger Survived",
          "ticket": "PC 17608"
         },
         {
          "age": 30,
          "boat": "3",
          "body": "None",
          "cabin_x": 375,
          "cabin_y": 1,
          "deck": "B",
          "embarked": "S",
          "fare": 93.5,
          "home.dest": "None",
          "name": "Perreault, Miss. Anne",
          "parch": 0,
          "pclass": 1,
          "sex": "female",
          "sibsp": 0,
          "survived": "Passenger Survived",
          "ticket": "12749"
         },
         {
          "age": 57,
          "boat": "None",
          "body": "None",
          "cabin_x": 366,
          "cabin_y": 6.25,
          "deck": "B",
          "embarked": "C",
          "fare": 146.5208,
          "home.dest": "Paris, France",
          "name": "Spencer, Mr. William Augustus",
          "parch": 0,
          "pclass": 1,
          "sex": "male",
          "sibsp": 1,
          "survived": "Passenger Died",
          "ticket": "PC 17569"
         },
         {
          "age": "None",
          "boat": "6",
          "body": "None",
          "cabin_x": 364,
          "cabin_y": 6.25,
          "deck": "B",
          "embarked": "C",
          "fare": 146.5208,
          "home.dest": "Paris, France",
          "name": "Spencer, Mrs. William Augustus (Marie Eugenie)",
          "parch": 0,
          "pclass": 1,
          "sex": "female",
          "sibsp": 1,
          "survived": "Passenger Survived",
          "ticket": "PC 17569"
         },
         {
          "age": 16,
          "boat": "8",
          "body": "None",
          "cabin_x": 365,
          "cabin_y": 1,
          "deck": "B",
          "embarked": "S",
          "fare": 86.5,
          "home.dest": "None",
          "name": "Maioni, Miss. Roberta",
          "parch": 0,
          "pclass": 1,
          "sex": "female",
          "sibsp": 0,
          "survived": "Passenger Survived",
          "ticket": "110152"
         },
         {
          "age": 58,
          "boat": "None",
          "body": "None",
          "cabin_x": 365,
          "cabin_y": 5,
          "deck": "B",
          "embarked": "C",
          "fare": 146.5208,
          "home.dest": "None",
          "name": "Lurette, Miss. Elise",
          "parch": 0,
          "pclass": 1,
          "sex": "female",
          "sibsp": 0,
          "survived": "Passenger Survived",
          "ticket": "PC 17569"
         },
         {
          "age": 24,
          "boat": "None",
          "body": "None",
          "cabin_x": 355,
          "cabin_y": 5,
          "deck": "B",
          "embarked": "C",
          "fare": 79.2,
          "home.dest": "None",
          "name": "Giglio, Mr. Victor",
          "parch": 0,
          "pclass": 1,
          "sex": "male",
          "sibsp": 0,
          "survived": "Passenger Died",
          "ticket": "PC 17593"
         },
         {
          "age": 40,
          "boat": "None",
          "body": 110,
          "cabin_x": 340,
          "cabin_y": 6,
          "deck": "B",
          "embarked": "S",
          "fare": 0,
          "home.dest": "None",
          "name": "Harrison, Mr. William",
          "parch": 0,
          "pclass": 1,
          "sex": "male",
          "sibsp": 0,
          "survived": "Passenger Died",
          "ticket": "112059"
         },
         {
          "age": 53,
          "boat": "D",
          "body": "None",
          "cabin_x": 386,
          "cabin_y": 2.25,
          "deck": "C",
          "embarked": "S",
          "fare": 51.4792,
          "home.dest": "Bayside, Queens, NY",
          "name": "Appleton, Mrs. Edward Dale (Charlotte Lamson)",
          "parch": 0,
          "pclass": 1,
          "sex": "female",
          "sibsp": 2,
          "survived": "Passenger Survived",
          "ticket": "11769"
         },
         {
          "age": 59,
          "boat": "D",
          "body": "None",
          "cabin_x": 384,
          "cabin_y": 2.25,
          "deck": "C",
          "embarked": "S",
          "fare": 51.4792,
          "home.dest": "Belmont, MA",
          "name": "Brown, Mrs. John Murray (Caroline Lane Lamson)",
          "parch": 0,
          "pclass": 1,
          "sex": "female",
          "sibsp": 2,
          "survived": "Passenger Survived",
          "ticket": "11769"
         },
         {
          "age": 55,
          "boat": "2",
          "body": "None",
          "cabin_x": 384,
          "cabin_y": 1.75,
          "deck": "C",
          "embarked": "S",
          "fare": 25.7,
          "home.dest": "New York, NY",
          "name": "Cornell, Mrs. Robert Clifford (Malvina Helen Lamson)",
          "parch": 0,
          "pclass": 1,
          "sex": "female",
          "sibsp": 2,
          "survived": "Passenger Survived",
          "ticket": "11770"
         },
         {
          "age": 58,
          "boat": "8",
          "body": "None",
          "cabin_x": 380,
          "cabin_y": 2,
          "deck": "C",
          "embarked": "S",
          "fare": 26.55,
          "home.dest": "Birkdale, England Cleveland, Ohio",
          "name": "Bonnell, Miss. Elizabeth",
          "parch": 0,
          "pclass": 1,
          "sex": "female",
          "sibsp": 0,
          "survived": "Passenger Survived",
          "ticket": "113783"
         },
         {
          "age": 52,
          "boat": "6",
          "body": "None",
          "cabin_x": 400,
          "cabin_y": 5,
          "deck": "C",
          "embarked": "S",
          "fare": 30.5,
          "home.dest": "Toronto, ON",
          "name": "Peuchen, Major. Arthur Godfrey",
          "parch": 0,
          "pclass": 1,
          "sex": "male",
          "sibsp": 0,
          "survived": "Passenger Survived",
          "ticket": "113786"
         },
         {
          "age": 39,
          "boat": "8",
          "body": "None",
          "cabin_x": 375,
          "cabin_y": 2,
          "deck": "C",
          "embarked": "C",
          "fare": 108.9,
          "home.dest": "None",
          "name": "Oliva y Ocana, Dona. Fermina",
          "parch": 0,
          "pclass": 1,
          "sex": "female",
          "sibsp": 0,
          "survived": "Passenger Survived",
          "ticket": "PC 17758"
         },
         {
          "age": 30,
          "boat": "None",
          "body": "None",
          "cabin_x": 396,
          "cabin_y": 5.25,
          "deck": "C",
          "embarked": "S",
          "fare": 26,
          "home.dest": "Brockton, MA",
          "name": "Maguire, Mr. John Edward",
          "parch": 0,
          "pclass": 1,
          "sex": "male",
          "sibsp": 0,
          "survived": "Passenger Died",
          "ticket": "110469"
         },
         {
          "age": "None",
          "boat": "3",
          "body": "None",
          "cabin_x": 394,
          "cabin_y": 5.25,
          "deck": "C",
          "embarked": "S",
          "fare": 30.5,
          "home.dest": "Manchester, England",
          "name": "Saalfeld, Mr. Adolphe",
          "parch": 0,
          "pclass": 1,
          "sex": "male",
          "sibsp": 0,
          "survived": "Passenger Survived",
          "ticket": "19988"
         },
         {
          "age": 47,
          "boat": "None",
          "body": 207,
          "cabin_x": 380,
          "cabin_y": 5,
          "deck": "C",
          "embarked": "S",
          "fare": 52,
          "home.dest": "Worcester, MA",
          "name": "Porter, Mr. Walter Chamberlain",
          "parch": 0,
          "pclass": 1,
          "sex": "male",
          "sibsp": 0,
          "survived": "Passenger Died",
          "ticket": "110465"
         },
         {
          "age": 30,
          "boat": "None",
          "body": "None",
          "cabin_x": 365,
          "cabin_y": 3,
          "deck": "C",
          "embarked": "C",
          "fare": 27.75,
          "home.dest": "New York, NY",
          "name": "Foreman, Mr. Benjamin Laventall",
          "parch": 0,
          "pclass": 1,
          "sex": "male",
          "sibsp": 0,
          "survived": "Passenger Died",
          "ticket": "113051"
         },
         {
          "age": 54,
          "boat": "1",
          "body": "None",
          "cabin_x": 366,
          "cabin_y": 5.25,
          "deck": "C",
          "embarked": "C",
          "fare": 55.4417,
          "home.dest": "Newark, NJ",
          "name": "Stengel, Mr. Charles Emil Henry",
          "parch": 0,
          "pclass": 1,
          "sex": "male",
          "sibsp": 1,
          "survived": "Passenger Survived",
          "ticket": "11778"
         },
         {
          "age": 43,
          "boat": "5",
          "body": "None",
          "cabin_x": 364,
          "cabin_y": 5.25,
          "deck": "C",
          "embarked": "C",
          "fare": 55.4417,
          "home.dest": "Newark, NJ",
          "name": "Stengel, Mrs. Charles Emil Henry (Annie May Morris)",
          "parch": 0,
          "pclass": 1,
          "sex": "female",
          "sibsp": 1,
          "survived": "Passenger Survived",
          "ticket": "11778"
         },
         {
          "age": 37,
          "boat": "None",
          "body": "None",
          "cabin_x": 365,
          "cabin_y": 4,
          "deck": "C",
          "embarked": "C",
          "fare": 29.7,
          "home.dest": "Brooklyn, NY",
          "name": "Natsch, Mr. Charles H",
          "parch": 1,
          "pclass": 1,
          "sex": "male",
          "sibsp": 0,
          "survived": "Passenger Died",
          "ticket": "PC 17596"
         },
         {
          "age": "None",
          "boat": "None",
          "body": "None",
          "cabin_x": 361,
          "cabin_y": 5.25,
          "deck": "C",
          "embarked": "S",
          "fare": 26.55,
          "home.dest": "Portland, OR",
          "name": "Klaber, Mr. Herman",
          "parch": 0,
          "pclass": 1,
          "sex": "male",
          "sibsp": 0,
          "survived": "Passenger Died",
          "ticket": "113028"
         },
         {
          "age": 45.5,
          "boat": "None",
          "body": 166,
          "cabin_x": 359,
          "cabin_y": 5.25,
          "deck": "C",
          "embarked": "S",
          "fare": 28.5,
          "home.dest": "Surbiton Hill, Surrey",
          "name": "Partner, Mr. Austen",
          "parch": 0,
          "pclass": 1,
          "sex": "male",
          "sibsp": 0,
          "survived": "Passenger Died",
          "ticket": "113043"
         },
         {
          "age": 48,
          "boat": "5 7",
          "body": "None",
          "cabin_x": 356,
          "cabin_y": 5.25,
          "deck": "C",
          "embarked": "S",
          "fare": 52,
          "home.dest": "London /  East Orange, NJ",
          "name": "Taylor, Mr. Elmer Zebley",
          "parch": 0,
          "pclass": 1,
          "sex": "male",
          "sibsp": 1,
          "survived": "Passenger Survived",
          "ticket": "19996"
         },
         {
          "age": "None",
          "boat": "5 7",
          "body": "None",
          "cabin_x": 354,
          "cabin_y": 5.25,
          "deck": "C",
          "embarked": "S",
          "fare": 52,
          "home.dest": "London /  East Orange, NJ",
          "name": "Taylor, Mrs. Elmer Zebley (Juliet Cummins Wright)",
          "parch": 0,
          "pclass": 1,
          "sex": "female",
          "sibsp": 1,
          "survived": "Passenger Survived",
          "ticket": "19996"
         },
         {
          "age": "None",
          "boat": "None",
          "body": "None",
          "cabin_x": 350,
          "cabin_y": 5,
          "deck": "C",
          "embarked": "S",
          "fare": 35,
          "home.dest": "London, England",
          "name": "Williams-Lambert, Mr. Fletcher Fellows",
          "parch": 0,
          "pclass": 1,
          "sex": "male",
          "sibsp": 0,
          "survived": "Passenger Died",
          "ticket": "113510"
         },
         {
          "age": 35,
          "boat": "4",
          "body": "None",
          "cabin_x": 345,
          "cabin_y": 5,
          "deck": "C",
          "embarked": "C",
          "fare": 211.5,
          "home.dest": "None",
          "name": "Geiger, Miss. Amalie",
          "parch": 0,
          "pclass": 1,
          "sex": "female",
          "sibsp": 0,
          "survived": "Passenger Survived",
          "ticket": "113503"
         },
         {
          "age": 32.5,
          "boat": "None",
          "body": 45,
          "cabin_x": 340,
          "cabin_y": 4,
          "deck": "C",
          "embarked": "C",
          "fare": 211.5,
          "home.dest": "None",
          "name": "Keeping, Mr. Edwin",
          "parch": 0,
          "pclass": 1,
          "sex": "male",
          "sibsp": 0,
          "survived": "Passenger Died",
          "ticket": "113503"
         },
         {
          "age": 29,
          "boat": "None",
          "body": "None",
          "cabin_x": 466,
          "cabin_y": 4.25,
          "deck": "C",
          "embarked": "S",
          "fare": 66.6,
          "home.dest": "Isleworth, England",
          "name": "Pears, Mr. Thomas Clinton",
          "parch": 0,
          "pclass": 1,
          "sex": "male",
          "sibsp": 1,
          "survived": "Passenger Died",
          "ticket": "113776"
         },
         {
          "age": 22,
          "boat": "8",
          "body": "None",
          "cabin_x": 464,
          "cabin_y": 4.25,
          "deck": "C",
          "embarked": "S",
          "fare": 66.6,
          "home.dest": "Isleworth, England",
          "name": "Pears, Mrs. Thomas (Edith Wearne)",
          "parch": 0,
          "pclass": 1,
          "sex": "female",
          "sibsp": 1,
          "survived": "Passenger Survived",
          "ticket": "113776"
         },
         {
          "age": 35,
          "boat": "11",
          "body": "None",
          "cabin_x": 430,
          "cabin_y": 5,
          "deck": "C",
          "embarked": "C",
          "fare": 57.75,
          "home.dest": "New York, NY",
          "name": "Schabert, Mrs. Paul (Emma Mock)",
          "parch": 0,
          "pclass": 1,
          "sex": "female",
          "sibsp": 1,
          "survived": "Passenger Survived",
          "ticket": "13236"
         },
         {
          "age": 55,
          "boat": "None",
          "body": "None",
          "cabin_x": 430,
          "cabin_y": 6,
          "deck": "C",
          "embarked": "S",
          "fare": 30.5,
          "home.dest": "Montreal, PQ",
          "name": "Molson, Mr. Harry Markland",
          "parch": 0,
          "pclass": 1,
          "sex": "male",
          "sibsp": 0,
          "survived": "Passenger Died",
          "ticket": "113787"
         },
         {
          "age": 24,
          "boat": "None",
          "body": "None",
          "cabin_x": 431,
          "cabin_y": 1.25,
          "deck": "C",
          "embarked": "S",
          "fare": 60,
          "home.dest": "Huntington, WV",
          "name": "Smith, Mr. Lucien Philip",
          "parch": 0,
          "pclass": 1,
          "sex": "male",
          "sibsp": 1,
          "survived": "Passenger Died",
          "ticket": "13695"
         },
         {
          "age": 18,
          "boat": "6",
          "body": "None",
          "cabin_x": 429,
          "cabin_y": 1.25,
          "deck": "C",
          "embarked": "S",
          "fare": 60,
          "home.dest": "Huntington, WV",
          "name": "Smith, Mrs. Lucien Philip (Mary Eloise Hughes)",
          "parch": 0,
          "pclass": 1,
          "sex": "female",
          "sibsp": 1,
          "survived": "Passenger Survived",
          "ticket": "13695"
         },
         {
          "age": 55,
          "boat": "8",
          "body": "None",
          "cabin_x": 426,
          "cabin_y": 6.25,
          "deck": "C",
          "embarked": "C",
          "fare": 135.6333,
          "home.dest": "New York, NY / Briarcliff Manor NY",
          "name": "White, Mrs. John Stuart (Ella Holmes)",
          "parch": 0,
          "pclass": 1,
          "sex": "female",
          "sibsp": 0,
          "survived": "Passenger Survived",
          "ticket": "PC 17760"
         },
         {
          "age": 36,
          "boat": "8",
          "body": "None",
          "cabin_x": 424,
          "cabin_y": 6.25,
          "deck": "C",
          "embarked": "C",
          "fare": 135.6333,
          "home.dest": "New York, NY / Washington, DC",
          "name": "Young, Miss. Marie Grice",
          "parch": 0,
          "pclass": 1,
          "sex": "female",
          "sibsp": 0,
          "survived": "Passenger Survived",
          "ticket": "PC 17760"
         },
         {
          "age": 55,
          "boat": "None",
          "body": "None",
          "cabin_x": 415,
          "cabin_y": 6,
          "deck": "C",
          "embarked": "S",
          "fare": 50,
          "home.dest": "London / Birmingham",
          "name": "Hipkins, Mr. William Edward",
          "parch": 0,
          "pclass": 1,
          "sex": "male",
          "sibsp": 0,
          "survived": "Passenger Died",
          "ticket": "680"
         },
         {
          "age": 38,
          "boat": "4",
          "body": "None",
          "cabin_x": 450,
          "cabin_y": 3,
          "deck": "C",
          "embarked": "C",
          "fare": 227.525,
          "home.dest": "New York, NY",
          "name": "Endres, Miss. Caroline Louise",
          "parch": 0,
          "pclass": 1,
          "sex": "female",
          "sibsp": 0,
          "survived": "Passenger Survived",
          "ticket": "PC 17757"
         },
         {
          "age": 36,
          "boat": "None",
          "body": 172,
          "cabin_x": 406,
          "cabin_y": 6.25,
          "deck": "C",
          "embarked": "S",
          "fare": 78.85,
          "home.dest": "Little Onn Hall, Staffs",
          "name": "Cavendish, Mr. Tyrell William",
          "parch": 0,
          "pclass": 1,
          "sex": "male",
          "sibsp": 1,
          "survived": "Passenger Died",
          "ticket": "19877"
         },
         {
          "age": 76,
          "boat": "6",
          "body": "None",
          "cabin_x": 404,
          "cabin_y": 6.25,
          "deck": "C",
          "embarked": "S",
          "fare": 78.85,
          "home.dest": "Little Onn Hall, Staffs",
          "name": "Cavendish, Mrs. Tyrell William (Julia Florence Siegel)",
          "parch": 0,
          "pclass": 1,
          "sex": "female",
          "sibsp": 1,
          "survived": "Passenger Survived",
          "ticket": "19877"
         },
         {
          "age": "None",
          "boat": "7",
          "body": "None",
          "cabin_x": 445,
          "cabin_y": 3,
          "deck": "C",
          "embarked": "C",
          "fare": 29.7,
          "home.dest": "Paris, France",
          "name": "Marechal, Mr. Pierre",
          "parch": 0,
          "pclass": 1,
          "sex": "male",
          "sibsp": 0,
          "survived": "Passenger Survived",
          "ticket": "11774"
         },
         {
          "age": 50,
          "boat": "None",
          "body": "None",
          "cabin_x": 440,
          "cabin_y": 3,
          "deck": "C",
          "embarked": "C",
          "fare": 28.7125,
          "home.dest": "Paris, France New York, NY",
          "name": "Isham, Miss. Ann Elizabeth",
          "parch": 0,
          "pclass": 1,
          "sex": "female",
          "sibsp": 0,
          "survived": "Passenger Died",
          "ticket": "PC 17595"
         },
         {
          "age": 56,
          "boat": "7",
          "body": "None",
          "cabin_x": 455,
          "cabin_y": 4,
          "deck": "C",
          "embarked": "C",
          "fare": 83.1583,
          "home.dest": "Mt Airy, Philadelphia, PA",
          "name": "Potter, Mrs. Thomas Jr (Lily Alexenia Wilson)",
          "parch": 1,
          "pclass": 1,
          "sex": "female",
          "sibsp": 0,
          "survived": "Passenger Survived",
          "ticket": "11767"
         },
         {
          "age": 53,
          "boat": "B",
          "body": "None",
          "cabin_x": 435,
          "cabin_y": 3,
          "deck": "C",
          "embarked": "C",
          "fare": 28.5,
          "home.dest": "Washington, DC",
          "name": "Gracie, Col. Archibald IV",
          "parch": 0,
          "pclass": 1,
          "sex": "male",
          "sibsp": 0,
          "survived": "Passenger Survived",
          "ticket": "113780"
         },
         {
          "age": 28,
          "boat": "D",
          "body": "None",
          "cabin_x": 451,
          "cabin_y": 4.25,
          "deck": "C",
          "embarked": "S",
          "fare": 26.55,
          "home.dest": "Stockholm, Sweden / Washington, DC",
          "name": "Bjornstrom-Steffansson, Mr. Mauritz Hakan",
          "parch": 0,
          "pclass": 1,
          "sex": "male",
          "sibsp": 0,
          "survived": "Passenger Survived",
          "ticket": "110564"
         },
         {
          "age": "None",
          "boat": "D",
          "body": "None",
          "cabin_x": 449,
          "cabin_y": 4.25,
          "deck": "C",
          "embarked": "S",
          "fare": 35.5,
          "home.dest": "London, England",
          "name": "Woolner, Mr. Hugh",
          "parch": 0,
          "pclass": 1,
          "sex": "male",
          "sibsp": 0,
          "survived": "Passenger Survived",
          "ticket": "19947"
         },
         {
          "age": 31,
          "boat": "7",
          "body": "None",
          "cabin_x": 430,
          "cabin_y": 3,
          "deck": "C",
          "embarked": "C",
          "fare": 28.5375,
          "home.dest": "Albany, NY",
          "name": "Tucker, Mr. Gilbert Milligan Jr",
          "parch": 0,
          "pclass": 1,
          "sex": "male",
          "sibsp": 0,
          "survived": "Passenger Survived",
          "ticket": "2543"
         },
         {
          "age": 23,
          "boat": "7",
          "body": "None",
          "cabin_x": 446,
          "cabin_y": 4.25,
          "deck": "C",
          "embarked": "C",
          "fare": 83.1583,
          "home.dest": "Mt Airy, Philadelphia, PA",
          "name": "Earnshaw, Mrs. Boulton (Olive Potter)",
          "parch": 1,
          "pclass": 1,
          "sex": "female",
          "sibsp": 0,
          "survived": "Passenger Survived",
          "ticket": "11767"
         },
         {
          "age": 24,
          "boat": "7",
          "body": "None",
          "cabin_x": 444,
          "cabin_y": 4.25,
          "deck": "C",
          "embarked": "C",
          "fare": 83.1583,
          "home.dest": "New York, NY",
          "name": "Hays, Miss. Margaret Bechstein",
          "parch": 0,
          "pclass": 1,
          "sex": "female",
          "sibsp": 0,
          "survived": "Passenger Survived",
          "ticket": "11767"
         },
         {
          "age": 36,
          "boat": "A",
          "body": "None",
          "cabin_x": 466,
          "cabin_y": 5.25,
          "deck": "C",
          "embarked": "C",
          "fare": 75.2417,
          "home.dest": "Winnipeg, MN",
          "name": "Beattie, Mr. Thomson",
          "parch": 0,
          "pclass": 1,
          "sex": "male",
          "sibsp": 0,
          "survived": "Passenger Died",
          "ticket": "13050"
         },
         {
          "age": 46,
          "boat": "None",
          "body": 292,
          "cabin_x": 464,
          "cabin_y": 5.25,
          "deck": "C",
          "embarked": "C",
          "fare": 75.2417,
          "home.dest": "Vancouver, BC",
          "name": "McCaffry, Mr. Thomas Francis",
          "parch": 0,
          "pclass": 1,
          "sex": "male",
          "sibsp": 0,
          "survived": "Passenger Died",
          "ticket": "13050"
         },
         {
          "age": 18,
          "boat": "None",
          "body": "None",
          "cabin_x": 366,
          "cabin_y": 1.25,
          "deck": "C",
          "embarked": "C",
          "fare": 108.9,
          "home.dest": "Madrid, Spain",
          "name": "Penasco y Castellana, Mr. Victor de Satode",
          "parch": 0,
          "pclass": 1,
          "sex": "male",
          "sibsp": 1,
          "survived": "Passenger Died",
          "ticket": "PC 17758"
         },
         {
          "age": 17,
          "boat": "8",
          "body": "None",
          "cabin_x": 364,
          "cabin_y": 1.25,
          "deck": "C",
          "embarked": "C",
          "fare": 108.9,
          "home.dest": "Madrid, Spain",
          "name": "Penasco y Castellana, Mrs. Victor de Satode (Maria Josefa Perez de Soto y Vallejo)",
          "parch": 0,
          "pclass": 1,
          "sex": "female",
          "sibsp": 1,
          "survived": "Passenger Survived",
          "ticket": "PC 17758"
         },
         {
          "age": 49,
          "boat": "None",
          "body": "None",
          "cabin_x": 381,
          "cabin_y": 6.25,
          "deck": "C",
          "embarked": "C",
          "fare": 110.8833,
          "home.dest": "Haverford, PA",
          "name": "Thayer, Mr. John Borland",
          "parch": 1,
          "pclass": 1,
          "sex": "male",
          "sibsp": 1,
          "survived": "Passenger Died",
          "ticket": "17421"
         },
         {
          "age": 39,
          "boat": "4",
          "body": "None",
          "cabin_x": 379,
          "cabin_y": 6.25,
          "deck": "C",
          "embarked": "C",
          "fare": 110.8833,
          "home.dest": "Haverford, PA",
          "name": "Thayer, Mrs. John Borland (Marian Longstreth Morris)",
          "parch": 1,
          "pclass": 1,
          "sex": "female",
          "sibsp": 1,
          "survived": "Passenger Survived",
          "ticket": "17421"
         },
         {
          "age": 17,
          "boat": "B",
          "body": "None",
          "cabin_x": 370,
          "cabin_y": 6,
          "deck": "C",
          "embarked": "C",
          "fare": 110.8833,
          "home.dest": "Haverford, PA",
          "name": "Thayer, Mr. John Borland Jr",
          "parch": 2,
          "pclass": 1,
          "sex": "male",
          "sibsp": 0,
          "survived": "Passenger Survived",
          "ticket": "17421"
         },
         {
          "age": 44,
          "boat": "None",
          "body": 230,
          "cabin_x": 351,
          "cabin_y": 6.25,
          "deck": "C",
          "embarked": "Q",
          "fare": 90,
          "home.dest": "Fond du Lac, WI",
          "name": "Minahan, Dr. William Edward",
          "parch": 0,
          "pclass": 1,
          "sex": "male",
          "sibsp": 2,
          "survived": "Passenger Died",
          "ticket": "19928"
         },
         {
          "age": 33,
          "boat": "14",
          "body": "None",
          "cabin_x": 349,
          "cabin_y": 6.25,
          "deck": "C",
          "embarked": "Q",
          "fare": 90,
          "home.dest": "Green Bay, WI",
          "name": "Minahan, Miss. Daisy E",
          "parch": 0,
          "pclass": 1,
          "sex": "female",
          "sibsp": 1,
          "survived": "Passenger Survived",
          "ticket": "19928"
         },
         {
          "age": 37,
          "boat": "14",
          "body": "None",
          "cabin_x": 349,
          "cabin_y": 5.75,
          "deck": "C",
          "embarked": "Q",
          "fare": 90,
          "home.dest": "Fond du Lac, WI",
          "name": "Minahan, Mrs. William Edward (Lillian E Thorpe)",
          "parch": 0,
          "pclass": 1,
          "sex": "female",
          "sibsp": 1,
          "survived": "Passenger Survived",
          "ticket": "19928"
         },
         {
          "age": 30,
          "boat": "11",
          "body": "None",
          "cabin_x": 351,
          "cabin_y": 5.75,
          "deck": "C",
          "embarked": "C",
          "fare": 57.75,
          "home.dest": "New York, NY",
          "name": "Mock, Mr. Philipp Edmund",
          "parch": 0,
          "pclass": 1,
          "sex": "male",
          "sibsp": 1,
          "survived": "Passenger Survived",
          "ticket": "13236"
         },
         {
          "age": 50,
          "boat": "None",
          "body": "None",
          "cabin_x": 346,
          "cabin_y": 6.25,
          "deck": "C",
          "embarked": "C",
          "fare": 211.5,
          "home.dest": "Elkins Park, PA",
          "name": "Widener, Mr. George Dunton",
          "parch": 1,
          "pclass": 1,
          "sex": "male",
          "sibsp": 1,
          "survived": "Passenger Died",
          "ticket": "113503"
         },
         {
          "age": 50,
          "boat": "4",
          "body": "None",
          "cabin_x": 344,
          "cabin_y": 6.25,
          "deck": "C",
          "embarked": "C",
          "fare": 211.5,
          "home.dest": "Elkins Park, PA",
          "name": "Widener, Mrs. George Dunton (Eleanor Elkins)",
          "parch": 1,
          "pclass": 1,
          "sex": "female",
          "sibsp": 1,
          "survived": "Passenger Survived",
          "ticket": "113503"
         },
         {
          "age": 27,
          "boat": "None",
          "body": "None",
          "cabin_x": 335,
          "cabin_y": 6,
          "deck": "C",
          "embarked": "C",
          "fare": 211.5,
          "home.dest": "Elkins Park, PA",
          "name": "Widener, Mr. Harry Elkins",
          "parch": 2,
          "pclass": 1,
          "sex": "male",
          "sibsp": 0,
          "survived": "Passenger Died",
          "ticket": "113503"
         },
         {
          "age": 45,
          "boat": "None",
          "body": "None",
          "cabin_x": 331,
          "cabin_y": 3.25,
          "deck": "C",
          "embarked": "S",
          "fare": 83.475,
          "home.dest": "New York, NY",
          "name": "Harris, Mr. Henry Birkhardt",
          "parch": 0,
          "pclass": 1,
          "sex": "male",
          "sibsp": 1,
          "survived": "Passenger Died",
          "ticket": "36973"
         },
         {
          "age": 35,
          "boat": "D",
          "body": "None",
          "cabin_x": 329,
          "cabin_y": 3.25,
          "deck": "C",
          "embarked": "S",
          "fare": 83.475,
          "home.dest": "New York, NY",
          "name": "Harris, Mrs. Henry Birkhardt (Irene Wallach)",
          "parch": 0,
          "pclass": 1,
          "sex": "female",
          "sibsp": 1,
          "survived": "Passenger Survived",
          "ticket": "36973"
         },
         {
          "age": 50,
          "boat": "None",
          "body": 62,
          "cabin_x": 331,
          "cabin_y": 6.25,
          "deck": "C",
          "embarked": "C",
          "fare": 106.425,
          "home.dest": "Deephaven, MN / Cedar Rapids, IA",
          "name": "Douglas, Mr. Walter Donald",
          "parch": 0,
          "pclass": 1,
          "sex": "male",
          "sibsp": 1,
          "survived": "Passenger Died",
          "ticket": "PC 17761"
         },
         {
          "age": 48,
          "boat": "2",
          "body": "None",
          "cabin_x": 329,
          "cabin_y": 6.25,
          "deck": "C",
          "embarked": "C",
          "fare": 106.425,
          "home.dest": "Deephaven, MN / Cedar Rapids, IA",
          "name": "Douglas, Mrs. Walter Donald (Mahala Dutton)",
          "parch": 0,
          "pclass": 1,
          "sex": "female",
          "sibsp": 1,
          "survived": "Passenger Survived",
          "ticket": "PC 17761"
         },
         {
          "age": 49,
          "boat": "5",
          "body": "None",
          "cabin_x": 331,
          "cabin_y": 4.25,
          "deck": "C",
          "embarked": "C",
          "fare": 89.1042,
          "home.dest": "Paris, France / New York, NY",
          "name": "Goldenberg, Mr. Samuel L",
          "parch": 0,
          "pclass": 1,
          "sex": "male",
          "sibsp": 1,
          "survived": "Passenger Survived",
          "ticket": "17453"
         },
         {
          "age": "None",
          "boat": "5",
          "body": "None",
          "cabin_x": 329,
          "cabin_y": 4.25,
          "deck": "C",
          "embarked": "C",
          "fare": 89.1042,
          "home.dest": "Paris, France / New York, NY",
          "name": "Goldenberg, Mrs. Samuel L (Edwiga Grabowska)",
          "parch": 0,
          "pclass": 1,
          "sex": "female",
          "sibsp": 1,
          "survived": "Passenger Survived",
          "ticket": "17453"
         },
         {
          "age": "None",
          "boat": "None",
          "body": "None",
          "cabin_x": 400,
          "cabin_y": 2,
          "deck": "C",
          "embarked": "S",
          "fare": 221.7792,
          "home.dest": "None",
          "name": "Farthing, Mr. John",
          "parch": 0,
          "pclass": 1,
          "sex": "male",
          "sibsp": 0,
          "survived": "Passenger Died",
          "ticket": "PC 17483"
         },
         {
          "age": 29,
          "boat": "8",
          "body": "None",
          "cabin_x": 395,
          "cabin_y": 2,
          "deck": "C",
          "embarked": "S",
          "fare": 221.7792,
          "home.dest": "None",
          "name": "Bird, Miss. Ellen",
          "parch": 0,
          "pclass": 1,
          "sex": "female",
          "sibsp": 0,
          "survived": "Passenger Survived",
          "ticket": "PC 17483"
         },
         {
          "age": 35,
          "boat": "8",
          "body": "None",
          "cabin_x": 390,
          "cabin_y": 2,
          "deck": "C",
          "embarked": "S",
          "fare": 135.6333,
          "home.dest": "None",
          "name": "Bissette, Miss. Amelia",
          "parch": 0,
          "pclass": 1,
          "sex": "female",
          "sibsp": 0,
          "survived": "Passenger Survived",
          "ticket": "PC 17760"
         }
        ],
        "data-eafd86216bcd26664c2f502352fd1040": [
         {
          "x": 325,
          "y": 3.5
         },
         {
          "x": 340,
          "y": 7
         },
         {
          "x": 440,
          "y": 7
         },
         {
          "x": 445,
          "y": 6
         },
         {
          "x": 447,
          "y": 5
         }
        ]
       },
       "layer": [
        {
         "data": {
          "name": "data-7b137a2242bf3b1d54d0bbdc35a70a0b"
         },
         "encoding": {
          "x": {
           "field": "cabin_x",
           "scale": {
            "domain": [
             320,
             450
            ]
           },
           "type": "quantitative"
          },
          "y": {
           "field": "cabin_y",
           "scale": {
            "domain": [
             -1,
             7.5
            ]
           },
           "type": "quantitative"
          }
         },
         "height": 400,
         "mark": {
          "fill": "None",
          "opacity": 0.3,
          "size": 1600,
          "stroke": "black",
          "type": "square"
         },
         "width": 1500
        },
        {
         "data": {
          "name": "data-e8da7724ff90174dedc5416b0787be32"
         },
         "encoding": {
          "color": {
           "field": "survived",
           "scale": {
            "range": [
             "red",
             "white"
            ]
           },
           "type": "nominal"
          },
          "x": {
           "field": "cabin_x",
           "scale": {
            "domain": [
             320,
             450
            ]
           },
           "type": "quantitative"
          },
          "y": {
           "field": "cabin_y",
           "scale": {
            "domain": [
             -1,
             7.5
            ]
           },
           "type": "quantitative"
          }
         },
         "height": 400,
         "mark": {
          "filled": true,
          "opacity": 1,
          "size": 300,
          "stroke": "black",
          "type": "point"
         },
         "width": 1500
        },
        {
         "layer": [
          {
           "data": {
            "name": "data-eafd86216bcd26664c2f502352fd1040"
           },
           "encoding": {
            "x": {
             "field": "x",
             "type": "quantitative"
            },
            "y": {
             "field": "y",
             "type": "quantitative"
            }
           },
           "mark": "line"
          },
          {
           "data": {
            "name": "data-246c2b9bcb306b5ff7ae5408df7bc874"
           },
           "encoding": {
            "x": {
             "field": "x",
             "type": "quantitative"
            },
            "y": {
             "field": "y",
             "type": "quantitative"
            }
           },
           "mark": "line"
          },
          {
           "data": {
            "name": "data-d77c64ff8010497b3a6ac0862ca66693"
           },
           "encoding": {
            "x": {
             "field": "x",
             "type": "quantitative"
            },
            "y": {
             "field": "y",
             "type": "quantitative"
            }
           },
           "mark": "line"
          }
         ]
        }
       ]
      },
      "image/png": "[encoded data removed]",
      "text/plain": [
       "<VegaLite 3 object>\n",
       "\n",
       "If you see this message, it means the renderer has not been properly enabled\n",
       "for the frontend that you are using. For more information, see\n",
       "https://altair-viz.github.io/user_guide/troubleshooting.html\n"
      ]
     },
     "execution_count": 11,
     "metadata": {},
     "output_type": "execute_result"
    }
   ],
   "source": [
    "cabin_plot + passenger_plot + chart_ship_outline"
   ]
  },
  {
   "cell_type": "markdown",
   "metadata": {},
   "source": [
    "## 4. Wrapping everything in the `make_titanic_plot` function"
   ]
  },
  {
   "cell_type": "code",
   "execution_count": 30,
   "metadata": {},
   "outputs": [],
   "source": [
    "def make_titanic_plot(deck_level):\n",
    "    titanic_df = pd.read_csv(\"../data/titanic.csv\").fillna(\"None\")\n",
    "    \n",
    "    cabin_locations = {\"A36\": (350, 1.0), \"A37\": (350, 6.0), \"A32\": (400, 6.0), \"A30\": (400, 5.0), \"A31\": (400, 2.0), \"A33\": (400, 1.0), \"A28\": (405, 6.0), \"A26\": (405, 5.0), \"A27\": (405, 2.0),\n",
    "                    \"A29\": (405, 1.0), \"A34\": (395, 6.0), \"A35\": (395, 1.0), \"A24\": (410, 6.0), \"A22\": (410, 5.0), \"A23\": (410, 2.0), \"A25\": (410, 1.0), \"A20\": (415, 6.0), \"A18\": (415, 5.0),\n",
    "                    \"A19\": (415, 2.0), \"A21\": (415, 1.0), \"A16\": (420, 6.0), \"A14\": (420, 5.0), \"A15\": (420, 2.0), \"A17\": (420, 1.0), \"A12\": (425, 6.0), \"A10\": (425, 5.0), \"A9\":  (425, 2.0),\n",
    "                    \"A11\": (425, 1.0), \"A8\": ( 430, 6.0),  \"A6\": (430, 5.0), \"A5\":  (430, 2.0), \"A7\":  (430, 1.0), \"A4\":  (435, 6.0), \"A2\":  (435, 4.0), \"A1\":  (435, 3.0), \"A3\":  (435, 1.0),\n",
    "                       \n",
    "                    \"B90\": (345, 6.0), \"B94\": (340, 6.0), \"B96\": (335, 6.0), \"B98\": (330, 6.0), \"B92\": (345, 5.0), \"B91\": (345, 1.0), \"B101\": (395, 3.0), \"B102\": (395, 4.0), \"B100\": (385, 4.0),\n",
    "                    \"B99\": (385, 3.0), \"B58\": (400, 6.0), \"B88\": (350, 6.0), \"B84\": (355, 6.0), \"B86\": (355, 5.0), \"B85\": (355, 1.0), \"B82\": (360, 6.0), \"B78\": (365, 6.0), \"B76\": (370, 6.0),\n",
    "                    \"B72\": (375, 6.0), \"B70\": (380, 6.0), \"B66\": (385, 6.0), \"B64\": (390, 6.0), \"B60\": (395, 6.0), \"B80\": (365, 5.0), \"B74\": (375, 5.0), \"B68\": (385, 5.0), \"B62\":  (395, 5.0),\n",
    "                    \"B79\": (365, 1.0), \"B73\": (375, 1.0), \"B67\": (385, 1.0), \"B52\": (405, 5.0), \"B51\": (405, 1.0), \"B61\":  (395, 1.0),\n",
    "                   \n",
    "                    \"C8\": (465, 6.0), \"C6\": (465, 5.0), \"C2\": (465, 4.0), \"C1\": (465, 3.0), \"C3\": (465, 2.0), \"C5\": (465, 1.0), \"C12\": (460, 6.0), \"C48\": (460, 5.0), \"C41\": (460, 4.0),\n",
    "                    \"C43\": (460, 3.0), \"C9\": (460, 2.0), \"C11\": (460, 1.0), \"C14\": (455, 6.0), \"C50\": (455, 4.0), \"C15\": (455, 1.0), \"C18\": (450, 6.0), \"C16\": (450, 5.0), \"C52\": (450, 4.0),\n",
    "                    \"C45\": (450, 3.0), \"C17\": (450, 2.0), \"C19\": (450, 1.0), \"C20\": (445, 6.0), \"C54\": (445, 4.0), \"C47\": (445, 3.0), \"C21\": (445, 1.0), \"C42\": (440, 6.0), \"C22\": (440, 5.0),\n",
    "                    \"C56\": (440, 4.0), \"C49\": (440, 3.0), \"C23\": (440, 2.0), \"C25\": (440, 1.0), \"C26\": (435, 6.0), \"C58\": (435, 4.0), \"C51\": (435, 3.0), \"C27\": (435, 1.0), \"C30\": (430, 6.0),\n",
    "                    \"C28\": (430, 5.0), \"C60\": (430, 4.0), \"C53\": (430, 3.0), \"C29\": (430, 2.0), \"C31\": (430, 1.0), \"C32\": (425, 6.0), \"C35\": (425, 1.0), \"C36\": (420, 6.0), \"C34\": (420, 5.0),\n",
    "                    \"C35\": (420, 2.0), \"C37\": (420, 1.0), \"C39\": (415, 6.0), \"C38\": (415, 1.0), \"C42\": (410, 6.0), \"C40\": (410, 5.0), \"C46\": (405, 6.0), \"C44\": (405, 5.0), \"C62\": (400, 6.0),\n",
    "                    \"C104\": (400, 5.0), \"C95\": (400, 2.0), \"C55\": (400, 1.0), \"C64\": (395, 6.0), \"C106\": (395, 5.0), \"C97\": (395, 2.0), \"C57\": (395, 1.0), \"C108\": (390, 5.0), \"C99\": (390, 2.0),\n",
    "                    \"C66\": (385, 6.0), \"C110\": (380, 5.0), \"C101\": (385, 2.0), \"C59\": (385, 1.0), \"C68\": (380, 6.0), \"C112\": (380, 5.0), \"C103\": (380, 2.0), \"C61\": (380, 1.0), \"C105\": (375, 2.0),\n",
    "                    \"C70\": (370, 6.0), \"C114\": (370, 5.0), \"107\": (370, 2.0), \"C63\": (370, 1.0), \"C72\": (365, 6.0), \"C116\": (365, 5.0), \"C118\": (365, 4.0), \"C111\": (365, 3.0), \"C109\": (365, 2.0),\n",
    "                    \"C65\": (365, 1.0), \"C74\": (360, 6.0), \"C124\": (360, 5.0), \"C120\": (360, 4.0), \"C113\": (360, 3.0), \"C115\": (360, 2.0), \"C67\": (360, 1.0), \"C76\": (355, 6.0), \"C126\": (355, 5.0),\n",
    "                    \"C69\": (355, 1.0), \"C78\": (350, 6.0), \"C128\": (350, 5.0), \"C117\": (350, 2.0), \"C71\": (350, 1.0), \"C80\": (345, 6.0), \"C130\": (345, 5.0), \"C119\": (345, 2.0), \"C73\": (345, 1.0),\n",
    "                    \"C132\": (340, 4.0), \"C121\": (340, 3.0), \"C82\": (335, 6.0), \"C134\": (335, 5.0), \"C75\": (335, 1.0), \"C86\": (330, 6.0), \"C92\": (330, 4.0), \"C83\": (330, 3.0),\n",
    "                   \n",
    "                    \"D6\": (465, 6.0), \"D4\": (465, 5.0), \"D2\": (465, 4.0), \"D3\": (465, 3.0), \"D5\": (465, 2.0), \"D7\": (465, 1.0), \"D10\": (460, 6.0), \"D40\": (460, 5.0), \"D38\": (460, 4.0),\n",
    "                    \"D39\": (460, 3.0), \"D9\": (460, 2.0), \"D11\": (460, 1.0), \"D16\": (455, 6.0), \"D14\": (455, 5.0), \"D15\": (455, 2.0), \"D17\": (455, 1.0), \"D20\": (450, 6.0), \"D18\": (450, 5.0),\n",
    "                    \"D42\": (450, 4.0), \"D43\": (450, 3.0), \"D19\": (450, 2.0), \"D21\": (450, 1.0), \"D24\": (445, 6.0), \"D22\": (445, 5.0), \"D46\": (445, 4.0), \"D45\": (445, 3.0), \"D22\": (445, 2.0),\n",
    "                    \"D25\": (445, 1.0), \"D28\": (440, 6.0), \"D26\": (440, 5.0), \"D48\": (440, 4.0), \"D47\": (440, 3.0), \"D27\": (440, 2.0), \"D29\": (440, 1.0), \"D32\": (435, 6.0), \"D30\": (435, 5.0),\n",
    "                    \"D50\": (435, 4.0), \"D49\": (435, 3.0), \"D33\": (435, 2.0), \"D31\": (435, 1.0), \"D36\": (430, 6.0), \"D34\": (430, 4.0), \"D35\": (430, 3.0), \"D37\": (430, 1.0), \"D56\": (360, 6.0),\n",
    "                    \"D135\": (330, 4.0),\n",
    "                       \n",
    "                    \"E200\": (465, 4.0), \"E201\": (465, 3.0), \"E1\": (465, 2.0), \"E2\": (465, 1.0), \"E202\": (460, 4.0), \"E203\": (460, 3.0), \"E3\": (460, 2.0), \"E4\": (460, 1.0), \"E11\": (455, 3.0),\n",
    "                    \"E7\": (455, 2.0), \"E8\": (455, 1.0), \"E12\": (450, 3.0), \"E9\": (450, 2.0), \"E10\": (450, 1.0), \"E14\": (445, 3.0), \"E16\": (445, 2.0), \"E17\": (445, 1.0), \"E15\": (440, 3.0),\n",
    "                    \"E18\": (440, 2.0), \"E19\": (440, 1.0), \"E20\": (435, 2.0), \"E21\": (435, 1.0), \"E22\": (430, 2.0), \"E23\": (430, 1.0), \"E26\": (425, 3.0), \"E24\": (425, 2.0), \"E25\": (425, 1.0),\n",
    "                    \"E27\": (420, 3.0), \"E28\": (420, 2.0), \"E29\": (420, 1.0), \"E38\": (415, 3.0), \"E30\": (415, 2.0), \"E31\": (415, 1.0), \"E39\": (410, 3.0), \"E32\": (410, 2.0), \"E33\": (410, 1.0),\n",
    "                    \"E40\": (405, 3.0), \"E34\": (405, 2.0), \"E35\": (405, 1.0), \"E41\": (400, 3.0), \"E36\": (400, 2.0), \"E37\": (400, 1.0), \"E42\": (395, 3.0), \"E43\": (395, 2.0), \"E44\": (395, 1.0),\n",
    "                    \"E45\": (390, 2.0), \"E46\": (390, 1.0), \"E47\": (385, 3.0), \"E49\": (385, 2.0), \"E50\": (385, 1.0), \"E48\": (380, 3.0), \"E51\": (380, 2.0), \"E52\": (380, 1.0), \"E57\": (375, 3.0),\n",
    "                    \"E53\": (375, 2.0), \"E54\": (375, 1.0), \"E58\": (370, 3.0), \"E55\": (370, 2.0), \"E56\": (370, 1.0), \"E60\": (365, 3.0), \"E64\": (365, 2.0), \"E65\": (365, 1.0), \"E62\": (360, 3.0),\n",
    "                    \"E66\": (360, 2.0), \"E67\": (360, 1.0), \"E63\": (355, 3.0), \"E68\": (355, 1.0), \"E77\": (345, 2.0), \"E78\": (345, 1.0), \"E99\": (330, 3.0), \"E100\": (330, 2.0), \"E101\": (330, 1.0),\n",
    "                   \n",
    "                    \"F58\": (465, 6.0), \"F38\": (465, 4.0), \"F46\": (465, 3.0), \"F45\": (465, 1.0), \"F60\": (460, 6.0), \"F56\": (460, 4.0), \"F47\": (460, 3.0), \"F49\": (460, 1.0), \"F51\": (455, 3.0),\n",
    "                    \"F53\": (455, 1.0), \"F62\": (450, 6.0), \"F55\": (450, 3.0), \"F57\": (450, 2.0), \"F59\": (450, 1.0), \"F68\": (445, 6.0), \"F66\": (445, 5.0), \"F64\": (445, 4.0), \"F69\": (445, 3.0),\n",
    "                    \"F63\": (445, 2.0), \"F65\": (445, 1.0), \"F74\": (440, 6.0), \"F72\": (440, 5.0), \"F70\": (440, 4.0), \"F73\": (440, 3.0), \"F75\": (440, 2.0), \"F71\": (440, 1.0), \"F84\": (435, 6.0),\n",
    "                    \"F82\": (435, 5.0), \"E80\": (435, 4.0), \"F77\": (435, 3.0), \"F79\": (435, 2.0), \"F81\": (435, 1.0), \"F90\": (430, 6.0), \"F88\": (430, 5.0), \"F86\": (430, 4.0), \"F83\": (430, 3.0),\n",
    "                    \"F85\": (430, 2.0), \"F87\": (430, 1.0), \"F96\": (425, 6.0), \"F94\": (425, 5.0), \"F92\": (425, 4.0), \"F89\": (425, 3.0), \"F91\": (425, 2.0), \"F93\": (425, 1.0), \"F100\": (420, 5.0),\n",
    "                    \"F98\": (420, 4.0), \"F95\": (420, 3.0), \"F97\": (420, 2.0), \"F99\": (420, 1.0), \"F4\": (360, 6.0), \"F2\": (360, 5.0), \"F5\": (360, 2.0), \"F7\": (360, 1.0), \"F8\": (355, 6.0),\n",
    "                    \"F6\": (355, 5.0), \"F9\": (355, 2.0), \"F11\": (355, 1.0), \"F12\": (350, 6.0), \"F10\": (350, 5.0), \"F18\": (345, 6.0), \"F16\": (345, 5.0), \"F15\": (345, 4.0), \"F17\": (345, 3.0),\n",
    "                    \"F19\": (345, 2.0), \"F21\": (345, 1.0), \"F28\": (340, 6.0), \"F26\": (340, 5.0), \"F24\": (340, 4.0), \"F29\": (340, 3.0), \"F25\": (340, 2.0), \"F27\": (340, 1.0), \"F34\": (335, 6.0),\n",
    "                    \"F32\": (335, 5.0), \"F30\": (335, 4.0), \"F31\": (335, 3.0), \"F33\": (335, 2.0), \"F35\": (335, 1.0), \"F40\": (330, 6.0), \"F38\": (330, 5.0), \"F190\": (330, 4.0), \"F39\": (330, 3.0),\n",
    "                    \"F41\": (330, 2.0), \"F43\": (330, 1.0),\n",
    "                   \n",
    "                    \"G8\": (360, 6.0), \"G6\": (360, 5.0), \"G2\": (360, 4.0), \"G5\": (360, 3.0), \"G3\": (360, 2.0), \"G1\": (360, 1.0), \"G16\": (355, 6.0), \"G14\": (355, 5.0), \"G12\": (355, 4.0),\n",
    "                    \"G11\": (355, 3.0), \"G17\": (355, 2.0), \"G15\": (355, 1.0), \"G24\": (350, 6.0), \"G22\": (350, 5.0), \"G20\": (350, 4.0), \"G21\": (350, 3.0), \"G23\": (350, 2.0), \"G25\": (350, 1.0),\n",
    "                    \"G30\": (345, 6.0), \"G28\": (345, 5.0), \"G26\": (345, 4.0), \"G29\": (345, 3.0), \"G31\": (345, 2.0), \"G33\": (345, 1.0), \"G36\": (340, 6.0), \"G34\": (340, 5.0), \"G32\": (340, 4.0),\n",
    "                    \"G37\": (340, 3.0), \"G39\": (340, 2.0), \"G41\": (340, 1.0), \"G46\": (335, 6.0), \"G44\": (335, 5.0), \"G42\": (335, 4.0), \"G43\": (335, 3.0), \"G45\": (335, 2.0), \"G47\": (335, 1.0),\n",
    "                    \"G48\": (330, 3.0), \"G49\": (330, 4.0)\n",
    "                  }\n",
    "                       \n",
    "\n",
    "    cabin_locations_df = pd.DataFrame(cabin_locations).T.reset_index()\n",
    "    cabin_locations_df[\"deck\"] = cabin_locations_df[\"index\"].apply(lambda x: x[0])\n",
    "    cabin_locations_df = cabin_locations_df.set_index([\"deck\", \"index\"])\n",
    "    cabin_locations_df.index.names = [\"deck\", \"cabin\"]\n",
    "    cabin_locations_df.columns = [\"cabin_x\", \"cabin_y\"]\n",
    "    \n",
    "    titanic_df_with_cabin_coords = pd.merge(titanic_df, cabin_locations_df, left_on = \"cabin\", right_on = \"cabin\")\n",
    "    titanic_df_with_cabin_coords[\"deck\"] = titanic_df_with_cabin_coords[\"cabin\"].apply(lambda x: x[0])\n",
    "    titanic_passengers_by_cabin = titanic_df_with_cabin_coords.set_index([\"cabin\",\"name\"]).sort_index()\n",
    "    \n",
    "    for cabins in titanic_passengers_by_cabin.index.levels[0]:\n",
    "        if titanic_passengers_by_cabin.loc[cabins].shape[0] > 1:\n",
    "            i=0\n",
    "            passengers = list(titanic_passengers_by_cabin.loc[cabins].index)\n",
    "            for passenger in passengers:\n",
    "                if i==0:\n",
    "                    shift_x = 1\n",
    "                    shift_y = 0.25\n",
    "                if i==1:\n",
    "                    shift_x = -1\n",
    "                    shift_y = 0.25\n",
    "                if i==2:\n",
    "                    shift_x = -1\n",
    "                    shift_y = -0.25\n",
    "                if i==3:\n",
    "                    shift_x = 1\n",
    "                    shift_y = -0.25\n",
    "\n",
    "                titanic_passengers_by_cabin.loc[cabins].at[passenger, \"cabin_x\"] = float(titanic_passengers_by_cabin.loc[cabins].at[passenger, \"cabin_x\"]) + shift_x\n",
    "                titanic_passengers_by_cabin.loc[cabins].at[passenger, \"cabin_y\"] = float(titanic_passengers_by_cabin.loc[cabins].at[passenger, \"cabin_y\"]) + shift_y\n",
    "                i+=1\n",
    "    \n",
    "    ship_outline_1 = pd.DataFrame({\"x\" : [305, 325, 470, 475, 477], \"y\" : [3.5, 7, 7, 6, 5]})\n",
    "    ship_outline_2 = pd.DataFrame({\"x\" : [305, 325, 470, 475, 477], \"y\" :  [3.5, 0, 0, 1, 2]})\n",
    "    ship_outline_3 = pd.DataFrame({\"x\" : [477,477], \"y\" :  [2, 5]})\n",
    "\n",
    "    chart_ship_outline_1 = alt.Chart(ship_outline_1).mark_line().encode(\n",
    "        alt.X('x:Q'),\n",
    "        alt.Y('y:Q')\n",
    "    )\n",
    "    chart_ship_outline_2 = alt.Chart(ship_outline_2).mark_line().encode(\n",
    "        alt.X('x:Q'),\n",
    "        alt.Y('y:Q')\n",
    "    )\n",
    "    chart_ship_outline_3 = alt.Chart(ship_outline_3).mark_line().encode(\n",
    "        alt.X('x:Q'),\n",
    "        alt.Y('y:Q')\n",
    "    )\n",
    "    chart_ship_outline = chart_ship_outline_1 + chart_ship_outline_2 + chart_ship_outline_3\n",
    "    \n",
    "    cabin_plot = alt.Chart(cabin_locations_df.loc[deck_level]).mark_square(size = 1400, fill = \"None\", stroke = \"black\", opacity = 0.3).encode(\n",
    "        alt.X('cabin_x:Q', title = \"\", scale=alt.Scale(domain = [300,450])),\n",
    "        alt.Y('cabin_y:Q', title = \"\", scale=alt.Scale(domain = [-1,7.5]))\n",
    "    ).properties(width = 1500, height = 400)\n",
    "    titanic_passengers_by_cabin = titanic_passengers_by_cabin.reset_index().set_index([\"deck\",\"cabin\"])\n",
    "    titanic_passengers_by_cabin[\"survived\"] = titanic_passengers_by_cabin[\"survived\"].map({0:\"Passenger Died\", 1:\"Passenger Survived\"})\n",
    "\n",
    "    passenger_plot = alt.Chart(titanic_passengers_by_cabin.loc[deck_level].reset_index()).mark_point(size = 250, stroke = \"black\", filled = True, opacity = 1).encode(\n",
    "        alt.X('cabin_x:Q', scale=alt.Scale(domain = [300,450])),\n",
    "        alt.Y('cabin_y:Q', scale=alt.Scale(domain = [-1,7.5])),\n",
    "        alt.Color('survived:N', scale=alt.Scale(range = ['red','white']), legend = alt.Legend(titleFontSize = 0, labelFontSize = 17)),\n",
    "        tooltip=['name:N', 'sex:N', 'age:O', 'cabin:N']\n",
    "    ).properties(width = 1500, height = 400, title = \"Fate of titanic passengers by cabin location on deck {}\".format(deck_level))\n",
    "    \n",
    "    full_plot = (cabin_plot + passenger_plot + chart_ship_outline\n",
    "                ).configure_title(fontSize = 20\n",
    "                ).configure_legend(orient='bottom')\n",
    "    \n",
    "    return full_plot"
   ]
  },
  {
   "cell_type": "code",
   "execution_count": 34,
   "metadata": {},
   "outputs": [
    {
     "data": {
      "application/vnd.vegalite.v3+json": {
       "$schema": "https://vega.github.io/schema/vega-lite/v3.4.0.json",
       "config": {
        "legend": {
         "orient": "bottom"
        },
        "mark": {
         "tooltip": null
        },
        "title": {
         "fontSize": 20
        },
        "view": {
         "height": 300,
         "width": 400
        }
       },
       "datasets": {
        "data-2b9cc8bc0cf64cfbb7b1e471ad5af04f": [
         {
          "x": 305,
          "y": 3.5
         },
         {
          "x": 325,
          "y": 0
         },
         {
          "x": 470,
          "y": 0
         },
         {
          "x": 475,
          "y": 1
         },
         {
          "x": 477,
          "y": 2
         }
        ],
        "data-34f6f2320c0a48c9ff8757a63af93030": [
         {
          "age": 1,
          "boat": "13",
          "body": "None",
          "cabin": "G6",
          "cabin_x": 361,
          "cabin_y": 5.25,
          "embarked": "S",
          "fare": 16.7,
          "home.dest": "None",
          "name": "Sandstrom, Miss. Beatrice Irene",
          "parch": 1,
          "pclass": 3,
          "sex": "female",
          "sibsp": 1,
          "survived": "Passenger Survived",
          "ticket": "PP 9549"
         },
         {
          "age": 4,
          "boat": "13",
          "body": "None",
          "cabin": "G6",
          "cabin_x": 359,
          "cabin_y": 5.25,
          "embarked": "S",
          "fare": 16.7,
          "home.dest": "None",
          "name": "Sandstrom, Miss. Marguerite Rut",
          "parch": 1,
          "pclass": 3,
          "sex": "female",
          "sibsp": 1,
          "survived": "Passenger Survived",
          "ticket": "PP 9549"
         },
         {
          "age": 24,
          "boat": "13",
          "body": "None",
          "cabin": "G6",
          "cabin_x": 359,
          "cabin_y": 4.75,
          "embarked": "S",
          "fare": 16.7,
          "home.dest": "None",
          "name": "Sandstrom, Mrs. Hjalmar (Agnes Charlotta Bengtsson)",
          "parch": 2,
          "pclass": 3,
          "sex": "female",
          "sibsp": 0,
          "survived": "Passenger Survived",
          "ticket": "PP 9549"
         },
         {
          "age": 2,
          "boat": "None",
          "body": "None",
          "cabin": "G6",
          "cabin_x": 361,
          "cabin_y": 4.75,
          "embarked": "S",
          "fare": 10.4625,
          "home.dest": "None",
          "name": "Strom, Miss. Telma Matilda",
          "parch": 1,
          "pclass": 3,
          "sex": "female",
          "sibsp": 0,
          "survived": "Passenger Died",
          "ticket": "347054"
         },
         {
          "age": 29,
          "boat": "None",
          "body": "None",
          "cabin": "G6",
          "cabin_x": 361,
          "cabin_y": 4.75,
          "embarked": "S",
          "fare": 10.4625,
          "home.dest": "None",
          "name": "Strom, Mrs. Wilhelm (Elna Matilda Persson)",
          "parch": 1,
          "pclass": 3,
          "sex": "female",
          "sibsp": 1,
          "survived": "Passenger Died",
          "ticket": "347054"
         }
        ],
        "data-3d8c7eee13f363554229bae0c532536c": [
         {
          "x": 477,
          "y": 2
         },
         {
          "x": 477,
          "y": 5
         }
        ],
        "data-7df223565a25026f77abae6cc3bc9e8f": [
         {
          "cabin_x": 360,
          "cabin_y": 6
         },
         {
          "cabin_x": 360,
          "cabin_y": 5
         },
         {
          "cabin_x": 360,
          "cabin_y": 4
         },
         {
          "cabin_x": 360,
          "cabin_y": 3
         },
         {
          "cabin_x": 360,
          "cabin_y": 2
         },
         {
          "cabin_x": 360,
          "cabin_y": 1
         },
         {
          "cabin_x": 355,
          "cabin_y": 6
         },
         {
          "cabin_x": 355,
          "cabin_y": 5
         },
         {
          "cabin_x": 355,
          "cabin_y": 4
         },
         {
          "cabin_x": 355,
          "cabin_y": 3
         },
         {
          "cabin_x": 355,
          "cabin_y": 2
         },
         {
          "cabin_x": 355,
          "cabin_y": 1
         },
         {
          "cabin_x": 350,
          "cabin_y": 6
         },
         {
          "cabin_x": 350,
          "cabin_y": 5
         },
         {
          "cabin_x": 350,
          "cabin_y": 4
         },
         {
          "cabin_x": 350,
          "cabin_y": 3
         },
         {
          "cabin_x": 350,
          "cabin_y": 2
         },
         {
          "cabin_x": 350,
          "cabin_y": 1
         },
         {
          "cabin_x": 345,
          "cabin_y": 6
         },
         {
          "cabin_x": 345,
          "cabin_y": 5
         },
         {
          "cabin_x": 345,
          "cabin_y": 4
         },
         {
          "cabin_x": 345,
          "cabin_y": 3
         },
         {
          "cabin_x": 345,
          "cabin_y": 2
         },
         {
          "cabin_x": 345,
          "cabin_y": 1
         },
         {
          "cabin_x": 340,
          "cabin_y": 6
         },
         {
          "cabin_x": 340,
          "cabin_y": 5
         },
         {
          "cabin_x": 340,
          "cabin_y": 4
         },
         {
          "cabin_x": 340,
          "cabin_y": 3
         },
         {
          "cabin_x": 340,
          "cabin_y": 2
         },
         {
          "cabin_x": 340,
          "cabin_y": 1
         },
         {
          "cabin_x": 335,
          "cabin_y": 6
         },
         {
          "cabin_x": 335,
          "cabin_y": 5
         },
         {
          "cabin_x": 335,
          "cabin_y": 4
         },
         {
          "cabin_x": 335,
          "cabin_y": 3
         },
         {
          "cabin_x": 335,
          "cabin_y": 2
         },
         {
          "cabin_x": 335,
          "cabin_y": 1
         },
         {
          "cabin_x": 330,
          "cabin_y": 3
         },
         {
          "cabin_x": 330,
          "cabin_y": 4
         }
        ],
        "data-8d3df3bbb92f61523f524d6045dae286": [
         {
          "x": 305,
          "y": 3.5
         },
         {
          "x": 325,
          "y": 7
         },
         {
          "x": 470,
          "y": 7
         },
         {
          "x": 475,
          "y": 6
         },
         {
          "x": 477,
          "y": 5
         }
        ]
       },
       "layer": [
        {
         "data": {
          "name": "data-7df223565a25026f77abae6cc3bc9e8f"
         },
         "encoding": {
          "x": {
           "field": "cabin_x",
           "scale": {
            "domain": [
             300,
             450
            ]
           },
           "title": "",
           "type": "quantitative"
          },
          "y": {
           "field": "cabin_y",
           "scale": {
            "domain": [
             -1,
             7.5
            ]
           },
           "title": "",
           "type": "quantitative"
          }
         },
         "height": 400,
         "mark": {
          "fill": "None",
          "opacity": 0.3,
          "size": 1400,
          "stroke": "black",
          "type": "square"
         },
         "width": 1500
        },
        {
         "data": {
          "name": "data-34f6f2320c0a48c9ff8757a63af93030"
         },
         "encoding": {
          "color": {
           "field": "survived",
           "legend": {
            "labelFontSize": 17,
            "titleFontSize": 0
           },
           "scale": {
            "range": [
             "red",
             "white"
            ]
           },
           "type": "nominal"
          },
          "tooltip": [
           {
            "field": "name",
            "type": "nominal"
           },
           {
            "field": "sex",
            "type": "nominal"
           },
           {
            "field": "age",
            "type": "ordinal"
           },
           {
            "field": "cabin",
            "type": "nominal"
           }
          ],
          "x": {
           "field": "cabin_x",
           "scale": {
            "domain": [
             300,
             450
            ]
           },
           "type": "quantitative"
          },
          "y": {
           "field": "cabin_y",
           "scale": {
            "domain": [
             -1,
             7.5
            ]
           },
           "type": "quantitative"
          }
         },
         "height": 400,
         "mark": {
          "filled": true,
          "opacity": 1,
          "size": 250,
          "stroke": "black",
          "type": "point"
         },
         "title": "Fate of titanic passengers by cabin location on deck G",
         "width": 1500
        },
        {
         "layer": [
          {
           "data": {
            "name": "data-8d3df3bbb92f61523f524d6045dae286"
           },
           "encoding": {
            "x": {
             "field": "x",
             "type": "quantitative"
            },
            "y": {
             "field": "y",
             "type": "quantitative"
            }
           },
           "mark": "line"
          },
          {
           "data": {
            "name": "data-2b9cc8bc0cf64cfbb7b1e471ad5af04f"
           },
           "encoding": {
            "x": {
             "field": "x",
             "type": "quantitative"
            },
            "y": {
             "field": "y",
             "type": "quantitative"
            }
           },
           "mark": "line"
          },
          {
           "data": {
            "name": "data-3d8c7eee13f363554229bae0c532536c"
           },
           "encoding": {
            "x": {
             "field": "x",
             "type": "quantitative"
            },
            "y": {
             "field": "y",
             "type": "quantitative"
            }
           },
           "mark": "line"
          }
         ]
        }
       ]
      },
      "image/png": "[encoded data removed]",
      "text/plain": [
       "<VegaLite 3 object>\n",
       "\n",
       "If you see this message, it means the renderer has not been properly enabled\n",
       "for the frontend that you are using. For more information, see\n",
       "https://altair-viz.github.io/user_guide/troubleshooting.html\n"
      ]
     },
     "execution_count": 34,
     "metadata": {},
     "output_type": "execute_result"
    }
   ],
   "source": [
    "make_titanic_plot(\"G\")"
   ]
  },
  {
   "cell_type": "code",
   "execution_count": 9,
   "metadata": {},
   "outputs": [],
   "source": [
    "from make_plot import make_titanic_plot"
   ]
  },
  {
   "cell_type": "code",
   "execution_count": 12,
   "metadata": {},
   "outputs": [
    {
     "data": {
      "text/html": [
       "<div>\n",
       "<style scoped>\n",
       "    .dataframe tbody tr th:only-of-type {\n",
       "        vertical-align: middle;\n",
       "    }\n",
       "\n",
       "    .dataframe tbody tr th {\n",
       "        vertical-align: top;\n",
       "    }\n",
       "\n",
       "    .dataframe thead th {\n",
       "        text-align: right;\n",
       "    }\n",
       "</style>\n",
       "<table border=\"1\" class=\"dataframe\">\n",
       "  <thead>\n",
       "    <tr style=\"text-align: right;\">\n",
       "      <th></th>\n",
       "      <th></th>\n",
       "      <th>pclass</th>\n",
       "      <th>survived</th>\n",
       "      <th>sex</th>\n",
       "      <th>age</th>\n",
       "      <th>sibsp</th>\n",
       "      <th>parch</th>\n",
       "      <th>ticket</th>\n",
       "      <th>fare</th>\n",
       "      <th>embarked</th>\n",
       "      <th>boat</th>\n",
       "      <th>body</th>\n",
       "      <th>home.dest</th>\n",
       "      <th>cabin_x</th>\n",
       "      <th>cabin_y</th>\n",
       "      <th>deck</th>\n",
       "    </tr>\n",
       "    <tr>\n",
       "      <th>cabin</th>\n",
       "      <th>name</th>\n",
       "      <th></th>\n",
       "      <th></th>\n",
       "      <th></th>\n",
       "      <th></th>\n",
       "      <th></th>\n",
       "      <th></th>\n",
       "      <th></th>\n",
       "      <th></th>\n",
       "      <th></th>\n",
       "      <th></th>\n",
       "      <th></th>\n",
       "      <th></th>\n",
       "      <th></th>\n",
       "      <th></th>\n",
       "      <th></th>\n",
       "    </tr>\n",
       "  </thead>\n",
       "  <tbody>\n",
       "    <tr>\n",
       "      <th>A10</th>\n",
       "      <th>Ross, Mr. John Hugo</th>\n",
       "      <td>1</td>\n",
       "      <td>Passenger Died</td>\n",
       "      <td>male</td>\n",
       "      <td>36.0</td>\n",
       "      <td>0</td>\n",
       "      <td>0</td>\n",
       "      <td>13049</td>\n",
       "      <td>40.1250</td>\n",
       "      <td>C</td>\n",
       "      <td>None</td>\n",
       "      <td>None</td>\n",
       "      <td>Winnipeg, MB</td>\n",
       "      <td>425.0</td>\n",
       "      <td>5.0</td>\n",
       "      <td>A</td>\n",
       "    </tr>\n",
       "    <tr>\n",
       "      <th>A11</th>\n",
       "      <th>Rosenbaum, Miss. Edith Louise</th>\n",
       "      <td>1</td>\n",
       "      <td>Passenger Survived</td>\n",
       "      <td>female</td>\n",
       "      <td>33.0</td>\n",
       "      <td>0</td>\n",
       "      <td>0</td>\n",
       "      <td>PC 17613</td>\n",
       "      <td>27.7208</td>\n",
       "      <td>C</td>\n",
       "      <td>11</td>\n",
       "      <td>None</td>\n",
       "      <td>Paris, France</td>\n",
       "      <td>425.0</td>\n",
       "      <td>1.0</td>\n",
       "      <td>A</td>\n",
       "    </tr>\n",
       "    <tr>\n",
       "      <th>A14</th>\n",
       "      <th>Clifford, Mr. George Quincy</th>\n",
       "      <td>1</td>\n",
       "      <td>Passenger Died</td>\n",
       "      <td>male</td>\n",
       "      <td>None</td>\n",
       "      <td>0</td>\n",
       "      <td>0</td>\n",
       "      <td>110465</td>\n",
       "      <td>52.0000</td>\n",
       "      <td>S</td>\n",
       "      <td>None</td>\n",
       "      <td>None</td>\n",
       "      <td>Stoughton, MA</td>\n",
       "      <td>420.0</td>\n",
       "      <td>5.0</td>\n",
       "      <td>A</td>\n",
       "    </tr>\n",
       "    <tr>\n",
       "      <th>A16</th>\n",
       "      <th>Duff Gordon, Lady. (Lucille Christiana Sutherland) (\"Mrs Morgan\")</th>\n",
       "      <td>1</td>\n",
       "      <td>Passenger Survived</td>\n",
       "      <td>female</td>\n",
       "      <td>48.0</td>\n",
       "      <td>1</td>\n",
       "      <td>0</td>\n",
       "      <td>11755</td>\n",
       "      <td>39.6000</td>\n",
       "      <td>C</td>\n",
       "      <td>1</td>\n",
       "      <td>None</td>\n",
       "      <td>London / Paris</td>\n",
       "      <td>420.0</td>\n",
       "      <td>6.0</td>\n",
       "      <td>A</td>\n",
       "    </tr>\n",
       "    <tr>\n",
       "      <th>A18</th>\n",
       "      <th>Dulles, Mr. William Crothers</th>\n",
       "      <td>1</td>\n",
       "      <td>Passenger Died</td>\n",
       "      <td>male</td>\n",
       "      <td>39.0</td>\n",
       "      <td>0</td>\n",
       "      <td>0</td>\n",
       "      <td>PC 17580</td>\n",
       "      <td>29.7000</td>\n",
       "      <td>C</td>\n",
       "      <td>None</td>\n",
       "      <td>133.0</td>\n",
       "      <td>Philadelphia, PA</td>\n",
       "      <td>415.0</td>\n",
       "      <td>5.0</td>\n",
       "      <td>A</td>\n",
       "    </tr>\n",
       "    <tr>\n",
       "      <th>...</th>\n",
       "      <th>...</th>\n",
       "      <td>...</td>\n",
       "      <td>...</td>\n",
       "      <td>...</td>\n",
       "      <td>...</td>\n",
       "      <td>...</td>\n",
       "      <td>...</td>\n",
       "      <td>...</td>\n",
       "      <td>...</td>\n",
       "      <td>...</td>\n",
       "      <td>...</td>\n",
       "      <td>...</td>\n",
       "      <td>...</td>\n",
       "      <td>...</td>\n",
       "      <td>...</td>\n",
       "      <td>...</td>\n",
       "    </tr>\n",
       "    <tr>\n",
       "      <th rowspan=\"5\" valign=\"top\">G6</th>\n",
       "      <th>Sandstrom, Miss. Beatrice Irene</th>\n",
       "      <td>3</td>\n",
       "      <td>Passenger Survived</td>\n",
       "      <td>female</td>\n",
       "      <td>1.0</td>\n",
       "      <td>1</td>\n",
       "      <td>1</td>\n",
       "      <td>PP 9549</td>\n",
       "      <td>16.7000</td>\n",
       "      <td>S</td>\n",
       "      <td>13</td>\n",
       "      <td>None</td>\n",
       "      <td>None</td>\n",
       "      <td>360.0</td>\n",
       "      <td>5.0</td>\n",
       "      <td>G</td>\n",
       "    </tr>\n",
       "    <tr>\n",
       "      <th>Sandstrom, Miss. Marguerite Rut</th>\n",
       "      <td>3</td>\n",
       "      <td>Passenger Survived</td>\n",
       "      <td>female</td>\n",
       "      <td>4.0</td>\n",
       "      <td>1</td>\n",
       "      <td>1</td>\n",
       "      <td>PP 9549</td>\n",
       "      <td>16.7000</td>\n",
       "      <td>S</td>\n",
       "      <td>13</td>\n",
       "      <td>None</td>\n",
       "      <td>None</td>\n",
       "      <td>360.0</td>\n",
       "      <td>5.0</td>\n",
       "      <td>G</td>\n",
       "    </tr>\n",
       "    <tr>\n",
       "      <th>Sandstrom, Mrs. Hjalmar (Agnes Charlotta Bengtsson)</th>\n",
       "      <td>3</td>\n",
       "      <td>Passenger Survived</td>\n",
       "      <td>female</td>\n",
       "      <td>24.0</td>\n",
       "      <td>0</td>\n",
       "      <td>2</td>\n",
       "      <td>PP 9549</td>\n",
       "      <td>16.7000</td>\n",
       "      <td>S</td>\n",
       "      <td>13</td>\n",
       "      <td>None</td>\n",
       "      <td>None</td>\n",
       "      <td>360.0</td>\n",
       "      <td>5.0</td>\n",
       "      <td>G</td>\n",
       "    </tr>\n",
       "    <tr>\n",
       "      <th>Strom, Miss. Telma Matilda</th>\n",
       "      <td>3</td>\n",
       "      <td>Passenger Died</td>\n",
       "      <td>female</td>\n",
       "      <td>2.0</td>\n",
       "      <td>0</td>\n",
       "      <td>1</td>\n",
       "      <td>347054</td>\n",
       "      <td>10.4625</td>\n",
       "      <td>S</td>\n",
       "      <td>None</td>\n",
       "      <td>None</td>\n",
       "      <td>None</td>\n",
       "      <td>360.0</td>\n",
       "      <td>5.0</td>\n",
       "      <td>G</td>\n",
       "    </tr>\n",
       "    <tr>\n",
       "      <th>Strom, Mrs. Wilhelm (Elna Matilda Persson)</th>\n",
       "      <td>3</td>\n",
       "      <td>Passenger Died</td>\n",
       "      <td>female</td>\n",
       "      <td>29.0</td>\n",
       "      <td>1</td>\n",
       "      <td>1</td>\n",
       "      <td>347054</td>\n",
       "      <td>10.4625</td>\n",
       "      <td>S</td>\n",
       "      <td>None</td>\n",
       "      <td>None</td>\n",
       "      <td>None</td>\n",
       "      <td>360.0</td>\n",
       "      <td>5.0</td>\n",
       "      <td>G</td>\n",
       "    </tr>\n",
       "  </tbody>\n",
       "</table>\n",
       "<p>192 rows × 15 columns</p>\n",
       "</div>"
      ],
      "text/plain": [
       "                                                          pclass  \\\n",
       "cabin name                                                         \n",
       "A10   Ross, Mr. John Hugo                                      1   \n",
       "A11   Rosenbaum, Miss. Edith Louise                            1   \n",
       "A14   Clifford, Mr. George Quincy                              1   \n",
       "A16   Duff Gordon, Lady. (Lucille Christiana Sutherla...       1   \n",
       "A18   Dulles, Mr. William Crothers                             1   \n",
       "...                                                          ...   \n",
       "G6    Sandstrom, Miss. Beatrice Irene                          3   \n",
       "      Sandstrom, Miss. Marguerite Rut                          3   \n",
       "      Sandstrom, Mrs. Hjalmar (Agnes Charlotta Bengts...       3   \n",
       "      Strom, Miss. Telma Matilda                               3   \n",
       "      Strom, Mrs. Wilhelm (Elna Matilda Persson)               3   \n",
       "\n",
       "                                                                    survived  \\\n",
       "cabin name                                                                     \n",
       "A10   Ross, Mr. John Hugo                                     Passenger Died   \n",
       "A11   Rosenbaum, Miss. Edith Louise                       Passenger Survived   \n",
       "A14   Clifford, Mr. George Quincy                             Passenger Died   \n",
       "A16   Duff Gordon, Lady. (Lucille Christiana Sutherla...  Passenger Survived   \n",
       "A18   Dulles, Mr. William Crothers                            Passenger Died   \n",
       "...                                                                      ...   \n",
       "G6    Sandstrom, Miss. Beatrice Irene                     Passenger Survived   \n",
       "      Sandstrom, Miss. Marguerite Rut                     Passenger Survived   \n",
       "      Sandstrom, Mrs. Hjalmar (Agnes Charlotta Bengts...  Passenger Survived   \n",
       "      Strom, Miss. Telma Matilda                              Passenger Died   \n",
       "      Strom, Mrs. Wilhelm (Elna Matilda Persson)              Passenger Died   \n",
       "\n",
       "                                                             sex   age  sibsp  \\\n",
       "cabin name                                                                      \n",
       "A10   Ross, Mr. John Hugo                                   male  36.0      0   \n",
       "A11   Rosenbaum, Miss. Edith Louise                       female  33.0      0   \n",
       "A14   Clifford, Mr. George Quincy                           male  None      0   \n",
       "A16   Duff Gordon, Lady. (Lucille Christiana Sutherla...  female  48.0      1   \n",
       "A18   Dulles, Mr. William Crothers                          male  39.0      0   \n",
       "...                                                          ...   ...    ...   \n",
       "G6    Sandstrom, Miss. Beatrice Irene                     female   1.0      1   \n",
       "      Sandstrom, Miss. Marguerite Rut                     female   4.0      1   \n",
       "      Sandstrom, Mrs. Hjalmar (Agnes Charlotta Bengts...  female  24.0      0   \n",
       "      Strom, Miss. Telma Matilda                          female   2.0      0   \n",
       "      Strom, Mrs. Wilhelm (Elna Matilda Persson)          female  29.0      1   \n",
       "\n",
       "                                                          parch    ticket  \\\n",
       "cabin name                                                                  \n",
       "A10   Ross, Mr. John Hugo                                     0     13049   \n",
       "A11   Rosenbaum, Miss. Edith Louise                           0  PC 17613   \n",
       "A14   Clifford, Mr. George Quincy                             0    110465   \n",
       "A16   Duff Gordon, Lady. (Lucille Christiana Sutherla...      0     11755   \n",
       "A18   Dulles, Mr. William Crothers                            0  PC 17580   \n",
       "...                                                         ...       ...   \n",
       "G6    Sandstrom, Miss. Beatrice Irene                         1   PP 9549   \n",
       "      Sandstrom, Miss. Marguerite Rut                         1   PP 9549   \n",
       "      Sandstrom, Mrs. Hjalmar (Agnes Charlotta Bengts...      2   PP 9549   \n",
       "      Strom, Miss. Telma Matilda                              1    347054   \n",
       "      Strom, Mrs. Wilhelm (Elna Matilda Persson)              1    347054   \n",
       "\n",
       "                                                             fare embarked  \\\n",
       "cabin name                                                                   \n",
       "A10   Ross, Mr. John Hugo                                 40.1250        C   \n",
       "A11   Rosenbaum, Miss. Edith Louise                       27.7208        C   \n",
       "A14   Clifford, Mr. George Quincy                         52.0000        S   \n",
       "A16   Duff Gordon, Lady. (Lucille Christiana Sutherla...  39.6000        C   \n",
       "A18   Dulles, Mr. William Crothers                        29.7000        C   \n",
       "...                                                           ...      ...   \n",
       "G6    Sandstrom, Miss. Beatrice Irene                     16.7000        S   \n",
       "      Sandstrom, Miss. Marguerite Rut                     16.7000        S   \n",
       "      Sandstrom, Mrs. Hjalmar (Agnes Charlotta Bengts...  16.7000        S   \n",
       "      Strom, Miss. Telma Matilda                          10.4625        S   \n",
       "      Strom, Mrs. Wilhelm (Elna Matilda Persson)          10.4625        S   \n",
       "\n",
       "                                                          boat   body  \\\n",
       "cabin name                                                              \n",
       "A10   Ross, Mr. John Hugo                                 None   None   \n",
       "A11   Rosenbaum, Miss. Edith Louise                         11   None   \n",
       "A14   Clifford, Mr. George Quincy                         None   None   \n",
       "A16   Duff Gordon, Lady. (Lucille Christiana Sutherla...     1   None   \n",
       "A18   Dulles, Mr. William Crothers                        None  133.0   \n",
       "...                                                        ...    ...   \n",
       "G6    Sandstrom, Miss. Beatrice Irene                       13   None   \n",
       "      Sandstrom, Miss. Marguerite Rut                       13   None   \n",
       "      Sandstrom, Mrs. Hjalmar (Agnes Charlotta Bengts...    13   None   \n",
       "      Strom, Miss. Telma Matilda                          None   None   \n",
       "      Strom, Mrs. Wilhelm (Elna Matilda Persson)          None   None   \n",
       "\n",
       "                                                                 home.dest  \\\n",
       "cabin name                                                                   \n",
       "A10   Ross, Mr. John Hugo                                     Winnipeg, MB   \n",
       "A11   Rosenbaum, Miss. Edith Louise                          Paris, France   \n",
       "A14   Clifford, Mr. George Quincy                            Stoughton, MA   \n",
       "A16   Duff Gordon, Lady. (Lucille Christiana Sutherla...    London / Paris   \n",
       "A18   Dulles, Mr. William Crothers                        Philadelphia, PA   \n",
       "...                                                                    ...   \n",
       "G6    Sandstrom, Miss. Beatrice Irene                                 None   \n",
       "      Sandstrom, Miss. Marguerite Rut                                 None   \n",
       "      Sandstrom, Mrs. Hjalmar (Agnes Charlotta Bengts...              None   \n",
       "      Strom, Miss. Telma Matilda                                      None   \n",
       "      Strom, Mrs. Wilhelm (Elna Matilda Persson)                      None   \n",
       "\n",
       "                                                          cabin_x  cabin_y  \\\n",
       "cabin name                                                                   \n",
       "A10   Ross, Mr. John Hugo                                   425.0      5.0   \n",
       "A11   Rosenbaum, Miss. Edith Louise                         425.0      1.0   \n",
       "A14   Clifford, Mr. George Quincy                           420.0      5.0   \n",
       "A16   Duff Gordon, Lady. (Lucille Christiana Sutherla...    420.0      6.0   \n",
       "A18   Dulles, Mr. William Crothers                          415.0      5.0   \n",
       "...                                                           ...      ...   \n",
       "G6    Sandstrom, Miss. Beatrice Irene                       360.0      5.0   \n",
       "      Sandstrom, Miss. Marguerite Rut                       360.0      5.0   \n",
       "      Sandstrom, Mrs. Hjalmar (Agnes Charlotta Bengts...    360.0      5.0   \n",
       "      Strom, Miss. Telma Matilda                            360.0      5.0   \n",
       "      Strom, Mrs. Wilhelm (Elna Matilda Persson)            360.0      5.0   \n",
       "\n",
       "                                                         deck  \n",
       "cabin name                                                     \n",
       "A10   Ross, Mr. John Hugo                                   A  \n",
       "A11   Rosenbaum, Miss. Edith Louise                         A  \n",
       "A14   Clifford, Mr. George Quincy                           A  \n",
       "A16   Duff Gordon, Lady. (Lucille Christiana Sutherla...    A  \n",
       "A18   Dulles, Mr. William Crothers                          A  \n",
       "...                                                       ...  \n",
       "G6    Sandstrom, Miss. Beatrice Irene                       G  \n",
       "      Sandstrom, Miss. Marguerite Rut                       G  \n",
       "      Sandstrom, Mrs. Hjalmar (Agnes Charlotta Bengts...    G  \n",
       "      Strom, Miss. Telma Matilda                            G  \n",
       "      Strom, Mrs. Wilhelm (Elna Matilda Persson)            G  \n",
       "\n",
       "[192 rows x 15 columns]"
      ]
     },
     "execution_count": 12,
     "metadata": {},
     "output_type": "execute_result"
    }
   ],
   "source": [
    "make_titanic_plot(\"A\").set_index([\"cabin\",\"name\"])"
   ]
  },
  {
   "cell_type": "code",
   "execution_count": 11,
   "metadata": {},
   "outputs": [
    {
     "data": {
      "text/html": [
       "<div>\n",
       "<style scoped>\n",
       "    .dataframe tbody tr th:only-of-type {\n",
       "        vertical-align: middle;\n",
       "    }\n",
       "\n",
       "    .dataframe tbody tr th {\n",
       "        vertical-align: top;\n",
       "    }\n",
       "\n",
       "    .dataframe thead th {\n",
       "        text-align: right;\n",
       "    }\n",
       "</style>\n",
       "<table border=\"1\" class=\"dataframe\">\n",
       "  <thead>\n",
       "    <tr style=\"text-align: right;\">\n",
       "      <th></th>\n",
       "      <th></th>\n",
       "      <th>pclass</th>\n",
       "      <th>survived</th>\n",
       "      <th>sex</th>\n",
       "      <th>age</th>\n",
       "      <th>sibsp</th>\n",
       "      <th>parch</th>\n",
       "      <th>ticket</th>\n",
       "      <th>fare</th>\n",
       "      <th>embarked</th>\n",
       "      <th>boat</th>\n",
       "      <th>body</th>\n",
       "      <th>home.dest</th>\n",
       "      <th>cabin_x</th>\n",
       "      <th>cabin_y</th>\n",
       "      <th>deck</th>\n",
       "    </tr>\n",
       "    <tr>\n",
       "      <th>cabin</th>\n",
       "      <th>name</th>\n",
       "      <th></th>\n",
       "      <th></th>\n",
       "      <th></th>\n",
       "      <th></th>\n",
       "      <th></th>\n",
       "      <th></th>\n",
       "      <th></th>\n",
       "      <th></th>\n",
       "      <th></th>\n",
       "      <th></th>\n",
       "      <th></th>\n",
       "      <th></th>\n",
       "      <th></th>\n",
       "      <th></th>\n",
       "      <th></th>\n",
       "    </tr>\n",
       "  </thead>\n",
       "  <tbody>\n",
       "    <tr>\n",
       "      <th>A10</th>\n",
       "      <th>Ross, Mr. John Hugo</th>\n",
       "      <td>1</td>\n",
       "      <td>Passenger Died</td>\n",
       "      <td>male</td>\n",
       "      <td>36</td>\n",
       "      <td>0</td>\n",
       "      <td>0</td>\n",
       "      <td>13049</td>\n",
       "      <td>40.125</td>\n",
       "      <td>C</td>\n",
       "      <td>None</td>\n",
       "      <td>None</td>\n",
       "      <td>Winnipeg, MB</td>\n",
       "      <td>425.0</td>\n",
       "      <td>5.00</td>\n",
       "      <td>A</td>\n",
       "    </tr>\n",
       "    <tr>\n",
       "      <th>A11</th>\n",
       "      <th>Rosenbaum, Miss. Edith Louise</th>\n",
       "      <td>1</td>\n",
       "      <td>Passenger Survived</td>\n",
       "      <td>female</td>\n",
       "      <td>33</td>\n",
       "      <td>0</td>\n",
       "      <td>0</td>\n",
       "      <td>PC 17613</td>\n",
       "      <td>27.7208</td>\n",
       "      <td>C</td>\n",
       "      <td>11</td>\n",
       "      <td>None</td>\n",
       "      <td>Paris, France</td>\n",
       "      <td>425.0</td>\n",
       "      <td>1.00</td>\n",
       "      <td>A</td>\n",
       "    </tr>\n",
       "    <tr>\n",
       "      <th>A14</th>\n",
       "      <th>Clifford, Mr. George Quincy</th>\n",
       "      <td>1</td>\n",
       "      <td>Passenger Died</td>\n",
       "      <td>male</td>\n",
       "      <td>None</td>\n",
       "      <td>0</td>\n",
       "      <td>0</td>\n",
       "      <td>110465</td>\n",
       "      <td>52</td>\n",
       "      <td>S</td>\n",
       "      <td>None</td>\n",
       "      <td>None</td>\n",
       "      <td>Stoughton, MA</td>\n",
       "      <td>420.0</td>\n",
       "      <td>5.00</td>\n",
       "      <td>A</td>\n",
       "    </tr>\n",
       "    <tr>\n",
       "      <th>A16</th>\n",
       "      <th>Duff Gordon, Lady. (Lucille Christiana Sutherland) (\"Mrs Morgan\")</th>\n",
       "      <td>1</td>\n",
       "      <td>Passenger Survived</td>\n",
       "      <td>female</td>\n",
       "      <td>48</td>\n",
       "      <td>1</td>\n",
       "      <td>0</td>\n",
       "      <td>11755</td>\n",
       "      <td>39.6</td>\n",
       "      <td>C</td>\n",
       "      <td>1</td>\n",
       "      <td>None</td>\n",
       "      <td>London / Paris</td>\n",
       "      <td>420.0</td>\n",
       "      <td>6.00</td>\n",
       "      <td>A</td>\n",
       "    </tr>\n",
       "    <tr>\n",
       "      <th>A18</th>\n",
       "      <th>Dulles, Mr. William Crothers</th>\n",
       "      <td>1</td>\n",
       "      <td>Passenger Died</td>\n",
       "      <td>male</td>\n",
       "      <td>39</td>\n",
       "      <td>0</td>\n",
       "      <td>0</td>\n",
       "      <td>PC 17580</td>\n",
       "      <td>29.7</td>\n",
       "      <td>C</td>\n",
       "      <td>None</td>\n",
       "      <td>133</td>\n",
       "      <td>Philadelphia, PA</td>\n",
       "      <td>415.0</td>\n",
       "      <td>5.00</td>\n",
       "      <td>A</td>\n",
       "    </tr>\n",
       "    <tr>\n",
       "      <th>...</th>\n",
       "      <th>...</th>\n",
       "      <td>...</td>\n",
       "      <td>...</td>\n",
       "      <td>...</td>\n",
       "      <td>...</td>\n",
       "      <td>...</td>\n",
       "      <td>...</td>\n",
       "      <td>...</td>\n",
       "      <td>...</td>\n",
       "      <td>...</td>\n",
       "      <td>...</td>\n",
       "      <td>...</td>\n",
       "      <td>...</td>\n",
       "      <td>...</td>\n",
       "      <td>...</td>\n",
       "      <td>...</td>\n",
       "    </tr>\n",
       "    <tr>\n",
       "      <th rowspan=\"5\" valign=\"top\">G6</th>\n",
       "      <th>Sandstrom, Miss. Beatrice Irene</th>\n",
       "      <td>3</td>\n",
       "      <td>Passenger Survived</td>\n",
       "      <td>female</td>\n",
       "      <td>1</td>\n",
       "      <td>1</td>\n",
       "      <td>1</td>\n",
       "      <td>PP 9549</td>\n",
       "      <td>16.7</td>\n",
       "      <td>S</td>\n",
       "      <td>13</td>\n",
       "      <td>None</td>\n",
       "      <td>None</td>\n",
       "      <td>361.0</td>\n",
       "      <td>5.25</td>\n",
       "      <td>G</td>\n",
       "    </tr>\n",
       "    <tr>\n",
       "      <th>Sandstrom, Miss. Marguerite Rut</th>\n",
       "      <td>3</td>\n",
       "      <td>Passenger Survived</td>\n",
       "      <td>female</td>\n",
       "      <td>4</td>\n",
       "      <td>1</td>\n",
       "      <td>1</td>\n",
       "      <td>PP 9549</td>\n",
       "      <td>16.7</td>\n",
       "      <td>S</td>\n",
       "      <td>13</td>\n",
       "      <td>None</td>\n",
       "      <td>None</td>\n",
       "      <td>359.0</td>\n",
       "      <td>5.25</td>\n",
       "      <td>G</td>\n",
       "    </tr>\n",
       "    <tr>\n",
       "      <th>Sandstrom, Mrs. Hjalmar (Agnes Charlotta Bengtsson)</th>\n",
       "      <td>3</td>\n",
       "      <td>Passenger Survived</td>\n",
       "      <td>female</td>\n",
       "      <td>24</td>\n",
       "      <td>0</td>\n",
       "      <td>2</td>\n",
       "      <td>PP 9549</td>\n",
       "      <td>16.7</td>\n",
       "      <td>S</td>\n",
       "      <td>13</td>\n",
       "      <td>None</td>\n",
       "      <td>None</td>\n",
       "      <td>359.0</td>\n",
       "      <td>4.75</td>\n",
       "      <td>G</td>\n",
       "    </tr>\n",
       "    <tr>\n",
       "      <th>Strom, Miss. Telma Matilda</th>\n",
       "      <td>3</td>\n",
       "      <td>Passenger Died</td>\n",
       "      <td>female</td>\n",
       "      <td>2</td>\n",
       "      <td>0</td>\n",
       "      <td>1</td>\n",
       "      <td>347054</td>\n",
       "      <td>10.4625</td>\n",
       "      <td>S</td>\n",
       "      <td>None</td>\n",
       "      <td>None</td>\n",
       "      <td>None</td>\n",
       "      <td>361.0</td>\n",
       "      <td>4.75</td>\n",
       "      <td>G</td>\n",
       "    </tr>\n",
       "    <tr>\n",
       "      <th>Strom, Mrs. Wilhelm (Elna Matilda Persson)</th>\n",
       "      <td>3</td>\n",
       "      <td>Passenger Died</td>\n",
       "      <td>female</td>\n",
       "      <td>29</td>\n",
       "      <td>1</td>\n",
       "      <td>1</td>\n",
       "      <td>347054</td>\n",
       "      <td>10.4625</td>\n",
       "      <td>S</td>\n",
       "      <td>None</td>\n",
       "      <td>None</td>\n",
       "      <td>None</td>\n",
       "      <td>361.0</td>\n",
       "      <td>4.75</td>\n",
       "      <td>G</td>\n",
       "    </tr>\n",
       "  </tbody>\n",
       "</table>\n",
       "<p>192 rows × 15 columns</p>\n",
       "</div>"
      ],
      "text/plain": [
       "                                                          pclass  \\\n",
       "cabin name                                                         \n",
       "A10   Ross, Mr. John Hugo                                      1   \n",
       "A11   Rosenbaum, Miss. Edith Louise                            1   \n",
       "A14   Clifford, Mr. George Quincy                              1   \n",
       "A16   Duff Gordon, Lady. (Lucille Christiana Sutherla...       1   \n",
       "A18   Dulles, Mr. William Crothers                             1   \n",
       "...                                                          ...   \n",
       "G6    Sandstrom, Miss. Beatrice Irene                          3   \n",
       "      Sandstrom, Miss. Marguerite Rut                          3   \n",
       "      Sandstrom, Mrs. Hjalmar (Agnes Charlotta Bengts...       3   \n",
       "      Strom, Miss. Telma Matilda                               3   \n",
       "      Strom, Mrs. Wilhelm (Elna Matilda Persson)               3   \n",
       "\n",
       "                                                                    survived  \\\n",
       "cabin name                                                                     \n",
       "A10   Ross, Mr. John Hugo                                     Passenger Died   \n",
       "A11   Rosenbaum, Miss. Edith Louise                       Passenger Survived   \n",
       "A14   Clifford, Mr. George Quincy                             Passenger Died   \n",
       "A16   Duff Gordon, Lady. (Lucille Christiana Sutherla...  Passenger Survived   \n",
       "A18   Dulles, Mr. William Crothers                            Passenger Died   \n",
       "...                                                                      ...   \n",
       "G6    Sandstrom, Miss. Beatrice Irene                     Passenger Survived   \n",
       "      Sandstrom, Miss. Marguerite Rut                     Passenger Survived   \n",
       "      Sandstrom, Mrs. Hjalmar (Agnes Charlotta Bengts...  Passenger Survived   \n",
       "      Strom, Miss. Telma Matilda                              Passenger Died   \n",
       "      Strom, Mrs. Wilhelm (Elna Matilda Persson)              Passenger Died   \n",
       "\n",
       "                                                             sex   age  sibsp  \\\n",
       "cabin name                                                                      \n",
       "A10   Ross, Mr. John Hugo                                   male    36      0   \n",
       "A11   Rosenbaum, Miss. Edith Louise                       female    33      0   \n",
       "A14   Clifford, Mr. George Quincy                           male  None      0   \n",
       "A16   Duff Gordon, Lady. (Lucille Christiana Sutherla...  female    48      1   \n",
       "A18   Dulles, Mr. William Crothers                          male    39      0   \n",
       "...                                                          ...   ...    ...   \n",
       "G6    Sandstrom, Miss. Beatrice Irene                     female     1      1   \n",
       "      Sandstrom, Miss. Marguerite Rut                     female     4      1   \n",
       "      Sandstrom, Mrs. Hjalmar (Agnes Charlotta Bengts...  female    24      0   \n",
       "      Strom, Miss. Telma Matilda                          female     2      0   \n",
       "      Strom, Mrs. Wilhelm (Elna Matilda Persson)          female    29      1   \n",
       "\n",
       "                                                          parch    ticket  \\\n",
       "cabin name                                                                  \n",
       "A10   Ross, Mr. John Hugo                                     0     13049   \n",
       "A11   Rosenbaum, Miss. Edith Louise                           0  PC 17613   \n",
       "A14   Clifford, Mr. George Quincy                             0    110465   \n",
       "A16   Duff Gordon, Lady. (Lucille Christiana Sutherla...      0     11755   \n",
       "A18   Dulles, Mr. William Crothers                            0  PC 17580   \n",
       "...                                                         ...       ...   \n",
       "G6    Sandstrom, Miss. Beatrice Irene                         1   PP 9549   \n",
       "      Sandstrom, Miss. Marguerite Rut                         1   PP 9549   \n",
       "      Sandstrom, Mrs. Hjalmar (Agnes Charlotta Bengts...      2   PP 9549   \n",
       "      Strom, Miss. Telma Matilda                              1    347054   \n",
       "      Strom, Mrs. Wilhelm (Elna Matilda Persson)              1    347054   \n",
       "\n",
       "                                                             fare embarked  \\\n",
       "cabin name                                                                   \n",
       "A10   Ross, Mr. John Hugo                                  40.125        C   \n",
       "A11   Rosenbaum, Miss. Edith Louise                       27.7208        C   \n",
       "A14   Clifford, Mr. George Quincy                              52        S   \n",
       "A16   Duff Gordon, Lady. (Lucille Christiana Sutherla...     39.6        C   \n",
       "A18   Dulles, Mr. William Crothers                           29.7        C   \n",
       "...                                                           ...      ...   \n",
       "G6    Sandstrom, Miss. Beatrice Irene                        16.7        S   \n",
       "      Sandstrom, Miss. Marguerite Rut                        16.7        S   \n",
       "      Sandstrom, Mrs. Hjalmar (Agnes Charlotta Bengts...     16.7        S   \n",
       "      Strom, Miss. Telma Matilda                          10.4625        S   \n",
       "      Strom, Mrs. Wilhelm (Elna Matilda Persson)          10.4625        S   \n",
       "\n",
       "                                                          boat  body  \\\n",
       "cabin name                                                             \n",
       "A10   Ross, Mr. John Hugo                                 None  None   \n",
       "A11   Rosenbaum, Miss. Edith Louise                         11  None   \n",
       "A14   Clifford, Mr. George Quincy                         None  None   \n",
       "A16   Duff Gordon, Lady. (Lucille Christiana Sutherla...     1  None   \n",
       "A18   Dulles, Mr. William Crothers                        None   133   \n",
       "...                                                        ...   ...   \n",
       "G6    Sandstrom, Miss. Beatrice Irene                       13  None   \n",
       "      Sandstrom, Miss. Marguerite Rut                       13  None   \n",
       "      Sandstrom, Mrs. Hjalmar (Agnes Charlotta Bengts...    13  None   \n",
       "      Strom, Miss. Telma Matilda                          None  None   \n",
       "      Strom, Mrs. Wilhelm (Elna Matilda Persson)          None  None   \n",
       "\n",
       "                                                                 home.dest  \\\n",
       "cabin name                                                                   \n",
       "A10   Ross, Mr. John Hugo                                     Winnipeg, MB   \n",
       "A11   Rosenbaum, Miss. Edith Louise                          Paris, France   \n",
       "A14   Clifford, Mr. George Quincy                            Stoughton, MA   \n",
       "A16   Duff Gordon, Lady. (Lucille Christiana Sutherla...    London / Paris   \n",
       "A18   Dulles, Mr. William Crothers                        Philadelphia, PA   \n",
       "...                                                                    ...   \n",
       "G6    Sandstrom, Miss. Beatrice Irene                                 None   \n",
       "      Sandstrom, Miss. Marguerite Rut                                 None   \n",
       "      Sandstrom, Mrs. Hjalmar (Agnes Charlotta Bengts...              None   \n",
       "      Strom, Miss. Telma Matilda                                      None   \n",
       "      Strom, Mrs. Wilhelm (Elna Matilda Persson)                      None   \n",
       "\n",
       "                                                          cabin_x  cabin_y  \\\n",
       "cabin name                                                                   \n",
       "A10   Ross, Mr. John Hugo                                   425.0     5.00   \n",
       "A11   Rosenbaum, Miss. Edith Louise                         425.0     1.00   \n",
       "A14   Clifford, Mr. George Quincy                           420.0     5.00   \n",
       "A16   Duff Gordon, Lady. (Lucille Christiana Sutherla...    420.0     6.00   \n",
       "A18   Dulles, Mr. William Crothers                          415.0     5.00   \n",
       "...                                                           ...      ...   \n",
       "G6    Sandstrom, Miss. Beatrice Irene                       361.0     5.25   \n",
       "      Sandstrom, Miss. Marguerite Rut                       359.0     5.25   \n",
       "      Sandstrom, Mrs. Hjalmar (Agnes Charlotta Bengts...    359.0     4.75   \n",
       "      Strom, Miss. Telma Matilda                            361.0     4.75   \n",
       "      Strom, Mrs. Wilhelm (Elna Matilda Persson)            361.0     4.75   \n",
       "\n",
       "                                                         deck  \n",
       "cabin name                                                     \n",
       "A10   Ross, Mr. John Hugo                                   A  \n",
       "A11   Rosenbaum, Miss. Edith Louise                         A  \n",
       "A14   Clifford, Mr. George Quincy                           A  \n",
       "A16   Duff Gordon, Lady. (Lucille Christiana Sutherla...    A  \n",
       "A18   Dulles, Mr. William Crothers                          A  \n",
       "...                                                       ...  \n",
       "G6    Sandstrom, Miss. Beatrice Irene                       G  \n",
       "      Sandstrom, Miss. Marguerite Rut                       G  \n",
       "      Sandstrom, Mrs. Hjalmar (Agnes Charlotta Bengts...    G  \n",
       "      Strom, Miss. Telma Matilda                            G  \n",
       "      Strom, Mrs. Wilhelm (Elna Matilda Persson)            G  \n",
       "\n",
       "[192 rows x 15 columns]"
      ]
     },
     "execution_count": 11,
     "metadata": {},
     "output_type": "execute_result"
    }
   ],
   "source": [
    "titanic_passengers_by_cabin"
   ]
  },
  {
   "cell_type": "code",
   "execution_count": null,
   "metadata": {},
   "outputs": [],
   "source": []
  }
 ],
 "metadata": {
  "kernelspec": {
   "display_name": "Python 3",
   "language": "python",
   "name": "python3"
  },
  "language_info": {
   "codemirror_mode": {
    "name": "ipython",
    "version": 3
   },
   "file_extension": ".py",
   "mimetype": "text/x-python",
   "name": "python",
   "nbconvert_exporter": "python",
   "pygments_lexer": "ipython3",
   "version": "3.7.4"
  }
 },
 "nbformat": 4,
 "nbformat_minor": 4
}
