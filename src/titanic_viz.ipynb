{
 "cells": [
  {
   "cell_type": "code",
   "execution_count": 3,
   "metadata": {},
   "outputs": [],
   "source": [
    "import pandas as pd\n",
    "import altair as alt"
   ]
  },
  {
   "cell_type": "markdown",
   "metadata": {},
   "source": [
    "### 1. Load Titanic dataset"
   ]
  },
  {
   "cell_type": "code",
   "execution_count": 4,
   "metadata": {},
   "outputs": [],
   "source": [
    "titanic_df = pd.read_csv(\"../data/titanic.csv\")"
   ]
  },
  {
   "cell_type": "code",
   "execution_count": 5,
   "metadata": {},
   "outputs": [
    {
     "data": {
      "text/html": [
       "<div>\n",
       "<style scoped>\n",
       "    .dataframe tbody tr th:only-of-type {\n",
       "        vertical-align: middle;\n",
       "    }\n",
       "\n",
       "    .dataframe tbody tr th {\n",
       "        vertical-align: top;\n",
       "    }\n",
       "\n",
       "    .dataframe thead th {\n",
       "        text-align: right;\n",
       "    }\n",
       "</style>\n",
       "<table border=\"1\" class=\"dataframe\">\n",
       "  <thead>\n",
       "    <tr style=\"text-align: right;\">\n",
       "      <th></th>\n",
       "      <th>pclass</th>\n",
       "      <th>survived</th>\n",
       "      <th>name</th>\n",
       "      <th>sex</th>\n",
       "      <th>age</th>\n",
       "      <th>sibsp</th>\n",
       "      <th>parch</th>\n",
       "      <th>ticket</th>\n",
       "      <th>fare</th>\n",
       "      <th>cabin</th>\n",
       "      <th>embarked</th>\n",
       "      <th>boat</th>\n",
       "      <th>body</th>\n",
       "      <th>home.dest</th>\n",
       "    </tr>\n",
       "  </thead>\n",
       "  <tbody>\n",
       "    <tr>\n",
       "      <th>0</th>\n",
       "      <td>1</td>\n",
       "      <td>1</td>\n",
       "      <td>Allen, Miss. Elisabeth Walton</td>\n",
       "      <td>female</td>\n",
       "      <td>29</td>\n",
       "      <td>0</td>\n",
       "      <td>0</td>\n",
       "      <td>24160</td>\n",
       "      <td>211.338</td>\n",
       "      <td>B5</td>\n",
       "      <td>S</td>\n",
       "      <td>2</td>\n",
       "      <td>None</td>\n",
       "      <td>St Louis, MO</td>\n",
       "    </tr>\n",
       "    <tr>\n",
       "      <th>1</th>\n",
       "      <td>1</td>\n",
       "      <td>1</td>\n",
       "      <td>Allison, Master. Hudson Trevor</td>\n",
       "      <td>male</td>\n",
       "      <td>0.9167</td>\n",
       "      <td>1</td>\n",
       "      <td>2</td>\n",
       "      <td>113781</td>\n",
       "      <td>151.55</td>\n",
       "      <td>C22 C26</td>\n",
       "      <td>S</td>\n",
       "      <td>11</td>\n",
       "      <td>None</td>\n",
       "      <td>Montreal, PQ / Chesterville, ON</td>\n",
       "    </tr>\n",
       "    <tr>\n",
       "      <th>2</th>\n",
       "      <td>1</td>\n",
       "      <td>0</td>\n",
       "      <td>Allison, Miss. Helen Loraine</td>\n",
       "      <td>female</td>\n",
       "      <td>2</td>\n",
       "      <td>1</td>\n",
       "      <td>2</td>\n",
       "      <td>113781</td>\n",
       "      <td>151.55</td>\n",
       "      <td>C22 C26</td>\n",
       "      <td>S</td>\n",
       "      <td>None</td>\n",
       "      <td>None</td>\n",
       "      <td>Montreal, PQ / Chesterville, ON</td>\n",
       "    </tr>\n",
       "    <tr>\n",
       "      <th>3</th>\n",
       "      <td>1</td>\n",
       "      <td>0</td>\n",
       "      <td>Allison, Mr. Hudson Joshua Creighton</td>\n",
       "      <td>male</td>\n",
       "      <td>30</td>\n",
       "      <td>1</td>\n",
       "      <td>2</td>\n",
       "      <td>113781</td>\n",
       "      <td>151.55</td>\n",
       "      <td>C22 C26</td>\n",
       "      <td>S</td>\n",
       "      <td>None</td>\n",
       "      <td>135</td>\n",
       "      <td>Montreal, PQ / Chesterville, ON</td>\n",
       "    </tr>\n",
       "    <tr>\n",
       "      <th>4</th>\n",
       "      <td>1</td>\n",
       "      <td>0</td>\n",
       "      <td>Allison, Mrs. Hudson J C (Bessie Waldo Daniels)</td>\n",
       "      <td>female</td>\n",
       "      <td>25</td>\n",
       "      <td>1</td>\n",
       "      <td>2</td>\n",
       "      <td>113781</td>\n",
       "      <td>151.55</td>\n",
       "      <td>C22 C26</td>\n",
       "      <td>S</td>\n",
       "      <td>None</td>\n",
       "      <td>None</td>\n",
       "      <td>Montreal, PQ / Chesterville, ON</td>\n",
       "    </tr>\n",
       "    <tr>\n",
       "      <th>...</th>\n",
       "      <td>...</td>\n",
       "      <td>...</td>\n",
       "      <td>...</td>\n",
       "      <td>...</td>\n",
       "      <td>...</td>\n",
       "      <td>...</td>\n",
       "      <td>...</td>\n",
       "      <td>...</td>\n",
       "      <td>...</td>\n",
       "      <td>...</td>\n",
       "      <td>...</td>\n",
       "      <td>...</td>\n",
       "      <td>...</td>\n",
       "      <td>...</td>\n",
       "    </tr>\n",
       "    <tr>\n",
       "      <th>1304</th>\n",
       "      <td>3</td>\n",
       "      <td>0</td>\n",
       "      <td>Zabour, Miss. Hileni</td>\n",
       "      <td>female</td>\n",
       "      <td>14.5</td>\n",
       "      <td>1</td>\n",
       "      <td>0</td>\n",
       "      <td>2665</td>\n",
       "      <td>14.4542</td>\n",
       "      <td>None</td>\n",
       "      <td>C</td>\n",
       "      <td>None</td>\n",
       "      <td>328</td>\n",
       "      <td>None</td>\n",
       "    </tr>\n",
       "    <tr>\n",
       "      <th>1305</th>\n",
       "      <td>3</td>\n",
       "      <td>0</td>\n",
       "      <td>Zabour, Miss. Thamine</td>\n",
       "      <td>female</td>\n",
       "      <td>None</td>\n",
       "      <td>1</td>\n",
       "      <td>0</td>\n",
       "      <td>2665</td>\n",
       "      <td>14.4542</td>\n",
       "      <td>None</td>\n",
       "      <td>C</td>\n",
       "      <td>None</td>\n",
       "      <td>None</td>\n",
       "      <td>None</td>\n",
       "    </tr>\n",
       "    <tr>\n",
       "      <th>1306</th>\n",
       "      <td>3</td>\n",
       "      <td>0</td>\n",
       "      <td>Zakarian, Mr. Mapriededer</td>\n",
       "      <td>male</td>\n",
       "      <td>26.5</td>\n",
       "      <td>0</td>\n",
       "      <td>0</td>\n",
       "      <td>2656</td>\n",
       "      <td>7.225</td>\n",
       "      <td>None</td>\n",
       "      <td>C</td>\n",
       "      <td>None</td>\n",
       "      <td>304</td>\n",
       "      <td>None</td>\n",
       "    </tr>\n",
       "    <tr>\n",
       "      <th>1307</th>\n",
       "      <td>3</td>\n",
       "      <td>0</td>\n",
       "      <td>Zakarian, Mr. Ortin</td>\n",
       "      <td>male</td>\n",
       "      <td>27</td>\n",
       "      <td>0</td>\n",
       "      <td>0</td>\n",
       "      <td>2670</td>\n",
       "      <td>7.225</td>\n",
       "      <td>None</td>\n",
       "      <td>C</td>\n",
       "      <td>None</td>\n",
       "      <td>None</td>\n",
       "      <td>None</td>\n",
       "    </tr>\n",
       "    <tr>\n",
       "      <th>1308</th>\n",
       "      <td>3</td>\n",
       "      <td>0</td>\n",
       "      <td>Zimmerman, Mr. Leo</td>\n",
       "      <td>male</td>\n",
       "      <td>29</td>\n",
       "      <td>0</td>\n",
       "      <td>0</td>\n",
       "      <td>315082</td>\n",
       "      <td>7.875</td>\n",
       "      <td>None</td>\n",
       "      <td>S</td>\n",
       "      <td>None</td>\n",
       "      <td>None</td>\n",
       "      <td>None</td>\n",
       "    </tr>\n",
       "  </tbody>\n",
       "</table>\n",
       "<p>1309 rows × 14 columns</p>\n",
       "</div>"
      ],
      "text/plain": [
       "      pclass  survived                                             name  \\\n",
       "0          1         1                    Allen, Miss. Elisabeth Walton   \n",
       "1          1         1                   Allison, Master. Hudson Trevor   \n",
       "2          1         0                     Allison, Miss. Helen Loraine   \n",
       "3          1         0             Allison, Mr. Hudson Joshua Creighton   \n",
       "4          1         0  Allison, Mrs. Hudson J C (Bessie Waldo Daniels)   \n",
       "...      ...       ...                                              ...   \n",
       "1304       3         0                             Zabour, Miss. Hileni   \n",
       "1305       3         0                            Zabour, Miss. Thamine   \n",
       "1306       3         0                        Zakarian, Mr. Mapriededer   \n",
       "1307       3         0                              Zakarian, Mr. Ortin   \n",
       "1308       3         0                               Zimmerman, Mr. Leo   \n",
       "\n",
       "         sex     age  sibsp  parch  ticket     fare    cabin embarked  boat  \\\n",
       "0     female      29      0      0   24160  211.338       B5        S     2   \n",
       "1       male  0.9167      1      2  113781   151.55  C22 C26        S    11   \n",
       "2     female       2      1      2  113781   151.55  C22 C26        S  None   \n",
       "3       male      30      1      2  113781   151.55  C22 C26        S  None   \n",
       "4     female      25      1      2  113781   151.55  C22 C26        S  None   \n",
       "...      ...     ...    ...    ...     ...      ...      ...      ...   ...   \n",
       "1304  female    14.5      1      0    2665  14.4542     None        C  None   \n",
       "1305  female    None      1      0    2665  14.4542     None        C  None   \n",
       "1306    male    26.5      0      0    2656    7.225     None        C  None   \n",
       "1307    male      27      0      0    2670    7.225     None        C  None   \n",
       "1308    male      29      0      0  315082    7.875     None        S  None   \n",
       "\n",
       "      body                        home.dest  \n",
       "0     None                     St Louis, MO  \n",
       "1     None  Montreal, PQ / Chesterville, ON  \n",
       "2     None  Montreal, PQ / Chesterville, ON  \n",
       "3      135  Montreal, PQ / Chesterville, ON  \n",
       "4     None  Montreal, PQ / Chesterville, ON  \n",
       "...    ...                              ...  \n",
       "1304   328                             None  \n",
       "1305  None                             None  \n",
       "1306   304                             None  \n",
       "1307  None                             None  \n",
       "1308  None                             None  \n",
       "\n",
       "[1309 rows x 14 columns]"
      ]
     },
     "execution_count": 5,
     "metadata": {},
     "output_type": "execute_result"
    }
   ],
   "source": [
    "titanic_df = titanic_df.fillna(\"None\")\n",
    "titanic_df"
   ]
  },
  {
   "cell_type": "markdown",
   "metadata": {},
   "source": [
    "### 2. Cabin coordinates"
   ]
  },
  {
   "cell_type": "code",
   "execution_count": 57,
   "metadata": {},
   "outputs": [
    {
     "data": {
      "text/html": [
       "<div>\n",
       "<style scoped>\n",
       "    .dataframe tbody tr th:only-of-type {\n",
       "        vertical-align: middle;\n",
       "    }\n",
       "\n",
       "    .dataframe tbody tr th {\n",
       "        vertical-align: top;\n",
       "    }\n",
       "\n",
       "    .dataframe thead th {\n",
       "        text-align: right;\n",
       "    }\n",
       "</style>\n",
       "<table border=\"1\" class=\"dataframe\">\n",
       "  <thead>\n",
       "    <tr style=\"text-align: right;\">\n",
       "      <th></th>\n",
       "      <th>cabin_x</th>\n",
       "      <th>cabin_y</th>\n",
       "    </tr>\n",
       "    <tr>\n",
       "      <th>cabin</th>\n",
       "      <th></th>\n",
       "      <th></th>\n",
       "    </tr>\n",
       "  </thead>\n",
       "  <tbody>\n",
       "    <tr>\n",
       "      <th>A36</th>\n",
       "      <td>350.0</td>\n",
       "      <td>1.0</td>\n",
       "    </tr>\n",
       "    <tr>\n",
       "      <th>A37</th>\n",
       "      <td>350.0</td>\n",
       "      <td>6.0</td>\n",
       "    </tr>\n",
       "    <tr>\n",
       "      <th>A32</th>\n",
       "      <td>400.0</td>\n",
       "      <td>6.0</td>\n",
       "    </tr>\n",
       "    <tr>\n",
       "      <th>A30</th>\n",
       "      <td>400.0</td>\n",
       "      <td>5.0</td>\n",
       "    </tr>\n",
       "    <tr>\n",
       "      <th>A31</th>\n",
       "      <td>400.0</td>\n",
       "      <td>2.0</td>\n",
       "    </tr>\n",
       "  </tbody>\n",
       "</table>\n",
       "</div>"
      ],
      "text/plain": [
       "       cabin_x  cabin_y\n",
       "cabin                  \n",
       "A36      350.0      1.0\n",
       "A37      350.0      6.0\n",
       "A32      400.0      6.0\n",
       "A30      400.0      5.0\n",
       "A31      400.0      2.0"
      ]
     },
     "execution_count": 57,
     "metadata": {},
     "output_type": "execute_result"
    }
   ],
   "source": [
    "cabin_locations = {\"A36\": (350, 1.0), \"A37\": (350, 6.0), \"A32\": (400, 6.0), \"A30\": (400, 5.0), \"A31\": (400, 2.0), \"A33\": (400, 1.0), \"A28\": (405, 6.0), \"A26\": (405, 5.0), \"A27\": (405, 2.0),\n",
    "                       \"A29\": (405, 1.0), \"A34\": (395, 6.0), \"A35\": (395, 1.0), \"A24\": (410, 6.0), \"A22\": (410, 5.0), \"A23\": (410, 2.0), \"A25\": (410, 1.0), \"A20\": (415, 6.0), \"A18\": (415, 5.0),\n",
    "                       \"A19\": (415, 2.0), \"A21\": (415, 1.0), \"A16\": (420, 6.0), \"A14\": (420, 5.0), \"A15\": (420, 2.0), \"A17\": (420, 1.0), \"A12\": (425, 6.0), \"A10\": (425, 5.0), \"A9\":  (425, 2.0),\n",
    "                       \"A11\": (425, 1.0), \"A8\": ( 430, 6.0),  \"A6\": (430, 5.0), \"A5\":  (430, 2.0), \"A7\":  (430, 1.0), \"A4\":  (435, 6.0), \"A2\":  (435, 4.0), \"A1\":  (435, 3.0), \"A3\":  (435, 1.0),\n",
    "                       \n",
    "                       \"B90\": (345, 6.0), \"B94\": (340, 6.0), \"B96\": (335, 6.0), \"B98\": (330, 6.0), \"B92\": (345, 5.0), \"B91\": (345, 1.0), \"B101\": (395, 3.0), \"B102\": (395, 4.0), \"B100\": (385, 4.0),\n",
    "                       \"B99\": (385, 3.0), \"B58\": (400, 6.0), \"B88\": (350, 6.0), \"B84\": (355, 6.0), \"B86\": (355, 5.0), \"B85\": (355, 1.0), \"B82\": (360, 6.0), \"B78\": (365, 6.0), \"B76\": (370, 6.0),\n",
    "                       \"B72\": (375, 6.0), \"B70\": (380, 6.0), \"B66\": (385, 6.0), \"B64\": (390, 6.0), \"B60\": (395, 6.0), \"B80\": (365, 5.0), \"B74\": (375, 5.0), \"B68\": (385, 5.0), \"B62\":  (395, 5.0),\n",
    "                       \"B79\": (365, 1.0), \"B73\": (375, 1.0), \"B67\": (385, 1.0), \"B52\": (405, 5.0), \"B51\": (405, 1.0), \"B61\":  (395, 1.0)}\n",
    "\n",
    "cabin_locations_df = pd.DataFrame(cabin_locations).T\n",
    "cabin_locations_df.index.names = [\"cabin\"]\n",
    "cabin_locations_df.columns = [\"cabin_x\", \"cabin_y\"]\n",
    "cabin_locations_df.head()"
   ]
  },
  {
   "cell_type": "markdown",
   "metadata": {},
   "source": [
    "#### 2.1 Mapping cabin coordinates to titanic data frame"
   ]
  },
  {
   "cell_type": "code",
   "execution_count": 77,
   "metadata": {},
   "outputs": [
    {
     "data": {
      "text/html": [
       "<div>\n",
       "<style scoped>\n",
       "    .dataframe tbody tr th:only-of-type {\n",
       "        vertical-align: middle;\n",
       "    }\n",
       "\n",
       "    .dataframe tbody tr th {\n",
       "        vertical-align: top;\n",
       "    }\n",
       "\n",
       "    .dataframe thead th {\n",
       "        text-align: right;\n",
       "    }\n",
       "</style>\n",
       "<table border=\"1\" class=\"dataframe\">\n",
       "  <thead>\n",
       "    <tr style=\"text-align: right;\">\n",
       "      <th></th>\n",
       "      <th></th>\n",
       "      <th>pclass</th>\n",
       "      <th>survived</th>\n",
       "      <th>sex</th>\n",
       "      <th>age</th>\n",
       "      <th>sibsp</th>\n",
       "      <th>parch</th>\n",
       "      <th>ticket</th>\n",
       "      <th>fare</th>\n",
       "      <th>embarked</th>\n",
       "      <th>boat</th>\n",
       "      <th>body</th>\n",
       "      <th>home.dest</th>\n",
       "      <th>cabin_x</th>\n",
       "      <th>cabin_y</th>\n",
       "      <th>deck</th>\n",
       "    </tr>\n",
       "    <tr>\n",
       "      <th>cabin</th>\n",
       "      <th>name</th>\n",
       "      <th></th>\n",
       "      <th></th>\n",
       "      <th></th>\n",
       "      <th></th>\n",
       "      <th></th>\n",
       "      <th></th>\n",
       "      <th></th>\n",
       "      <th></th>\n",
       "      <th></th>\n",
       "      <th></th>\n",
       "      <th></th>\n",
       "      <th></th>\n",
       "      <th></th>\n",
       "      <th></th>\n",
       "      <th></th>\n",
       "    </tr>\n",
       "  </thead>\n",
       "  <tbody>\n",
       "    <tr>\n",
       "      <th>A10</th>\n",
       "      <th>Ross, Mr. John Hugo</th>\n",
       "      <td>1</td>\n",
       "      <td>0</td>\n",
       "      <td>male</td>\n",
       "      <td>36</td>\n",
       "      <td>0</td>\n",
       "      <td>0</td>\n",
       "      <td>13049</td>\n",
       "      <td>40.125</td>\n",
       "      <td>C</td>\n",
       "      <td>None</td>\n",
       "      <td>None</td>\n",
       "      <td>Winnipeg, MB</td>\n",
       "      <td>425.0</td>\n",
       "      <td>5.0</td>\n",
       "      <td>A</td>\n",
       "    </tr>\n",
       "    <tr>\n",
       "      <th>A11</th>\n",
       "      <th>Rosenbaum, Miss. Edith Louise</th>\n",
       "      <td>1</td>\n",
       "      <td>1</td>\n",
       "      <td>female</td>\n",
       "      <td>33</td>\n",
       "      <td>0</td>\n",
       "      <td>0</td>\n",
       "      <td>PC 17613</td>\n",
       "      <td>27.7208</td>\n",
       "      <td>C</td>\n",
       "      <td>11</td>\n",
       "      <td>None</td>\n",
       "      <td>Paris, France</td>\n",
       "      <td>425.0</td>\n",
       "      <td>1.0</td>\n",
       "      <td>A</td>\n",
       "    </tr>\n",
       "    <tr>\n",
       "      <th>A14</th>\n",
       "      <th>Clifford, Mr. George Quincy</th>\n",
       "      <td>1</td>\n",
       "      <td>0</td>\n",
       "      <td>male</td>\n",
       "      <td>None</td>\n",
       "      <td>0</td>\n",
       "      <td>0</td>\n",
       "      <td>110465</td>\n",
       "      <td>52</td>\n",
       "      <td>S</td>\n",
       "      <td>None</td>\n",
       "      <td>None</td>\n",
       "      <td>Stoughton, MA</td>\n",
       "      <td>420.0</td>\n",
       "      <td>5.0</td>\n",
       "      <td>A</td>\n",
       "    </tr>\n",
       "    <tr>\n",
       "      <th>A16</th>\n",
       "      <th>Duff Gordon, Lady. (Lucille Christiana Sutherland) (\"Mrs Morgan\")</th>\n",
       "      <td>1</td>\n",
       "      <td>1</td>\n",
       "      <td>female</td>\n",
       "      <td>48</td>\n",
       "      <td>1</td>\n",
       "      <td>0</td>\n",
       "      <td>11755</td>\n",
       "      <td>39.6</td>\n",
       "      <td>C</td>\n",
       "      <td>1</td>\n",
       "      <td>None</td>\n",
       "      <td>London / Paris</td>\n",
       "      <td>420.0</td>\n",
       "      <td>6.0</td>\n",
       "      <td>A</td>\n",
       "    </tr>\n",
       "    <tr>\n",
       "      <th>A18</th>\n",
       "      <th>Dulles, Mr. William Crothers</th>\n",
       "      <td>1</td>\n",
       "      <td>0</td>\n",
       "      <td>male</td>\n",
       "      <td>39</td>\n",
       "      <td>0</td>\n",
       "      <td>0</td>\n",
       "      <td>PC 17580</td>\n",
       "      <td>29.7</td>\n",
       "      <td>C</td>\n",
       "      <td>None</td>\n",
       "      <td>133</td>\n",
       "      <td>Philadelphia, PA</td>\n",
       "      <td>415.0</td>\n",
       "      <td>5.0</td>\n",
       "      <td>A</td>\n",
       "    </tr>\n",
       "    <tr>\n",
       "      <th>A19</th>\n",
       "      <th>Smith, Mr. Richard William</th>\n",
       "      <td>1</td>\n",
       "      <td>0</td>\n",
       "      <td>male</td>\n",
       "      <td>None</td>\n",
       "      <td>0</td>\n",
       "      <td>0</td>\n",
       "      <td>113056</td>\n",
       "      <td>26</td>\n",
       "      <td>S</td>\n",
       "      <td>None</td>\n",
       "      <td>None</td>\n",
       "      <td>Streatham, Surrey</td>\n",
       "      <td>415.0</td>\n",
       "      <td>2.0</td>\n",
       "      <td>A</td>\n",
       "    </tr>\n",
       "    <tr>\n",
       "      <th>A20</th>\n",
       "      <th>Duff Gordon, Sir. Cosmo Edmund (\"Mr Morgan\")</th>\n",
       "      <td>1</td>\n",
       "      <td>1</td>\n",
       "      <td>male</td>\n",
       "      <td>49</td>\n",
       "      <td>1</td>\n",
       "      <td>0</td>\n",
       "      <td>PC 17485</td>\n",
       "      <td>56.9292</td>\n",
       "      <td>C</td>\n",
       "      <td>1</td>\n",
       "      <td>None</td>\n",
       "      <td>London / Paris</td>\n",
       "      <td>415.0</td>\n",
       "      <td>6.0</td>\n",
       "      <td>A</td>\n",
       "    </tr>\n",
       "    <tr>\n",
       "      <th>A21</th>\n",
       "      <th>Brady, Mr. John Bertram</th>\n",
       "      <td>1</td>\n",
       "      <td>0</td>\n",
       "      <td>male</td>\n",
       "      <td>41</td>\n",
       "      <td>0</td>\n",
       "      <td>0</td>\n",
       "      <td>113054</td>\n",
       "      <td>30.5</td>\n",
       "      <td>S</td>\n",
       "      <td>None</td>\n",
       "      <td>None</td>\n",
       "      <td>Pomeroy, WA</td>\n",
       "      <td>415.0</td>\n",
       "      <td>1.0</td>\n",
       "      <td>A</td>\n",
       "    </tr>\n",
       "    <tr>\n",
       "      <th>A23</th>\n",
       "      <th>Barkworth, Mr. Algernon Henry Wilson</th>\n",
       "      <td>1</td>\n",
       "      <td>1</td>\n",
       "      <td>male</td>\n",
       "      <td>80</td>\n",
       "      <td>0</td>\n",
       "      <td>0</td>\n",
       "      <td>27042</td>\n",
       "      <td>30</td>\n",
       "      <td>S</td>\n",
       "      <td>B</td>\n",
       "      <td>None</td>\n",
       "      <td>Hessle, Yorks</td>\n",
       "      <td>410.0</td>\n",
       "      <td>2.0</td>\n",
       "      <td>A</td>\n",
       "    </tr>\n",
       "    <tr>\n",
       "      <th>A24</th>\n",
       "      <th>Roebling, Mr. Washington Augustus II</th>\n",
       "      <td>1</td>\n",
       "      <td>0</td>\n",
       "      <td>male</td>\n",
       "      <td>31</td>\n",
       "      <td>0</td>\n",
       "      <td>0</td>\n",
       "      <td>PC 17590</td>\n",
       "      <td>50.4958</td>\n",
       "      <td>S</td>\n",
       "      <td>None</td>\n",
       "      <td>None</td>\n",
       "      <td>Trenton, NJ</td>\n",
       "      <td>410.0</td>\n",
       "      <td>6.0</td>\n",
       "      <td>A</td>\n",
       "    </tr>\n",
       "    <tr>\n",
       "      <th>A26</th>\n",
       "      <th>Simonius-Blumer, Col. Oberst Alfons</th>\n",
       "      <td>1</td>\n",
       "      <td>1</td>\n",
       "      <td>male</td>\n",
       "      <td>56</td>\n",
       "      <td>0</td>\n",
       "      <td>0</td>\n",
       "      <td>13213</td>\n",
       "      <td>35.5</td>\n",
       "      <td>C</td>\n",
       "      <td>3</td>\n",
       "      <td>None</td>\n",
       "      <td>Basel, Switzerland</td>\n",
       "      <td>405.0</td>\n",
       "      <td>5.0</td>\n",
       "      <td>A</td>\n",
       "    </tr>\n",
       "    <tr>\n",
       "      <th>A29</th>\n",
       "      <th>Evans, Miss. Edith Corse</th>\n",
       "      <td>1</td>\n",
       "      <td>0</td>\n",
       "      <td>female</td>\n",
       "      <td>36</td>\n",
       "      <td>0</td>\n",
       "      <td>0</td>\n",
       "      <td>PC 17531</td>\n",
       "      <td>31.6792</td>\n",
       "      <td>C</td>\n",
       "      <td>None</td>\n",
       "      <td>None</td>\n",
       "      <td>New York, NY</td>\n",
       "      <td>405.0</td>\n",
       "      <td>1.0</td>\n",
       "      <td>A</td>\n",
       "    </tr>\n",
       "    <tr>\n",
       "      <th>A31</th>\n",
       "      <th>Blank, Mr. Henry</th>\n",
       "      <td>1</td>\n",
       "      <td>1</td>\n",
       "      <td>male</td>\n",
       "      <td>40</td>\n",
       "      <td>0</td>\n",
       "      <td>0</td>\n",
       "      <td>112277</td>\n",
       "      <td>31</td>\n",
       "      <td>C</td>\n",
       "      <td>7</td>\n",
       "      <td>None</td>\n",
       "      <td>Glen Ridge, NJ</td>\n",
       "      <td>400.0</td>\n",
       "      <td>2.0</td>\n",
       "      <td>A</td>\n",
       "    </tr>\n",
       "    <tr>\n",
       "      <th>A32</th>\n",
       "      <th>Rood, Mr. Hugh Roscoe</th>\n",
       "      <td>1</td>\n",
       "      <td>0</td>\n",
       "      <td>male</td>\n",
       "      <td>None</td>\n",
       "      <td>0</td>\n",
       "      <td>0</td>\n",
       "      <td>113767</td>\n",
       "      <td>50</td>\n",
       "      <td>S</td>\n",
       "      <td>None</td>\n",
       "      <td>None</td>\n",
       "      <td>Seattle, WA</td>\n",
       "      <td>400.0</td>\n",
       "      <td>6.0</td>\n",
       "      <td>A</td>\n",
       "    </tr>\n",
       "    <tr>\n",
       "      <th rowspan=\"3\" valign=\"top\">A34</th>\n",
       "      <th>Dodge, Dr. Washington</th>\n",
       "      <td>1</td>\n",
       "      <td>1</td>\n",
       "      <td>male</td>\n",
       "      <td>53</td>\n",
       "      <td>1</td>\n",
       "      <td>1</td>\n",
       "      <td>33638</td>\n",
       "      <td>81.8583</td>\n",
       "      <td>S</td>\n",
       "      <td>13</td>\n",
       "      <td>None</td>\n",
       "      <td>San Francisco, CA</td>\n",
       "      <td>395.0</td>\n",
       "      <td>6.0</td>\n",
       "      <td>A</td>\n",
       "    </tr>\n",
       "    <tr>\n",
       "      <th>Dodge, Master. Washington</th>\n",
       "      <td>1</td>\n",
       "      <td>1</td>\n",
       "      <td>male</td>\n",
       "      <td>4</td>\n",
       "      <td>0</td>\n",
       "      <td>2</td>\n",
       "      <td>33638</td>\n",
       "      <td>81.8583</td>\n",
       "      <td>S</td>\n",
       "      <td>5</td>\n",
       "      <td>None</td>\n",
       "      <td>San Francisco, CA</td>\n",
       "      <td>395.0</td>\n",
       "      <td>6.0</td>\n",
       "      <td>A</td>\n",
       "    </tr>\n",
       "    <tr>\n",
       "      <th>Dodge, Mrs. Washington (Ruth Vidaver)</th>\n",
       "      <td>1</td>\n",
       "      <td>1</td>\n",
       "      <td>female</td>\n",
       "      <td>54</td>\n",
       "      <td>1</td>\n",
       "      <td>1</td>\n",
       "      <td>33638</td>\n",
       "      <td>81.8583</td>\n",
       "      <td>S</td>\n",
       "      <td>5</td>\n",
       "      <td>None</td>\n",
       "      <td>San Francisco, CA</td>\n",
       "      <td>395.0</td>\n",
       "      <td>6.0</td>\n",
       "      <td>A</td>\n",
       "    </tr>\n",
       "    <tr>\n",
       "      <th>A36</th>\n",
       "      <th>Andrews, Mr. Thomas Jr</th>\n",
       "      <td>1</td>\n",
       "      <td>0</td>\n",
       "      <td>male</td>\n",
       "      <td>39</td>\n",
       "      <td>0</td>\n",
       "      <td>0</td>\n",
       "      <td>112050</td>\n",
       "      <td>0</td>\n",
       "      <td>S</td>\n",
       "      <td>None</td>\n",
       "      <td>None</td>\n",
       "      <td>Belfast, NI</td>\n",
       "      <td>350.0</td>\n",
       "      <td>1.0</td>\n",
       "      <td>A</td>\n",
       "    </tr>\n",
       "    <tr>\n",
       "      <th>A5</th>\n",
       "      <th>Goldschmidt, Mr. George B</th>\n",
       "      <td>1</td>\n",
       "      <td>0</td>\n",
       "      <td>male</td>\n",
       "      <td>71</td>\n",
       "      <td>0</td>\n",
       "      <td>0</td>\n",
       "      <td>PC 17754</td>\n",
       "      <td>34.6542</td>\n",
       "      <td>C</td>\n",
       "      <td>None</td>\n",
       "      <td>None</td>\n",
       "      <td>New York, NY</td>\n",
       "      <td>430.0</td>\n",
       "      <td>2.0</td>\n",
       "      <td>A</td>\n",
       "    </tr>\n",
       "    <tr>\n",
       "      <th>A6</th>\n",
       "      <th>Sloper, Mr. William Thompson</th>\n",
       "      <td>1</td>\n",
       "      <td>1</td>\n",
       "      <td>male</td>\n",
       "      <td>28</td>\n",
       "      <td>0</td>\n",
       "      <td>0</td>\n",
       "      <td>113788</td>\n",
       "      <td>35.5</td>\n",
       "      <td>S</td>\n",
       "      <td>7</td>\n",
       "      <td>None</td>\n",
       "      <td>New Britain, CT</td>\n",
       "      <td>430.0</td>\n",
       "      <td>5.0</td>\n",
       "      <td>A</td>\n",
       "    </tr>\n",
       "    <tr>\n",
       "      <th>A7</th>\n",
       "      <th>Smith, Mr. James Clinch</th>\n",
       "      <td>1</td>\n",
       "      <td>0</td>\n",
       "      <td>male</td>\n",
       "      <td>56</td>\n",
       "      <td>0</td>\n",
       "      <td>0</td>\n",
       "      <td>17764</td>\n",
       "      <td>30.6958</td>\n",
       "      <td>C</td>\n",
       "      <td>None</td>\n",
       "      <td>None</td>\n",
       "      <td>St James, Long Island, NY</td>\n",
       "      <td>430.0</td>\n",
       "      <td>1.0</td>\n",
       "      <td>A</td>\n",
       "    </tr>\n",
       "    <tr>\n",
       "      <th>A9</th>\n",
       "      <th>Chevre, Mr. Paul Romaine</th>\n",
       "      <td>1</td>\n",
       "      <td>1</td>\n",
       "      <td>male</td>\n",
       "      <td>45</td>\n",
       "      <td>0</td>\n",
       "      <td>0</td>\n",
       "      <td>PC 17594</td>\n",
       "      <td>29.7</td>\n",
       "      <td>C</td>\n",
       "      <td>7</td>\n",
       "      <td>None</td>\n",
       "      <td>Paris, France</td>\n",
       "      <td>425.0</td>\n",
       "      <td>2.0</td>\n",
       "      <td>A</td>\n",
       "    </tr>\n",
       "    <tr>\n",
       "      <th>B101</th>\n",
       "      <th>Lesurer, Mr. Gustave J</th>\n",
       "      <td>1</td>\n",
       "      <td>1</td>\n",
       "      <td>male</td>\n",
       "      <td>35</td>\n",
       "      <td>0</td>\n",
       "      <td>0</td>\n",
       "      <td>PC 17755</td>\n",
       "      <td>512.329</td>\n",
       "      <td>C</td>\n",
       "      <td>3</td>\n",
       "      <td>None</td>\n",
       "      <td>None</td>\n",
       "      <td>395.0</td>\n",
       "      <td>3.0</td>\n",
       "      <td>B</td>\n",
       "    </tr>\n",
       "    <tr>\n",
       "      <th>B102</th>\n",
       "      <th>Fry, Mr. Richard</th>\n",
       "      <td>1</td>\n",
       "      <td>0</td>\n",
       "      <td>male</td>\n",
       "      <td>None</td>\n",
       "      <td>0</td>\n",
       "      <td>0</td>\n",
       "      <td>112058</td>\n",
       "      <td>0</td>\n",
       "      <td>S</td>\n",
       "      <td>None</td>\n",
       "      <td>None</td>\n",
       "      <td>None</td>\n",
       "      <td>395.0</td>\n",
       "      <td>4.0</td>\n",
       "      <td>B</td>\n",
       "    </tr>\n",
       "    <tr>\n",
       "      <th>B61</th>\n",
       "      <th>Chaudanson, Miss. Victorine</th>\n",
       "      <td>1</td>\n",
       "      <td>1</td>\n",
       "      <td>female</td>\n",
       "      <td>36</td>\n",
       "      <td>0</td>\n",
       "      <td>0</td>\n",
       "      <td>PC 17608</td>\n",
       "      <td>262.375</td>\n",
       "      <td>C</td>\n",
       "      <td>4</td>\n",
       "      <td>None</td>\n",
       "      <td>None</td>\n",
       "      <td>395.0</td>\n",
       "      <td>1.0</td>\n",
       "      <td>B</td>\n",
       "    </tr>\n",
       "    <tr>\n",
       "      <th>B73</th>\n",
       "      <th>Perreault, Miss. Anne</th>\n",
       "      <td>1</td>\n",
       "      <td>1</td>\n",
       "      <td>female</td>\n",
       "      <td>30</td>\n",
       "      <td>0</td>\n",
       "      <td>0</td>\n",
       "      <td>12749</td>\n",
       "      <td>93.5</td>\n",
       "      <td>S</td>\n",
       "      <td>3</td>\n",
       "      <td>None</td>\n",
       "      <td>None</td>\n",
       "      <td>375.0</td>\n",
       "      <td>1.0</td>\n",
       "      <td>B</td>\n",
       "    </tr>\n",
       "    <tr>\n",
       "      <th rowspan=\"2\" valign=\"top\">B78</th>\n",
       "      <th>Spencer, Mr. William Augustus</th>\n",
       "      <td>1</td>\n",
       "      <td>0</td>\n",
       "      <td>male</td>\n",
       "      <td>57</td>\n",
       "      <td>1</td>\n",
       "      <td>0</td>\n",
       "      <td>PC 17569</td>\n",
       "      <td>146.521</td>\n",
       "      <td>C</td>\n",
       "      <td>None</td>\n",
       "      <td>None</td>\n",
       "      <td>Paris, France</td>\n",
       "      <td>365.0</td>\n",
       "      <td>6.0</td>\n",
       "      <td>B</td>\n",
       "    </tr>\n",
       "    <tr>\n",
       "      <th>Spencer, Mrs. William Augustus (Marie Eugenie)</th>\n",
       "      <td>1</td>\n",
       "      <td>1</td>\n",
       "      <td>female</td>\n",
       "      <td>None</td>\n",
       "      <td>1</td>\n",
       "      <td>0</td>\n",
       "      <td>PC 17569</td>\n",
       "      <td>146.521</td>\n",
       "      <td>C</td>\n",
       "      <td>6</td>\n",
       "      <td>None</td>\n",
       "      <td>Paris, France</td>\n",
       "      <td>365.0</td>\n",
       "      <td>6.0</td>\n",
       "      <td>B</td>\n",
       "    </tr>\n",
       "    <tr>\n",
       "      <th>B79</th>\n",
       "      <th>Maioni, Miss. Roberta</th>\n",
       "      <td>1</td>\n",
       "      <td>1</td>\n",
       "      <td>female</td>\n",
       "      <td>16</td>\n",
       "      <td>0</td>\n",
       "      <td>0</td>\n",
       "      <td>110152</td>\n",
       "      <td>86.5</td>\n",
       "      <td>S</td>\n",
       "      <td>8</td>\n",
       "      <td>None</td>\n",
       "      <td>None</td>\n",
       "      <td>365.0</td>\n",
       "      <td>1.0</td>\n",
       "      <td>B</td>\n",
       "    </tr>\n",
       "    <tr>\n",
       "      <th>B80</th>\n",
       "      <th>Lurette, Miss. Elise</th>\n",
       "      <td>1</td>\n",
       "      <td>1</td>\n",
       "      <td>female</td>\n",
       "      <td>58</td>\n",
       "      <td>0</td>\n",
       "      <td>0</td>\n",
       "      <td>PC 17569</td>\n",
       "      <td>146.521</td>\n",
       "      <td>C</td>\n",
       "      <td>None</td>\n",
       "      <td>None</td>\n",
       "      <td>None</td>\n",
       "      <td>365.0</td>\n",
       "      <td>5.0</td>\n",
       "      <td>B</td>\n",
       "    </tr>\n",
       "    <tr>\n",
       "      <th>B86</th>\n",
       "      <th>Giglio, Mr. Victor</th>\n",
       "      <td>1</td>\n",
       "      <td>0</td>\n",
       "      <td>male</td>\n",
       "      <td>24</td>\n",
       "      <td>0</td>\n",
       "      <td>0</td>\n",
       "      <td>PC 17593</td>\n",
       "      <td>79.2</td>\n",
       "      <td>C</td>\n",
       "      <td>None</td>\n",
       "      <td>None</td>\n",
       "      <td>None</td>\n",
       "      <td>355.0</td>\n",
       "      <td>5.0</td>\n",
       "      <td>B</td>\n",
       "    </tr>\n",
       "    <tr>\n",
       "      <th>B94</th>\n",
       "      <th>Harrison, Mr. William</th>\n",
       "      <td>1</td>\n",
       "      <td>0</td>\n",
       "      <td>male</td>\n",
       "      <td>40</td>\n",
       "      <td>0</td>\n",
       "      <td>0</td>\n",
       "      <td>112059</td>\n",
       "      <td>0</td>\n",
       "      <td>S</td>\n",
       "      <td>None</td>\n",
       "      <td>110</td>\n",
       "      <td>None</td>\n",
       "      <td>340.0</td>\n",
       "      <td>6.0</td>\n",
       "      <td>B</td>\n",
       "    </tr>\n",
       "  </tbody>\n",
       "</table>\n",
       "</div>"
      ],
      "text/plain": [
       "                                                          pclass  survived  \\\n",
       "cabin name                                                                   \n",
       "A10   Ross, Mr. John Hugo                                      1         0   \n",
       "A11   Rosenbaum, Miss. Edith Louise                            1         1   \n",
       "A14   Clifford, Mr. George Quincy                              1         0   \n",
       "A16   Duff Gordon, Lady. (Lucille Christiana Sutherla...       1         1   \n",
       "A18   Dulles, Mr. William Crothers                             1         0   \n",
       "A19   Smith, Mr. Richard William                               1         0   \n",
       "A20   Duff Gordon, Sir. Cosmo Edmund (\"Mr Morgan\")             1         1   \n",
       "A21   Brady, Mr. John Bertram                                  1         0   \n",
       "A23   Barkworth, Mr. Algernon Henry Wilson                     1         1   \n",
       "A24   Roebling, Mr. Washington Augustus II                     1         0   \n",
       "A26   Simonius-Blumer, Col. Oberst Alfons                      1         1   \n",
       "A29   Evans, Miss. Edith Corse                                 1         0   \n",
       "A31   Blank, Mr. Henry                                         1         1   \n",
       "A32   Rood, Mr. Hugh Roscoe                                    1         0   \n",
       "A34   Dodge, Dr. Washington                                    1         1   \n",
       "      Dodge, Master. Washington                                1         1   \n",
       "      Dodge, Mrs. Washington (Ruth Vidaver)                    1         1   \n",
       "A36   Andrews, Mr. Thomas Jr                                   1         0   \n",
       "A5    Goldschmidt, Mr. George B                                1         0   \n",
       "A6    Sloper, Mr. William Thompson                             1         1   \n",
       "A7    Smith, Mr. James Clinch                                  1         0   \n",
       "A9    Chevre, Mr. Paul Romaine                                 1         1   \n",
       "B101  Lesurer, Mr. Gustave J                                   1         1   \n",
       "B102  Fry, Mr. Richard                                         1         0   \n",
       "B61   Chaudanson, Miss. Victorine                              1         1   \n",
       "B73   Perreault, Miss. Anne                                    1         1   \n",
       "B78   Spencer, Mr. William Augustus                            1         0   \n",
       "      Spencer, Mrs. William Augustus (Marie Eugenie)           1         1   \n",
       "B79   Maioni, Miss. Roberta                                    1         1   \n",
       "B80   Lurette, Miss. Elise                                     1         1   \n",
       "B86   Giglio, Mr. Victor                                       1         0   \n",
       "B94   Harrison, Mr. William                                    1         0   \n",
       "\n",
       "                                                             sex   age  sibsp  \\\n",
       "cabin name                                                                      \n",
       "A10   Ross, Mr. John Hugo                                   male    36      0   \n",
       "A11   Rosenbaum, Miss. Edith Louise                       female    33      0   \n",
       "A14   Clifford, Mr. George Quincy                           male  None      0   \n",
       "A16   Duff Gordon, Lady. (Lucille Christiana Sutherla...  female    48      1   \n",
       "A18   Dulles, Mr. William Crothers                          male    39      0   \n",
       "A19   Smith, Mr. Richard William                            male  None      0   \n",
       "A20   Duff Gordon, Sir. Cosmo Edmund (\"Mr Morgan\")          male    49      1   \n",
       "A21   Brady, Mr. John Bertram                               male    41      0   \n",
       "A23   Barkworth, Mr. Algernon Henry Wilson                  male    80      0   \n",
       "A24   Roebling, Mr. Washington Augustus II                  male    31      0   \n",
       "A26   Simonius-Blumer, Col. Oberst Alfons                   male    56      0   \n",
       "A29   Evans, Miss. Edith Corse                            female    36      0   \n",
       "A31   Blank, Mr. Henry                                      male    40      0   \n",
       "A32   Rood, Mr. Hugh Roscoe                                 male  None      0   \n",
       "A34   Dodge, Dr. Washington                                 male    53      1   \n",
       "      Dodge, Master. Washington                             male     4      0   \n",
       "      Dodge, Mrs. Washington (Ruth Vidaver)               female    54      1   \n",
       "A36   Andrews, Mr. Thomas Jr                                male    39      0   \n",
       "A5    Goldschmidt, Mr. George B                             male    71      0   \n",
       "A6    Sloper, Mr. William Thompson                          male    28      0   \n",
       "A7    Smith, Mr. James Clinch                               male    56      0   \n",
       "A9    Chevre, Mr. Paul Romaine                              male    45      0   \n",
       "B101  Lesurer, Mr. Gustave J                                male    35      0   \n",
       "B102  Fry, Mr. Richard                                      male  None      0   \n",
       "B61   Chaudanson, Miss. Victorine                         female    36      0   \n",
       "B73   Perreault, Miss. Anne                               female    30      0   \n",
       "B78   Spencer, Mr. William Augustus                         male    57      1   \n",
       "      Spencer, Mrs. William Augustus (Marie Eugenie)      female  None      1   \n",
       "B79   Maioni, Miss. Roberta                               female    16      0   \n",
       "B80   Lurette, Miss. Elise                                female    58      0   \n",
       "B86   Giglio, Mr. Victor                                    male    24      0   \n",
       "B94   Harrison, Mr. William                                 male    40      0   \n",
       "\n",
       "                                                          parch    ticket  \\\n",
       "cabin name                                                                  \n",
       "A10   Ross, Mr. John Hugo                                     0     13049   \n",
       "A11   Rosenbaum, Miss. Edith Louise                           0  PC 17613   \n",
       "A14   Clifford, Mr. George Quincy                             0    110465   \n",
       "A16   Duff Gordon, Lady. (Lucille Christiana Sutherla...      0     11755   \n",
       "A18   Dulles, Mr. William Crothers                            0  PC 17580   \n",
       "A19   Smith, Mr. Richard William                              0    113056   \n",
       "A20   Duff Gordon, Sir. Cosmo Edmund (\"Mr Morgan\")            0  PC 17485   \n",
       "A21   Brady, Mr. John Bertram                                 0    113054   \n",
       "A23   Barkworth, Mr. Algernon Henry Wilson                    0     27042   \n",
       "A24   Roebling, Mr. Washington Augustus II                    0  PC 17590   \n",
       "A26   Simonius-Blumer, Col. Oberst Alfons                     0     13213   \n",
       "A29   Evans, Miss. Edith Corse                                0  PC 17531   \n",
       "A31   Blank, Mr. Henry                                        0    112277   \n",
       "A32   Rood, Mr. Hugh Roscoe                                   0    113767   \n",
       "A34   Dodge, Dr. Washington                                   1     33638   \n",
       "      Dodge, Master. Washington                               2     33638   \n",
       "      Dodge, Mrs. Washington (Ruth Vidaver)                   1     33638   \n",
       "A36   Andrews, Mr. Thomas Jr                                  0    112050   \n",
       "A5    Goldschmidt, Mr. George B                               0  PC 17754   \n",
       "A6    Sloper, Mr. William Thompson                            0    113788   \n",
       "A7    Smith, Mr. James Clinch                                 0     17764   \n",
       "A9    Chevre, Mr. Paul Romaine                                0  PC 17594   \n",
       "B101  Lesurer, Mr. Gustave J                                  0  PC 17755   \n",
       "B102  Fry, Mr. Richard                                        0    112058   \n",
       "B61   Chaudanson, Miss. Victorine                             0  PC 17608   \n",
       "B73   Perreault, Miss. Anne                                   0     12749   \n",
       "B78   Spencer, Mr. William Augustus                           0  PC 17569   \n",
       "      Spencer, Mrs. William Augustus (Marie Eugenie)          0  PC 17569   \n",
       "B79   Maioni, Miss. Roberta                                   0    110152   \n",
       "B80   Lurette, Miss. Elise                                    0  PC 17569   \n",
       "B86   Giglio, Mr. Victor                                      0  PC 17593   \n",
       "B94   Harrison, Mr. William                                   0    112059   \n",
       "\n",
       "                                                             fare embarked  \\\n",
       "cabin name                                                                   \n",
       "A10   Ross, Mr. John Hugo                                  40.125        C   \n",
       "A11   Rosenbaum, Miss. Edith Louise                       27.7208        C   \n",
       "A14   Clifford, Mr. George Quincy                              52        S   \n",
       "A16   Duff Gordon, Lady. (Lucille Christiana Sutherla...     39.6        C   \n",
       "A18   Dulles, Mr. William Crothers                           29.7        C   \n",
       "A19   Smith, Mr. Richard William                               26        S   \n",
       "A20   Duff Gordon, Sir. Cosmo Edmund (\"Mr Morgan\")        56.9292        C   \n",
       "A21   Brady, Mr. John Bertram                                30.5        S   \n",
       "A23   Barkworth, Mr. Algernon Henry Wilson                     30        S   \n",
       "A24   Roebling, Mr. Washington Augustus II                50.4958        S   \n",
       "A26   Simonius-Blumer, Col. Oberst Alfons                    35.5        C   \n",
       "A29   Evans, Miss. Edith Corse                            31.6792        C   \n",
       "A31   Blank, Mr. Henry                                         31        C   \n",
       "A32   Rood, Mr. Hugh Roscoe                                    50        S   \n",
       "A34   Dodge, Dr. Washington                               81.8583        S   \n",
       "      Dodge, Master. Washington                           81.8583        S   \n",
       "      Dodge, Mrs. Washington (Ruth Vidaver)               81.8583        S   \n",
       "A36   Andrews, Mr. Thomas Jr                                    0        S   \n",
       "A5    Goldschmidt, Mr. George B                           34.6542        C   \n",
       "A6    Sloper, Mr. William Thompson                           35.5        S   \n",
       "A7    Smith, Mr. James Clinch                             30.6958        C   \n",
       "A9    Chevre, Mr. Paul Romaine                               29.7        C   \n",
       "B101  Lesurer, Mr. Gustave J                              512.329        C   \n",
       "B102  Fry, Mr. Richard                                          0        S   \n",
       "B61   Chaudanson, Miss. Victorine                         262.375        C   \n",
       "B73   Perreault, Miss. Anne                                  93.5        S   \n",
       "B78   Spencer, Mr. William Augustus                       146.521        C   \n",
       "      Spencer, Mrs. William Augustus (Marie Eugenie)      146.521        C   \n",
       "B79   Maioni, Miss. Roberta                                  86.5        S   \n",
       "B80   Lurette, Miss. Elise                                146.521        C   \n",
       "B86   Giglio, Mr. Victor                                     79.2        C   \n",
       "B94   Harrison, Mr. William                                     0        S   \n",
       "\n",
       "                                                          boat  body  \\\n",
       "cabin name                                                             \n",
       "A10   Ross, Mr. John Hugo                                 None  None   \n",
       "A11   Rosenbaum, Miss. Edith Louise                         11  None   \n",
       "A14   Clifford, Mr. George Quincy                         None  None   \n",
       "A16   Duff Gordon, Lady. (Lucille Christiana Sutherla...     1  None   \n",
       "A18   Dulles, Mr. William Crothers                        None   133   \n",
       "A19   Smith, Mr. Richard William                          None  None   \n",
       "A20   Duff Gordon, Sir. Cosmo Edmund (\"Mr Morgan\")           1  None   \n",
       "A21   Brady, Mr. John Bertram                             None  None   \n",
       "A23   Barkworth, Mr. Algernon Henry Wilson                   B  None   \n",
       "A24   Roebling, Mr. Washington Augustus II                None  None   \n",
       "A26   Simonius-Blumer, Col. Oberst Alfons                    3  None   \n",
       "A29   Evans, Miss. Edith Corse                            None  None   \n",
       "A31   Blank, Mr. Henry                                       7  None   \n",
       "A32   Rood, Mr. Hugh Roscoe                               None  None   \n",
       "A34   Dodge, Dr. Washington                                 13  None   \n",
       "      Dodge, Master. Washington                              5  None   \n",
       "      Dodge, Mrs. Washington (Ruth Vidaver)                  5  None   \n",
       "A36   Andrews, Mr. Thomas Jr                              None  None   \n",
       "A5    Goldschmidt, Mr. George B                           None  None   \n",
       "A6    Sloper, Mr. William Thompson                           7  None   \n",
       "A7    Smith, Mr. James Clinch                             None  None   \n",
       "A9    Chevre, Mr. Paul Romaine                               7  None   \n",
       "B101  Lesurer, Mr. Gustave J                                 3  None   \n",
       "B102  Fry, Mr. Richard                                    None  None   \n",
       "B61   Chaudanson, Miss. Victorine                            4  None   \n",
       "B73   Perreault, Miss. Anne                                  3  None   \n",
       "B78   Spencer, Mr. William Augustus                       None  None   \n",
       "      Spencer, Mrs. William Augustus (Marie Eugenie)         6  None   \n",
       "B79   Maioni, Miss. Roberta                                  8  None   \n",
       "B80   Lurette, Miss. Elise                                None  None   \n",
       "B86   Giglio, Mr. Victor                                  None  None   \n",
       "B94   Harrison, Mr. William                               None   110   \n",
       "\n",
       "                                                                          home.dest  \\\n",
       "cabin name                                                                            \n",
       "A10   Ross, Mr. John Hugo                                              Winnipeg, MB   \n",
       "A11   Rosenbaum, Miss. Edith Louise                                   Paris, France   \n",
       "A14   Clifford, Mr. George Quincy                                     Stoughton, MA   \n",
       "A16   Duff Gordon, Lady. (Lucille Christiana Sutherla...             London / Paris   \n",
       "A18   Dulles, Mr. William Crothers                                 Philadelphia, PA   \n",
       "A19   Smith, Mr. Richard William                                  Streatham, Surrey   \n",
       "A20   Duff Gordon, Sir. Cosmo Edmund (\"Mr Morgan\")                   London / Paris   \n",
       "A21   Brady, Mr. John Bertram                                           Pomeroy, WA   \n",
       "A23   Barkworth, Mr. Algernon Henry Wilson                            Hessle, Yorks   \n",
       "A24   Roebling, Mr. Washington Augustus II                              Trenton, NJ   \n",
       "A26   Simonius-Blumer, Col. Oberst Alfons                        Basel, Switzerland   \n",
       "A29   Evans, Miss. Edith Corse                                         New York, NY   \n",
       "A31   Blank, Mr. Henry                                               Glen Ridge, NJ   \n",
       "A32   Rood, Mr. Hugh Roscoe                                             Seattle, WA   \n",
       "A34   Dodge, Dr. Washington                                       San Francisco, CA   \n",
       "      Dodge, Master. Washington                                   San Francisco, CA   \n",
       "      Dodge, Mrs. Washington (Ruth Vidaver)                       San Francisco, CA   \n",
       "A36   Andrews, Mr. Thomas Jr                                            Belfast, NI   \n",
       "A5    Goldschmidt, Mr. George B                                        New York, NY   \n",
       "A6    Sloper, Mr. William Thompson                                  New Britain, CT   \n",
       "A7    Smith, Mr. James Clinch                             St James, Long Island, NY   \n",
       "A9    Chevre, Mr. Paul Romaine                                        Paris, France   \n",
       "B101  Lesurer, Mr. Gustave J                                                   None   \n",
       "B102  Fry, Mr. Richard                                                         None   \n",
       "B61   Chaudanson, Miss. Victorine                                              None   \n",
       "B73   Perreault, Miss. Anne                                                    None   \n",
       "B78   Spencer, Mr. William Augustus                                   Paris, France   \n",
       "      Spencer, Mrs. William Augustus (Marie Eugenie)                  Paris, France   \n",
       "B79   Maioni, Miss. Roberta                                                    None   \n",
       "B80   Lurette, Miss. Elise                                                     None   \n",
       "B86   Giglio, Mr. Victor                                                       None   \n",
       "B94   Harrison, Mr. William                                                    None   \n",
       "\n",
       "                                                          cabin_x  cabin_y  \\\n",
       "cabin name                                                                   \n",
       "A10   Ross, Mr. John Hugo                                   425.0      5.0   \n",
       "A11   Rosenbaum, Miss. Edith Louise                         425.0      1.0   \n",
       "A14   Clifford, Mr. George Quincy                           420.0      5.0   \n",
       "A16   Duff Gordon, Lady. (Lucille Christiana Sutherla...    420.0      6.0   \n",
       "A18   Dulles, Mr. William Crothers                          415.0      5.0   \n",
       "A19   Smith, Mr. Richard William                            415.0      2.0   \n",
       "A20   Duff Gordon, Sir. Cosmo Edmund (\"Mr Morgan\")          415.0      6.0   \n",
       "A21   Brady, Mr. John Bertram                               415.0      1.0   \n",
       "A23   Barkworth, Mr. Algernon Henry Wilson                  410.0      2.0   \n",
       "A24   Roebling, Mr. Washington Augustus II                  410.0      6.0   \n",
       "A26   Simonius-Blumer, Col. Oberst Alfons                   405.0      5.0   \n",
       "A29   Evans, Miss. Edith Corse                              405.0      1.0   \n",
       "A31   Blank, Mr. Henry                                      400.0      2.0   \n",
       "A32   Rood, Mr. Hugh Roscoe                                 400.0      6.0   \n",
       "A34   Dodge, Dr. Washington                                 395.0      6.0   \n",
       "      Dodge, Master. Washington                             395.0      6.0   \n",
       "      Dodge, Mrs. Washington (Ruth Vidaver)                 395.0      6.0   \n",
       "A36   Andrews, Mr. Thomas Jr                                350.0      1.0   \n",
       "A5    Goldschmidt, Mr. George B                             430.0      2.0   \n",
       "A6    Sloper, Mr. William Thompson                          430.0      5.0   \n",
       "A7    Smith, Mr. James Clinch                               430.0      1.0   \n",
       "A9    Chevre, Mr. Paul Romaine                              425.0      2.0   \n",
       "B101  Lesurer, Mr. Gustave J                                395.0      3.0   \n",
       "B102  Fry, Mr. Richard                                      395.0      4.0   \n",
       "B61   Chaudanson, Miss. Victorine                           395.0      1.0   \n",
       "B73   Perreault, Miss. Anne                                 375.0      1.0   \n",
       "B78   Spencer, Mr. William Augustus                         365.0      6.0   \n",
       "      Spencer, Mrs. William Augustus (Marie Eugenie)        365.0      6.0   \n",
       "B79   Maioni, Miss. Roberta                                 365.0      1.0   \n",
       "B80   Lurette, Miss. Elise                                  365.0      5.0   \n",
       "B86   Giglio, Mr. Victor                                    355.0      5.0   \n",
       "B94   Harrison, Mr. William                                 340.0      6.0   \n",
       "\n",
       "                                                         deck  \n",
       "cabin name                                                     \n",
       "A10   Ross, Mr. John Hugo                                   A  \n",
       "A11   Rosenbaum, Miss. Edith Louise                         A  \n",
       "A14   Clifford, Mr. George Quincy                           A  \n",
       "A16   Duff Gordon, Lady. (Lucille Christiana Sutherla...    A  \n",
       "A18   Dulles, Mr. William Crothers                          A  \n",
       "A19   Smith, Mr. Richard William                            A  \n",
       "A20   Duff Gordon, Sir. Cosmo Edmund (\"Mr Morgan\")          A  \n",
       "A21   Brady, Mr. John Bertram                               A  \n",
       "A23   Barkworth, Mr. Algernon Henry Wilson                  A  \n",
       "A24   Roebling, Mr. Washington Augustus II                  A  \n",
       "A26   Simonius-Blumer, Col. Oberst Alfons                   A  \n",
       "A29   Evans, Miss. Edith Corse                              A  \n",
       "A31   Blank, Mr. Henry                                      A  \n",
       "A32   Rood, Mr. Hugh Roscoe                                 A  \n",
       "A34   Dodge, Dr. Washington                                 A  \n",
       "      Dodge, Master. Washington                             A  \n",
       "      Dodge, Mrs. Washington (Ruth Vidaver)                 A  \n",
       "A36   Andrews, Mr. Thomas Jr                                A  \n",
       "A5    Goldschmidt, Mr. George B                             A  \n",
       "A6    Sloper, Mr. William Thompson                          A  \n",
       "A7    Smith, Mr. James Clinch                               A  \n",
       "A9    Chevre, Mr. Paul Romaine                              A  \n",
       "B101  Lesurer, Mr. Gustave J                                B  \n",
       "B102  Fry, Mr. Richard                                      B  \n",
       "B61   Chaudanson, Miss. Victorine                           B  \n",
       "B73   Perreault, Miss. Anne                                 B  \n",
       "B78   Spencer, Mr. William Augustus                         B  \n",
       "      Spencer, Mrs. William Augustus (Marie Eugenie)        B  \n",
       "B79   Maioni, Miss. Roberta                                 B  \n",
       "B80   Lurette, Miss. Elise                                  B  \n",
       "B86   Giglio, Mr. Victor                                    B  \n",
       "B94   Harrison, Mr. William                                 B  "
      ]
     },
     "execution_count": 77,
     "metadata": {},
     "output_type": "execute_result"
    }
   ],
   "source": [
    "titanic_df_with_cabin_coords = pd.merge(titanic_df, cabin_locations_df, left_on = \"cabin\", right_on = \"cabin\")\n",
    "titanic_df_with_cabin_coords[\"deck\"] = titanic_df_with_cabin_coords[\"cabin\"].apply(lambda x: x[0])\n",
    "titanic_passengers_by_cabin = titanic_df_with_cabin_coords.set_index([\"cabin\",\"name\"]).sort_index()\n",
    "titanic_passengers_by_cabin"
   ]
  },
  {
   "cell_type": "code",
   "execution_count": 8,
   "metadata": {},
   "outputs": [
    {
     "data": {
      "text/html": [
       "<div>\n",
       "<style scoped>\n",
       "    .dataframe tbody tr th:only-of-type {\n",
       "        vertical-align: middle;\n",
       "    }\n",
       "\n",
       "    .dataframe tbody tr th {\n",
       "        vertical-align: top;\n",
       "    }\n",
       "\n",
       "    .dataframe thead th {\n",
       "        text-align: right;\n",
       "    }\n",
       "</style>\n",
       "<table border=\"1\" class=\"dataframe\">\n",
       "  <thead>\n",
       "    <tr style=\"text-align: right;\">\n",
       "      <th></th>\n",
       "      <th>name</th>\n",
       "      <th>pclass</th>\n",
       "      <th>survived</th>\n",
       "      <th>sex</th>\n",
       "      <th>age</th>\n",
       "      <th>sibsp</th>\n",
       "      <th>parch</th>\n",
       "      <th>ticket</th>\n",
       "      <th>fare</th>\n",
       "      <th>embarked</th>\n",
       "      <th>boat</th>\n",
       "      <th>body</th>\n",
       "      <th>home.dest</th>\n",
       "      <th>cabin_x</th>\n",
       "      <th>cabin_y</th>\n",
       "    </tr>\n",
       "    <tr>\n",
       "      <th>cabin</th>\n",
       "      <th></th>\n",
       "      <th></th>\n",
       "      <th></th>\n",
       "      <th></th>\n",
       "      <th></th>\n",
       "      <th></th>\n",
       "      <th></th>\n",
       "      <th></th>\n",
       "      <th></th>\n",
       "      <th></th>\n",
       "      <th></th>\n",
       "      <th></th>\n",
       "      <th></th>\n",
       "      <th></th>\n",
       "      <th></th>\n",
       "    </tr>\n",
       "  </thead>\n",
       "  <tbody>\n",
       "    <tr>\n",
       "      <th>A10</th>\n",
       "      <td>Ross, Mr. John Hugo</td>\n",
       "      <td>1</td>\n",
       "      <td>0</td>\n",
       "      <td>male</td>\n",
       "      <td>36</td>\n",
       "      <td>0</td>\n",
       "      <td>0</td>\n",
       "      <td>13049</td>\n",
       "      <td>40.125</td>\n",
       "      <td>C</td>\n",
       "      <td>None</td>\n",
       "      <td>None</td>\n",
       "      <td>Winnipeg, MB</td>\n",
       "      <td>425.0</td>\n",
       "      <td>5.00</td>\n",
       "    </tr>\n",
       "    <tr>\n",
       "      <th>A11</th>\n",
       "      <td>Rosenbaum, Miss. Edith Louise</td>\n",
       "      <td>1</td>\n",
       "      <td>1</td>\n",
       "      <td>female</td>\n",
       "      <td>33</td>\n",
       "      <td>0</td>\n",
       "      <td>0</td>\n",
       "      <td>PC 17613</td>\n",
       "      <td>27.7208</td>\n",
       "      <td>C</td>\n",
       "      <td>11</td>\n",
       "      <td>None</td>\n",
       "      <td>Paris, France</td>\n",
       "      <td>425.0</td>\n",
       "      <td>1.00</td>\n",
       "    </tr>\n",
       "    <tr>\n",
       "      <th>A14</th>\n",
       "      <td>Clifford, Mr. George Quincy</td>\n",
       "      <td>1</td>\n",
       "      <td>0</td>\n",
       "      <td>male</td>\n",
       "      <td>None</td>\n",
       "      <td>0</td>\n",
       "      <td>0</td>\n",
       "      <td>110465</td>\n",
       "      <td>52</td>\n",
       "      <td>S</td>\n",
       "      <td>None</td>\n",
       "      <td>None</td>\n",
       "      <td>Stoughton, MA</td>\n",
       "      <td>420.0</td>\n",
       "      <td>5.00</td>\n",
       "    </tr>\n",
       "    <tr>\n",
       "      <th>A16</th>\n",
       "      <td>Duff Gordon, Lady. (Lucille Christiana Sutherl...</td>\n",
       "      <td>1</td>\n",
       "      <td>1</td>\n",
       "      <td>female</td>\n",
       "      <td>48</td>\n",
       "      <td>1</td>\n",
       "      <td>0</td>\n",
       "      <td>11755</td>\n",
       "      <td>39.6</td>\n",
       "      <td>C</td>\n",
       "      <td>1</td>\n",
       "      <td>None</td>\n",
       "      <td>London / Paris</td>\n",
       "      <td>420.0</td>\n",
       "      <td>6.00</td>\n",
       "    </tr>\n",
       "    <tr>\n",
       "      <th>A18</th>\n",
       "      <td>Dulles, Mr. William Crothers</td>\n",
       "      <td>1</td>\n",
       "      <td>0</td>\n",
       "      <td>male</td>\n",
       "      <td>39</td>\n",
       "      <td>0</td>\n",
       "      <td>0</td>\n",
       "      <td>PC 17580</td>\n",
       "      <td>29.7</td>\n",
       "      <td>C</td>\n",
       "      <td>None</td>\n",
       "      <td>133</td>\n",
       "      <td>Philadelphia, PA</td>\n",
       "      <td>415.0</td>\n",
       "      <td>5.00</td>\n",
       "    </tr>\n",
       "    <tr>\n",
       "      <th>A19</th>\n",
       "      <td>Smith, Mr. Richard William</td>\n",
       "      <td>1</td>\n",
       "      <td>0</td>\n",
       "      <td>male</td>\n",
       "      <td>None</td>\n",
       "      <td>0</td>\n",
       "      <td>0</td>\n",
       "      <td>113056</td>\n",
       "      <td>26</td>\n",
       "      <td>S</td>\n",
       "      <td>None</td>\n",
       "      <td>None</td>\n",
       "      <td>Streatham, Surrey</td>\n",
       "      <td>415.0</td>\n",
       "      <td>2.00</td>\n",
       "    </tr>\n",
       "    <tr>\n",
       "      <th>A20</th>\n",
       "      <td>Duff Gordon, Sir. Cosmo Edmund (\"Mr Morgan\")</td>\n",
       "      <td>1</td>\n",
       "      <td>1</td>\n",
       "      <td>male</td>\n",
       "      <td>49</td>\n",
       "      <td>1</td>\n",
       "      <td>0</td>\n",
       "      <td>PC 17485</td>\n",
       "      <td>56.9292</td>\n",
       "      <td>C</td>\n",
       "      <td>1</td>\n",
       "      <td>None</td>\n",
       "      <td>London / Paris</td>\n",
       "      <td>415.0</td>\n",
       "      <td>6.00</td>\n",
       "    </tr>\n",
       "    <tr>\n",
       "      <th>A21</th>\n",
       "      <td>Brady, Mr. John Bertram</td>\n",
       "      <td>1</td>\n",
       "      <td>0</td>\n",
       "      <td>male</td>\n",
       "      <td>41</td>\n",
       "      <td>0</td>\n",
       "      <td>0</td>\n",
       "      <td>113054</td>\n",
       "      <td>30.5</td>\n",
       "      <td>S</td>\n",
       "      <td>None</td>\n",
       "      <td>None</td>\n",
       "      <td>Pomeroy, WA</td>\n",
       "      <td>415.0</td>\n",
       "      <td>1.00</td>\n",
       "    </tr>\n",
       "    <tr>\n",
       "      <th>A23</th>\n",
       "      <td>Barkworth, Mr. Algernon Henry Wilson</td>\n",
       "      <td>1</td>\n",
       "      <td>1</td>\n",
       "      <td>male</td>\n",
       "      <td>80</td>\n",
       "      <td>0</td>\n",
       "      <td>0</td>\n",
       "      <td>27042</td>\n",
       "      <td>30</td>\n",
       "      <td>S</td>\n",
       "      <td>B</td>\n",
       "      <td>None</td>\n",
       "      <td>Hessle, Yorks</td>\n",
       "      <td>410.0</td>\n",
       "      <td>2.00</td>\n",
       "    </tr>\n",
       "    <tr>\n",
       "      <th>A24</th>\n",
       "      <td>Roebling, Mr. Washington Augustus II</td>\n",
       "      <td>1</td>\n",
       "      <td>0</td>\n",
       "      <td>male</td>\n",
       "      <td>31</td>\n",
       "      <td>0</td>\n",
       "      <td>0</td>\n",
       "      <td>PC 17590</td>\n",
       "      <td>50.4958</td>\n",
       "      <td>S</td>\n",
       "      <td>None</td>\n",
       "      <td>None</td>\n",
       "      <td>Trenton, NJ</td>\n",
       "      <td>410.0</td>\n",
       "      <td>6.00</td>\n",
       "    </tr>\n",
       "    <tr>\n",
       "      <th>A26</th>\n",
       "      <td>Simonius-Blumer, Col. Oberst Alfons</td>\n",
       "      <td>1</td>\n",
       "      <td>1</td>\n",
       "      <td>male</td>\n",
       "      <td>56</td>\n",
       "      <td>0</td>\n",
       "      <td>0</td>\n",
       "      <td>13213</td>\n",
       "      <td>35.5</td>\n",
       "      <td>C</td>\n",
       "      <td>3</td>\n",
       "      <td>None</td>\n",
       "      <td>Basel, Switzerland</td>\n",
       "      <td>405.0</td>\n",
       "      <td>5.00</td>\n",
       "    </tr>\n",
       "    <tr>\n",
       "      <th>A29</th>\n",
       "      <td>Evans, Miss. Edith Corse</td>\n",
       "      <td>1</td>\n",
       "      <td>0</td>\n",
       "      <td>female</td>\n",
       "      <td>36</td>\n",
       "      <td>0</td>\n",
       "      <td>0</td>\n",
       "      <td>PC 17531</td>\n",
       "      <td>31.6792</td>\n",
       "      <td>C</td>\n",
       "      <td>None</td>\n",
       "      <td>None</td>\n",
       "      <td>New York, NY</td>\n",
       "      <td>405.0</td>\n",
       "      <td>1.00</td>\n",
       "    </tr>\n",
       "    <tr>\n",
       "      <th>A31</th>\n",
       "      <td>Blank, Mr. Henry</td>\n",
       "      <td>1</td>\n",
       "      <td>1</td>\n",
       "      <td>male</td>\n",
       "      <td>40</td>\n",
       "      <td>0</td>\n",
       "      <td>0</td>\n",
       "      <td>112277</td>\n",
       "      <td>31</td>\n",
       "      <td>C</td>\n",
       "      <td>7</td>\n",
       "      <td>None</td>\n",
       "      <td>Glen Ridge, NJ</td>\n",
       "      <td>400.0</td>\n",
       "      <td>2.00</td>\n",
       "    </tr>\n",
       "    <tr>\n",
       "      <th>A32</th>\n",
       "      <td>Rood, Mr. Hugh Roscoe</td>\n",
       "      <td>1</td>\n",
       "      <td>0</td>\n",
       "      <td>male</td>\n",
       "      <td>None</td>\n",
       "      <td>0</td>\n",
       "      <td>0</td>\n",
       "      <td>113767</td>\n",
       "      <td>50</td>\n",
       "      <td>S</td>\n",
       "      <td>None</td>\n",
       "      <td>None</td>\n",
       "      <td>Seattle, WA</td>\n",
       "      <td>400.0</td>\n",
       "      <td>6.00</td>\n",
       "    </tr>\n",
       "    <tr>\n",
       "      <th>A34</th>\n",
       "      <td>Dodge, Dr. Washington</td>\n",
       "      <td>1</td>\n",
       "      <td>1</td>\n",
       "      <td>male</td>\n",
       "      <td>53</td>\n",
       "      <td>1</td>\n",
       "      <td>1</td>\n",
       "      <td>33638</td>\n",
       "      <td>81.8583</td>\n",
       "      <td>S</td>\n",
       "      <td>13</td>\n",
       "      <td>None</td>\n",
       "      <td>San Francisco, CA</td>\n",
       "      <td>396.0</td>\n",
       "      <td>6.25</td>\n",
       "    </tr>\n",
       "    <tr>\n",
       "      <th>A34</th>\n",
       "      <td>Dodge, Master. Washington</td>\n",
       "      <td>1</td>\n",
       "      <td>1</td>\n",
       "      <td>male</td>\n",
       "      <td>4</td>\n",
       "      <td>0</td>\n",
       "      <td>2</td>\n",
       "      <td>33638</td>\n",
       "      <td>81.8583</td>\n",
       "      <td>S</td>\n",
       "      <td>5</td>\n",
       "      <td>None</td>\n",
       "      <td>San Francisco, CA</td>\n",
       "      <td>394.0</td>\n",
       "      <td>6.25</td>\n",
       "    </tr>\n",
       "    <tr>\n",
       "      <th>A34</th>\n",
       "      <td>Dodge, Mrs. Washington (Ruth Vidaver)</td>\n",
       "      <td>1</td>\n",
       "      <td>1</td>\n",
       "      <td>female</td>\n",
       "      <td>54</td>\n",
       "      <td>1</td>\n",
       "      <td>1</td>\n",
       "      <td>33638</td>\n",
       "      <td>81.8583</td>\n",
       "      <td>S</td>\n",
       "      <td>5</td>\n",
       "      <td>None</td>\n",
       "      <td>San Francisco, CA</td>\n",
       "      <td>394.0</td>\n",
       "      <td>5.75</td>\n",
       "    </tr>\n",
       "    <tr>\n",
       "      <th>A36</th>\n",
       "      <td>Andrews, Mr. Thomas Jr</td>\n",
       "      <td>1</td>\n",
       "      <td>0</td>\n",
       "      <td>male</td>\n",
       "      <td>39</td>\n",
       "      <td>0</td>\n",
       "      <td>0</td>\n",
       "      <td>112050</td>\n",
       "      <td>0</td>\n",
       "      <td>S</td>\n",
       "      <td>None</td>\n",
       "      <td>None</td>\n",
       "      <td>Belfast, NI</td>\n",
       "      <td>350.0</td>\n",
       "      <td>1.00</td>\n",
       "    </tr>\n",
       "    <tr>\n",
       "      <th>A5</th>\n",
       "      <td>Goldschmidt, Mr. George B</td>\n",
       "      <td>1</td>\n",
       "      <td>0</td>\n",
       "      <td>male</td>\n",
       "      <td>71</td>\n",
       "      <td>0</td>\n",
       "      <td>0</td>\n",
       "      <td>PC 17754</td>\n",
       "      <td>34.6542</td>\n",
       "      <td>C</td>\n",
       "      <td>None</td>\n",
       "      <td>None</td>\n",
       "      <td>New York, NY</td>\n",
       "      <td>430.0</td>\n",
       "      <td>2.00</td>\n",
       "    </tr>\n",
       "    <tr>\n",
       "      <th>A6</th>\n",
       "      <td>Sloper, Mr. William Thompson</td>\n",
       "      <td>1</td>\n",
       "      <td>1</td>\n",
       "      <td>male</td>\n",
       "      <td>28</td>\n",
       "      <td>0</td>\n",
       "      <td>0</td>\n",
       "      <td>113788</td>\n",
       "      <td>35.5</td>\n",
       "      <td>S</td>\n",
       "      <td>7</td>\n",
       "      <td>None</td>\n",
       "      <td>New Britain, CT</td>\n",
       "      <td>430.0</td>\n",
       "      <td>5.00</td>\n",
       "    </tr>\n",
       "    <tr>\n",
       "      <th>A7</th>\n",
       "      <td>Smith, Mr. James Clinch</td>\n",
       "      <td>1</td>\n",
       "      <td>0</td>\n",
       "      <td>male</td>\n",
       "      <td>56</td>\n",
       "      <td>0</td>\n",
       "      <td>0</td>\n",
       "      <td>17764</td>\n",
       "      <td>30.6958</td>\n",
       "      <td>C</td>\n",
       "      <td>None</td>\n",
       "      <td>None</td>\n",
       "      <td>St James, Long Island, NY</td>\n",
       "      <td>430.0</td>\n",
       "      <td>1.00</td>\n",
       "    </tr>\n",
       "    <tr>\n",
       "      <th>A9</th>\n",
       "      <td>Chevre, Mr. Paul Romaine</td>\n",
       "      <td>1</td>\n",
       "      <td>1</td>\n",
       "      <td>male</td>\n",
       "      <td>45</td>\n",
       "      <td>0</td>\n",
       "      <td>0</td>\n",
       "      <td>PC 17594</td>\n",
       "      <td>29.7</td>\n",
       "      <td>C</td>\n",
       "      <td>7</td>\n",
       "      <td>None</td>\n",
       "      <td>Paris, France</td>\n",
       "      <td>425.0</td>\n",
       "      <td>2.00</td>\n",
       "    </tr>\n",
       "  </tbody>\n",
       "</table>\n",
       "</div>"
      ],
      "text/plain": [
       "                                                    name  pclass  survived  \\\n",
       "cabin                                                                        \n",
       "A10                                  Ross, Mr. John Hugo       1         0   \n",
       "A11                        Rosenbaum, Miss. Edith Louise       1         1   \n",
       "A14                          Clifford, Mr. George Quincy       1         0   \n",
       "A16    Duff Gordon, Lady. (Lucille Christiana Sutherl...       1         1   \n",
       "A18                         Dulles, Mr. William Crothers       1         0   \n",
       "A19                           Smith, Mr. Richard William       1         0   \n",
       "A20         Duff Gordon, Sir. Cosmo Edmund (\"Mr Morgan\")       1         1   \n",
       "A21                              Brady, Mr. John Bertram       1         0   \n",
       "A23                 Barkworth, Mr. Algernon Henry Wilson       1         1   \n",
       "A24                 Roebling, Mr. Washington Augustus II       1         0   \n",
       "A26                  Simonius-Blumer, Col. Oberst Alfons       1         1   \n",
       "A29                             Evans, Miss. Edith Corse       1         0   \n",
       "A31                                     Blank, Mr. Henry       1         1   \n",
       "A32                                Rood, Mr. Hugh Roscoe       1         0   \n",
       "A34                                Dodge, Dr. Washington       1         1   \n",
       "A34                            Dodge, Master. Washington       1         1   \n",
       "A34                Dodge, Mrs. Washington (Ruth Vidaver)       1         1   \n",
       "A36                               Andrews, Mr. Thomas Jr       1         0   \n",
       "A5                             Goldschmidt, Mr. George B       1         0   \n",
       "A6                          Sloper, Mr. William Thompson       1         1   \n",
       "A7                               Smith, Mr. James Clinch       1         0   \n",
       "A9                              Chevre, Mr. Paul Romaine       1         1   \n",
       "\n",
       "          sex   age  sibsp  parch    ticket     fare embarked  boat  body  \\\n",
       "cabin                                                                       \n",
       "A10      male    36      0      0     13049   40.125        C  None  None   \n",
       "A11    female    33      0      0  PC 17613  27.7208        C    11  None   \n",
       "A14      male  None      0      0    110465       52        S  None  None   \n",
       "A16    female    48      1      0     11755     39.6        C     1  None   \n",
       "A18      male    39      0      0  PC 17580     29.7        C  None   133   \n",
       "A19      male  None      0      0    113056       26        S  None  None   \n",
       "A20      male    49      1      0  PC 17485  56.9292        C     1  None   \n",
       "A21      male    41      0      0    113054     30.5        S  None  None   \n",
       "A23      male    80      0      0     27042       30        S     B  None   \n",
       "A24      male    31      0      0  PC 17590  50.4958        S  None  None   \n",
       "A26      male    56      0      0     13213     35.5        C     3  None   \n",
       "A29    female    36      0      0  PC 17531  31.6792        C  None  None   \n",
       "A31      male    40      0      0    112277       31        C     7  None   \n",
       "A32      male  None      0      0    113767       50        S  None  None   \n",
       "A34      male    53      1      1     33638  81.8583        S    13  None   \n",
       "A34      male     4      0      2     33638  81.8583        S     5  None   \n",
       "A34    female    54      1      1     33638  81.8583        S     5  None   \n",
       "A36      male    39      0      0    112050        0        S  None  None   \n",
       "A5       male    71      0      0  PC 17754  34.6542        C  None  None   \n",
       "A6       male    28      0      0    113788     35.5        S     7  None   \n",
       "A7       male    56      0      0     17764  30.6958        C  None  None   \n",
       "A9       male    45      0      0  PC 17594     29.7        C     7  None   \n",
       "\n",
       "                       home.dest  cabin_x  cabin_y  \n",
       "cabin                                               \n",
       "A10                 Winnipeg, MB    425.0     5.00  \n",
       "A11                Paris, France    425.0     1.00  \n",
       "A14                Stoughton, MA    420.0     5.00  \n",
       "A16               London / Paris    420.0     6.00  \n",
       "A18             Philadelphia, PA    415.0     5.00  \n",
       "A19            Streatham, Surrey    415.0     2.00  \n",
       "A20               London / Paris    415.0     6.00  \n",
       "A21                  Pomeroy, WA    415.0     1.00  \n",
       "A23                Hessle, Yorks    410.0     2.00  \n",
       "A24                  Trenton, NJ    410.0     6.00  \n",
       "A26           Basel, Switzerland    405.0     5.00  \n",
       "A29                 New York, NY    405.0     1.00  \n",
       "A31               Glen Ridge, NJ    400.0     2.00  \n",
       "A32                  Seattle, WA    400.0     6.00  \n",
       "A34            San Francisco, CA    396.0     6.25  \n",
       "A34            San Francisco, CA    394.0     6.25  \n",
       "A34            San Francisco, CA    394.0     5.75  \n",
       "A36                  Belfast, NI    350.0     1.00  \n",
       "A5                  New York, NY    430.0     2.00  \n",
       "A6               New Britain, CT    430.0     5.00  \n",
       "A7     St James, Long Island, NY    430.0     1.00  \n",
       "A9                 Paris, France    425.0     2.00  "
      ]
     },
     "execution_count": 8,
     "metadata": {},
     "output_type": "execute_result"
    }
   ],
   "source": [
    "for cabins in titanic_passengers_by_cabin.index.levels[0]:\n",
    "    if titanic_passengers_by_cabin.loc[cabins].shape[0] > 1:\n",
    "        i=0\n",
    "        passengers = list(titanic_passengers_by_cabin.loc[cabins].index)\n",
    "        for passenger in passengers:\n",
    "            if i==0:\n",
    "                shift_x = 1\n",
    "                shift_y = 0.25\n",
    "            if i==1:\n",
    "                shift_x = -1\n",
    "                shift_y = 0.25\n",
    "            if i==2:\n",
    "                shift_x = -1\n",
    "                shift_y = -0.25\n",
    "            if i==3:\n",
    "                shift_x = 1\n",
    "                shift_y = -0.25\n",
    "\n",
    "            titanic_passengers_by_cabin.loc[cabins].at[passenger, \"cabin_x\"] = float(titanic_passengers_by_cabin.loc[cabins].at[passenger, \"cabin_x\"]) + shift_x\n",
    "            titanic_passengers_by_cabin.loc[cabins].at[passenger, \"cabin_y\"] = float(titanic_passengers_by_cabin.loc[cabins].at[passenger, \"cabin_y\"]) + shift_y\n",
    "            i+=1\n",
    "            \n",
    "titanic_passengers_by_cabin.reset_index(\"name\")"
   ]
  },
  {
   "cell_type": "markdown",
   "metadata": {},
   "source": [
    "### 3. Ship outline"
   ]
  },
  {
   "cell_type": "code",
   "execution_count": 21,
   "metadata": {},
   "outputs": [
    {
     "data": {
      "application/vnd.vegalite.v3+json": {
       "$schema": "https://vega.github.io/schema/vega-lite/v3.4.0.json",
       "config": {
        "mark": {
         "tooltip": null
        },
        "view": {
         "height": 300,
         "width": 400
        }
       },
       "datasets": {
        "data-246c2b9bcb306b5ff7ae5408df7bc874": [
         {
          "x": 325,
          "y": 3.5
         },
         {
          "x": 340,
          "y": 0
         },
         {
          "x": 440,
          "y": 0
         },
         {
          "x": 445,
          "y": 1
         },
         {
          "x": 447,
          "y": 2
         }
        ],
        "data-d77c64ff8010497b3a6ac0862ca66693": [
         {
          "x": 447,
          "y": 2
         },
         {
          "x": 447,
          "y": 5
         }
        ],
        "data-eafd86216bcd26664c2f502352fd1040": [
         {
          "x": 325,
          "y": 3.5
         },
         {
          "x": 340,
          "y": 7
         },
         {
          "x": 440,
          "y": 7
         },
         {
          "x": 445,
          "y": 6
         },
         {
          "x": 447,
          "y": 5
         }
        ]
       },
       "layer": [
        {
         "data": {
          "name": "data-eafd86216bcd26664c2f502352fd1040"
         },
         "encoding": {
          "x": {
           "field": "x",
           "type": "quantitative"
          },
          "y": {
           "field": "y",
           "type": "quantitative"
          }
         },
         "mark": "line"
        },
        {
         "data": {
          "name": "data-246c2b9bcb306b5ff7ae5408df7bc874"
         },
         "encoding": {
          "x": {
           "field": "x",
           "type": "quantitative"
          },
          "y": {
           "field": "y",
           "type": "quantitative"
          }
         },
         "mark": "line"
        },
        {
         "data": {
          "name": "data-d77c64ff8010497b3a6ac0862ca66693"
         },
         "encoding": {
          "x": {
           "field": "x",
           "type": "quantitative"
          },
          "y": {
           "field": "y",
           "type": "quantitative"
          }
         },
         "mark": "line"
        }
       ]
      },
      "image/png": "[encoded data removed]",
      "text/plain": [
       "<VegaLite 3 object>\n",
       "\n",
       "If you see this message, it means the renderer has not been properly enabled\n",
       "for the frontend that you are using. For more information, see\n",
       "https://altair-viz.github.io/user_guide/troubleshooting.html\n"
      ]
     },
     "execution_count": 21,
     "metadata": {},
     "output_type": "execute_result"
    }
   ],
   "source": [
    "ship_outline_1 = pd.DataFrame({\"x\" : [325,340, 440, 445, 447],\n",
    "                               \"y\" : [3.5, 7, 7, 6, 5]})\n",
    "\n",
    "ship_outline_2 = pd.DataFrame({\"x\" : [325,340, 440, 445, 447],\n",
    "                              \"y\" :  [3.5, 0, 0, 1, 2]})\n",
    "\n",
    "ship_outline_3 = pd.DataFrame({\"x\" : [447,447],\n",
    "                              \"y\" :  [2, 5]})\n",
    "\n",
    "chart_ship_outline_1 = alt.Chart(ship_outline_1).mark_line().encode(\n",
    "    alt.X('x:Q'),\n",
    "    alt.Y('y:Q')\n",
    ")\n",
    "chart_ship_outline_2 = alt.Chart(ship_outline_2).mark_line().encode(\n",
    "    alt.X('x:Q'),\n",
    "    alt.Y('y:Q')\n",
    ")\n",
    "chart_ship_outline_3 = alt.Chart(ship_outline_3).mark_line().encode(\n",
    "    alt.X('x:Q'),\n",
    "    alt.Y('y:Q')\n",
    ")\n",
    "chart_ship_outline = chart_ship_outline_1 + chart_ship_outline_2 + chart_ship_outline_3\n",
    "chart_ship_outline"
   ]
  },
  {
   "cell_type": "code",
   "execution_count": 22,
   "metadata": {},
   "outputs": [
    {
     "data": {
      "application/vnd.vegalite.v3+json": {
       "$schema": "https://vega.github.io/schema/vega-lite/v3.4.0.json",
       "config": {
        "mark": {
         "tooltip": null
        },
        "view": {
         "height": 300,
         "width": 400
        }
       },
       "data": {
        "name": "data-7391ad0528e7bd5c8e8a0f0ef93bd22c"
       },
       "datasets": {
        "data-7391ad0528e7bd5c8e8a0f0ef93bd22c": [
         {
          "cabin_x": 350,
          "cabin_y": 1
         },
         {
          "cabin_x": 350,
          "cabin_y": 6
         },
         {
          "cabin_x": 400,
          "cabin_y": 6
         },
         {
          "cabin_x": 400,
          "cabin_y": 5
         },
         {
          "cabin_x": 400,
          "cabin_y": 2
         },
         {
          "cabin_x": 400,
          "cabin_y": 1
         },
         {
          "cabin_x": 405,
          "cabin_y": 6
         },
         {
          "cabin_x": 405,
          "cabin_y": 5
         },
         {
          "cabin_x": 405,
          "cabin_y": 2
         },
         {
          "cabin_x": 405,
          "cabin_y": 1
         },
         {
          "cabin_x": 395,
          "cabin_y": 6
         },
         {
          "cabin_x": 395,
          "cabin_y": 1
         },
         {
          "cabin_x": 410,
          "cabin_y": 6
         },
         {
          "cabin_x": 410,
          "cabin_y": 5
         },
         {
          "cabin_x": 410,
          "cabin_y": 2
         },
         {
          "cabin_x": 410,
          "cabin_y": 1
         },
         {
          "cabin_x": 415,
          "cabin_y": 6
         },
         {
          "cabin_x": 415,
          "cabin_y": 5
         },
         {
          "cabin_x": 415,
          "cabin_y": 2
         },
         {
          "cabin_x": 415,
          "cabin_y": 1
         },
         {
          "cabin_x": 420,
          "cabin_y": 6
         },
         {
          "cabin_x": 420,
          "cabin_y": 5
         },
         {
          "cabin_x": 420,
          "cabin_y": 2
         },
         {
          "cabin_x": 420,
          "cabin_y": 1
         },
         {
          "cabin_x": 425,
          "cabin_y": 6
         },
         {
          "cabin_x": 425,
          "cabin_y": 5
         },
         {
          "cabin_x": 425,
          "cabin_y": 2
         },
         {
          "cabin_x": 425,
          "cabin_y": 1
         },
         {
          "cabin_x": 430,
          "cabin_y": 6
         },
         {
          "cabin_x": 430,
          "cabin_y": 5
         },
         {
          "cabin_x": 430,
          "cabin_y": 2
         },
         {
          "cabin_x": 430,
          "cabin_y": 1
         },
         {
          "cabin_x": 435,
          "cabin_y": 6
         },
         {
          "cabin_x": 435,
          "cabin_y": 4
         },
         {
          "cabin_x": 435,
          "cabin_y": 3
         },
         {
          "cabin_x": 435,
          "cabin_y": 1
         }
        ]
       },
       "encoding": {
        "x": {
         "field": "cabin_x",
         "scale": {
          "domain": [
           320,
           450
          ]
         },
         "type": "quantitative"
        },
        "y": {
         "field": "cabin_y",
         "scale": {
          "domain": [
           -1,
           7.5
          ]
         },
         "type": "quantitative"
        }
       },
       "height": 400,
       "mark": {
        "fill": "None",
        "opacity": 0.3,
        "size": 1600,
        "stroke": "black",
        "type": "square"
       },
       "width": 1500
      },
      "image/png": "[encoded data removed]",
      "text/plain": [
       "<VegaLite 3 object>\n",
       "\n",
       "If you see this message, it means the renderer has not been properly enabled\n",
       "for the frontend that you are using. For more information, see\n",
       "https://altair-viz.github.io/user_guide/troubleshooting.html\n"
      ]
     },
     "execution_count": 22,
     "metadata": {},
     "output_type": "execute_result"
    }
   ],
   "source": [
    "cabin_plot = alt.Chart(cabin_locations_df).mark_square(size = 1600, fill = \"None\", stroke = \"black\", opacity = 0.3).encode(\n",
    "    alt.X('cabin_x:Q', scale=alt.Scale(domain = [320,450])),\n",
    "    alt.Y('cabin_y:Q', scale=alt.Scale(domain = [-1,7.5]))\n",
    ").properties(width = 1500, height = 400)\n",
    "cabin_plot"
   ]
  },
  {
   "cell_type": "code",
   "execution_count": 16,
   "metadata": {},
   "outputs": [
    {
     "data": {
      "application/vnd.vegalite.v3+json": {
       "$schema": "https://vega.github.io/schema/vega-lite/v3.4.0.json",
       "config": {
        "mark": {
         "tooltip": null
        },
        "view": {
         "height": 300,
         "width": 400
        }
       },
       "data": {
        "name": "data-23c439afa2fb87bde123813b5f141c7b"
       },
       "datasets": {
        "data-23c439afa2fb87bde123813b5f141c7b": [
         {
          "age": 36,
          "boat": "None",
          "body": "None",
          "cabin_x": 425,
          "cabin_y": 5,
          "embarked": "C",
          "fare": 40.125,
          "home.dest": "Winnipeg, MB",
          "name": "Ross, Mr. John Hugo",
          "parch": 0,
          "pclass": 1,
          "sex": "male",
          "sibsp": 0,
          "survived": 0,
          "ticket": "13049"
         },
         {
          "age": 33,
          "boat": "11",
          "body": "None",
          "cabin_x": 425,
          "cabin_y": 1,
          "embarked": "C",
          "fare": 27.7208,
          "home.dest": "Paris, France",
          "name": "Rosenbaum, Miss. Edith Louise",
          "parch": 0,
          "pclass": 1,
          "sex": "female",
          "sibsp": 0,
          "survived": 1,
          "ticket": "PC 17613"
         },
         {
          "age": "None",
          "boat": "None",
          "body": "None",
          "cabin_x": 420,
          "cabin_y": 5,
          "embarked": "S",
          "fare": 52,
          "home.dest": "Stoughton, MA",
          "name": "Clifford, Mr. George Quincy",
          "parch": 0,
          "pclass": 1,
          "sex": "male",
          "sibsp": 0,
          "survived": 0,
          "ticket": "110465"
         },
         {
          "age": 48,
          "boat": "1",
          "body": "None",
          "cabin_x": 420,
          "cabin_y": 6,
          "embarked": "C",
          "fare": 39.6,
          "home.dest": "London / Paris",
          "name": "Duff Gordon, Lady. (Lucille Christiana Sutherland) (\"Mrs Morgan\")",
          "parch": 0,
          "pclass": 1,
          "sex": "female",
          "sibsp": 1,
          "survived": 1,
          "ticket": "11755"
         },
         {
          "age": 39,
          "boat": "None",
          "body": 133,
          "cabin_x": 415,
          "cabin_y": 5,
          "embarked": "C",
          "fare": 29.7,
          "home.dest": "Philadelphia, PA",
          "name": "Dulles, Mr. William Crothers",
          "parch": 0,
          "pclass": 1,
          "sex": "male",
          "sibsp": 0,
          "survived": 0,
          "ticket": "PC 17580"
         },
         {
          "age": "None",
          "boat": "None",
          "body": "None",
          "cabin_x": 415,
          "cabin_y": 2,
          "embarked": "S",
          "fare": 26,
          "home.dest": "Streatham, Surrey",
          "name": "Smith, Mr. Richard William",
          "parch": 0,
          "pclass": 1,
          "sex": "male",
          "sibsp": 0,
          "survived": 0,
          "ticket": "113056"
         },
         {
          "age": 49,
          "boat": "1",
          "body": "None",
          "cabin_x": 415,
          "cabin_y": 6,
          "embarked": "C",
          "fare": 56.9292,
          "home.dest": "London / Paris",
          "name": "Duff Gordon, Sir. Cosmo Edmund (\"Mr Morgan\")",
          "parch": 0,
          "pclass": 1,
          "sex": "male",
          "sibsp": 1,
          "survived": 1,
          "ticket": "PC 17485"
         },
         {
          "age": 41,
          "boat": "None",
          "body": "None",
          "cabin_x": 415,
          "cabin_y": 1,
          "embarked": "S",
          "fare": 30.5,
          "home.dest": "Pomeroy, WA",
          "name": "Brady, Mr. John Bertram",
          "parch": 0,
          "pclass": 1,
          "sex": "male",
          "sibsp": 0,
          "survived": 0,
          "ticket": "113054"
         },
         {
          "age": 80,
          "boat": "B",
          "body": "None",
          "cabin_x": 410,
          "cabin_y": 2,
          "embarked": "S",
          "fare": 30,
          "home.dest": "Hessle, Yorks",
          "name": "Barkworth, Mr. Algernon Henry Wilson",
          "parch": 0,
          "pclass": 1,
          "sex": "male",
          "sibsp": 0,
          "survived": 1,
          "ticket": "27042"
         },
         {
          "age": 31,
          "boat": "None",
          "body": "None",
          "cabin_x": 410,
          "cabin_y": 6,
          "embarked": "S",
          "fare": 50.4958,
          "home.dest": "Trenton, NJ",
          "name": "Roebling, Mr. Washington Augustus II",
          "parch": 0,
          "pclass": 1,
          "sex": "male",
          "sibsp": 0,
          "survived": 0,
          "ticket": "PC 17590"
         },
         {
          "age": 56,
          "boat": "3",
          "body": "None",
          "cabin_x": 405,
          "cabin_y": 5,
          "embarked": "C",
          "fare": 35.5,
          "home.dest": "Basel, Switzerland",
          "name": "Simonius-Blumer, Col. Oberst Alfons",
          "parch": 0,
          "pclass": 1,
          "sex": "male",
          "sibsp": 0,
          "survived": 1,
          "ticket": "13213"
         },
         {
          "age": 36,
          "boat": "None",
          "body": "None",
          "cabin_x": 405,
          "cabin_y": 1,
          "embarked": "C",
          "fare": 31.6792,
          "home.dest": "New York, NY",
          "name": "Evans, Miss. Edith Corse",
          "parch": 0,
          "pclass": 1,
          "sex": "female",
          "sibsp": 0,
          "survived": 0,
          "ticket": "PC 17531"
         },
         {
          "age": 40,
          "boat": "7",
          "body": "None",
          "cabin_x": 400,
          "cabin_y": 2,
          "embarked": "C",
          "fare": 31,
          "home.dest": "Glen Ridge, NJ",
          "name": "Blank, Mr. Henry",
          "parch": 0,
          "pclass": 1,
          "sex": "male",
          "sibsp": 0,
          "survived": 1,
          "ticket": "112277"
         },
         {
          "age": "None",
          "boat": "None",
          "body": "None",
          "cabin_x": 400,
          "cabin_y": 6,
          "embarked": "S",
          "fare": 50,
          "home.dest": "Seattle, WA",
          "name": "Rood, Mr. Hugh Roscoe",
          "parch": 0,
          "pclass": 1,
          "sex": "male",
          "sibsp": 0,
          "survived": 0,
          "ticket": "113767"
         },
         {
          "age": 53,
          "boat": "13",
          "body": "None",
          "cabin_x": 396,
          "cabin_y": 6.25,
          "embarked": "S",
          "fare": 81.8583,
          "home.dest": "San Francisco, CA",
          "name": "Dodge, Dr. Washington",
          "parch": 1,
          "pclass": 1,
          "sex": "male",
          "sibsp": 1,
          "survived": 1,
          "ticket": "33638"
         },
         {
          "age": 4,
          "boat": "5",
          "body": "None",
          "cabin_x": 394,
          "cabin_y": 6.25,
          "embarked": "S",
          "fare": 81.8583,
          "home.dest": "San Francisco, CA",
          "name": "Dodge, Master. Washington",
          "parch": 2,
          "pclass": 1,
          "sex": "male",
          "sibsp": 0,
          "survived": 1,
          "ticket": "33638"
         },
         {
          "age": 54,
          "boat": "5",
          "body": "None",
          "cabin_x": 394,
          "cabin_y": 5.75,
          "embarked": "S",
          "fare": 81.8583,
          "home.dest": "San Francisco, CA",
          "name": "Dodge, Mrs. Washington (Ruth Vidaver)",
          "parch": 1,
          "pclass": 1,
          "sex": "female",
          "sibsp": 1,
          "survived": 1,
          "ticket": "33638"
         },
         {
          "age": 39,
          "boat": "None",
          "body": "None",
          "cabin_x": 350,
          "cabin_y": 1,
          "embarked": "S",
          "fare": 0,
          "home.dest": "Belfast, NI",
          "name": "Andrews, Mr. Thomas Jr",
          "parch": 0,
          "pclass": 1,
          "sex": "male",
          "sibsp": 0,
          "survived": 0,
          "ticket": "112050"
         },
         {
          "age": 71,
          "boat": "None",
          "body": "None",
          "cabin_x": 430,
          "cabin_y": 2,
          "embarked": "C",
          "fare": 34.6542,
          "home.dest": "New York, NY",
          "name": "Goldschmidt, Mr. George B",
          "parch": 0,
          "pclass": 1,
          "sex": "male",
          "sibsp": 0,
          "survived": 0,
          "ticket": "PC 17754"
         },
         {
          "age": 28,
          "boat": "7",
          "body": "None",
          "cabin_x": 430,
          "cabin_y": 5,
          "embarked": "S",
          "fare": 35.5,
          "home.dest": "New Britain, CT",
          "name": "Sloper, Mr. William Thompson",
          "parch": 0,
          "pclass": 1,
          "sex": "male",
          "sibsp": 0,
          "survived": 1,
          "ticket": "113788"
         },
         {
          "age": 56,
          "boat": "None",
          "body": "None",
          "cabin_x": 430,
          "cabin_y": 1,
          "embarked": "C",
          "fare": 30.6958,
          "home.dest": "St James, Long Island, NY",
          "name": "Smith, Mr. James Clinch",
          "parch": 0,
          "pclass": 1,
          "sex": "male",
          "sibsp": 0,
          "survived": 0,
          "ticket": "17764"
         },
         {
          "age": 45,
          "boat": "7",
          "body": "None",
          "cabin_x": 425,
          "cabin_y": 2,
          "embarked": "C",
          "fare": 29.7,
          "home.dest": "Paris, France",
          "name": "Chevre, Mr. Paul Romaine",
          "parch": 0,
          "pclass": 1,
          "sex": "male",
          "sibsp": 0,
          "survived": 1,
          "ticket": "PC 17594"
         }
        ]
       },
       "encoding": {
        "color": {
         "field": "survived",
         "scale": {
          "range": [
           "red",
           "white"
          ]
         },
         "type": "nominal"
        },
        "x": {
         "field": "cabin_x",
         "scale": {
          "domain": [
           320,
           450
          ]
         },
         "type": "quantitative"
        },
        "y": {
         "field": "cabin_y",
         "scale": {
          "domain": [
           -1,
           7.5
          ]
         },
         "type": "quantitative"
        }
       },
       "height": 400,
       "mark": {
        "filled": true,
        "opacity": 1,
        "size": 300,
        "stroke": "black",
        "type": "point"
       },
       "width": 1500
      },
      "image/png": "[encoded data removed]",
      "text/plain": [
       "<VegaLite 3 object>\n",
       "\n",
       "If you see this message, it means the renderer has not been properly enabled\n",
       "for the frontend that you are using. For more information, see\n",
       "https://altair-viz.github.io/user_guide/troubleshooting.html\n"
      ]
     },
     "execution_count": 16,
     "metadata": {},
     "output_type": "execute_result"
    }
   ],
   "source": [
    "passenger_plot = alt.Chart(titanic_passengers_by_cabin.reset_index(\"name\")).mark_point(size = 300, stroke = \"black\", filled = True, opacity = 1).encode(\n",
    "    alt.X('cabin_x:Q', scale=alt.Scale(domain = [320,450])),\n",
    "    alt.Y('cabin_y:Q', scale=alt.Scale(domain = [-1,7.5])),\n",
    "    alt.Color('survived:N', scale=alt.Scale(range = ['red','white']))\n",
    ").properties(width = 1500, height = 400)\n",
    "\n",
    "passenger_plot"
   ]
  },
  {
   "cell_type": "code",
   "execution_count": 23,
   "metadata": {},
   "outputs": [
    {
     "data": {
      "application/vnd.vegalite.v3+json": {
       "$schema": "https://vega.github.io/schema/vega-lite/v3.4.0.json",
       "config": {
        "mark": {
         "tooltip": null
        },
        "view": {
         "height": 300,
         "width": 400
        }
       },
       "datasets": {
        "data-23c439afa2fb87bde123813b5f141c7b": [
         {
          "age": 36,
          "boat": "None",
          "body": "None",
          "cabin_x": 425,
          "cabin_y": 5,
          "embarked": "C",
          "fare": 40.125,
          "home.dest": "Winnipeg, MB",
          "name": "Ross, Mr. John Hugo",
          "parch": 0,
          "pclass": 1,
          "sex": "male",
          "sibsp": 0,
          "survived": 0,
          "ticket": "13049"
         },
         {
          "age": 33,
          "boat": "11",
          "body": "None",
          "cabin_x": 425,
          "cabin_y": 1,
          "embarked": "C",
          "fare": 27.7208,
          "home.dest": "Paris, France",
          "name": "Rosenbaum, Miss. Edith Louise",
          "parch": 0,
          "pclass": 1,
          "sex": "female",
          "sibsp": 0,
          "survived": 1,
          "ticket": "PC 17613"
         },
         {
          "age": "None",
          "boat": "None",
          "body": "None",
          "cabin_x": 420,
          "cabin_y": 5,
          "embarked": "S",
          "fare": 52,
          "home.dest": "Stoughton, MA",
          "name": "Clifford, Mr. George Quincy",
          "parch": 0,
          "pclass": 1,
          "sex": "male",
          "sibsp": 0,
          "survived": 0,
          "ticket": "110465"
         },
         {
          "age": 48,
          "boat": "1",
          "body": "None",
          "cabin_x": 420,
          "cabin_y": 6,
          "embarked": "C",
          "fare": 39.6,
          "home.dest": "London / Paris",
          "name": "Duff Gordon, Lady. (Lucille Christiana Sutherland) (\"Mrs Morgan\")",
          "parch": 0,
          "pclass": 1,
          "sex": "female",
          "sibsp": 1,
          "survived": 1,
          "ticket": "11755"
         },
         {
          "age": 39,
          "boat": "None",
          "body": 133,
          "cabin_x": 415,
          "cabin_y": 5,
          "embarked": "C",
          "fare": 29.7,
          "home.dest": "Philadelphia, PA",
          "name": "Dulles, Mr. William Crothers",
          "parch": 0,
          "pclass": 1,
          "sex": "male",
          "sibsp": 0,
          "survived": 0,
          "ticket": "PC 17580"
         },
         {
          "age": "None",
          "boat": "None",
          "body": "None",
          "cabin_x": 415,
          "cabin_y": 2,
          "embarked": "S",
          "fare": 26,
          "home.dest": "Streatham, Surrey",
          "name": "Smith, Mr. Richard William",
          "parch": 0,
          "pclass": 1,
          "sex": "male",
          "sibsp": 0,
          "survived": 0,
          "ticket": "113056"
         },
         {
          "age": 49,
          "boat": "1",
          "body": "None",
          "cabin_x": 415,
          "cabin_y": 6,
          "embarked": "C",
          "fare": 56.9292,
          "home.dest": "London / Paris",
          "name": "Duff Gordon, Sir. Cosmo Edmund (\"Mr Morgan\")",
          "parch": 0,
          "pclass": 1,
          "sex": "male",
          "sibsp": 1,
          "survived": 1,
          "ticket": "PC 17485"
         },
         {
          "age": 41,
          "boat": "None",
          "body": "None",
          "cabin_x": 415,
          "cabin_y": 1,
          "embarked": "S",
          "fare": 30.5,
          "home.dest": "Pomeroy, WA",
          "name": "Brady, Mr. John Bertram",
          "parch": 0,
          "pclass": 1,
          "sex": "male",
          "sibsp": 0,
          "survived": 0,
          "ticket": "113054"
         },
         {
          "age": 80,
          "boat": "B",
          "body": "None",
          "cabin_x": 410,
          "cabin_y": 2,
          "embarked": "S",
          "fare": 30,
          "home.dest": "Hessle, Yorks",
          "name": "Barkworth, Mr. Algernon Henry Wilson",
          "parch": 0,
          "pclass": 1,
          "sex": "male",
          "sibsp": 0,
          "survived": 1,
          "ticket": "27042"
         },
         {
          "age": 31,
          "boat": "None",
          "body": "None",
          "cabin_x": 410,
          "cabin_y": 6,
          "embarked": "S",
          "fare": 50.4958,
          "home.dest": "Trenton, NJ",
          "name": "Roebling, Mr. Washington Augustus II",
          "parch": 0,
          "pclass": 1,
          "sex": "male",
          "sibsp": 0,
          "survived": 0,
          "ticket": "PC 17590"
         },
         {
          "age": 56,
          "boat": "3",
          "body": "None",
          "cabin_x": 405,
          "cabin_y": 5,
          "embarked": "C",
          "fare": 35.5,
          "home.dest": "Basel, Switzerland",
          "name": "Simonius-Blumer, Col. Oberst Alfons",
          "parch": 0,
          "pclass": 1,
          "sex": "male",
          "sibsp": 0,
          "survived": 1,
          "ticket": "13213"
         },
         {
          "age": 36,
          "boat": "None",
          "body": "None",
          "cabin_x": 405,
          "cabin_y": 1,
          "embarked": "C",
          "fare": 31.6792,
          "home.dest": "New York, NY",
          "name": "Evans, Miss. Edith Corse",
          "parch": 0,
          "pclass": 1,
          "sex": "female",
          "sibsp": 0,
          "survived": 0,
          "ticket": "PC 17531"
         },
         {
          "age": 40,
          "boat": "7",
          "body": "None",
          "cabin_x": 400,
          "cabin_y": 2,
          "embarked": "C",
          "fare": 31,
          "home.dest": "Glen Ridge, NJ",
          "name": "Blank, Mr. Henry",
          "parch": 0,
          "pclass": 1,
          "sex": "male",
          "sibsp": 0,
          "survived": 1,
          "ticket": "112277"
         },
         {
          "age": "None",
          "boat": "None",
          "body": "None",
          "cabin_x": 400,
          "cabin_y": 6,
          "embarked": "S",
          "fare": 50,
          "home.dest": "Seattle, WA",
          "name": "Rood, Mr. Hugh Roscoe",
          "parch": 0,
          "pclass": 1,
          "sex": "male",
          "sibsp": 0,
          "survived": 0,
          "ticket": "113767"
         },
         {
          "age": 53,
          "boat": "13",
          "body": "None",
          "cabin_x": 396,
          "cabin_y": 6.25,
          "embarked": "S",
          "fare": 81.8583,
          "home.dest": "San Francisco, CA",
          "name": "Dodge, Dr. Washington",
          "parch": 1,
          "pclass": 1,
          "sex": "male",
          "sibsp": 1,
          "survived": 1,
          "ticket": "33638"
         },
         {
          "age": 4,
          "boat": "5",
          "body": "None",
          "cabin_x": 394,
          "cabin_y": 6.25,
          "embarked": "S",
          "fare": 81.8583,
          "home.dest": "San Francisco, CA",
          "name": "Dodge, Master. Washington",
          "parch": 2,
          "pclass": 1,
          "sex": "male",
          "sibsp": 0,
          "survived": 1,
          "ticket": "33638"
         },
         {
          "age": 54,
          "boat": "5",
          "body": "None",
          "cabin_x": 394,
          "cabin_y": 5.75,
          "embarked": "S",
          "fare": 81.8583,
          "home.dest": "San Francisco, CA",
          "name": "Dodge, Mrs. Washington (Ruth Vidaver)",
          "parch": 1,
          "pclass": 1,
          "sex": "female",
          "sibsp": 1,
          "survived": 1,
          "ticket": "33638"
         },
         {
          "age": 39,
          "boat": "None",
          "body": "None",
          "cabin_x": 350,
          "cabin_y": 1,
          "embarked": "S",
          "fare": 0,
          "home.dest": "Belfast, NI",
          "name": "Andrews, Mr. Thomas Jr",
          "parch": 0,
          "pclass": 1,
          "sex": "male",
          "sibsp": 0,
          "survived": 0,
          "ticket": "112050"
         },
         {
          "age": 71,
          "boat": "None",
          "body": "None",
          "cabin_x": 430,
          "cabin_y": 2,
          "embarked": "C",
          "fare": 34.6542,
          "home.dest": "New York, NY",
          "name": "Goldschmidt, Mr. George B",
          "parch": 0,
          "pclass": 1,
          "sex": "male",
          "sibsp": 0,
          "survived": 0,
          "ticket": "PC 17754"
         },
         {
          "age": 28,
          "boat": "7",
          "body": "None",
          "cabin_x": 430,
          "cabin_y": 5,
          "embarked": "S",
          "fare": 35.5,
          "home.dest": "New Britain, CT",
          "name": "Sloper, Mr. William Thompson",
          "parch": 0,
          "pclass": 1,
          "sex": "male",
          "sibsp": 0,
          "survived": 1,
          "ticket": "113788"
         },
         {
          "age": 56,
          "boat": "None",
          "body": "None",
          "cabin_x": 430,
          "cabin_y": 1,
          "embarked": "C",
          "fare": 30.6958,
          "home.dest": "St James, Long Island, NY",
          "name": "Smith, Mr. James Clinch",
          "parch": 0,
          "pclass": 1,
          "sex": "male",
          "sibsp": 0,
          "survived": 0,
          "ticket": "17764"
         },
         {
          "age": 45,
          "boat": "7",
          "body": "None",
          "cabin_x": 425,
          "cabin_y": 2,
          "embarked": "C",
          "fare": 29.7,
          "home.dest": "Paris, France",
          "name": "Chevre, Mr. Paul Romaine",
          "parch": 0,
          "pclass": 1,
          "sex": "male",
          "sibsp": 0,
          "survived": 1,
          "ticket": "PC 17594"
         }
        ],
        "data-246c2b9bcb306b5ff7ae5408df7bc874": [
         {
          "x": 325,
          "y": 3.5
         },
         {
          "x": 340,
          "y": 0
         },
         {
          "x": 440,
          "y": 0
         },
         {
          "x": 445,
          "y": 1
         },
         {
          "x": 447,
          "y": 2
         }
        ],
        "data-7391ad0528e7bd5c8e8a0f0ef93bd22c": [
         {
          "cabin_x": 350,
          "cabin_y": 1
         },
         {
          "cabin_x": 350,
          "cabin_y": 6
         },
         {
          "cabin_x": 400,
          "cabin_y": 6
         },
         {
          "cabin_x": 400,
          "cabin_y": 5
         },
         {
          "cabin_x": 400,
          "cabin_y": 2
         },
         {
          "cabin_x": 400,
          "cabin_y": 1
         },
         {
          "cabin_x": 405,
          "cabin_y": 6
         },
         {
          "cabin_x": 405,
          "cabin_y": 5
         },
         {
          "cabin_x": 405,
          "cabin_y": 2
         },
         {
          "cabin_x": 405,
          "cabin_y": 1
         },
         {
          "cabin_x": 395,
          "cabin_y": 6
         },
         {
          "cabin_x": 395,
          "cabin_y": 1
         },
         {
          "cabin_x": 410,
          "cabin_y": 6
         },
         {
          "cabin_x": 410,
          "cabin_y": 5
         },
         {
          "cabin_x": 410,
          "cabin_y": 2
         },
         {
          "cabin_x": 410,
          "cabin_y": 1
         },
         {
          "cabin_x": 415,
          "cabin_y": 6
         },
         {
          "cabin_x": 415,
          "cabin_y": 5
         },
         {
          "cabin_x": 415,
          "cabin_y": 2
         },
         {
          "cabin_x": 415,
          "cabin_y": 1
         },
         {
          "cabin_x": 420,
          "cabin_y": 6
         },
         {
          "cabin_x": 420,
          "cabin_y": 5
         },
         {
          "cabin_x": 420,
          "cabin_y": 2
         },
         {
          "cabin_x": 420,
          "cabin_y": 1
         },
         {
          "cabin_x": 425,
          "cabin_y": 6
         },
         {
          "cabin_x": 425,
          "cabin_y": 5
         },
         {
          "cabin_x": 425,
          "cabin_y": 2
         },
         {
          "cabin_x": 425,
          "cabin_y": 1
         },
         {
          "cabin_x": 430,
          "cabin_y": 6
         },
         {
          "cabin_x": 430,
          "cabin_y": 5
         },
         {
          "cabin_x": 430,
          "cabin_y": 2
         },
         {
          "cabin_x": 430,
          "cabin_y": 1
         },
         {
          "cabin_x": 435,
          "cabin_y": 6
         },
         {
          "cabin_x": 435,
          "cabin_y": 4
         },
         {
          "cabin_x": 435,
          "cabin_y": 3
         },
         {
          "cabin_x": 435,
          "cabin_y": 1
         }
        ],
        "data-d77c64ff8010497b3a6ac0862ca66693": [
         {
          "x": 447,
          "y": 2
         },
         {
          "x": 447,
          "y": 5
         }
        ],
        "data-eafd86216bcd26664c2f502352fd1040": [
         {
          "x": 325,
          "y": 3.5
         },
         {
          "x": 340,
          "y": 7
         },
         {
          "x": 440,
          "y": 7
         },
         {
          "x": 445,
          "y": 6
         },
         {
          "x": 447,
          "y": 5
         }
        ]
       },
       "layer": [
        {
         "data": {
          "name": "data-7391ad0528e7bd5c8e8a0f0ef93bd22c"
         },
         "encoding": {
          "x": {
           "field": "cabin_x",
           "scale": {
            "domain": [
             320,
             450
            ]
           },
           "type": "quantitative"
          },
          "y": {
           "field": "cabin_y",
           "scale": {
            "domain": [
             -1,
             7.5
            ]
           },
           "type": "quantitative"
          }
         },
         "height": 400,
         "mark": {
          "fill": "None",
          "opacity": 0.3,
          "size": 1600,
          "stroke": "black",
          "type": "square"
         },
         "width": 1500
        },
        {
         "data": {
          "name": "data-23c439afa2fb87bde123813b5f141c7b"
         },
         "encoding": {
          "color": {
           "field": "survived",
           "scale": {
            "range": [
             "red",
             "white"
            ]
           },
           "type": "nominal"
          },
          "x": {
           "field": "cabin_x",
           "scale": {
            "domain": [
             320,
             450
            ]
           },
           "type": "quantitative"
          },
          "y": {
           "field": "cabin_y",
           "scale": {
            "domain": [
             -1,
             7.5
            ]
           },
           "type": "quantitative"
          }
         },
         "height": 400,
         "mark": {
          "filled": true,
          "opacity": 1,
          "size": 300,
          "stroke": "black",
          "type": "point"
         },
         "width": 1500
        },
        {
         "layer": [
          {
           "data": {
            "name": "data-eafd86216bcd26664c2f502352fd1040"
           },
           "encoding": {
            "x": {
             "field": "x",
             "type": "quantitative"
            },
            "y": {
             "field": "y",
             "type": "quantitative"
            }
           },
           "mark": "line"
          },
          {
           "data": {
            "name": "data-246c2b9bcb306b5ff7ae5408df7bc874"
           },
           "encoding": {
            "x": {
             "field": "x",
             "type": "quantitative"
            },
            "y": {
             "field": "y",
             "type": "quantitative"
            }
           },
           "mark": "line"
          },
          {
           "data": {
            "name": "data-d77c64ff8010497b3a6ac0862ca66693"
           },
           "encoding": {
            "x": {
             "field": "x",
             "type": "quantitative"
            },
            "y": {
             "field": "y",
             "type": "quantitative"
            }
           },
           "mark": "line"
          }
         ]
        }
       ]
      },
      "image/png": "[encoded data removed]",
      "text/plain": [
       "<VegaLite 3 object>\n",
       "\n",
       "If you see this message, it means the renderer has not been properly enabled\n",
       "for the frontend that you are using. For more information, see\n",
       "https://altair-viz.github.io/user_guide/troubleshooting.html\n"
      ]
     },
     "execution_count": 23,
     "metadata": {},
     "output_type": "execute_result"
    }
   ],
   "source": [
    "cabin_plot + passenger_plot + chart_ship_outline"
   ]
  },
  {
   "cell_type": "markdown",
   "metadata": {},
   "source": [
    "## 4. Wrapping everything in the `make_titanic_plot` function"
   ]
  },
  {
   "cell_type": "code",
   "execution_count": 183,
   "metadata": {},
   "outputs": [],
   "source": [
    "def make_titanic_plot(deck_level):\n",
    "    titanic_df = pd.read_csv(\"../data/titanic.csv\").fillna(\"None\")\n",
    "    \n",
    "    cabin_locations = {\"A36\": (350, 1.0), \"A37\": (350, 6.0), \"A32\": (400, 6.0), \"A30\": (400, 5.0), \"A31\": (400, 2.0), \"A33\": (400, 1.0), \"A28\": (405, 6.0), \"A26\": (405, 5.0), \"A27\": (405, 2.0),\n",
    "                       \"A29\": (405, 1.0), \"A34\": (395, 6.0), \"A35\": (395, 1.0), \"A24\": (410, 6.0), \"A22\": (410, 5.0), \"A23\": (410, 2.0), \"A25\": (410, 1.0), \"A20\": (415, 6.0), \"A18\": (415, 5.0),\n",
    "                       \"A19\": (415, 2.0), \"A21\": (415, 1.0), \"A16\": (420, 6.0), \"A14\": (420, 5.0), \"A15\": (420, 2.0), \"A17\": (420, 1.0), \"A12\": (425, 6.0), \"A10\": (425, 5.0), \"A9\":  (425, 2.0),\n",
    "                       \"A11\": (425, 1.0), \"A8\": ( 430, 6.0),  \"A6\": (430, 5.0), \"A5\":  (430, 2.0), \"A7\":  (430, 1.0), \"A4\":  (435, 6.0), \"A2\":  (435, 4.0), \"A1\":  (435, 3.0), \"A3\":  (435, 1.0),\n",
    "                       \n",
    "                       \"B90\": (345, 6.0), \"B94\": (340, 6.0), \"B96\": (335, 6.0), \"B98\": (330, 6.0), \"B92\": (345, 5.0), \"B91\": (345, 1.0), \"B101\": (395, 3.0), \"B102\": (395, 4.0), \"B100\": (385, 4.0),\n",
    "                       \"B99\": (385, 3.0), \"B58\": (400, 6.0), \"B88\": (350, 6.0), \"B84\": (355, 6.0), \"B86\": (355, 5.0), \"B85\": (355, 1.0), \"B82\": (360, 6.0), \"B78\": (365, 6.0), \"B76\": (370, 6.0),\n",
    "                       \"B72\": (375, 6.0), \"B70\": (380, 6.0), \"B66\": (385, 6.0), \"B64\": (390, 6.0), \"B60\": (395, 6.0), \"B80\": (365, 5.0), \"B74\": (375, 5.0), \"B68\": (385, 5.0), \"B62\":  (395, 5.0),\n",
    "                       \"B79\": (365, 1.0), \"B73\": (375, 1.0), \"B67\": (385, 1.0), \"B52\": (405, 5.0), \"B51\": (405, 1.0), \"B61\":  (395, 1.0), \"B48\": (425, 6.0), \"B46\": (425, 5.0), \"B47\": (425, 2.0),\n",
    "                       \"B49\": (425, 1.0), \"B44\": (430, 6.0), \"B42\": (430, 5.0), \"B43\": (430, 2.0), \"B45\": (430, 1.0), \"B40\":  (435, 6.0), \"B38\": (435, 5.0), \"B37\": (435, 2.0), \"B39\": (435, 1.0),\n",
    "                       \"B34\": (440, 6.0), \"B32\": (440, 5.0), \"B30\": (440, 4.0), \"B31\": (440, 3.0), \"B33\": (440, 2.0), \"B35\":  (440, 1.0), \"B28\": (445, 6.0), \"B26\": (445, 5.0), \"B24\": (445, 4.0),\n",
    "                       \"B25\": (445, 3.0), \"B27\": (445, 2.0), \"B29\": (445, 1.0), \"B22\": (450, 6.0), \"B20\": (450, 5.0), \"B18\":  (450, 4.0), \"B19\": (450, 3.0), \"B21\": (450, 2.0), \"B23\": (450, 1.0),\n",
    "                       \"B16\": (455, 6.0), \"B14\": (455, 5.0), \"B12\": (455, 4.0), \"B11\": (455, 3.0), \"B15\": (455, 2.0), \"B17\":  (455, 1.0), \"B10\": (460, 5.0), \"B8\": (460, 4.0), \"B7\": (460, 3.0),\n",
    "                       \"B9\": (460, 2.0),  \"B6\": (465, 6.0), \"B4\":  (465, 5.0), \"B3\": (465, 4.0), \"B1\": (465, 3.0), \"B3\": (465, 2.0), \"B5\": (465, 1.0)}\n",
    "                       \n",
    "\n",
    "    cabin_locations_df = pd.DataFrame(cabin_locations).T.reset_index()\n",
    "    cabin_locations_df[\"deck\"] = cabin_locations_df[\"index\"].apply(lambda x: x[0])\n",
    "    cabin_locations_df = cabin_locations_df.set_index([\"deck\", \"index\"])\n",
    "    cabin_locations_df.index.names = [\"deck\", \"cabin\"]\n",
    "    cabin_locations_df.columns = [\"cabin_x\", \"cabin_y\"]\n",
    "    \n",
    "    titanic_df_with_cabin_coords = pd.merge(titanic_df, cabin_locations_df, left_on = \"cabin\", right_on = \"cabin\")\n",
    "    titanic_df_with_cabin_coords[\"deck\"] = titanic_df_with_cabin_coords[\"cabin\"].apply(lambda x: x[0])\n",
    "    titanic_passengers_by_cabin = titanic_df_with_cabin_coords.set_index([\"cabin\",\"name\"]).sort_index()\n",
    "    \n",
    "    for cabins in titanic_passengers_by_cabin.index.levels[0]:\n",
    "        if titanic_passengers_by_cabin.loc[cabins].shape[0] > 1:\n",
    "            i=0\n",
    "            passengers = list(titanic_passengers_by_cabin.loc[cabins].index)\n",
    "            for passenger in passengers:\n",
    "                if i==0:\n",
    "                    shift_x = 1\n",
    "                    shift_y = 0.25\n",
    "                if i==1:\n",
    "                    shift_x = -1\n",
    "                    shift_y = 0.25\n",
    "                if i==2:\n",
    "                    shift_x = -1\n",
    "                    shift_y = -0.25\n",
    "                if i==3:\n",
    "                    shift_x = 1\n",
    "                    shift_y = -0.25\n",
    "\n",
    "                titanic_passengers_by_cabin.loc[cabins].at[passenger, \"cabin_x\"] = float(titanic_passengers_by_cabin.loc[cabins].at[passenger, \"cabin_x\"]) + shift_x\n",
    "                titanic_passengers_by_cabin.loc[cabins].at[passenger, \"cabin_y\"] = float(titanic_passengers_by_cabin.loc[cabins].at[passenger, \"cabin_y\"]) + shift_y\n",
    "                i+=1\n",
    "    \n",
    "    ship_outline_1 = pd.DataFrame({\"x\" : [310, 325, 470, 475, 477], \"y\" : [3.5, 7, 7, 6, 5]})\n",
    "    ship_outline_2 = pd.DataFrame({\"x\" : [310, 325, 470, 475, 477], \"y\" :  [3.5, 0, 0, 1, 2]})\n",
    "    ship_outline_3 = pd.DataFrame({\"x\" : [477,477], \"y\" :  [2, 5]})\n",
    "\n",
    "    chart_ship_outline_1 = alt.Chart(ship_outline_1).mark_line().encode(\n",
    "        alt.X('x:Q'),\n",
    "        alt.Y('y:Q')\n",
    "    )\n",
    "    chart_ship_outline_2 = alt.Chart(ship_outline_2).mark_line().encode(\n",
    "        alt.X('x:Q'),\n",
    "        alt.Y('y:Q')\n",
    "    )\n",
    "    chart_ship_outline_3 = alt.Chart(ship_outline_3).mark_line().encode(\n",
    "        alt.X('x:Q'),\n",
    "        alt.Y('y:Q')\n",
    "    )\n",
    "    chart_ship_outline = chart_ship_outline_1 + chart_ship_outline_2 + chart_ship_outline_3\n",
    "    \n",
    "    cabin_plot = alt.Chart(cabin_locations_df.loc[deck_level]).mark_square(size = 1400, fill = \"None\", stroke = \"black\", opacity = 0.3).encode(\n",
    "        alt.X('cabin_x:Q', title = \"\", scale=alt.Scale(domain = [300,450])),\n",
    "        alt.Y('cabin_y:Q', title = \"\", scale=alt.Scale(domain = [-1,7.5]))\n",
    "    ).properties(width = 1500, height = 400)\n",
    "    titanic_passengers_by_cabin = titanic_passengers_by_cabin.reset_index().set_index([\"deck\",\"cabin\"])\n",
    "    \n",
    "    passenger_plot = alt.Chart(titanic_passengers_by_cabin.loc[deck_level]).mark_point(size = 250, stroke = \"black\", filled = True, opacity = 1).encode(\n",
    "        alt.X('cabin_x:Q', scale=alt.Scale(domain = [300,450])),\n",
    "        alt.Y('cabin_y:Q', scale=alt.Scale(domain = [-1,7.5])),\n",
    "        alt.Color('survived:N', scale=alt.Scale(range = ['red','white']), legend = alt.Legend(titleFontSize = 20, labelFontSize = 30)),\n",
    "        tooltip=['name:N', 'sex:N', 'age:O']\n",
    "    ).properties(width = 1500, height = 400, title = \"Fate of titanic passengers by cabin location on deck {}\".format(deck_level))\n",
    "    \n",
    "    full_plot = (cabin_plot + passenger_plot + chart_ship_outline\n",
    "                ).configure_title(fontSize = 20)\n",
    "    \n",
    "    return full_plot"
   ]
  },
  {
   "cell_type": "code",
   "execution_count": 185,
   "metadata": {},
   "outputs": [
    {
     "data": {
      "application/vnd.vegalite.v3+json": {
       "$schema": "https://vega.github.io/schema/vega-lite/v3.4.0.json",
       "config": {
        "mark": {
         "tooltip": null
        },
        "title": {
         "fontSize": 20
        },
        "view": {
         "height": 300,
         "width": 400
        }
       },
       "datasets": {
        "data-3d8c7eee13f363554229bae0c532536c": [
         {
          "x": 477,
          "y": 2
         },
         {
          "x": 477,
          "y": 5
         }
        ],
        "data-43cd751ccb1722afb22b7dce834994fc": [
         {
          "cabin_x": 345,
          "cabin_y": 6
         },
         {
          "cabin_x": 340,
          "cabin_y": 6
         },
         {
          "cabin_x": 335,
          "cabin_y": 6
         },
         {
          "cabin_x": 330,
          "cabin_y": 6
         },
         {
          "cabin_x": 345,
          "cabin_y": 5
         },
         {
          "cabin_x": 345,
          "cabin_y": 1
         },
         {
          "cabin_x": 395,
          "cabin_y": 3
         },
         {
          "cabin_x": 395,
          "cabin_y": 4
         },
         {
          "cabin_x": 385,
          "cabin_y": 4
         },
         {
          "cabin_x": 385,
          "cabin_y": 3
         },
         {
          "cabin_x": 400,
          "cabin_y": 6
         },
         {
          "cabin_x": 350,
          "cabin_y": 6
         },
         {
          "cabin_x": 355,
          "cabin_y": 6
         },
         {
          "cabin_x": 355,
          "cabin_y": 5
         },
         {
          "cabin_x": 355,
          "cabin_y": 1
         },
         {
          "cabin_x": 360,
          "cabin_y": 6
         },
         {
          "cabin_x": 365,
          "cabin_y": 6
         },
         {
          "cabin_x": 370,
          "cabin_y": 6
         },
         {
          "cabin_x": 375,
          "cabin_y": 6
         },
         {
          "cabin_x": 380,
          "cabin_y": 6
         },
         {
          "cabin_x": 385,
          "cabin_y": 6
         },
         {
          "cabin_x": 390,
          "cabin_y": 6
         },
         {
          "cabin_x": 395,
          "cabin_y": 6
         },
         {
          "cabin_x": 365,
          "cabin_y": 5
         },
         {
          "cabin_x": 375,
          "cabin_y": 5
         },
         {
          "cabin_x": 385,
          "cabin_y": 5
         },
         {
          "cabin_x": 395,
          "cabin_y": 5
         },
         {
          "cabin_x": 365,
          "cabin_y": 1
         },
         {
          "cabin_x": 375,
          "cabin_y": 1
         },
         {
          "cabin_x": 385,
          "cabin_y": 1
         },
         {
          "cabin_x": 405,
          "cabin_y": 5
         },
         {
          "cabin_x": 405,
          "cabin_y": 1
         },
         {
          "cabin_x": 395,
          "cabin_y": 1
         },
         {
          "cabin_x": 425,
          "cabin_y": 6
         },
         {
          "cabin_x": 425,
          "cabin_y": 5
         },
         {
          "cabin_x": 425,
          "cabin_y": 2
         },
         {
          "cabin_x": 425,
          "cabin_y": 1
         },
         {
          "cabin_x": 430,
          "cabin_y": 6
         },
         {
          "cabin_x": 430,
          "cabin_y": 5
         },
         {
          "cabin_x": 430,
          "cabin_y": 2
         },
         {
          "cabin_x": 430,
          "cabin_y": 1
         },
         {
          "cabin_x": 435,
          "cabin_y": 6
         },
         {
          "cabin_x": 435,
          "cabin_y": 5
         },
         {
          "cabin_x": 435,
          "cabin_y": 2
         },
         {
          "cabin_x": 435,
          "cabin_y": 1
         },
         {
          "cabin_x": 440,
          "cabin_y": 6
         },
         {
          "cabin_x": 440,
          "cabin_y": 5
         },
         {
          "cabin_x": 440,
          "cabin_y": 4
         },
         {
          "cabin_x": 440,
          "cabin_y": 3
         },
         {
          "cabin_x": 440,
          "cabin_y": 2
         },
         {
          "cabin_x": 440,
          "cabin_y": 1
         },
         {
          "cabin_x": 445,
          "cabin_y": 6
         },
         {
          "cabin_x": 445,
          "cabin_y": 5
         },
         {
          "cabin_x": 445,
          "cabin_y": 4
         },
         {
          "cabin_x": 445,
          "cabin_y": 3
         },
         {
          "cabin_x": 445,
          "cabin_y": 2
         },
         {
          "cabin_x": 445,
          "cabin_y": 1
         },
         {
          "cabin_x": 450,
          "cabin_y": 6
         },
         {
          "cabin_x": 450,
          "cabin_y": 5
         },
         {
          "cabin_x": 450,
          "cabin_y": 4
         },
         {
          "cabin_x": 450,
          "cabin_y": 3
         },
         {
          "cabin_x": 450,
          "cabin_y": 2
         },
         {
          "cabin_x": 450,
          "cabin_y": 1
         },
         {
          "cabin_x": 455,
          "cabin_y": 6
         },
         {
          "cabin_x": 455,
          "cabin_y": 5
         },
         {
          "cabin_x": 455,
          "cabin_y": 4
         },
         {
          "cabin_x": 455,
          "cabin_y": 3
         },
         {
          "cabin_x": 455,
          "cabin_y": 2
         },
         {
          "cabin_x": 455,
          "cabin_y": 1
         },
         {
          "cabin_x": 460,
          "cabin_y": 5
         },
         {
          "cabin_x": 460,
          "cabin_y": 4
         },
         {
          "cabin_x": 460,
          "cabin_y": 3
         },
         {
          "cabin_x": 460,
          "cabin_y": 2
         },
         {
          "cabin_x": 465,
          "cabin_y": 6
         },
         {
          "cabin_x": 465,
          "cabin_y": 5
         },
         {
          "cabin_x": 465,
          "cabin_y": 2
         },
         {
          "cabin_x": 465,
          "cabin_y": 3
         },
         {
          "cabin_x": 465,
          "cabin_y": 1
         }
        ],
        "data-65f28a7e96afabd8a275847000c9abaa": [
         {
          "age": 48,
          "boat": "None",
          "body": 208,
          "cabin_x": 460,
          "cabin_y": 5,
          "embarked": "C",
          "fare": 50.4958,
          "home.dest": "Omaha, NE",
          "name": "Brandeis, Mr. Emil",
          "parch": 0,
          "pclass": 1,
          "sex": "male",
          "sibsp": 0,
          "survived": 0,
          "ticket": "PC 17591"
         },
         {
          "age": 35,
          "boat": "3",
          "body": "None",
          "cabin_x": 395,
          "cabin_y": 3,
          "embarked": "C",
          "fare": 512.3292,
          "home.dest": "None",
          "name": "Lesurer, Mr. Gustave J",
          "parch": 0,
          "pclass": 1,
          "sex": "male",
          "sibsp": 0,
          "survived": 1,
          "ticket": "PC 17755"
         },
         {
          "age": "None",
          "boat": "None",
          "body": "None",
          "cabin_x": 395,
          "cabin_y": 4,
          "embarked": "S",
          "fare": 0,
          "home.dest": "None",
          "name": "Fry, Mr. Richard",
          "parch": 0,
          "pclass": 1,
          "sex": "male",
          "sibsp": 0,
          "survived": 0,
          "ticket": "112058"
         },
         {
          "age": 42,
          "boat": "None",
          "body": "None",
          "cabin_x": 455,
          "cabin_y": 3,
          "embarked": "S",
          "fare": 42.5,
          "home.dest": "London / Middlesex",
          "name": "Head, Mr. Christopher",
          "parch": 0,
          "pclass": 1,
          "sex": "male",
          "sibsp": 0,
          "survived": 0,
          "ticket": "113038"
         },
         {
          "age": 16,
          "boat": "4",
          "body": "None",
          "cabin_x": 451,
          "cabin_y": 4.25,
          "embarked": "C",
          "fare": 57.9792,
          "home.dest": "Chicago, IL",
          "name": "Hippach, Miss. Jean Gertrude",
          "parch": 1,
          "pclass": 1,
          "sex": "female",
          "sibsp": 0,
          "survived": 1,
          "ticket": "111361"
         },
         {
          "age": 44,
          "boat": "4",
          "body": "None",
          "cabin_x": 449,
          "cabin_y": 4.25,
          "embarked": "C",
          "fare": 57.9792,
          "home.dest": "Chicago, IL",
          "name": "Hippach, Mrs. Louis Albert (Ida Sophia Fischer)",
          "parch": 1,
          "pclass": 1,
          "sex": "female",
          "sibsp": 0,
          "survived": 1,
          "ticket": "111361"
         },
         {
          "age": 61,
          "boat": "None",
          "body": 245,
          "cabin_x": 450,
          "cabin_y": 3,
          "embarked": "S",
          "fare": 33.5,
          "home.dest": "Brooklyn, NY",
          "name": "Van der hoef, Mr. Wyckoff",
          "parch": 0,
          "pclass": 1,
          "sex": "male",
          "sibsp": 0,
          "survived": 0,
          "ticket": "111240"
         },
         {
          "age": 31,
          "boat": "3",
          "body": "None",
          "cabin_x": 451,
          "cabin_y": 5.25,
          "embarked": "S",
          "fare": 57,
          "home.dest": "Calgary, AB",
          "name": "Dick, Mr. Albert Adrian",
          "parch": 0,
          "pclass": 1,
          "sex": "male",
          "sibsp": 1,
          "survived": 1,
          "ticket": "17474"
         },
         {
          "age": 17,
          "boat": "3",
          "body": "None",
          "cabin_x": 449,
          "cabin_y": 5.25,
          "embarked": "S",
          "fare": 57,
          "home.dest": "Calgary, AB",
          "name": "Dick, Mrs. Albert Adrian (Vera Gillespie)",
          "parch": 0,
          "pclass": 1,
          "sex": "female",
          "sibsp": 1,
          "survived": 1,
          "ticket": "17474"
         },
         {
          "age": 70,
          "boat": "None",
          "body": 269,
          "cabin_x": 451,
          "cabin_y": 6.25,
          "embarked": "S",
          "fare": 71,
          "home.dest": "Milwaukee, WI",
          "name": "Crosby, Capt. Edward Gifford",
          "parch": 1,
          "pclass": 1,
          "sex": "male",
          "sibsp": 1,
          "survived": 0,
          "ticket": "WE/P 5735"
         },
         {
          "age": 36,
          "boat": "7",
          "body": "None",
          "cabin_x": 449,
          "cabin_y": 6.25,
          "embarked": "S",
          "fare": 71,
          "home.dest": "Milwaukee, WI",
          "name": "Crosby, Miss. Harriet R",
          "parch": 2,
          "pclass": 1,
          "sex": "female",
          "sibsp": 0,
          "survived": 1,
          "ticket": "WE/P 5735"
         },
         {
          "age": 23,
          "boat": "None",
          "body": "None",
          "cabin_x": 445,
          "cabin_y": 4,
          "embarked": "S",
          "fare": 93.5,
          "home.dest": "Montreal, PQ",
          "name": "Payne, Mr. Vivian Ponsonby",
          "parch": 0,
          "pclass": 1,
          "sex": "male",
          "sibsp": 0,
          "survived": 0,
          "ticket": "12749"
         },
         {
          "age": 64,
          "boat": "7",
          "body": "None",
          "cabin_x": 445,
          "cabin_y": 5,
          "embarked": "S",
          "fare": 26.55,
          "home.dest": "Milwaukee, WI",
          "name": "Crosby, Mrs. Edward Gifford (Catherine Elizabeth Halstead)",
          "parch": 1,
          "pclass": 1,
          "sex": "female",
          "sibsp": 1,
          "survived": 1,
          "ticket": "112901"
         },
         {
          "age": 38,
          "boat": "6",
          "body": "None",
          "cabin_x": 446,
          "cabin_y": 6.25,
          "embarked": "None",
          "fare": 80,
          "home.dest": "None",
          "name": "Icard, Miss. Amelie",
          "parch": 0,
          "pclass": 1,
          "sex": "female",
          "sibsp": 0,
          "survived": 1,
          "ticket": "113572"
         },
         {
          "age": 62,
          "boat": "6",
          "body": "None",
          "cabin_x": 444,
          "cabin_y": 6.25,
          "embarked": "None",
          "fare": 80,
          "home.dest": "Cincinatti, OH",
          "name": "Stone, Mrs. George Nelson (Martha Evelyn)",
          "parch": 0,
          "pclass": 1,
          "sex": "female",
          "sibsp": 0,
          "survived": 1,
          "ticket": "113572"
         },
         {
          "age": 43,
          "boat": "2",
          "body": "None",
          "cabin_x": 465,
          "cabin_y": 2,
          "embarked": "S",
          "fare": 211.3375,
          "home.dest": "St Louis, MO",
          "name": "Robert, Mrs. Edward Scott (Elisabeth Walton McMillan)",
          "parch": 1,
          "pclass": 1,
          "sex": "female",
          "sibsp": 0,
          "survived": 1,
          "ticket": "24160"
         },
         {
          "age": 65,
          "boat": "None",
          "body": 234,
          "cabin_x": 440,
          "cabin_y": 4,
          "embarked": "C",
          "fare": 61.9792,
          "home.dest": "Providence, RI",
          "name": "Ostby, Mr. Engelhart Cornelius",
          "parch": 1,
          "pclass": 1,
          "sex": "male",
          "sibsp": 0,
          "survived": 0,
          "ticket": "113509"
         },
         {
          "age": 24,
          "boat": "9",
          "body": "None",
          "cabin_x": 441,
          "cabin_y": 1.25,
          "embarked": "C",
          "fare": 69.3,
          "home.dest": "Paris, France",
          "name": "Aubart, Mme. Leontine Pauline",
          "parch": 0,
          "pclass": 1,
          "sex": "female",
          "sibsp": 0,
          "survived": 1,
          "ticket": "PC 17477"
         },
         {
          "age": 24,
          "boat": "9",
          "body": "None",
          "cabin_x": 439,
          "cabin_y": 1.25,
          "embarked": "C",
          "fare": 69.3,
          "home.dest": "None",
          "name": "Sagesser, Mlle. Emma",
          "parch": 0,
          "pclass": 1,
          "sex": "female",
          "sibsp": 0,
          "survived": 1,
          "ticket": "PC 17477"
         },
         {
          "age": 58,
          "boat": "None",
          "body": 258,
          "cabin_x": 435,
          "cabin_y": 2,
          "embarked": "C",
          "fare": 29.7,
          "home.dest": "Buffalo, NY",
          "name": "Kent, Mr. Edward Austin",
          "parch": 0,
          "pclass": 1,
          "sex": "male",
          "sibsp": 0,
          "survived": 0,
          "ticket": "11771"
         },
         {
          "age": 45,
          "boat": "None",
          "body": "None",
          "cabin_x": 435,
          "cabin_y": 5,
          "embarked": "S",
          "fare": 26.55,
          "home.dest": "Washington, DC",
          "name": "Butt, Major. Archibald Willingham",
          "parch": 0,
          "pclass": 1,
          "sex": "male",
          "sibsp": 0,
          "survived": 0,
          "ticket": "113050"
         },
         {
          "age": 22,
          "boat": "5",
          "body": "None",
          "cabin_x": 435,
          "cabin_y": 1,
          "embarked": "C",
          "fare": 49.5,
          "home.dest": "Zurich, Switzerland",
          "name": "Frolicher, Miss. Hedwig Margaritha",
          "parch": 2,
          "pclass": 1,
          "sex": "female",
          "sibsp": 0,
          "survived": 1,
          "ticket": "13568"
         },
         {
          "age": 44,
          "boat": "6",
          "body": "None",
          "cabin_x": 465,
          "cabin_y": 5,
          "embarked": "C",
          "fare": 27.7208,
          "home.dest": "Denver, CO",
          "name": "Brown, Mrs. James Joseph (Margaret Tobin)",
          "parch": 0,
          "pclass": 1,
          "sex": "female",
          "sibsp": 0,
          "survived": 1,
          "ticket": "PC 17610"
         },
         {
          "age": 19,
          "boat": "3",
          "body": "None",
          "cabin_x": 430,
          "cabin_y": 5,
          "embarked": "S",
          "fare": 30,
          "home.dest": "Greenwich, CT",
          "name": "Graham, Miss. Margaret Edith",
          "parch": 0,
          "pclass": 1,
          "sex": "female",
          "sibsp": 0,
          "survived": 1,
          "ticket": "112053"
         },
         {
          "age": 24,
          "boat": "7",
          "body": "None",
          "cabin_x": 431,
          "cabin_y": 1.25,
          "embarked": "S",
          "fare": 82.2667,
          "home.dest": "Minneapolis, MN",
          "name": "Snyder, Mr. John Pillsbury",
          "parch": 0,
          "pclass": 1,
          "sex": "male",
          "sibsp": 1,
          "survived": 1,
          "ticket": "21228"
         },
         {
          "age": 23,
          "boat": "7",
          "body": "None",
          "cabin_x": 429,
          "cabin_y": 1.25,
          "embarked": "S",
          "fare": 82.2667,
          "home.dest": "Minneapolis, MN",
          "name": "Snyder, Mrs. John Pillsbury (Nelle Stevenson)",
          "parch": 0,
          "pclass": 1,
          "sex": "female",
          "sibsp": 1,
          "survived": 1,
          "ticket": "21228"
         },
         {
          "age": 25,
          "boat": "7",
          "body": "None",
          "cabin_x": 426,
          "cabin_y": 1.25,
          "embarked": "C",
          "fare": 91.0792,
          "home.dest": "Dowagiac, MI",
          "name": "Bishop, Mr. Dickinson H",
          "parch": 0,
          "pclass": 1,
          "sex": "male",
          "sibsp": 1,
          "survived": 1,
          "ticket": "11967"
         },
         {
          "age": 19,
          "boat": "7",
          "body": "None",
          "cabin_x": 424,
          "cabin_y": 1.25,
          "embarked": "C",
          "fare": 91.0792,
          "home.dest": "Dowagiac, MI",
          "name": "Bishop, Mrs. Dickinson H (Helen Walton)",
          "parch": 0,
          "pclass": 1,
          "sex": "female",
          "sibsp": 1,
          "survived": 1,
          "ticket": "11967"
         },
         {
          "age": 29,
          "boat": "2",
          "body": "None",
          "cabin_x": 466,
          "cabin_y": 1.25,
          "embarked": "S",
          "fare": 211.3375,
          "home.dest": "St Louis, MO",
          "name": "Allen, Miss. Elisabeth Walton",
          "parch": 0,
          "pclass": 1,
          "sex": "female",
          "sibsp": 0,
          "survived": 1,
          "ticket": "24160"
         },
         {
          "age": 15,
          "boat": "2",
          "body": "None",
          "cabin_x": 464,
          "cabin_y": 1.25,
          "embarked": "S",
          "fare": 211.3375,
          "home.dest": "St Louis, MO",
          "name": "Madill, Miss. Georgette Alexandra",
          "parch": 1,
          "pclass": 1,
          "sex": "female",
          "sibsp": 0,
          "survived": 1,
          "ticket": "24160"
         },
         {
          "age": 36,
          "boat": "4",
          "body": "None",
          "cabin_x": 395,
          "cabin_y": 1,
          "embarked": "C",
          "fare": 262.375,
          "home.dest": "None",
          "name": "Chaudanson, Miss. Victorine",
          "parch": 0,
          "pclass": 1,
          "sex": "female",
          "sibsp": 0,
          "survived": 1,
          "ticket": "PC 17608"
         },
         {
          "age": 30,
          "boat": "3",
          "body": "None",
          "cabin_x": 375,
          "cabin_y": 1,
          "embarked": "S",
          "fare": 93.5,
          "home.dest": "None",
          "name": "Perreault, Miss. Anne",
          "parch": 0,
          "pclass": 1,
          "sex": "female",
          "sibsp": 0,
          "survived": 1,
          "ticket": "12749"
         },
         {
          "age": 57,
          "boat": "None",
          "body": "None",
          "cabin_x": 366,
          "cabin_y": 6.25,
          "embarked": "C",
          "fare": 146.5208,
          "home.dest": "Paris, France",
          "name": "Spencer, Mr. William Augustus",
          "parch": 0,
          "pclass": 1,
          "sex": "male",
          "sibsp": 1,
          "survived": 0,
          "ticket": "PC 17569"
         },
         {
          "age": "None",
          "boat": "6",
          "body": "None",
          "cabin_x": 364,
          "cabin_y": 6.25,
          "embarked": "C",
          "fare": 146.5208,
          "home.dest": "Paris, France",
          "name": "Spencer, Mrs. William Augustus (Marie Eugenie)",
          "parch": 0,
          "pclass": 1,
          "sex": "female",
          "sibsp": 1,
          "survived": 1,
          "ticket": "PC 17569"
         },
         {
          "age": 16,
          "boat": "8",
          "body": "None",
          "cabin_x": 365,
          "cabin_y": 1,
          "embarked": "S",
          "fare": 86.5,
          "home.dest": "None",
          "name": "Maioni, Miss. Roberta",
          "parch": 0,
          "pclass": 1,
          "sex": "female",
          "sibsp": 0,
          "survived": 1,
          "ticket": "110152"
         },
         {
          "age": 58,
          "boat": "None",
          "body": "None",
          "cabin_x": 365,
          "cabin_y": 5,
          "embarked": "C",
          "fare": 146.5208,
          "home.dest": "None",
          "name": "Lurette, Miss. Elise",
          "parch": 0,
          "pclass": 1,
          "sex": "female",
          "sibsp": 0,
          "survived": 1,
          "ticket": "PC 17569"
         },
         {
          "age": 24,
          "boat": "None",
          "body": "None",
          "cabin_x": 355,
          "cabin_y": 5,
          "embarked": "C",
          "fare": 79.2,
          "home.dest": "None",
          "name": "Giglio, Mr. Victor",
          "parch": 0,
          "pclass": 1,
          "sex": "male",
          "sibsp": 0,
          "survived": 0,
          "ticket": "PC 17593"
         },
         {
          "age": 40,
          "boat": "None",
          "body": 110,
          "cabin_x": 340,
          "cabin_y": 6,
          "embarked": "S",
          "fare": 0,
          "home.dest": "None",
          "name": "Harrison, Mr. William",
          "parch": 0,
          "pclass": 1,
          "sex": "male",
          "sibsp": 0,
          "survived": 0,
          "ticket": "112059"
         }
        ],
        "data-d90acd35dff333bdb5b3cb3eafe73c90": [
         {
          "x": 310,
          "y": 3.5
         },
         {
          "x": 325,
          "y": 7
         },
         {
          "x": 470,
          "y": 7
         },
         {
          "x": 475,
          "y": 6
         },
         {
          "x": 477,
          "y": 5
         }
        ],
        "data-feac7f23ba9e9fb2ae9f722d2bdb6125": [
         {
          "x": 310,
          "y": 3.5
         },
         {
          "x": 325,
          "y": 0
         },
         {
          "x": 470,
          "y": 0
         },
         {
          "x": 475,
          "y": 1
         },
         {
          "x": 477,
          "y": 2
         }
        ]
       },
       "layer": [
        {
         "data": {
          "name": "data-43cd751ccb1722afb22b7dce834994fc"
         },
         "encoding": {
          "x": {
           "field": "cabin_x",
           "scale": {
            "domain": [
             300,
             450
            ]
           },
           "title": "",
           "type": "quantitative"
          },
          "y": {
           "field": "cabin_y",
           "scale": {
            "domain": [
             -1,
             7.5
            ]
           },
           "title": "",
           "type": "quantitative"
          }
         },
         "height": 400,
         "mark": {
          "fill": "None",
          "opacity": 0.3,
          "size": 1400,
          "stroke": "black",
          "type": "square"
         },
         "width": 1500
        },
        {
         "data": {
          "name": "data-65f28a7e96afabd8a275847000c9abaa"
         },
         "encoding": {
          "color": {
           "field": "survived",
           "legend": {
            "labelFontSize": 30,
            "titleFontSize": 20
           },
           "scale": {
            "range": [
             "red",
             "white"
            ]
           },
           "type": "nominal"
          },
          "tooltip": [
           {
            "field": "name",
            "type": "nominal"
           },
           {
            "field": "sex",
            "type": "nominal"
           },
           {
            "field": "age",
            "type": "ordinal"
           }
          ],
          "x": {
           "field": "cabin_x",
           "scale": {
            "domain": [
             300,
             450
            ]
           },
           "type": "quantitative"
          },
          "y": {
           "field": "cabin_y",
           "scale": {
            "domain": [
             -1,
             7.5
            ]
           },
           "type": "quantitative"
          }
         },
         "height": 400,
         "mark": {
          "filled": true,
          "opacity": 1,
          "size": 250,
          "stroke": "black",
          "type": "point"
         },
         "title": "Fate of titanic passengers by cabin location on deck B",
         "width": 1500
        },
        {
         "layer": [
          {
           "data": {
            "name": "data-d90acd35dff333bdb5b3cb3eafe73c90"
           },
           "encoding": {
            "x": {
             "field": "x",
             "type": "quantitative"
            },
            "y": {
             "field": "y",
             "type": "quantitative"
            }
           },
           "mark": "line"
          },
          {
           "data": {
            "name": "data-feac7f23ba9e9fb2ae9f722d2bdb6125"
           },
           "encoding": {
            "x": {
             "field": "x",
             "type": "quantitative"
            },
            "y": {
             "field": "y",
             "type": "quantitative"
            }
           },
           "mark": "line"
          },
          {
           "data": {
            "name": "data-3d8c7eee13f363554229bae0c532536c"
           },
           "encoding": {
            "x": {
             "field": "x",
             "type": "quantitative"
            },
            "y": {
             "field": "y",
             "type": "quantitative"
            }
           },
           "mark": "line"
          }
         ]
        }
       ]
      },
      "image/png": "[encoded data removed]",
      "text/plain": [
       "<VegaLite 3 object>\n",
       "\n",
       "If you see this message, it means the renderer has not been properly enabled\n",
       "for the frontend that you are using. For more information, see\n",
       "https://altair-viz.github.io/user_guide/troubleshooting.html\n"
      ]
     },
     "execution_count": 185,
     "metadata": {},
     "output_type": "execute_result"
    }
   ],
   "source": [
    "make_titanic_plot(\"B\")"
   ]
  },
  {
   "cell_type": "code",
   "execution_count": null,
   "metadata": {},
   "outputs": [],
   "source": [
    "deck_level"
   ]
  }
 ],
 "metadata": {
  "kernelspec": {
   "display_name": "Python 3",
   "language": "python",
   "name": "python3"
  },
  "language_info": {
   "codemirror_mode": {
    "name": "ipython",
    "version": 3
   },
   "file_extension": ".py",
   "mimetype": "text/x-python",
   "name": "python",
   "nbconvert_exporter": "python",
   "pygments_lexer": "ipython3",
   "version": "3.7.4"
  }
 },
 "nbformat": 4,
 "nbformat_minor": 4
}
