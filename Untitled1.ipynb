{
 "cells": [
  {
   "cell_type": "code",
   "execution_count": 100,
   "metadata": {},
   "outputs": [
    {
     "data": {
      "application/vnd.vegalite.v3+json": {
       "$schema": "https://vega.github.io/schema/vega-lite/v3.4.0.json",
       "config": {
        "axis": {
         "grid": false
        },
        "mark": {
         "tooltip": null
        },
        "view": {
         "height": 300,
         "width": 400
        }
       },
       "datasets": {
        "data-22e405b9ddc1a10741378686efa0e538": [
         {
          "x": 0,
          "y": 400
         },
         {
          "x": 10,
          "y": 400
         }
        ],
        "data-49684b1590286a69d6a38ffac79f9844": [
         {
          "x": 0,
          "y": 200
         },
         {
          "x": 10,
          "y": 200
         }
        ],
        "data-5db58c9de08bf12d64a58b46616dd728": [
         {
          "x": 0,
          "y": 700
         },
         {
          "x": 0,
          "y": 0
         },
         {
          "x": 10,
          "y": 0
         },
         {
          "x": 10,
          "y": 700
         },
         {
          "x": 0,
          "y": 700
         }
        ],
        "data-749e47bccae11bb1b848c289ab72eddb": [
         {
          "x": 0,
          "y": 0
         },
         {
          "x": 10,
          "y": 0
         }
        ],
        "data-916da849c5d7783a18279c31d9b1ead4": [
         {
          "x": 0,
          "y": 600
         },
         {
          "x": 10,
          "y": 600
         }
        ],
        "data-c31a44100e2a5cfd538e7aac4bc67431": [
         {
          "x": 0,
          "y": 100
         },
         {
          "x": 10,
          "y": 100
         }
        ],
        "data-e0c21345b6a350d36ca5f32b4822ce4b": [
         {
          "x": 0,
          "y": 300
         },
         {
          "x": 10,
          "y": 300
         }
        ],
        "data-e8edef1de15d3f2d39558f2074802014": [
         {
          "x": 0,
          "y": 500
         },
         {
          "x": 10,
          "y": 500
         }
        ]
       },
       "layer": [
        {
         "data": {
          "name": "data-5db58c9de08bf12d64a58b46616dd728"
         },
         "encoding": {
          "x": {
           "field": "x",
           "type": "quantitative"
          },
          "y": {
           "field": "y",
           "type": "quantitative"
          }
         },
         "mark": "line",
         "title": "Deck Levels"
        },
        {
         "data": {
          "name": "data-749e47bccae11bb1b848c289ab72eddb"
         },
         "encoding": {
          "x": {
           "field": "x",
           "type": "quantitative"
          },
          "y": {
           "field": "y",
           "type": "quantitative"
          }
         },
         "mark": "line"
        },
        {
         "data": {
          "name": "data-c31a44100e2a5cfd538e7aac4bc67431"
         },
         "encoding": {
          "x": {
           "field": "x",
           "type": "quantitative"
          },
          "y": {
           "field": "y",
           "type": "quantitative"
          }
         },
         "mark": "line"
        },
        {
         "data": {
          "name": "data-49684b1590286a69d6a38ffac79f9844"
         },
         "encoding": {
          "x": {
           "field": "x",
           "type": "quantitative"
          },
          "y": {
           "field": "y",
           "type": "quantitative"
          }
         },
         "mark": "line"
        },
        {
         "data": {
          "name": "data-e0c21345b6a350d36ca5f32b4822ce4b"
         },
         "encoding": {
          "x": {
           "field": "x",
           "type": "quantitative"
          },
          "y": {
           "field": "y",
           "type": "quantitative"
          }
         },
         "mark": "line"
        },
        {
         "data": {
          "name": "data-22e405b9ddc1a10741378686efa0e538"
         },
         "encoding": {
          "x": {
           "field": "x",
           "type": "quantitative"
          },
          "y": {
           "field": "y",
           "type": "quantitative"
          }
         },
         "mark": "line"
        },
        {
         "data": {
          "name": "data-e8edef1de15d3f2d39558f2074802014"
         },
         "encoding": {
          "x": {
           "field": "x",
           "type": "quantitative"
          },
          "y": {
           "field": "y",
           "type": "quantitative"
          }
         },
         "mark": "line"
        },
        {
         "data": {
          "name": "data-916da849c5d7783a18279c31d9b1ead4"
         },
         "encoding": {
          "x": {
           "field": "x",
           "type": "quantitative"
          },
          "y": {
           "field": "y",
           "type": "quantitative"
          }
         },
         "mark": "line"
        }
       ]
      },
      "image/png": "[encoded data removed]",
      "text/plain": [
       "<VegaLite 3 object>\n",
       "\n",
       "If you see this message, it means the renderer has not been properly enabled\n",
       "for the frontend that you are using. For more information, see\n",
       "https://altair-viz.github.io/user_guide/troubleshooting.html\n"
      ]
     },
     "execution_count": 100,
     "metadata": {},
     "output_type": "execute_result"
    }
   ],
   "source": [
    "import pandas as pd\n",
    "import altair as alt\n",
    "\n",
    "deck_legend_frame = pd.DataFrame({\"x\" : [0, 0, 10, 10, 0],\n",
    "                                \"y\" : [700, 0, 0, 700, 700]})\n",
    "\n",
    "deck_legend_outline = alt.Chart(deck_legend_frame).mark_line().encode(\n",
    "    alt.X('x:Q'),\n",
    "    alt.Y('y:Q')).properties(\n",
    "    title = \"Deck Levels\")\n",
    "   \n",
    "legend_labels = pd.DataFrame({\"x\" : [5, 5, 5, 5, 5, 5, 5],\n",
    "                            \"y\" : [50, 150, 250, 350, 450, 550, 650],\n",
    "                            \"label\" : [\"A\", \"B\", \"C\", \"D\", \"E\", \"F\", \"G\"]})\n",
    "\n",
    "points = alt.Chart(legend_labels).mark_point().encode(\n",
    "    alt.X('x:Q', scale=alt.Scale(domain = [0,10])),\n",
    "    alt.Y('y:Q', scale=alt.Scale(domain = [0,700]))\n",
    ")\n",
    "\n",
    "        \n",
    "text = points.mark_text(\n",
    "    align='left',\n",
    "    baseline='middle',\n",
    ").encode(\n",
    "    text='label'\n",
    ")    \n",
    "    \n",
    "deck_levels = []\n",
    "\n",
    "for i in range(0, 7):\n",
    "    level = pd.DataFrame({\"x\" : [0, 10],\n",
    "                          \"y\" : [(100*i), (100*i)]})\n",
    "    deck_levels.append(level)\n",
    "    \n",
    "deck_level_A = alt.Chart(deck_levels[0]).mark_line().encode(\n",
    "    alt.X('x:Q'),\n",
    "    alt.Y('y:Q')\n",
    ")\n",
    "\n",
    "deck_level_B = alt.Chart(deck_levels[1]).mark_line().encode(\n",
    "    alt.X('x:Q'),\n",
    "    alt.Y('y:Q')\n",
    ")\n",
    "\n",
    "deck_level_C = alt.Chart(deck_levels[2]).mark_line().encode(\n",
    "    alt.X('x:Q'),\n",
    "    alt.Y('y:Q')\n",
    ")\n",
    "\n",
    "deck_level_D = alt.Chart(deck_levels[3]).mark_line().encode(\n",
    "    alt.X('x:Q'),\n",
    "    alt.Y('y:Q')\n",
    ")\n",
    "\n",
    "deck_level_E = alt.Chart(deck_levels[4]).mark_line().encode(\n",
    "    alt.X('x:Q'),\n",
    "    alt.Y('y:Q')\n",
    ")\n",
    "\n",
    "deck_level_F = alt.Chart(deck_levels[5]).mark_line().encode(\n",
    "    alt.X('x:Q'),\n",
    "    alt.Y('y:Q')\n",
    ")\n",
    "\n",
    "deck_level_G = alt.Chart(deck_levels[6]).mark_line().encode(\n",
    "    alt.X('x:Q'),\n",
    "    alt.Y('y:Q')\n",
    ")\n",
    "\n",
    "deck_legend = (\"this is my really, really, really, really, really, really\" + \n",
    "    \"really long string that I'd like to shorten.\")\n",
    "\n",
    "deck_legend = deck_legend_outline + deck_level_A + deck_level_B + deck_level_C + deck_level_D + deck_level_E + deck_level_F + deck_level_G\n",
    "\n",
    "deck_legend.configure_axis(grid=False) \n",
    " "
   ]
  },
  {
   "cell_type": "code",
   "execution_count": 101,
   "metadata": {},
   "outputs": [
    {
     "ename": "AttributeError",
     "evalue": "'Chart' object has no attribute 'AxisConfig'",
     "output_type": "error",
     "traceback": [
      "\u001b[0;31m---------------------------------------------------------------------------\u001b[0m",
      "\u001b[0;31mAttributeError\u001b[0m                            Traceback (most recent call last)",
      "\u001b[0;32m<ipython-input-101-24693f8ed797>\u001b[0m in \u001b[0;36m<module>\u001b[0;34m()\u001b[0m\n\u001b[1;32m      5\u001b[0m points = alt.Chart(legend_labels).mark_point(size=0).encode(\n\u001b[1;32m      6\u001b[0m     \u001b[0malt\u001b[0m\u001b[0;34m.\u001b[0m\u001b[0mX\u001b[0m\u001b[0;34m(\u001b[0m\u001b[0;34m'x:Q'\u001b[0m\u001b[0;34m,\u001b[0m \u001b[0mscale\u001b[0m\u001b[0;34m=\u001b[0m\u001b[0malt\u001b[0m\u001b[0;34m.\u001b[0m\u001b[0mScale\u001b[0m\u001b[0;34m(\u001b[0m\u001b[0mdomain\u001b[0m \u001b[0;34m=\u001b[0m \u001b[0;34m[\u001b[0m\u001b[0;36m0\u001b[0m\u001b[0;34m,\u001b[0m\u001b[0;36m10\u001b[0m\u001b[0;34m]\u001b[0m\u001b[0;34m)\u001b[0m\u001b[0;34m)\u001b[0m\u001b[0;34m,\u001b[0m\u001b[0;34m\u001b[0m\u001b[0m\n\u001b[0;32m----> 7\u001b[0;31m     \u001b[0malt\u001b[0m\u001b[0;34m.\u001b[0m\u001b[0mY\u001b[0m\u001b[0;34m(\u001b[0m\u001b[0;34m'y:Q'\u001b[0m\u001b[0;34m,\u001b[0m \u001b[0mscale\u001b[0m\u001b[0;34m=\u001b[0m\u001b[0malt\u001b[0m\u001b[0;34m.\u001b[0m\u001b[0mScale\u001b[0m\u001b[0;34m(\u001b[0m\u001b[0mdomain\u001b[0m \u001b[0;34m=\u001b[0m \u001b[0;34m[\u001b[0m\u001b[0;36m0\u001b[0m\u001b[0;34m,\u001b[0m\u001b[0;36m700\u001b[0m\u001b[0;34m]\u001b[0m\u001b[0;34m)\u001b[0m\u001b[0;34m)\u001b[0m\u001b[0;34m\u001b[0m\u001b[0m\n\u001b[0m\u001b[1;32m      8\u001b[0m ).AxisConfig(domain=False)\n\u001b[1;32m      9\u001b[0m \u001b[0;34m\u001b[0m\u001b[0m\n",
      "\u001b[0;32m/anaconda3/lib/python3.6/site-packages/altair/utils/schemapi.py\u001b[0m in \u001b[0;36m__getattr__\u001b[0;34m(self, attr)\u001b[0m\n\u001b[1;32m    227\u001b[0m             \u001b[0;32mexcept\u001b[0m \u001b[0mAttributeError\u001b[0m\u001b[0;34m:\u001b[0m\u001b[0;34m\u001b[0m\u001b[0m\n\u001b[1;32m    228\u001b[0m                 \u001b[0m_getattr\u001b[0m \u001b[0;34m=\u001b[0m \u001b[0msuper\u001b[0m\u001b[0;34m(\u001b[0m\u001b[0mSchemaBase\u001b[0m\u001b[0;34m,\u001b[0m \u001b[0mself\u001b[0m\u001b[0;34m)\u001b[0m\u001b[0;34m.\u001b[0m\u001b[0m__getattribute__\u001b[0m\u001b[0;34m\u001b[0m\u001b[0m\n\u001b[0;32m--> 229\u001b[0;31m             \u001b[0;32mreturn\u001b[0m \u001b[0m_getattr\u001b[0m\u001b[0;34m(\u001b[0m\u001b[0mattr\u001b[0m\u001b[0;34m)\u001b[0m\u001b[0;34m\u001b[0m\u001b[0m\n\u001b[0m\u001b[1;32m    230\u001b[0m \u001b[0;34m\u001b[0m\u001b[0m\n\u001b[1;32m    231\u001b[0m     \u001b[0;32mdef\u001b[0m \u001b[0m__setattr__\u001b[0m\u001b[0;34m(\u001b[0m\u001b[0mself\u001b[0m\u001b[0;34m,\u001b[0m \u001b[0mitem\u001b[0m \u001b[0;34m,\u001b[0m \u001b[0mval\u001b[0m\u001b[0;34m)\u001b[0m\u001b[0;34m:\u001b[0m\u001b[0;34m\u001b[0m\u001b[0m\n",
      "\u001b[0;31mAttributeError\u001b[0m: 'Chart' object has no attribute 'AxisConfig'"
     ]
    }
   ],
   "source": [
    "legend_labels = pd.DataFrame({\"x\" : [5, 5, 5, 5, 5, 5, 5],\n",
    "                            \"y\" : [50, 150, 250, 350, 450, 550, 650],\n",
    "                            \"label\" : [\"G\", \"F\",  \"E\", \"D\", \"C\", \"B\", \"A\"]})\n",
    "\n",
    "points = alt.Chart(legend_labels).mark_point(size=0).encode(\n",
    "    alt.X('x:Q', scale=alt.Scale(domain = [0,10])),\n",
    "    alt.Y('y:Q', scale=alt.Scale(domain = [0,700]))\n",
    ").AxisConfig(domain=False)\n",
    "\n",
    "        \n",
    "text = points.mark_text(\n",
    "    align='center',\n",
    "    baseline='middle',\n",
    ").encode(\n",
    "    text='label'\n",
    ")\n",
    "\n",
    "(points + text).configure_axis(grid=False)"
   ]
  },
  {
   "cell_type": "code",
   "execution_count": 84,
   "metadata": {},
   "outputs": [
    {
     "data": {
      "text/html": [
       "<div>\n",
       "<style scoped>\n",
       "    .dataframe tbody tr th:only-of-type {\n",
       "        vertical-align: middle;\n",
       "    }\n",
       "\n",
       "    .dataframe tbody tr th {\n",
       "        vertical-align: top;\n",
       "    }\n",
       "\n",
       "    .dataframe thead th {\n",
       "        text-align: right;\n",
       "    }\n",
       "</style>\n",
       "<table border=\"1\" class=\"dataframe\">\n",
       "  <thead>\n",
       "    <tr style=\"text-align: right;\">\n",
       "      <th></th>\n",
       "      <th>label</th>\n",
       "      <th>x</th>\n",
       "      <th>y</th>\n",
       "    </tr>\n",
       "  </thead>\n",
       "  <tbody>\n",
       "    <tr>\n",
       "      <th>0</th>\n",
       "      <td>A</td>\n",
       "      <td>5</td>\n",
       "      <td>50</td>\n",
       "    </tr>\n",
       "    <tr>\n",
       "      <th>1</th>\n",
       "      <td>B</td>\n",
       "      <td>5</td>\n",
       "      <td>150</td>\n",
       "    </tr>\n",
       "    <tr>\n",
       "      <th>2</th>\n",
       "      <td>C</td>\n",
       "      <td>5</td>\n",
       "      <td>250</td>\n",
       "    </tr>\n",
       "    <tr>\n",
       "      <th>3</th>\n",
       "      <td>D</td>\n",
       "      <td>5</td>\n",
       "      <td>350</td>\n",
       "    </tr>\n",
       "    <tr>\n",
       "      <th>4</th>\n",
       "      <td>E</td>\n",
       "      <td>5</td>\n",
       "      <td>450</td>\n",
       "    </tr>\n",
       "    <tr>\n",
       "      <th>5</th>\n",
       "      <td>F</td>\n",
       "      <td>5</td>\n",
       "      <td>550</td>\n",
       "    </tr>\n",
       "    <tr>\n",
       "      <th>6</th>\n",
       "      <td>G</td>\n",
       "      <td>5</td>\n",
       "      <td>650</td>\n",
       "    </tr>\n",
       "  </tbody>\n",
       "</table>\n",
       "</div>"
      ],
      "text/plain": [
       "  label  x    y\n",
       "0     A  5   50\n",
       "1     B  5  150\n",
       "2     C  5  250\n",
       "3     D  5  350\n",
       "4     E  5  450\n",
       "5     F  5  550\n",
       "6     G  5  650"
      ]
     },
     "execution_count": 84,
     "metadata": {},
     "output_type": "execute_result"
    }
   ],
   "source": [
    "legend_labels"
   ]
  },
  {
   "cell_type": "code",
   "execution_count": null,
   "metadata": {},
   "outputs": [],
   "source": [
    "alt.Chart(legend_labels)"
   ]
  }
 ],
 "metadata": {
  "kernelspec": {
   "display_name": "Python 3",
   "language": "python",
   "name": "python3"
  },
  "language_info": {
   "codemirror_mode": {
    "name": "ipython",
    "version": 3
   },
   "file_extension": ".py",
   "mimetype": "text/x-python",
   "name": "python",
   "nbconvert_exporter": "python",
   "pygments_lexer": "ipython3",
   "version": "3.6.4"
  }
 },
 "nbformat": 4,
 "nbformat_minor": 4
}
